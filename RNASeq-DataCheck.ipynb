{
 "cells": [
  {
   "cell_type": "markdown",
   "id": "e1c38836",
   "metadata": {},
   "source": [
    "# R-DESeq2 Analysis Paired End data\n",
    "\n",
    "## Data Check"
   ]
  },
  {
   "cell_type": "code",
   "execution_count": 3,
   "id": "7967131e",
   "metadata": {},
   "outputs": [],
   "source": [
    "import pandas as pd\n",
    "import os"
   ]
  },
  {
   "cell_type": "code",
   "execution_count": 4,
   "id": "a89aa8e6",
   "metadata": {},
   "outputs": [],
   "source": [
    "def env_var(envar, var):\n",
    "    import os\n",
    "    os.environ[envar] = var\n",
    "    return\n",
    "\n",
    "\n",
    "def is_gzipped_content(file_path):\n",
    "    try:\n",
    "        with open(file_path, 'rb') as f:\n",
    "            # Read the first two bytes to check for the gzip magic number\n",
    "            magic_number = f.read(2)\n",
    "            return magic_number == b'\\x1f\\x8b'\n",
    "    except OSError:\n",
    "        return False\n",
    "    \n",
    "    \n",
    "#print(refGenomePath)\n",
    "#jobIdxPE + '/RefGenome.fa'\n",
    "def decompress_gzipped(org, dest):\n",
    "    os.system('gzip -d ' + org + ' -c > ' + dest)\n",
    "    return"
   ]
  },
  {
   "cell_type": "code",
   "execution_count": 5,
   "id": "d6429e08",
   "metadata": {},
   "outputs": [],
   "source": [
    "PEPath = \"/mnt/d/PE/Avena/\"\n",
    "jobIdxPE = \"AvenaSub1.5M-RNASeq-PE\"\n",
    "env_var(\"PEPath\", PEPath)\n",
    "env_var(\"jobIdxPE\", jobIdxPE)"
   ]
  },
  {
   "cell_type": "code",
   "execution_count": 6,
   "id": "e3697ce5",
   "metadata": {},
   "outputs": [],
   "source": [
    "os.chdir(PEPath)"
   ]
  },
  {
   "cell_type": "code",
   "execution_count": 7,
   "id": "12201fa9",
   "metadata": {},
   "outputs": [
    {
     "name": "stdout",
     "output_type": "stream",
     "text": [
      "/mnt/d/PE/Avena/\n",
      "AvenaSub1.5M-RNASeq-PE\n"
     ]
    }
   ],
   "source": [
    "!echo $PEPath\n",
    "!echo $jobIdxPE"
   ]
  },
  {
   "cell_type": "code",
   "execution_count": 8,
   "id": "5ef219ff",
   "metadata": {},
   "outputs": [
    {
     "data": {
      "text/html": [
       "<div>\n",
       "<style scoped>\n",
       "    .dataframe tbody tr th:only-of-type {\n",
       "        vertical-align: middle;\n",
       "    }\n",
       "\n",
       "    .dataframe tbody tr th {\n",
       "        vertical-align: top;\n",
       "    }\n",
       "\n",
       "    .dataframe thead th {\n",
       "        text-align: right;\n",
       "    }\n",
       "</style>\n",
       "<table border=\"1\" class=\"dataframe\">\n",
       "  <thead>\n",
       "    <tr style=\"text-align: right;\">\n",
       "      <th></th>\n",
       "      <th>file1</th>\n",
       "      <th>file2</th>\n",
       "      <th>type</th>\n",
       "      <th>shortName</th>\n",
       "      <th>meta1</th>\n",
       "      <th>meta2</th>\n",
       "      <th>meta3</th>\n",
       "      <th>replicate</th>\n",
       "      <th>trimmed1</th>\n",
       "      <th>trimmed2</th>\n",
       "    </tr>\n",
       "  </thead>\n",
       "  <tbody>\n",
       "    <tr>\n",
       "      <th>0</th>\n",
       "      <td>sub1.5M-Ctrl_Estres_R1_1.fastq.gz</td>\n",
       "      <td>sub1.5M-Ctrl_Estres_R1_2.fastq.gz</td>\n",
       "      <td>paired</td>\n",
       "      <td>cont_estres_R1</td>\n",
       "      <td>Estres</td>\n",
       "      <td>Inoculado</td>\n",
       "      <td>A</td>\n",
       "      <td>1</td>\n",
       "      <td>sub1.5M-Ctrl_Estres_R1_1_paired.fastq.gz</td>\n",
       "      <td>sub1.5M-Ctrl_Estres_R1_2_paired.fastq.gz</td>\n",
       "    </tr>\n",
       "    <tr>\n",
       "      <th>1</th>\n",
       "      <td>sub1.5M-Ctrl_Estres_R2_1.fastq.gz</td>\n",
       "      <td>sub1.5M-Ctrl_Estres_R2_2.fastq.gz</td>\n",
       "      <td>paired</td>\n",
       "      <td>cont_estres_R2</td>\n",
       "      <td>Estres</td>\n",
       "      <td>Inoculado</td>\n",
       "      <td>A</td>\n",
       "      <td>2</td>\n",
       "      <td>sub1.5M-Ctrl_Estres_R2_1_paired.fastq.gz</td>\n",
       "      <td>sub1.5M-Ctrl_Estres_R2_2_paired.fastq.gz</td>\n",
       "    </tr>\n",
       "    <tr>\n",
       "      <th>2</th>\n",
       "      <td>sub1.5M-Ctrll_Estres_R3_1.fastq.gz</td>\n",
       "      <td>sub1.5M-Ctrll_Estres_R3_2.fastq.gz</td>\n",
       "      <td>paired</td>\n",
       "      <td>cont_estres_R3</td>\n",
       "      <td>Estres</td>\n",
       "      <td>Inoculado</td>\n",
       "      <td>A</td>\n",
       "      <td>3</td>\n",
       "      <td>sub1.5M-Ctrll_Estres_R3_1_paired.fastq.gz</td>\n",
       "      <td>sub1.5M-Ctrll_Estres_R3_2_paired.fastq.gz</td>\n",
       "    </tr>\n",
       "    <tr>\n",
       "      <th>3</th>\n",
       "      <td>sub1.5M-Control_R1_1.fastq.gz</td>\n",
       "      <td>sub1.5M-Control_R1_2.fastq.gz</td>\n",
       "      <td>paired</td>\n",
       "      <td>control_R1</td>\n",
       "      <td>Control</td>\n",
       "      <td>No_inoculado</td>\n",
       "      <td>B</td>\n",
       "      <td>1</td>\n",
       "      <td>sub1.5M-Control_R1_1_paired.fastq.gz</td>\n",
       "      <td>sub1.5M-Control_R1_2_paired.fastq.gz</td>\n",
       "    </tr>\n",
       "    <tr>\n",
       "      <th>4</th>\n",
       "      <td>sub1.5M-Control_R2_1.fastq.gz</td>\n",
       "      <td>sub1.5M-Control_R2_2.fastq.gz</td>\n",
       "      <td>paired</td>\n",
       "      <td>control_R2</td>\n",
       "      <td>Control</td>\n",
       "      <td>No_inoculado</td>\n",
       "      <td>B</td>\n",
       "      <td>2</td>\n",
       "      <td>sub1.5M-Control_R2_1_paired.fastq.gz</td>\n",
       "      <td>sub1.5M-Control_R2_2_paired.fastq.gz</td>\n",
       "    </tr>\n",
       "    <tr>\n",
       "      <th>5</th>\n",
       "      <td>sub1.5M-Ctrl_N7_XT17_R1_1.fastq.gz</td>\n",
       "      <td>sub1.5M-Ctrl_N7_XT17_R1_2.fastq.gz</td>\n",
       "      <td>paired</td>\n",
       "      <td>ctrl_N7_XT17_R1</td>\n",
       "      <td>Control</td>\n",
       "      <td>Inoculado</td>\n",
       "      <td>C</td>\n",
       "      <td>1</td>\n",
       "      <td>sub1.5M-Ctrl_N7_XT17_R1_1_paired.fastq.gz</td>\n",
       "      <td>sub1.5M-Ctrl_N7_XT17_R1_2_paired.fastq.gz</td>\n",
       "    </tr>\n",
       "    <tr>\n",
       "      <th>6</th>\n",
       "      <td>sub1.5M-Ctrl_N7_XT17_R2_1.fastq.gz</td>\n",
       "      <td>sub1.5M-Ctrl_N7_XT17_R2_2.fastq.gz</td>\n",
       "      <td>paired</td>\n",
       "      <td>ctrl_N7_XT17_R2</td>\n",
       "      <td>Control</td>\n",
       "      <td>Inoculado</td>\n",
       "      <td>C</td>\n",
       "      <td>2</td>\n",
       "      <td>sub1.5M-Ctrl_N7_XT17_R2_1_paired.fastq.gz</td>\n",
       "      <td>sub1.5M-Ctrl_N7_XT17_R2_2_paired.fastq.gz</td>\n",
       "    </tr>\n",
       "    <tr>\n",
       "      <th>7</th>\n",
       "      <td>sub1.5M-Ctrl_N7_XT17_R3_1.fastq.gz</td>\n",
       "      <td>sub1.5M-Ctrl_N7_XT17_R3_2.fastq.gz</td>\n",
       "      <td>paired</td>\n",
       "      <td>ctrl_N7_XT17_R3</td>\n",
       "      <td>Control</td>\n",
       "      <td>Inoculado</td>\n",
       "      <td>C</td>\n",
       "      <td>3</td>\n",
       "      <td>sub1.5M-Ctrl_N7_XT17_R3_1_paired.fastq.gz</td>\n",
       "      <td>sub1.5M-Ctrl_N7_XT17_R3_2_paired.fastq.gz</td>\n",
       "    </tr>\n",
       "    <tr>\n",
       "      <th>8</th>\n",
       "      <td>sub1.5M-Estre_N7XT17_R1_1.fastq.gz</td>\n",
       "      <td>sub1.5M-Estre_N7XT17_R1_2.fastq.gz</td>\n",
       "      <td>paired</td>\n",
       "      <td>estres_N7_XT17_R1</td>\n",
       "      <td>Estres</td>\n",
       "      <td>No_inoculado</td>\n",
       "      <td>D</td>\n",
       "      <td>1</td>\n",
       "      <td>sub1.5M-Estre_N7XT17_R1_1_paired.fastq.gz</td>\n",
       "      <td>sub1.5M-Estre_N7XT17_R1_2_paired.fastq.gz</td>\n",
       "    </tr>\n",
       "    <tr>\n",
       "      <th>9</th>\n",
       "      <td>sub1.5M-Estre_N7XT17_R2_1.fastq.gz</td>\n",
       "      <td>sub1.5M-Estre_N7XT17_R2_2.fastq.gz</td>\n",
       "      <td>paired</td>\n",
       "      <td>estres_N7_XT17_R2</td>\n",
       "      <td>Estres</td>\n",
       "      <td>No_inoculado</td>\n",
       "      <td>D</td>\n",
       "      <td>2</td>\n",
       "      <td>sub1.5M-Estre_N7XT17_R2_1_paired.fastq.gz</td>\n",
       "      <td>sub1.5M-Estre_N7XT17_R2_2_paired.fastq.gz</td>\n",
       "    </tr>\n",
       "    <tr>\n",
       "      <th>10</th>\n",
       "      <td>sub1.5M-Estre_N7XT17_R3_1.fastq.gz</td>\n",
       "      <td>sub1.5M-Estre_N7XT17_R3_2.fastq.gz</td>\n",
       "      <td>paired</td>\n",
       "      <td>estres_N7_XT17_R3</td>\n",
       "      <td>Estres</td>\n",
       "      <td>No_inoculado</td>\n",
       "      <td>D</td>\n",
       "      <td>3</td>\n",
       "      <td>sub1.5M-Estre_N7XT17_R3_1_paired.fastq.gz</td>\n",
       "      <td>sub1.5M-Estre_N7XT17_R3_2_paired.fastq.gz</td>\n",
       "    </tr>\n",
       "  </tbody>\n",
       "</table>\n",
       "</div>"
      ],
      "text/plain": [
       "                                 file1                               file2  \\\n",
       "0    sub1.5M-Ctrl_Estres_R1_1.fastq.gz   sub1.5M-Ctrl_Estres_R1_2.fastq.gz   \n",
       "1    sub1.5M-Ctrl_Estres_R2_1.fastq.gz   sub1.5M-Ctrl_Estres_R2_2.fastq.gz   \n",
       "2   sub1.5M-Ctrll_Estres_R3_1.fastq.gz  sub1.5M-Ctrll_Estres_R3_2.fastq.gz   \n",
       "3        sub1.5M-Control_R1_1.fastq.gz       sub1.5M-Control_R1_2.fastq.gz   \n",
       "4        sub1.5M-Control_R2_1.fastq.gz       sub1.5M-Control_R2_2.fastq.gz   \n",
       "5   sub1.5M-Ctrl_N7_XT17_R1_1.fastq.gz  sub1.5M-Ctrl_N7_XT17_R1_2.fastq.gz   \n",
       "6   sub1.5M-Ctrl_N7_XT17_R2_1.fastq.gz  sub1.5M-Ctrl_N7_XT17_R2_2.fastq.gz   \n",
       "7   sub1.5M-Ctrl_N7_XT17_R3_1.fastq.gz  sub1.5M-Ctrl_N7_XT17_R3_2.fastq.gz   \n",
       "8   sub1.5M-Estre_N7XT17_R1_1.fastq.gz  sub1.5M-Estre_N7XT17_R1_2.fastq.gz   \n",
       "9   sub1.5M-Estre_N7XT17_R2_1.fastq.gz  sub1.5M-Estre_N7XT17_R2_2.fastq.gz   \n",
       "10  sub1.5M-Estre_N7XT17_R3_1.fastq.gz  sub1.5M-Estre_N7XT17_R3_2.fastq.gz   \n",
       "\n",
       "      type          shortName    meta1         meta2 meta3  replicate  \\\n",
       "0   paired     cont_estres_R1   Estres     Inoculado     A          1   \n",
       "1   paired     cont_estres_R2   Estres     Inoculado     A          2   \n",
       "2   paired     cont_estres_R3   Estres     Inoculado     A          3   \n",
       "3   paired         control_R1  Control  No_inoculado     B          1   \n",
       "4   paired         control_R2  Control  No_inoculado     B          2   \n",
       "5   paired    ctrl_N7_XT17_R1  Control     Inoculado     C          1   \n",
       "6   paired    ctrl_N7_XT17_R2  Control     Inoculado     C          2   \n",
       "7   paired    ctrl_N7_XT17_R3  Control     Inoculado     C          3   \n",
       "8   paired  estres_N7_XT17_R1   Estres  No_inoculado     D          1   \n",
       "9   paired  estres_N7_XT17_R2   Estres  No_inoculado     D          2   \n",
       "10  paired  estres_N7_XT17_R3   Estres  No_inoculado     D          3   \n",
       "\n",
       "                                     trimmed1  \\\n",
       "0    sub1.5M-Ctrl_Estres_R1_1_paired.fastq.gz   \n",
       "1    sub1.5M-Ctrl_Estres_R2_1_paired.fastq.gz   \n",
       "2   sub1.5M-Ctrll_Estres_R3_1_paired.fastq.gz   \n",
       "3        sub1.5M-Control_R1_1_paired.fastq.gz   \n",
       "4        sub1.5M-Control_R2_1_paired.fastq.gz   \n",
       "5   sub1.5M-Ctrl_N7_XT17_R1_1_paired.fastq.gz   \n",
       "6   sub1.5M-Ctrl_N7_XT17_R2_1_paired.fastq.gz   \n",
       "7   sub1.5M-Ctrl_N7_XT17_R3_1_paired.fastq.gz   \n",
       "8   sub1.5M-Estre_N7XT17_R1_1_paired.fastq.gz   \n",
       "9   sub1.5M-Estre_N7XT17_R2_1_paired.fastq.gz   \n",
       "10  sub1.5M-Estre_N7XT17_R3_1_paired.fastq.gz   \n",
       "\n",
       "                                     trimmed2  \n",
       "0    sub1.5M-Ctrl_Estres_R1_2_paired.fastq.gz  \n",
       "1    sub1.5M-Ctrl_Estres_R2_2_paired.fastq.gz  \n",
       "2   sub1.5M-Ctrll_Estres_R3_2_paired.fastq.gz  \n",
       "3        sub1.5M-Control_R1_2_paired.fastq.gz  \n",
       "4        sub1.5M-Control_R2_2_paired.fastq.gz  \n",
       "5   sub1.5M-Ctrl_N7_XT17_R1_2_paired.fastq.gz  \n",
       "6   sub1.5M-Ctrl_N7_XT17_R2_2_paired.fastq.gz  \n",
       "7   sub1.5M-Ctrl_N7_XT17_R3_2_paired.fastq.gz  \n",
       "8   sub1.5M-Estre_N7XT17_R1_2_paired.fastq.gz  \n",
       "9   sub1.5M-Estre_N7XT17_R2_2_paired.fastq.gz  \n",
       "10  sub1.5M-Estre_N7XT17_R3_2_paired.fastq.gz  "
      ]
     },
     "metadata": {},
     "output_type": "display_data"
    }
   ],
   "source": [
    "metaPE = pd.read_csv(PEPath + jobIdxPE + \"/metadata.csv\", sep = ',')\n",
    "display(metaPE)"
   ]
  },
  {
   "cell_type": "code",
   "execution_count": 9,
   "id": "a81c162e",
   "metadata": {},
   "outputs": [
    {
     "data": {
      "text/plain": [
       "0"
      ]
     },
     "execution_count": 9,
     "metadata": {},
     "output_type": "execute_result"
    }
   ],
   "source": [
    "os.system(\"mkdir -p \" + PEPath + jobIdxPE + \"/05-featureCounts\")"
   ]
  },
  {
   "cell_type": "code",
   "execution_count": 10,
   "id": "5c3af2a7",
   "metadata": {
    "scrolled": true
   },
   "outputs": [
    {
     "name": "stdout",
     "output_type": "stream",
     "text": [
      "total 4.8G\r\n",
      "-rwxrwxrwx 1 ddelgadillo ddelgadillo   94 May 29 22:00 TruSeq3-PE.fa\r\n",
      "-rwxrwxrwx 1 ddelgadillo ddelgadillo  478 Jul  4 09:45 Avena_codata.csv\r\n",
      "-rwxrwxrwx 1 ddelgadillo ddelgadillo 117M Jul  4 09:50 sub1.5M-Estre_N7XT17_R3_2.fastq.gz\r\n",
      "-rwxrwxrwx 1 ddelgadillo ddelgadillo 111M Jul  4 09:51 sub1.5M-Estre_N7XT17_R3_1.fastq.gz\r\n",
      "-rwxrwxrwx 1 ddelgadillo ddelgadillo 115M Jul  4 09:51 sub1.5M-Estre_N7XT17_R2_2.fastq.gz\r\n",
      "-rwxrwxrwx 1 ddelgadillo ddelgadillo 108M Jul  4 09:52 sub1.5M-Estre_N7XT17_R2_1.fastq.gz\r\n",
      "-rwxrwxrwx 1 ddelgadillo ddelgadillo 118M Jul  4 09:52 sub1.5M-Estre_N7XT17_R1_2.fastq.gz\r\n",
      "-rwxrwxrwx 1 ddelgadillo ddelgadillo 110M Jul  4 09:53 sub1.5M-Estre_N7XT17_R1_1.fastq.gz\r\n",
      "-rwxrwxrwx 1 ddelgadillo ddelgadillo 115M Jul  4 09:54 sub1.5M-Ctrl_N7_XT17_R3_2.fastq.gz\r\n",
      "-rwxrwxrwx 1 ddelgadillo ddelgadillo 109M Jul  4 09:54 sub1.5M-Ctrl_N7_XT17_R3_1.fastq.gz\r\n",
      "-rwxrwxrwx 1 ddelgadillo ddelgadillo 114M Jul  4 09:55 sub1.5M-Ctrl_N7_XT17_R2_2.fastq.gz\r\n",
      "-rwxrwxrwx 1 ddelgadillo ddelgadillo 108M Jul  4 09:55 sub1.5M-Ctrl_N7_XT17_R2_1.fastq.gz\r\n",
      "-rwxrwxrwx 1 ddelgadillo ddelgadillo 106M Jul  4 09:56 sub1.5M-Ctrl_N7_XT17_R1_2.fastq.gz\r\n",
      "-rwxrwxrwx 1 ddelgadillo ddelgadillo 102M Jul  4 09:56 sub1.5M-Ctrl_N7_XT17_R1_1.fastq.gz\r\n",
      "-rwxrwxrwx 1 ddelgadillo ddelgadillo 118M Jul  4 09:57 sub1.5M-Ctrll_Estres_R3_2.fastq.gz\r\n",
      "-rwxrwxrwx 1 ddelgadillo ddelgadillo 111M Jul  4 09:57 sub1.5M-Ctrll_Estres_R3_1.fastq.gz\r\n",
      "-rwxrwxrwx 1 ddelgadillo ddelgadillo 115M Jul  4 09:58 sub1.5M-Ctrl_Estres_R2_2.fastq.gz\r\n",
      "-rwxrwxrwx 1 ddelgadillo ddelgadillo 109M Jul  4 09:58 sub1.5M-Ctrl_Estres_R2_1.fastq.gz\r\n",
      "-rwxrwxrwx 1 ddelgadillo ddelgadillo 114M Jul  4 09:59 sub1.5M-Ctrl_Estres_R1_2.fastq.gz\r\n",
      "-rwxrwxrwx 1 ddelgadillo ddelgadillo 108M Jul  4 10:00 sub1.5M-Ctrl_Estres_R1_1.fastq.gz\r\n",
      "-rwxrwxrwx 1 ddelgadillo ddelgadillo 113M Jul  4 10:00 sub1.5M-Control_R2_2.fastq.gz\r\n",
      "-rwxrwxrwx 1 ddelgadillo ddelgadillo 108M Jul  4 10:01 sub1.5M-Control_R2_1.fastq.gz\r\n",
      "-rwxrwxrwx 1 ddelgadillo ddelgadillo 114M Jul  4 10:02 sub1.5M-Control_R1_2.fastq.gz\r\n",
      "-rwxrwxrwx 1 ddelgadillo ddelgadillo 108M Jul  4 10:03 sub1.5M-Control_R1_1.fastq.gz\r\n",
      "-rwxrwxrwx 1 ddelgadillo ddelgadillo 407M Jul  4 10:10 gene_annotation_1.zip\r\n",
      "-rwxrwxrwx 1 ddelgadillo ddelgadillo 1.3K Jul  4 10:21 AvenaSub1.5M_PE_metadata.csv\r\n",
      "-rwxrwxrwx 1 ddelgadillo ddelgadillo  18M Jul  4 15:57 Pepsico-OT3098-A.gff3.gz\r\n",
      "-rwxrwxrwx 1 ddelgadillo ddelgadillo 268M Jul  4 16:00 Asativa_sang.v1-A.gff3\r\n",
      "-rwxrwxrwx 1 ddelgadillo ddelgadillo 948M Jul  4 16:10 Pepsico-OT3098-A.fasta.gz\r\n",
      "-rwxrwxrwx 1 ddelgadillo ddelgadillo 201K Jul  4 16:19 Asativa_sang.v1-A.agat.log\r\n",
      "-rwxrwxrwx 1 ddelgadillo ddelgadillo 435M Jul  4 16:21 Asativa_sang.v1-A.gtf\r\n",
      "-rwxrwxrwx 1 ddelgadillo ddelgadillo 3.4M Jul  4 16:28 Pepsico-OT3098-A.gff3.agat.log\r\n",
      "-rwxrwxrwx 1 ddelgadillo ddelgadillo 385M Jul  4 16:30 Pepsico-OT3098-A.gtf\r\n",
      "drwxrwxrwx 1 ddelgadillo ddelgadillo 4.0K Jul  8 09:38 AvenaSub1.5M-RNASeq-PE\r\n"
     ]
    }
   ],
   "source": [
    "!ls -ltrh $PEPath"
   ]
  },
  {
   "cell_type": "code",
   "execution_count": 11,
   "id": "4f38d83e",
   "metadata": {},
   "outputs": [
    {
     "name": "stdout",
     "output_type": "stream",
     "text": [
      "\u001b[34;42m.\u001b[0m\n",
      "└── \u001b[34;42mAvenaSub1.5M-RNASeq-PE\u001b[0m\n",
      "    ├── \u001b[34;42m01-QC-Pre-Reports\u001b[0m\n",
      "    │   └── \u001b[34;42mmultiqc_data\u001b[0m\n",
      "    ├── \u001b[34;42m02-Trimming-Trimmomatic\u001b[0m\n",
      "    │   ├── \u001b[34;42msummary\u001b[0m\n",
      "    │   └── \u001b[34;42munpaired\u001b[0m\n",
      "    ├── \u001b[34;42m03-QC-Pos-Reports\u001b[0m\n",
      "    │   └── \u001b[34;42mmultiqc_data\u001b[0m\n",
      "    ├── \u001b[34;42m04-RefGenome-Alignments-Hisat2\u001b[0m\n",
      "    │   └── \u001b[34;42mindex\u001b[0m\n",
      "    ├── \u001b[34;42m04-RefGenome-Alignments-Kallisto\u001b[0m\n",
      "    │   └── \u001b[34;42mlog\u001b[0m\n",
      "    ├── \u001b[34;42m04.1-Gene-Transcripts-Assembly-Quantify-Stringtie\u001b[0m\n",
      "    │   └── \u001b[34;42mballgown\u001b[0m\n",
      "    │       ├── \u001b[34;42mcont_estres_R1\u001b[0m\n",
      "    │       ├── \u001b[34;42mcont_estres_R2\u001b[0m\n",
      "    │       ├── \u001b[34;42mcont_estres_R3\u001b[0m\n",
      "    │       ├── \u001b[34;42mcontrol_R1\u001b[0m\n",
      "    │       ├── \u001b[34;42mcontrol_R2\u001b[0m\n",
      "    │       ├── \u001b[34;42mctrl_N7_XT17_R1\u001b[0m\n",
      "    │       ├── \u001b[34;42mctrl_N7_XT17_R2\u001b[0m\n",
      "    │       ├── \u001b[34;42mctrl_N7_XT17_R3\u001b[0m\n",
      "    │       ├── \u001b[34;42mestres_N7_XT17_R1\u001b[0m\n",
      "    │       ├── \u001b[34;42mestres_N7_XT17_R2\u001b[0m\n",
      "    │       └── \u001b[34;42mestres_N7_XT17_R3\u001b[0m\n",
      "    ├── \u001b[34;42m05-featureCounts\u001b[0m\n",
      "    └── \u001b[34;42mraw\u001b[0m\n",
      "\n",
      "27 directories\n"
     ]
    }
   ],
   "source": [
    "!tree -d"
   ]
  },
  {
   "cell_type": "markdown",
   "id": "200c42ae",
   "metadata": {},
   "source": [
    "## Standard Workflow\n",
    "### Feature Count"
   ]
  },
  {
   "cell_type": "code",
   "execution_count": 12,
   "id": "e5dfa7cf",
   "metadata": {},
   "outputs": [],
   "source": [
    "refGenomeGFFAnnotationPath = jobIdxPE + '/RefGenomeAnn.gff'\n",
    "refGenomeGTFAnnotationPath = jobIdxPE + '/RefGenomeAnn.gtf'"
   ]
  },
  {
   "cell_type": "code",
   "execution_count": 13,
   "id": "fb0b7bb4",
   "metadata": {},
   "outputs": [
    {
     "name": "stdout",
     "output_type": "stream",
     "text": [
      "featureCounts: invalid option -- 'h'\r\n",
      "\r\n",
      "Version 2.0.6\r\n",
      "\r\n",
      "Usage: featureCounts [options] -a <annotation_file> -o <output_file> input_file1 [input_file2] ... \r\n",
      "\r\n",
      "## Mandatory arguments:\r\n",
      "\r\n",
      "  -a <string>         Name of an annotation file. GTF/GFF format by default. See\r\n",
      "                      -F option for more format information. Inbuilt annotations\r\n",
      "                      (SAF format) is available in 'annotation' directory of the\r\n",
      "                      package. Gzipped file is also accepted.\r\n",
      "\r\n",
      "  -o <string>         Name of output file including read counts. A separate file\r\n",
      "                      including summary statistics of counting results is also\r\n",
      "                      included in the output ('<string>.summary'). Both files\r\n",
      "                      are in tab delimited format.\r\n",
      "\r\n",
      "  input_file1 [input_file2] ...   A list of SAM or BAM format files. They can be\r\n",
      "                      either name or location sorted. If no files provided,\r\n",
      "                      <stdin> input is expected. Location-sorted paired-end reads\r\n",
      "                      are automatically sorted by read names.\r\n",
      "\r\n",
      "## Optional arguments:\r\n",
      "# Annotation\r\n",
      "\r\n",
      "  -F <string>         Specify format of the provided annotation file. Acceptable\r\n",
      "                      formats include 'GTF' (or compatible GFF format) and\r\n",
      "                      'SAF'. 'GTF' by default.  For SAF format, please refer to\r\n",
      "                      Users Guide.\r\n",
      "\r\n",
      "  -t <string>         Specify feature type(s) in a GTF annotation. If multiple\r\n",
      "                      types are provided, they should be separated by ',' with\r\n",
      "                      no space in between. 'exon' by default. Rows in the\r\n",
      "                      annotation with a matched feature will be extracted and\r\n",
      "                      used for read mapping. \r\n",
      "\r\n",
      "  -g <string>         Specify attribute type in GTF annotation. 'gene_id' by \r\n",
      "                      default. Meta-features used for read counting will be \r\n",
      "                      extracted from annotation using the provided value.\r\n",
      "\r\n",
      "  --extraAttributes   Extract extra attribute types from the provided GTF\r\n",
      "                      annotation and include them in the counting output. These\r\n",
      "                      attribute types will not be used to group features. If\r\n",
      "                      more than one attribute type is provided they should be\r\n",
      "                      separated by comma.\r\n",
      "\r\n",
      "  -A <string>         Provide a chromosome name alias file to match chr names in\r\n",
      "                      annotation with those in the reads. This should be a two-\r\n",
      "                      column comma-delimited text file. Its first column should\r\n",
      "                      include chr names in the annotation and its second column\r\n",
      "                      should include chr names in the reads. Chr names are case\r\n",
      "                      sensitive. No column header should be included in the\r\n",
      "                      file.\r\n",
      "\r\n",
      "# Level of summarization\r\n",
      "\r\n",
      "  -f                  Perform read counting at feature level (eg. counting \r\n",
      "                      reads for exons rather than genes).\r\n",
      "\r\n",
      "# Overlap between reads and features\r\n",
      "\r\n",
      "  -O                  Assign reads to all their overlapping meta-features (or \r\n",
      "                      features if -f is specified).\r\n",
      "\r\n",
      "  --minOverlap <int>  Minimum number of overlapping bases in a read that is\r\n",
      "                      required for read assignment. 1 by default. Number of\r\n",
      "                      overlapping bases is counted from both reads if paired\r\n",
      "                      end. If a negative value is provided, then a gap of up\r\n",
      "                      to specified size will be allowed between read and the\r\n",
      "                      feature that the read is assigned to.\r\n",
      "\r\n",
      "  --fracOverlap <float> Minimum fraction of overlapping bases in a read that is\r\n",
      "                      required for read assignment. Value should be within range\r\n",
      "                      [0,1]. 0 by default. Number of overlapping bases is\r\n",
      "                      counted from both reads if paired end. Both this option\r\n",
      "                      and '--minOverlap' option need to be satisfied for read\r\n",
      "                      assignment.\r\n",
      "\r\n",
      "  --fracOverlapFeature <float> Minimum fraction of overlapping bases in a\r\n",
      "                      feature that is required for read assignment. Value\r\n",
      "                      should be within range [0,1]. 0 by default.\r\n",
      "\r\n",
      "  --largestOverlap    Assign reads to a meta-feature/feature that has the \r\n",
      "                      largest number of overlapping bases.\r\n",
      "\r\n",
      "  --nonOverlap <int>  Maximum number of non-overlapping bases in a read (or a\r\n",
      "                      read pair) that is allowed when being assigned to a\r\n",
      "                      feature. No limit is set by default.\r\n",
      "\r\n",
      "  --nonOverlapFeature <int> Maximum number of non-overlapping bases in a feature\r\n",
      "                      that is allowed in read assignment. No limit is set by\r\n",
      "                      default.\r\n",
      "\r\n",
      "  --readExtension5 <int> Reads are extended upstream by <int> bases from their\r\n",
      "                      5' end.\r\n",
      "\r\n",
      "  --readExtension3 <int> Reads are extended upstream by <int> bases from their\r\n",
      "                      3' end.\r\n",
      "\r\n",
      "  --read2pos <5:3>    Reduce reads to their 5' most base or 3' most base. Read\r\n",
      "                      counting is then performed based on the single base the \r\n",
      "                      read is reduced to.\r\n",
      "\r\n",
      "# Multi-mapping reads\r\n",
      "\r\n",
      "  -M                  Multi-mapping reads will also be counted. For a multi-\r\n",
      "                      mapping read, all its reported alignments will be \r\n",
      "                      counted. The 'NH' tag in BAM/SAM input is used to detect \r\n",
      "                      multi-mapping reads.\r\n",
      "\r\n",
      "# Fractional counting\r\n",
      "\r\n",
      "  --fraction          Assign fractional counts to features. This option must\r\n",
      "                      be used together with '-M' or '-O' or both. When '-M' is\r\n",
      "                      specified, each reported alignment from a multi-mapping\r\n",
      "                      read (identified via 'NH' tag) will carry a fractional\r\n",
      "                      count of 1/x, instead of 1 (one), where x is the total\r\n",
      "                      number of alignments reported for the same read. When '-O'\r\n",
      "                      is specified, each overlapping feature will receive a\r\n",
      "                      fractional count of 1/y, where y is the total number of\r\n",
      "                      features overlapping with the read. When both '-M' and\r\n",
      "                      '-O' are specified, each alignment will carry a fractional\r\n",
      "                      count of 1/(x*y).\r\n",
      "\r\n",
      "# Read filtering\r\n",
      "\r\n",
      "  -Q <int>            The minimum mapping quality score a read must satisfy in\r\n",
      "                      order to be counted. For paired-end reads, at least one\r\n",
      "                      end should satisfy this criteria. 0 by default.\r\n",
      "\r\n",
      "  --splitOnly         Count split alignments only (ie. alignments with CIGAR\r\n",
      "                      string containing 'N'). An example of split alignments is\r\n",
      "                      exon-spanning reads in RNA-seq data.\r\n",
      "\r\n",
      "  --nonSplitOnly      If specified, only non-split alignments (CIGAR strings do\r\n",
      "                      not contain letter 'N') will be counted. All the other\r\n",
      "                      alignments will be ignored.\r\n",
      "\r\n",
      "  --primary           Count primary alignments only. Primary alignments are \r\n",
      "                      identified using bit 0x100 in SAM/BAM FLAG field.\r\n",
      "\r\n",
      "  --ignoreDup         Ignore duplicate reads in read counting. Duplicate reads \r\n",
      "                      are identified using bit Ox400 in BAM/SAM FLAG field. The \r\n",
      "                      whole read pair is ignored if one of the reads is a \r\n",
      "                      duplicate read for paired end data.\r\n",
      "\r\n",
      "# Strandness\r\n",
      "\r\n",
      "  -s <int or string>  Perform strand-specific read counting. A single integer\r\n",
      "                      value (applied to all input files) or a string of comma-\r\n",
      "                      separated values (applied to each corresponding input\r\n",
      "                      file) should be provided. Possible values include:\r\n",
      "                      0 (unstranded), 1 (stranded) and 2 (reversely stranded).\r\n",
      "                      Default value is 0 (ie. unstranded read counting carried\r\n",
      "                      out for all input files).\r\n",
      "\r\n",
      "# Exon-exon junctions\r\n",
      "\r\n",
      "  -J                  Count number of reads supporting each exon-exon junction.\r\n",
      "                      Junctions were identified from all the exon-spanning reads\r\n",
      "                      in the input (containing 'N' in CIGAR string). Counting\r\n",
      "                      results are saved to a file named '<output_file>.jcounts'\r\n",
      "\r\n",
      "  -G <string>         Provide the name of a FASTA-format file that contains the\r\n",
      "                      reference sequences used in read mapping that produced the\r\n",
      "                      provided SAM/BAM files. This optional argument can be used\r\n",
      "                      with '-J' option to improve read counting for junctions.\r\n",
      "\r\n",
      "# Parameters specific to paired end reads\r\n",
      "\r\n",
      "  -p                  If specified, libraries are assumed to contain paired-end\r\n",
      "                      reads. For any library that contains paired-end reads, the\r\n",
      "                      'countReadPairs' parameter controls if read pairs or reads\r\n",
      "                      should be counted.\r\n",
      "\r\n",
      "  --countReadPairs    If specified, fragments (or templates) will be counted\r\n",
      "                      instead of reads. This option is only applicable for\r\n",
      "                      paired-end reads. For single-end data, it is ignored.\r\n",
      "\r\n",
      "  -B                  Only count read pairs that have both ends aligned.\r\n",
      "\r\n",
      "  -P                  Check validity of paired-end distance when counting read \r\n",
      "                      pairs. Use -d and -D to set thresholds.\r\n",
      "\r\n",
      "  -d <int>            Minimum fragment/template length, 50 by default.\r\n",
      "\r\n",
      "  -D <int>            Maximum fragment/template length, 600 by default.\r\n",
      "\r\n",
      "  -C                  Do not count read pairs that have their two ends mapping \r\n",
      "                      to different chromosomes or mapping to same chromosome \r\n",
      "                      but on different strands.\r\n",
      "\r\n",
      "  --donotsort         Do not sort reads in BAM/SAM input. Note that reads from \r\n",
      "                      the same pair are required to be located next to each \r\n",
      "                      other in the input.\r\n",
      "\r\n",
      "# Number of CPU threads\r\n",
      "\r\n",
      "  -T <int>            Number of the threads. 1 by default.\r\n",
      "\r\n",
      "# Read groups\r\n",
      "\r\n",
      "  --byReadGroup       Assign reads by read group. \"RG\" tag is required to be\r\n",
      "                      present in the input BAM/SAM files.\r\n",
      "                      \r\n",
      "\r\n",
      "# Long reads\r\n",
      "\r\n",
      "  -L                  Count long reads such as Nanopore and PacBio reads. Long\r\n",
      "                      read counting can only run in one thread and only reads\r\n",
      "                      (not read-pairs) can be counted. There is no limitation on\r\n",
      "                      the number of 'M' operations allowed in a CIGAR string in\r\n",
      "                      long read counting.\r\n",
      "\r\n",
      "# Assignment results for each read\r\n",
      "\r\n",
      "  -R <format>         Output detailed assignment results for each read or read-\r\n",
      "                      pair. Results are saved to a file that is in one of the\r\n",
      "                      following formats: CORE, SAM and BAM. See Users Guide for\r\n",
      "                      more info about these formats.\r\n",
      "\r\n",
      "  --Rpath <string>    Specify a directory to save the detailed assignment\r\n",
      "                      results. If unspecified, the directory where counting\r\n",
      "                      results are saved is used.\r\n",
      "\r\n",
      "# Miscellaneous\r\n",
      "\r\n",
      "  --tmpDir <string>   Directory under which intermediate files are saved (later\r\n",
      "                      removed). By default, intermediate files will be saved to\r\n",
      "                      the directory specified in '-o' argument.\r\n",
      "\r\n",
      "  --maxMOp <int>      Maximum number of 'M' operations allowed in a CIGAR\r\n",
      "                      string. 10 by default. Both 'X' and '=' are treated as 'M'\r\n",
      "                      and adjacent 'M' operations are merged in the CIGAR\r\n",
      "                      string.\r\n",
      "\r\n",
      "  --verbose           Output verbose information for debugging, such as un-\r\n",
      "                      matched chromosome/contig names.\r\n",
      "\r\n",
      "  -v                  Output version of the program.\r\n",
      "\r\n"
     ]
    }
   ],
   "source": [
    "!featureCounts -h"
   ]
  },
  {
   "cell_type": "code",
   "execution_count": 14,
   "id": "096f9e25",
   "metadata": {},
   "outputs": [],
   "source": [
    "nThreads = '8'"
   ]
  },
  {
   "cell_type": "code",
   "execution_count": 15,
   "id": "8c3bdd6b",
   "metadata": {},
   "outputs": [
    {
     "name": "stderr",
     "output_type": "stream",
     "text": [
      "\n",
      "        ==========     _____ _    _ ____  _____  ______          _____  \n",
      "        =====         / ____| |  | |  _ \\|  __ \\|  ____|   /\\   |  __ \\ \n",
      "          =====      | (___ | |  | | |_) | |__) | |__     /  \\  | |  | |\n",
      "            ====      \\___ \\| |  | |  _ <|  _  /|  __|   / /\\ \\ | |  | |\n",
      "              ====    ____) | |__| | |_) | | \\ \\| |____ / ____ \\| |__| |\n",
      "        ==========   |_____/ \\____/|____/|_|  \\_\\______/_/    \\_\\_____/\n",
      "\t  v2.0.6\n",
      "\n",
      "//========================== featureCounts setting ===========================\\\\\n",
      "||                                                                            ||\n",
      "||             Input files : 11 BAM files                                     ||\n",
      "||                                                                            ||\n",
      "||                           cont_estres_R1.bam                               ||\n",
      "||                           cont_estres_R2.bam                               ||\n",
      "||                           cont_estres_R3.bam                               ||\n",
      "||                           control_R1.bam                                   ||\n",
      "||                           control_R2.bam                                   ||\n",
      "||                           ctrl_N7_XT17_R1.bam                              ||\n",
      "||                           ctrl_N7_XT17_R2.bam                              ||\n",
      "||                           ctrl_N7_XT17_R3.bam                              ||\n",
      "||                           estres_N7_XT17_R1.bam                            ||\n",
      "||                           estres_N7_XT17_R2.bam                            ||\n",
      "||                           estres_N7_XT17_R3.bam                            ||\n",
      "||                                                                            ||\n",
      "||             Output file : rawCounts                                        ||\n",
      "||                 Summary : rawCounts.summary                                ||\n",
      "||              Paired-end : yes                                              ||\n",
      "||        Count read pairs : no                                               ||\n",
      "||              Annotation : RefGenomeAnn.gtf (GTF)                           ||\n",
      "||      Dir for temp files : /mnt/d/PE/Avena/AvenaSub1.5M-RNASeq-PE/05-fe ... ||\n",
      "||                                                                            ||\n",
      "||                 Threads : 8                                                ||\n",
      "||                   Level : meta-feature level                               ||\n",
      "||      Multimapping reads : not counted                                      ||\n",
      "|| Multi-overlapping reads : not counted                                      ||\n",
      "||   Min overlapping bases : 1                                                ||\n",
      "||                                                                            ||\n",
      "\\\\============================================================================//\n",
      "\n",
      "//================================= Running ==================================\\\\\n",
      "||                                                                            ||\n",
      "|| Load annotation file RefGenomeAnn.gtf ...                                  ||\n",
      "||    Features : 732310                                                       ||\n",
      "||    Meta-features : 22532                                                   ||\n",
      "||    Chromosomes/contigs : 7                                                 ||\n",
      "||                                                                            ||\n",
      "|| Process BAM file cont_estres_R1.bam...                                     ||\n",
      "||    Paired-end reads are included.                                          ||\n",
      "||    The reads are assigned on the single-end mode.                          ||\n",
      "||    Total alignments : 2520453                                              ||\n",
      "||    Successfully assigned alignments : 775226 (30.8%)                       ||\n",
      "||    Running time : 0.08 minutes                                             ||\n",
      "||                                                                            ||\n",
      "|| Process BAM file cont_estres_R2.bam...                                     ||\n",
      "||    Paired-end reads are included.                                          ||\n",
      "||    The reads are assigned on the single-end mode.                          ||\n",
      "||    Total alignments : 1856222                                              ||\n",
      "||    Successfully assigned alignments : 905656 (48.8%)                       ||\n",
      "||    Running time : 0.06 minutes                                             ||\n",
      "||                                                                            ||\n",
      "|| Process BAM file cont_estres_R3.bam...                                     ||\n",
      "||    Paired-end reads are included.                                          ||\n",
      "||    The reads are assigned on the single-end mode.                          ||\n",
      "||    Total alignments : 2289127                                              ||\n",
      "||    Successfully assigned alignments : 949352 (41.5%)                       ||\n",
      "||    Running time : 0.07 minutes                                             ||\n",
      "||                                                                            ||\n",
      "|| Process BAM file control_R1.bam...                                         ||\n",
      "||    Paired-end reads are included.                                          ||\n",
      "||    The reads are assigned on the single-end mode.                          ||\n",
      "||    Total alignments : 2687039                                              ||\n",
      "||    Successfully assigned alignments : 824353 (30.7%)                       ||\n",
      "||    Running time : 0.08 minutes                                             ||\n",
      "||                                                                            ||\n",
      "|| Process BAM file control_R2.bam...                                         ||\n",
      "||    Paired-end reads are included.                                          ||\n",
      "||    The reads are assigned on the single-end mode.                          ||\n",
      "||    Total alignments : 1930513                                              ||\n",
      "||    Successfully assigned alignments : 894431 (46.3%)                       ||\n",
      "||    Running time : 0.07 minutes                                             ||\n",
      "||                                                                            ||\n",
      "|| Process BAM file ctrl_N7_XT17_R1.bam...                                    ||\n",
      "||    Paired-end reads are included.                                          ||\n",
      "||    The reads are assigned on the single-end mode.                          ||\n",
      "||    Total alignments : 2718300                                              ||\n",
      "||    Successfully assigned alignments : 606208 (22.3%)                       ||\n",
      "||    Running time : 0.08 minutes                                             ||\n",
      "||                                                                            ||\n",
      "|| Process BAM file ctrl_N7_XT17_R2.bam...                                    ||\n",
      "||    Paired-end reads are included.                                          ||\n",
      "||    The reads are assigned on the single-end mode.                          ||\n",
      "||    Total alignments : 1990201                                              ||\n",
      "||    Successfully assigned alignments : 977481 (49.1%)                       ||\n",
      "||    Running time : 0.07 minutes                                             ||\n",
      "||                                                                            ||\n",
      "|| Process BAM file ctrl_N7_XT17_R3.bam...                                    ||\n",
      "||    Paired-end reads are included.                                          ||\n",
      "||    The reads are assigned on the single-end mode.                          ||\n",
      "||    Total alignments : 2390402                                              ||\n",
      "||    Successfully assigned alignments : 1037289 (43.4%)                      ||\n",
      "||    Running time : 0.08 minutes                                             ||\n",
      "||                                                                            ||\n",
      "|| Process BAM file estres_N7_XT17_R1.bam...                                  ||\n",
      "||    Paired-end reads are included.                                          ||\n",
      "||    The reads are assigned on the single-end mode.                          ||\n",
      "||    Total alignments : 1953504                                              ||\n",
      "||    Successfully assigned alignments : 955163 (48.9%)                       ||\n",
      "||    Running time : 0.07 minutes                                             ||\n",
      "||                                                                            ||\n",
      "|| Process BAM file estres_N7_XT17_R2.bam...                                  ||\n"
     ]
    },
    {
     "name": "stderr",
     "output_type": "stream",
     "text": [
      "||    Paired-end reads are included.                                          ||\n",
      "||    The reads are assigned on the single-end mode.                          ||\n",
      "||    Total alignments : 2739791                                              ||\n",
      "||    Successfully assigned alignments : 902280 (32.9%)                       ||\n",
      "||    Running time : 0.09 minutes                                             ||\n",
      "||                                                                            ||\n",
      "|| Process BAM file estres_N7_XT17_R3.bam...                                  ||\n",
      "||    Paired-end reads are included.                                          ||\n",
      "||    The reads are assigned on the single-end mode.                          ||\n",
      "||    Total alignments : 2138074                                              ||\n",
      "||    Successfully assigned alignments : 990132 (46.3%)                       ||\n",
      "||    Running time : 0.07 minutes                                             ||\n",
      "||                                                                            ||\n",
      "|| Write the final count table.                                               ||\n",
      "|| Write the read assignment summary.                                         ||\n",
      "||                                                                            ||\n",
      "|| Summary of counting results can be found in file \"/mnt/d/PE/Avena/AvenaSu  ||\n",
      "|| b1.5M-RNASeq-PE/05-featureCounts/rawCounts.summary\"                        ||\n",
      "||                                                                            ||\n",
      "\\\\============================================================================//\n",
      "\n"
     ]
    },
    {
     "data": {
      "text/plain": [
       "0"
      ]
     },
     "execution_count": 15,
     "metadata": {},
     "output_type": "execute_result"
    }
   ],
   "source": [
    "#!cat ids.txt | parallel -j 1 echo \"bam/{}.bam\" | xargs featureCounts -p -a refs/features.gff -o counts.txt\n",
    "\n",
    "cmdFC = \"featureCounts -p -T \" + nThreads + \" -o \" + PEPath + jobIdxPE + \"/05-featureCounts/rawCounts -a \" +  PEPath + jobIdxPE + \"/RefGenomeAnn.gtf\"  \n",
    "for i in metaPE.index:\n",
    "    #print(metaPE.shortName[i])\n",
    "    cmdFC += \" \" + PEPath + jobIdxPE + \"/04-RefGenome-Alignments-Hisat2/\" + metaPE.shortName[i] + \".bam\"\n",
    "\n",
    "os.system(cmdFC)"
   ]
  },
  {
   "cell_type": "code",
   "execution_count": 16,
   "id": "9090074b",
   "metadata": {},
   "outputs": [],
   "source": [
    "%load_ext rpy2.ipython"
   ]
  },
  {
   "cell_type": "code",
   "execution_count": 17,
   "id": "da3a6f97",
   "metadata": {},
   "outputs": [
    {
     "name": "stdout",
     "output_type": "stream",
     "text": [
      " [1] \"01-QC-Pre-Reports\"                                \n",
      " [2] \"02-Trimming-Trimmomatic\"                          \n",
      " [3] \"03-QC-Pos-Reports\"                                \n",
      " [4] \"04-RefGenome-Alignments-Hisat2\"                   \n",
      " [5] \"04-RefGenome-Alignments-Kallisto\"                 \n",
      " [6] \"04.1-Gene-Transcripts-Assembly-Quantify-Stringtie\"\n",
      " [7] \"05-featureCounts\"                                 \n",
      " [8] \"heatmap24.pdf\"                                    \n",
      " [9] \"metadata.csv\"                                     \n",
      "[10] \"raw\"                                              \n",
      "[11] \"RefGenome.fa\"                                     \n",
      "[12] \"RefGenome.fa.fai\"                                 \n",
      "[13] \"RefGenomeAnn.gff\"                                 \n",
      "[14] \"RefGenomeAnn.gtf\"                                 \n"
     ]
    }
   ],
   "source": [
    "%%R -i PEPath,jobIdxPE\n",
    "setwd(paste0(PEPath,jobIdxPE))\n",
    "list.files()"
   ]
  },
  {
   "cell_type": "code",
   "execution_count": 18,
   "id": "e8f20e05",
   "metadata": {},
   "outputs": [
    {
     "name": "stdout",
     "output_type": "stream",
     "text": [
      "                      Geneid\n",
      "1 AVESA.00001b.r3.1Ag0000001\n",
      "2 AVESA.00001b.r3.1Ag0000002\n",
      "3 AVESA.00001b.r3.1Ag0000003\n",
      "4 AVESA.00001b.r3.1Ag0000004\n",
      "5 AVESA.00001b.r3.1Ag0000005\n",
      "6 AVESA.00001b.r3.1Ag0000006\n",
      "                                                                                                                                                                                                                                                                                                                                                                                                                                                                                                                                                                                                                                                                                                                                                                                                                                                                                                                                                                                                                                                                                                                                                                                                                                                                                                                            Chr\n",
      "1                                                                                                                                                                                                                                                                                                                                                                                                                                                                                                                                                                                                                                                                                                                                                                                                                                                                                                                                                                                                                                                                                                                                                                                                                                                                                                             chr1A;chr1A;chr1A\n",
      "2                                                                                                                                                                                                                                                                                                                                                                                                                                                                                                                                                                                                                                                                                                                                                                                                                                                                                                                                                                                                                                                                                                                                                                                                                   chr1A;chr1A;chr1A;chr1A;chr1A;chr1A;chr1A;chr1A;chr1A;chr1A;chr1A;chr1A;chr1A;chr1A;chr1A;chr1A;chr1A;chr1A\n",
      "3                                                                                                                                                                                                                                                                                                                                                                                                                                                                                                                                                                                                                                                                                                                                                                                                                                                                                                                                                                                                                                                                                                                                                                                                                                                       chr1A;chr1A;chr1A;chr1A;chr1A;chr1A;chr1A;chr1A;chr1A;chr1A;chr1A;chr1A\n",
      "4                                                                                                                                                                                                                                                                                                                                                                                                                                                                                                                                                                                                                                                                                                                                                                                                                                                                                                                                                                                                                                                                                                                                                                                                                                                                                                             chr1A;chr1A;chr1A\n",
      "5 chr1A;chr1A;chr1A;chr1A;chr1A;chr1A;chr1A;chr1A;chr1A;chr1A;chr1A;chr1A;chr1A;chr1A;chr1A;chr1A;chr1A;chr1A;chr1A;chr1A;chr1A;chr1A;chr1A;chr1A;chr1A;chr1A;chr1A;chr1A;chr1A;chr1A;chr1A;chr1A;chr1A;chr1A;chr1A;chr1A;chr1A;chr1A;chr1A;chr1A;chr1A;chr1A;chr1A;chr1A;chr1A;chr1A;chr1A;chr1A;chr1A;chr1A;chr1A;chr1A;chr1A;chr1A;chr1A;chr1A;chr1A;chr1A;chr1A;chr1A;chr1A;chr1A;chr1A;chr1A;chr1A;chr1A;chr1A;chr1A;chr1A;chr1A;chr1A;chr1A;chr1A;chr1A;chr1A;chr1A;chr1A;chr1A;chr1A;chr1A;chr1A;chr1A;chr1A;chr1A;chr1A;chr1A;chr1A;chr1A;chr1A;chr1A;chr1A;chr1A;chr1A;chr1A;chr1A;chr1A;chr1A;chr1A;chr1A;chr1A;chr1A;chr1A;chr1A;chr1A;chr1A;chr1A;chr1A;chr1A;chr1A;chr1A;chr1A;chr1A;chr1A;chr1A;chr1A;chr1A;chr1A;chr1A;chr1A;chr1A;chr1A;chr1A;chr1A;chr1A;chr1A;chr1A;chr1A;chr1A;chr1A;chr1A;chr1A;chr1A;chr1A;chr1A;chr1A;chr1A;chr1A;chr1A;chr1A;chr1A;chr1A;chr1A;chr1A;chr1A;chr1A;chr1A;chr1A;chr1A;chr1A;chr1A;chr1A;chr1A;chr1A;chr1A;chr1A;chr1A;chr1A;chr1A;chr1A;chr1A;chr1A;chr1A;chr1A;chr1A;chr1A;chr1A;chr1A;chr1A;chr1A;chr1A;chr1A;chr1A;chr1A;chr1A;chr1A;chr1A;chr1A;chr1A;chr1A;chr1A;chr1A;chr1A;chr1A;chr1A;chr1A;chr1A;chr1A;chr1A;chr1A;chr1A;chr1A;chr1A;chr1A;chr1A;chr1A;chr1A;chr1A;chr1A;chr1A;chr1A;chr1A;chr1A;chr1A;chr1A;chr1A;chr1A;chr1A;chr1A;chr1A;chr1A;chr1A;chr1A;chr1A\n",
      "6                                                                                                                                                                                                                                                             chr1A;chr1A;chr1A;chr1A;chr1A;chr1A;chr1A;chr1A;chr1A;chr1A;chr1A;chr1A;chr1A;chr1A;chr1A;chr1A;chr1A;chr1A;chr1A;chr1A;chr1A;chr1A;chr1A;chr1A;chr1A;chr1A;chr1A;chr1A;chr1A;chr1A;chr1A;chr1A;chr1A;chr1A;chr1A;chr1A;chr1A;chr1A;chr1A;chr1A;chr1A;chr1A;chr1A;chr1A;chr1A;chr1A;chr1A;chr1A;chr1A;chr1A;chr1A;chr1A;chr1A;chr1A;chr1A;chr1A;chr1A;chr1A;chr1A;chr1A;chr1A;chr1A;chr1A;chr1A;chr1A;chr1A;chr1A;chr1A;chr1A;chr1A;chr1A;chr1A;chr1A;chr1A;chr1A;chr1A;chr1A;chr1A;chr1A;chr1A;chr1A;chr1A;chr1A;chr1A;chr1A;chr1A;chr1A;chr1A;chr1A;chr1A;chr1A;chr1A;chr1A;chr1A;chr1A;chr1A;chr1A;chr1A;chr1A;chr1A;chr1A;chr1A;chr1A;chr1A;chr1A;chr1A;chr1A;chr1A;chr1A;chr1A;chr1A;chr1A;chr1A;chr1A;chr1A;chr1A;chr1A;chr1A;chr1A;chr1A;chr1A;chr1A;chr1A;chr1A;chr1A;chr1A;chr1A;chr1A;chr1A;chr1A;chr1A;chr1A;chr1A;chr1A;chr1A;chr1A;chr1A;chr1A;chr1A;chr1A;chr1A;chr1A;chr1A;chr1A;chr1A;chr1A;chr1A;chr1A;chr1A;chr1A;chr1A;chr1A;chr1A;chr1A;chr1A;chr1A;chr1A;chr1A;chr1A;chr1A;chr1A;chr1A;chr1A;chr1A;chr1A;chr1A;chr1A;chr1A;chr1A;chr1A;chr1A\n",
      "                                                                                                                                                                                                                                                                                                                                                                                                                                                                                                                                                                                                                                                                                                                                                                                                                                                                                                                                                                                                                                                                                                                                                                                                                                                                                                                                                                                                                                                                                                                                               Start\n",
      "1                                                                                                                                                                                                                                                                                                                                                                                                                                                                                                                                                                                                                                                                                                                                                                                                                                                                                                                                                                                                                                                                                                                                                                                                                                                                                                                                                                                                                                                                                                                                  50163;50163;50188\n",
      "2                                                                                                                                                                                                                                                                                                                                                                                                                                                                                                                                                                                                                                                                                                                                                                                                                                                                                                                                                                                                                                                                                                                                                                                                                                                                                                                                                                                                                                        56248;56260;56486;56486;56696;56696;56945;56945;57119;57119;57811;57811;57938;57938;58182;58182;58477;58477\n",
      "3                                                                                                                                                                                                                                                                                                                                                                                                                                                                                                                                                                                                                                                                                                                                                                                                                                                                                                                                                                                                                                                                                                                                                                                                                                                                                                                                                                                                                                                                            81249;81287;81325;82754;82754;82972;82972;82972;83586;83586;84408;84408\n"
     ]
    },
    {
     "name": "stdout",
     "output_type": "stream",
     "text": [
      "4                                                                                                                                                                                                                                                                                                                                                                                                                                                                                                                                                                                                                                                                                                                                                                                                                                                                                                                                                                                                                                                                                                                                                                                                                                                                                                                                                                                                                                                                                                                               159554;160054;161087\n",
      "5 165424;165927;165943;165950;165950;165950;166585;166585;166585;166585;166585;166585;166859;166859;166859;166859;166859;166859;167284;167284;167284;167284;167284;167284;167511;167511;167511;167511;167511;167511;167868;167868;167868;167868;167868;167868;168781;168781;168781;168781;168781;168781;168941;168941;168941;168941;168941;168941;169130;169130;169130;169130;169130;169130;169395;169395;169395;169395;169395;169395;169934;169934;169934;169934;169934;169934;170581;170581;170581;170581;170581;171041;171041;171041;171041;171041;171041;171321;171321;171321;171321;171321;171489;171489;171489;171489;171489;171489;172241;172241;172241;172241;172241;172241;172889;172889;172889;172889;172889;172889;173230;173230;173230;173230;173230;173484;173486;173486;173486;173486;173724;173724;173724;173724;173724;174430;174430;174430;174430;174617;174617;174617;174617;174617;175047;175047;175047;175047;175047;175233;175233;175233;175233;175233;175471;175471;175471;175471;175471;175707;175707;175707;175707;175980;175980;175980;175980;176138;176138;176138;176138;176765;176765;176765;176765;176911;176911;176911;176911;177064;177064;177064;177064;177239;177239;177239;177239;177455;177455;177455;177627;177627;177627;177943;177943;177943;177943;178086;178086;178086;178086;178366;178366;178366;178366;178656;178656;178656;178858;178858;178858;179542;179542;179542;179710;179710;180180;180180;180908;180908;181110;181110;182037;182037;183842;183842;184062;184062;184350;184350;184786;185041;186000\n",
      "6                                                                                                                                                                                                                                                                                                       272922;272922;272925;272925;272978;272978;273022;273022;273022;273022;273026;273026;273026;273030;273605;273605;273605;273605;273815;273815;273815;273815;273815;273815;273909;274107;274107;274107;274107;274107;274107;274107;274107;274107;274107;274913;274913;274913;274913;274913;274913;274913;274913;274913;274913;274913;274913;274913;274913;275176;275176;275176;275176;275176;275176;275176;275176;275176;275176;275176;275176;275176;275176;275682;275682;275682;275682;275682;275682;275682;275682;275682;275682;275682;275682;275682;275682;275873;275873;275873;275873;275873;275873;275873;275873;275873;275873;275873;275873;275873;275873;276284;276284;276284;276284;276284;276284;276284;276284;276284;276284;276284;276284;276284;276284;276851;276851;276851;276851;276851;276851;276851;276851;276851;276851;276851;276851;276851;277055;277055;277055;277055;277055;277055;277055;277055;277055;277055;277055;277055;277055;277309;277309;277309;277309;277309;277309;277309;277309;277309;277309;277309;277309;277309;277659;277659;277659;277659;277659;277659;277659;277659;277659;277659;277659;277659;277659;277909;277909;277909;277909;277909;277909;277909;277909;277909;277909;277909;277909;277909;277909\n",
      "                                                                                                                                                                                                                                                                                                                                                                                                                                                                                                                                                                                                                                                                                                                                                                                                                                                                                                                                                                                                                                                                                                                                                                                                                                                                                                                                                                                                                                                                                                                                                 End\n",
      "1                                                                                                                                                                                                                                                                                                                                                                                                                                                                                                                                                                                                                                                                                                                                                                                                                                                                                                                                                                                                                                                                                                                                                                                                                                                                                                                                                                                                                                                                                                                                  51666;51777;52276\n",
      "2                                                                                                                                                                                                                                                                                                                                                                                                                                                                                                                                                                                                                                                                                                                                                                                                                                                                                                                                                                                                                                                                                                                                                                                                                                                                                                                                                                                                                                        56409;56409;56608;56608;56843;56843;57032;57032;57708;57708;57833;57833;58031;58031;58284;58284;59027;59348\n",
      "3                                                                                                                                                                                                                                                                                                                                                                                                                                                                                                                                                                                                                                                                                                                                                                                                                                                                                                                                                                                                                                                                                                                                                                                                                                                                                                                                                                                                                                                                            81440;82857;81440;82857;82857;83047;85294;83047;83666;83666;85157;85317\n",
      "4                                                                                                                                                                                                                                                                                                                                                                                                                                                                                                                                                                                                                                                                                                                                                                                                                                                                                                                                                                                                                                                                                                                                                                                                                                                                                                                                                                                                                                                                                                                               159964;160860;161484\n",
      "5 166480;166480;166480;166480;166480;166480;166767;166767;166767;166767;166767;166767;166909;166909;166909;166909;166909;166909;167403;167403;167403;167403;167403;167403;167613;167613;167613;167613;167613;167613;168026;168026;168026;168026;168026;168026;168869;168869;168869;168869;168869;168869;169054;169054;169054;169054;169054;169054;169288;169288;169288;169288;169288;169288;169442;169442;169442;169442;169442;169442;170633;170110;170110;170110;170110;170110;170633;170633;170633;170633;170633;171153;171153;171153;171153;171153;171153;171401;171401;171401;171401;171401;171604;171604;171604;171604;171604;171604;172360;172360;172360;172360;172360;172360;173006;173006;173006;172972;173006;173006;173407;173407;173407;173407;173407;173554;173554;173554;173554;173554;173855;174539;173855;173855;173855;174539;174539;174539;174539;174777;174777;174777;174777;174777;175137;175137;175137;175137;175137;175330;175330;175330;175330;175330;175591;175591;175591;175591;175549;175867;175867;175867;175867;176061;176061;176061;176061;176232;176232;176232;176232;176789;176789;176789;176789;176987;176987;176987;176987;177150;177150;177150;177150;177288;177288;177309;177288;177536;177536;177536;177687;177687;177687;177995;177995;177995;177995;178275;178275;178275;178275;178489;178489;178416;178489;178758;178758;178758;178950;178950;178950;179620;179580;179620;179786;179786;180308;180308;181025;181025;181207;181207;182126;182126;183961;183961;184172;184172;184461;184473;184940;185138;186169\n",
      "6                                                                                                                                                                                                                                                                                                       273683;273261;273261;273683;273675;273675;273683;273675;273675;274218;273683;273261;273261;274218;273907;273675;273683;273683;273907;273907;273907;274218;274218;273907;273985;274218;274218;274218;274218;274218;274218;274218;274218;274218;274218;275012;275012;275012;275012;275012;275012;275012;275012;275012;275012;275012;275012;275012;275012;275238;275238;275238;275238;275238;275238;275238;275238;275238;275238;275238;275238;275238;275238;275792;275792;275792;275792;275792;275792;275792;275792;275792;275792;275792;275792;275792;275792;276057;276057;276057;276057;276057;276057;276057;276057;276057;276057;276057;276057;276057;276057;276422;276422;276422;276422;276422;276422;276422;276422;276422;276968;276422;276422;276422;276422;276968;276968;276968;276968;276921;277156;276968;276921;276968;276968;276968;276968;276968;277156;277156;277156;277156;277156;277156;277156;277156;277770;277156;277156;277156;277156;277560;277560;277560;277560;277560;277560;277560;277560;277560;277560;277560;277560;277560;277770;277770;277770;277770;277770;277770;277770;277770;277770;277770;277770;277770;277770;278391;278393;278360;278200;278378;278378;278360;278338;278393;278360;278359;278200;278468;278389\n",
      "                                                                                                                                                                                                                                                                                                                                                                                                                                     Strand\n"
     ]
    },
    {
     "name": "stdout",
     "output_type": "stream",
     "text": [
      "1                                                                                                                                                                                                                                                                                                                                                                                                                                     +;+;+\n",
      "2                                                                                                                                                                                                                                                                                                                                                                                                       +;+;+;+;+;+;+;+;+;+;+;+;+;+;+;+;+;+\n",
      "3                                                                                                                                                                                                                                                                                                                                                                                                                   +;+;+;+;+;+;+;+;+;+;+;+\n",
      "4                                                                                                                                                                                                                                                                                                                                                                                                                                     +;+;+\n",
      "5 -;-;-;-;-;-;-;-;-;-;-;-;-;-;-;-;-;-;-;-;-;-;-;-;-;-;-;-;-;-;-;-;-;-;-;-;-;-;-;-;-;-;-;-;-;-;-;-;-;-;-;-;-;-;-;-;-;-;-;-;-;-;-;-;-;-;-;-;-;-;-;-;-;-;-;-;-;-;-;-;-;-;-;-;-;-;-;-;-;-;-;-;-;-;-;-;-;-;-;-;-;-;-;-;-;-;-;-;-;-;-;-;-;-;-;-;-;-;-;-;-;-;-;-;-;-;-;-;-;-;-;-;-;-;-;-;-;-;-;-;-;-;-;-;-;-;-;-;-;-;-;-;-;-;-;-;-;-;-;-;-;-;-;-;-;-;-;-;-;-;-;-;-;-;-;-;-;-;-;-;-;-;-;-;-;-;-;-;-;-;-;-;-;-;-;-;-;-;-;-;-;-;-;-;-;-;-;-;-;-;-;-;-\n",
      "6                                                                                     +;+;+;+;+;+;+;+;+;+;+;+;+;+;+;+;+;+;+;+;+;+;+;+;+;+;+;+;+;+;+;+;+;+;+;+;+;+;+;+;+;+;+;+;+;+;+;+;+;+;+;+;+;+;+;+;+;+;+;+;+;+;+;+;+;+;+;+;+;+;+;+;+;+;+;+;+;+;+;+;+;+;+;+;+;+;+;+;+;+;+;+;+;+;+;+;+;+;+;+;+;+;+;+;+;+;+;+;+;+;+;+;+;+;+;+;+;+;+;+;+;+;+;+;+;+;+;+;+;+;+;+;+;+;+;+;+;+;+;+;+;+;+;+;+;+;+;+;+;+;+;+;+;+;+;+;+;+;+;+;+;+;+;+;+;+;+;+;+;+;+\n",
      "  Length\n",
      "1   2114\n",
      "2   2203\n",
      "3   3955\n",
      "4   1616\n",
      "5   7540\n",
      "6   3803\n",
      "  X.mnt.d.PE.Avena.AvenaSub1.5M.RNASeq.PE.04.RefGenome.Alignments.Hisat2.cont_estres_R1.bam\n",
      "1                                                                                         0\n",
      "2                                                                                         0\n",
      "3                                                                                        57\n",
      "4                                                                                         0\n",
      "5                                                                                        76\n",
      "6                                                                                         3\n",
      "  X.mnt.d.PE.Avena.AvenaSub1.5M.RNASeq.PE.04.RefGenome.Alignments.Hisat2.cont_estres_R2.bam\n",
      "1                                                                                         0\n",
      "2                                                                                         0\n",
      "3                                                                                        40\n",
      "4                                                                                         0\n",
      "5                                                                                        98\n",
      "6                                                                                         5\n",
      "  X.mnt.d.PE.Avena.AvenaSub1.5M.RNASeq.PE.04.RefGenome.Alignments.Hisat2.cont_estres_R3.bam\n",
      "1                                                                                         0\n",
      "2                                                                                         0\n",
      "3                                                                                        40\n",
      "4                                                                                         0\n",
      "5                                                                                       138\n",
      "6                                                                                        11\n",
      "  X.mnt.d.PE.Avena.AvenaSub1.5M.RNASeq.PE.04.RefGenome.Alignments.Hisat2.control_R1.bam\n",
      "1                                                                                     0\n",
      "2                                                                                     0\n",
      "3                                                                                    16\n",
      "4                                                                                     0\n",
      "5                                                                                    44\n",
      "6                                                                                     4\n",
      "  X.mnt.d.PE.Avena.AvenaSub1.5M.RNASeq.PE.04.RefGenome.Alignments.Hisat2.control_R2.bam\n",
      "1                                                                                     0\n",
      "2                                                                                     0\n",
      "3                                                                                    38\n",
      "4                                                                                     0\n",
      "5                                                                                   110\n",
      "6                                                                                     4\n",
      "  X.mnt.d.PE.Avena.AvenaSub1.5M.RNASeq.PE.04.RefGenome.Alignments.Hisat2.ctrl_N7_XT17_R1.bam\n",
      "1                                                                                          0\n",
      "2                                                                                          0\n",
      "3                                                                                         32\n",
      "4                                                                                          2\n",
      "5                                                                                         22\n",
      "6                                                                                          0\n",
      "  X.mnt.d.PE.Avena.AvenaSub1.5M.RNASeq.PE.04.RefGenome.Alignments.Hisat2.ctrl_N7_XT17_R2.bam\n",
      "1                                                                                          0\n",
      "2                                                                                          2\n",
      "3                                                                                         29\n",
      "4                                                                                          0\n",
      "5                                                                                         67\n",
      "6                                                                                          1\n",
      "  X.mnt.d.PE.Avena.AvenaSub1.5M.RNASeq.PE.04.RefGenome.Alignments.Hisat2.ctrl_N7_XT17_R3.bam\n",
      "1                                                                                          0\n",
      "2                                                                                          0\n",
      "3                                                                                         37\n",
      "4                                                                                          0\n",
      "5                                                                                         45\n",
      "6                                                                                          5\n",
      "  X.mnt.d.PE.Avena.AvenaSub1.5M.RNASeq.PE.04.RefGenome.Alignments.Hisat2.estres_N7_XT17_R1.bam\n",
      "1                                                                                            0\n",
      "2                                                                                            0\n",
      "3                                                                                           33\n",
      "4                                                                                            0\n",
      "5                                                                                          106\n",
      "6                                                                                            0\n",
      "  X.mnt.d.PE.Avena.AvenaSub1.5M.RNASeq.PE.04.RefGenome.Alignments.Hisat2.estres_N7_XT17_R2.bam\n",
      "1                                                                                            0\n",
      "2                                                                                            0\n",
      "3                                                                                           32\n",
      "4                                                                                            0\n",
      "5                                                                                           82\n",
      "6                                                                                            5\n",
      "  X.mnt.d.PE.Avena.AvenaSub1.5M.RNASeq.PE.04.RefGenome.Alignments.Hisat2.estres_N7_XT17_R3.bam\n",
      "1                                                                                            0\n",
      "2                                                                                            0\n",
      "3                                                                                           32\n",
      "4                                                                                            0\n",
      "5                                                                                          146\n",
      "6                                                                                           12\n"
     ]
    }
   ],
   "source": [
    "%%R\n",
    "counts_file <- \"05-featureCounts/rawCounts\"\n",
    "df <- read.table(counts_file, header=TRUE)\n",
    "head(df)"
   ]
  },
  {
   "cell_type": "code",
   "execution_count": 19,
   "id": "1b37a9c4",
   "metadata": {},
   "outputs": [
    {
     "name": "stdout",
     "output_type": "stream",
     "text": [
      "                               file1                              file2   type\n",
      "1  sub1.5M-Ctrl_Estres_R1_1.fastq.gz  sub1.5M-Ctrl_Estres_R1_2.fastq.gz paired\n",
      "2  sub1.5M-Ctrl_Estres_R2_1.fastq.gz  sub1.5M-Ctrl_Estres_R2_2.fastq.gz paired\n",
      "3 sub1.5M-Ctrll_Estres_R3_1.fastq.gz sub1.5M-Ctrll_Estres_R3_2.fastq.gz paired\n",
      "4      sub1.5M-Control_R1_1.fastq.gz      sub1.5M-Control_R1_2.fastq.gz paired\n",
      "5      sub1.5M-Control_R2_1.fastq.gz      sub1.5M-Control_R2_2.fastq.gz paired\n",
      "6 sub1.5M-Ctrl_N7_XT17_R1_1.fastq.gz sub1.5M-Ctrl_N7_XT17_R1_2.fastq.gz paired\n",
      "        shortName   meta1        meta2 meta3 replicate\n",
      "1  cont_estres_R1  Estres    Inoculado     A         1\n",
      "2  cont_estres_R2  Estres    Inoculado     A         2\n",
      "3  cont_estres_R3  Estres    Inoculado     A         3\n",
      "4      control_R1 Control No_inoculado     B         1\n",
      "5      control_R2 Control No_inoculado     B         2\n",
      "6 ctrl_N7_XT17_R1 Control    Inoculado     C         1\n",
      "                                   trimmed1\n",
      "1  sub1.5M-Ctrl_Estres_R1_1_paired.fastq.gz\n",
      "2  sub1.5M-Ctrl_Estres_R2_1_paired.fastq.gz\n",
      "3 sub1.5M-Ctrll_Estres_R3_1_paired.fastq.gz\n",
      "4      sub1.5M-Control_R1_1_paired.fastq.gz\n",
      "5      sub1.5M-Control_R2_1_paired.fastq.gz\n",
      "6 sub1.5M-Ctrl_N7_XT17_R1_1_paired.fastq.gz\n",
      "                                   trimmed2\n",
      "1  sub1.5M-Ctrl_Estres_R1_2_paired.fastq.gz\n",
      "2  sub1.5M-Ctrl_Estres_R2_2_paired.fastq.gz\n",
      "3 sub1.5M-Ctrll_Estres_R3_2_paired.fastq.gz\n",
      "4      sub1.5M-Control_R1_2_paired.fastq.gz\n",
      "5      sub1.5M-Control_R2_2_paired.fastq.gz\n",
      "6 sub1.5M-Ctrl_N7_XT17_R1_2_paired.fastq.gz\n"
     ]
    }
   ],
   "source": [
    "%%R\n",
    "design_file = \"metadata.csv\"\n",
    "sample_data <- read.csv(design_file, stringsAsFactors=F)\n",
    "head(sample_data)"
   ]
  },
  {
   "cell_type": "code",
   "execution_count": 20,
   "id": "5c2dc546",
   "metadata": {},
   "outputs": [
    {
     "name": "stdout",
     "output_type": "stream",
     "text": [
      "                               file1                              file2   type\n",
      "1  sub1.5M-Ctrl_Estres_R1_1.fastq.gz  sub1.5M-Ctrl_Estres_R1_2.fastq.gz paired\n",
      "2  sub1.5M-Ctrl_Estres_R2_1.fastq.gz  sub1.5M-Ctrl_Estres_R2_2.fastq.gz paired\n",
      "3 sub1.5M-Ctrll_Estres_R3_1.fastq.gz sub1.5M-Ctrll_Estres_R3_2.fastq.gz paired\n",
      "4      sub1.5M-Control_R1_1.fastq.gz      sub1.5M-Control_R1_2.fastq.gz paired\n",
      "5      sub1.5M-Control_R2_1.fastq.gz      sub1.5M-Control_R2_2.fastq.gz paired\n",
      "6 sub1.5M-Ctrl_N7_XT17_R1_1.fastq.gz sub1.5M-Ctrl_N7_XT17_R1_2.fastq.gz paired\n",
      "        shortName   meta1        meta2 meta3 replicate\n",
      "1  cont_estres_R1  Estres    Inoculado     A         1\n",
      "2  cont_estres_R2  Estres    Inoculado     A         2\n",
      "3  cont_estres_R3  Estres    Inoculado     A         3\n",
      "4      control_R1 Control No_inoculado     B         1\n",
      "5      control_R2 Control No_inoculado     B         2\n",
      "6 ctrl_N7_XT17_R1 Control    Inoculado     C         1\n",
      "                                   trimmed1\n",
      "1  sub1.5M-Ctrl_Estres_R1_1_paired.fastq.gz\n",
      "2  sub1.5M-Ctrl_Estres_R2_1_paired.fastq.gz\n",
      "3 sub1.5M-Ctrll_Estres_R3_1_paired.fastq.gz\n",
      "4      sub1.5M-Control_R1_1_paired.fastq.gz\n",
      "5      sub1.5M-Control_R2_1_paired.fastq.gz\n",
      "6 sub1.5M-Ctrl_N7_XT17_R1_1_paired.fastq.gz\n",
      "                                   trimmed2\n",
      "1  sub1.5M-Ctrl_Estres_R1_2_paired.fastq.gz\n",
      "2  sub1.5M-Ctrl_Estres_R2_2_paired.fastq.gz\n",
      "3 sub1.5M-Ctrll_Estres_R3_2_paired.fastq.gz\n",
      "4      sub1.5M-Control_R1_2_paired.fastq.gz\n",
      "5      sub1.5M-Control_R2_2_paired.fastq.gz\n",
      "6 sub1.5M-Ctrl_N7_XT17_R1_2_paired.fastq.gz\n"
     ]
    }
   ],
   "source": [
    "%%R\n",
    "design_file = \"metadata.csv\"\n",
    "sample_data <- read.csv(design_file, stringsAsFactors=F)\n",
    "head(sample_data)\n"
   ]
  },
  {
   "cell_type": "code",
   "execution_count": 21,
   "id": "94537f0e",
   "metadata": {},
   "outputs": [],
   "source": [
    "%%R\n",
    "condition <- \"meta1\""
   ]
  },
  {
   "cell_type": "code",
   "execution_count": 22,
   "id": "a9499763",
   "metadata": {},
   "outputs": [
    {
     "name": "stdout",
     "output_type": "stream",
     "text": [
      " [1] \"Estres\"  \"Estres\"  \"Estres\"  \"Control\" \"Control\" \"Control\" \"Control\"\n",
      " [8] \"Control\" \"Estres\"  \"Estres\"  \"Estres\" \n"
     ]
    }
   ],
   "source": [
    "%%R\n",
    "sample_data[,condition]"
   ]
  },
  {
   "cell_type": "code",
   "execution_count": 23,
   "id": "1e0fbb5e",
   "metadata": {},
   "outputs": [
    {
     "name": "stdout",
     "output_type": "stream",
     "text": [
      "                      Geneid\n",
      "1 AVESA.00001b.r3.1Ag0000001\n",
      "2 AVESA.00001b.r3.1Ag0000002\n",
      "3 AVESA.00001b.r3.1Ag0000003\n",
      "4 AVESA.00001b.r3.1Ag0000004\n",
      "5 AVESA.00001b.r3.1Ag0000005\n",
      "6 AVESA.00001b.r3.1Ag0000006\n",
      "  X.mnt.d.PE.Avena.AvenaSub1.5M.RNASeq.PE.04.RefGenome.Alignments.Hisat2.cont_estres_R1.bam\n",
      "1                                                                                         0\n",
      "2                                                                                         0\n",
      "3                                                                                        57\n",
      "4                                                                                         0\n",
      "5                                                                                        76\n",
      "6                                                                                         3\n",
      "  X.mnt.d.PE.Avena.AvenaSub1.5M.RNASeq.PE.04.RefGenome.Alignments.Hisat2.cont_estres_R2.bam\n",
      "1                                                                                         0\n",
      "2                                                                                         0\n",
      "3                                                                                        40\n",
      "4                                                                                         0\n",
      "5                                                                                        98\n",
      "6                                                                                         5\n",
      "  X.mnt.d.PE.Avena.AvenaSub1.5M.RNASeq.PE.04.RefGenome.Alignments.Hisat2.cont_estres_R3.bam\n",
      "1                                                                                         0\n",
      "2                                                                                         0\n",
      "3                                                                                        40\n",
      "4                                                                                         0\n",
      "5                                                                                       138\n",
      "6                                                                                        11\n",
      "  X.mnt.d.PE.Avena.AvenaSub1.5M.RNASeq.PE.04.RefGenome.Alignments.Hisat2.control_R1.bam\n",
      "1                                                                                     0\n",
      "2                                                                                     0\n",
      "3                                                                                    16\n",
      "4                                                                                     0\n",
      "5                                                                                    44\n",
      "6                                                                                     4\n",
      "  X.mnt.d.PE.Avena.AvenaSub1.5M.RNASeq.PE.04.RefGenome.Alignments.Hisat2.control_R2.bam\n",
      "1                                                                                     0\n",
      "2                                                                                     0\n",
      "3                                                                                    38\n",
      "4                                                                                     0\n",
      "5                                                                                   110\n",
      "6                                                                                     4\n",
      "  X.mnt.d.PE.Avena.AvenaSub1.5M.RNASeq.PE.04.RefGenome.Alignments.Hisat2.ctrl_N7_XT17_R1.bam\n",
      "1                                                                                          0\n",
      "2                                                                                          0\n",
      "3                                                                                         32\n",
      "4                                                                                          2\n",
      "5                                                                                         22\n",
      "6                                                                                          0\n",
      "  X.mnt.d.PE.Avena.AvenaSub1.5M.RNASeq.PE.04.RefGenome.Alignments.Hisat2.ctrl_N7_XT17_R2.bam\n",
      "1                                                                                          0\n",
      "2                                                                                          2\n",
      "3                                                                                         29\n",
      "4                                                                                          0\n",
      "5                                                                                         67\n",
      "6                                                                                          1\n",
      "  X.mnt.d.PE.Avena.AvenaSub1.5M.RNASeq.PE.04.RefGenome.Alignments.Hisat2.ctrl_N7_XT17_R3.bam\n",
      "1                                                                                          0\n",
      "2                                                                                          0\n",
      "3                                                                                         37\n",
      "4                                                                                          0\n",
      "5                                                                                         45\n",
      "6                                                                                          5\n",
      "  X.mnt.d.PE.Avena.AvenaSub1.5M.RNASeq.PE.04.RefGenome.Alignments.Hisat2.estres_N7_XT17_R1.bam\n",
      "1                                                                                            0\n",
      "2                                                                                            0\n",
      "3                                                                                           33\n",
      "4                                                                                            0\n",
      "5                                                                                          106\n",
      "6                                                                                            0\n",
      "  X.mnt.d.PE.Avena.AvenaSub1.5M.RNASeq.PE.04.RefGenome.Alignments.Hisat2.estres_N7_XT17_R2.bam\n",
      "1                                                                                            0\n",
      "2                                                                                            0\n",
      "3                                                                                           32\n",
      "4                                                                                            0\n",
      "5                                                                                           82\n",
      "6                                                                                            5\n",
      "  X.mnt.d.PE.Avena.AvenaSub1.5M.RNASeq.PE.04.RefGenome.Alignments.Hisat2.estres_N7_XT17_R3.bam\n",
      "1                                                                                            0\n",
      "2                                                                                            0\n",
      "3                                                                                           32\n",
      "4                                                                                            0\n",
      "5                                                                                          146\n",
      "6                                                                                           12\n"
     ]
    }
   ],
   "source": [
    "%%R\n",
    "sample_data$condition <- factor(sample_data[,condition])\n",
    "sample_data$condition <- relevel(sample_data$condition, toString(sample_data$condition[1]))\n",
    "\n",
    "counts <- df[ ,c(1, 7:length(names(df)))]\n",
    "head(counts)"
   ]
  },
  {
   "cell_type": "code",
   "execution_count": 24,
   "id": "880709cb",
   "metadata": {},
   "outputs": [
    {
     "name": "stdout",
     "output_type": "stream",
     "text": [
      "                        name cont_estres_R1 cont_estres_R2 cont_estres_R3\n",
      "1 AVESA.00001b.r3.1Ag0000001              0              0              0\n",
      "2 AVESA.00001b.r3.1Ag0000002              0              0              0\n",
      "3 AVESA.00001b.r3.1Ag0000003             57             40             40\n",
      "4 AVESA.00001b.r3.1Ag0000004              0              0              0\n",
      "5 AVESA.00001b.r3.1Ag0000005             76             98            138\n",
      "6 AVESA.00001b.r3.1Ag0000006              3              5             11\n",
      "  control_R1 control_R2 ctrl_N7_XT17_R1 ctrl_N7_XT17_R2 ctrl_N7_XT17_R3\n",
      "1          0          0               0               0               0\n",
      "2          0          0               0               2               0\n",
      "3         16         38              32              29              37\n",
      "4          0          0               2               0               0\n",
      "5         44        110              22              67              45\n",
      "6          4          4               0               1               5\n",
      "  estres_N7_XT17_R1 estres_N7_XT17_R2 estres_N7_XT17_R3\n",
      "1                 0                 0                 0\n",
      "2                 0                 0                 0\n",
      "3                33                32                32\n",
      "4                 0                 0                 0\n",
      "5               106                82               146\n",
      "6                 0                 5                12\n"
     ]
    }
   ],
   "source": [
    "%%R\n",
    "names(counts) <- c(\"name\", sample_data$shortName)\n",
    "head(counts)"
   ]
  },
  {
   "cell_type": "code",
   "execution_count": 25,
   "id": "bd81bed1",
   "metadata": {},
   "outputs": [],
   "source": [
    "%%R\n",
    "output_file = \"05-featureCounts/counts.csv\"\n",
    "write.csv(counts, file=output_file, row.names=FALSE, quote=FALSE)"
   ]
  },
  {
   "cell_type": "code",
   "execution_count": 26,
   "id": "864e4e01",
   "metadata": {},
   "outputs": [
    {
     "name": "stdout",
     "output_type": "stream",
     "text": [
      "        shortName condition\n",
      "1  cont_estres_R1    Estres\n",
      "2  cont_estres_R2    Estres\n",
      "3  cont_estres_R3    Estres\n",
      "4      control_R1   Control\n",
      "5      control_R2   Control\n",
      "6 ctrl_N7_XT17_R1   Control\n"
     ]
    }
   ],
   "source": [
    "%%R\n",
    "colData <- dplyr::select(sample_data,shortName)\n",
    "#colData$sample <- sample_data$shortName\n",
    "colData$condition <- factor(sample_data$condition)\n",
    "colData$condition = relevel(colData$condition, toString(colData$condition[1]))\n",
    "head(colData)"
   ]
  },
  {
   "cell_type": "code",
   "execution_count": 27,
   "id": "f2b0ff14",
   "metadata": {},
   "outputs": [
    {
     "name": "stdout",
     "output_type": "stream",
     "text": [
      "  cont_estres_R1 cont_estres_R2 cont_estres_R3 control_R1 control_R2\n",
      "1              0              0              0          0          0\n",
      "2              0              0              0          0          0\n",
      "3             57             40             40         16         38\n",
      "4              0              0              0          0          0\n",
      "5             76             98            138         44        110\n",
      "6              3              5             11          4          4\n",
      "  ctrl_N7_XT17_R1 ctrl_N7_XT17_R2 ctrl_N7_XT17_R3 estres_N7_XT17_R1\n",
      "1               0               0               0                 0\n",
      "2               0               2               0                 0\n",
      "3              32              29              37                33\n",
      "4               2               0               0                 0\n",
      "5              22              67              45               106\n",
      "6               0               1               5                 0\n",
      "  estres_N7_XT17_R2 estres_N7_XT17_R3\n",
      "1                 0                 0\n",
      "2                 0                 0\n",
      "3                32                32\n",
      "4                 0                 0\n",
      "5                82               146\n",
      "6                 5                12\n"
     ]
    }
   ],
   "source": [
    "%%R\n",
    "\n",
    "sample_names <- sample_data$shortName\n",
    "countData <- round(counts[, sample_names])\n",
    "head(countData)"
   ]
  },
  {
   "cell_type": "code",
   "execution_count": 28,
   "id": "1b945609",
   "metadata": {},
   "outputs": [
    {
     "name": "stdout",
     "output_type": "stream",
     "text": [
      "                        name\n",
      "1 AVESA.00001b.r3.1Ag0000001\n",
      "2 AVESA.00001b.r3.1Ag0000002\n",
      "3 AVESA.00001b.r3.1Ag0000003\n",
      "4 AVESA.00001b.r3.1Ag0000004\n",
      "5 AVESA.00001b.r3.1Ag0000005\n",
      "6 AVESA.00001b.r3.1Ag0000006\n"
     ]
    }
   ],
   "source": [
    "%%R\n",
    "otherCols = counts[!(names(counts) %in% sample_names)]\n",
    "head(otherCols)"
   ]
  },
  {
   "cell_type": "code",
   "execution_count": 29,
   "id": "c0b4ae25",
   "metadata": {},
   "outputs": [
    {
     "name": "stdout",
     "output_type": "stream",
     "text": [
      "Formal class 'DESeqDataSet' [package \"DESeq2\"] with 8 slots\n",
      "  ..@ design            :Class 'formula'  language ~condition\n",
      "  .. .. ..- attr(*, \".Environment\")=<environment: R_GlobalEnv> \n",
      "  ..@ dispersionFunction:function ()  \n",
      "  ..@ rowRanges         :Formal class 'CompressedGRangesList' [package \"GenomicRanges\"] with 5 slots\n",
      "  .. .. ..@ unlistData     :Formal class 'GRanges' [package \"GenomicRanges\"] with 7 slots\n",
      "  .. .. .. .. ..@ seqnames       :Formal class 'Rle' [package \"S4Vectors\"] with 4 slots\n",
      "  .. .. .. .. .. .. ..@ values         : Factor w/ 0 levels: \n",
      "  .. .. .. .. .. .. ..@ lengths        : int(0) \n",
      "  .. .. .. .. .. .. ..@ elementMetadata: NULL\n",
      "  .. .. .. .. .. .. ..@ metadata       : list()\n",
      "  .. .. .. .. ..@ ranges         :Formal class 'IRanges' [package \"IRanges\"] with 6 slots\n",
      "  .. .. .. .. .. .. ..@ start          : int(0) \n",
      "  .. .. .. .. .. .. ..@ width          : int(0) \n",
      "  .. .. .. .. .. .. ..@ NAMES          : NULL\n",
      "  .. .. .. .. .. .. ..@ elementType    : chr \"ANY\"\n",
      "  .. .. .. .. .. .. ..@ elementMetadata: NULL\n",
      "  .. .. .. .. .. .. ..@ metadata       : list()\n",
      "  .. .. .. .. ..@ strand         :Formal class 'Rle' [package \"S4Vectors\"] with 4 slots\n",
      "  .. .. .. .. .. .. ..@ values         : Factor w/ 3 levels \"+\",\"-\",\"*\": \n",
      "  .. .. .. .. .. .. ..@ lengths        : int(0) \n",
      "  .. .. .. .. .. .. ..@ elementMetadata: NULL\n",
      "  .. .. .. .. .. .. ..@ metadata       : list()\n",
      "  .. .. .. .. ..@ seqinfo        :Formal class 'Seqinfo' [package \"GenomeInfoDb\"] with 4 slots\n",
      "  .. .. .. .. .. .. ..@ seqnames   : chr(0) \n",
      "  .. .. .. .. .. .. ..@ seqlengths : int(0) \n",
      "  .. .. .. .. .. .. ..@ is_circular: logi(0) \n",
      "  .. .. .. .. .. .. ..@ genome     : chr(0) \n",
      "  .. .. .. .. ..@ elementMetadata:Formal class 'DFrame' [package \"S4Vectors\"] with 6 slots\n",
      "  .. .. .. .. .. .. ..@ rownames       : NULL\n",
      "  .. .. .. .. .. .. ..@ nrows          : int 0\n",
      "  .. .. .. .. .. .. ..@ elementType    : chr \"ANY\"\n",
      "  .. .. .. .. .. .. ..@ elementMetadata: NULL\n",
      "  .. .. .. .. .. .. ..@ metadata       : list()\n",
      "  .. .. .. .. .. .. ..@ listData       : Named list()\n",
      "  .. .. .. .. ..@ elementType    : chr \"ANY\"\n",
      "  .. .. .. .. ..@ metadata       : list()\n",
      "  .. .. ..@ elementMetadata:Formal class 'DFrame' [package \"S4Vectors\"] with 6 slots\n",
      "  .. .. .. .. ..@ rownames       : NULL\n",
      "  .. .. .. .. ..@ nrows          : int 22532\n",
      "  .. .. .. .. ..@ elementType    : chr \"ANY\"\n",
      "  .. .. .. .. ..@ elementMetadata:Formal class 'DFrame' [package \"S4Vectors\"] with 6 slots\n",
      "  .. .. .. .. .. .. ..@ rownames       : NULL\n",
      "  .. .. .. .. .. .. ..@ nrows          : int 0\n",
      "  .. .. .. .. .. .. ..@ elementType    : chr \"ANY\"\n",
      "  .. .. .. .. .. .. ..@ elementMetadata: NULL\n",
      "  .. .. .. .. .. .. ..@ metadata       : list()\n",
      "  .. .. .. .. .. .. ..@ listData       :List of 2\n",
      "  .. .. .. .. .. .. .. ..$ type       : chr(0) \n",
      "  .. .. .. .. .. .. .. ..$ description: chr(0) \n",
      "  .. .. .. .. ..@ metadata       : list()\n",
      "  .. .. .. .. ..@ listData       : Named list()\n",
      "  .. .. ..@ elementType    : chr \"GRanges\"\n",
      "  .. .. ..@ metadata       : list()\n",
      "  .. .. ..@ partitioning   :Formal class 'PartitioningByEnd' [package \"IRanges\"] with 5 slots\n",
      "  .. .. .. .. ..@ end            : int [1:22532] 0 0 0 0 0 0 0 0 0 0 ...\n",
      "  .. .. .. .. ..@ NAMES          : NULL\n",
      "  .. .. .. .. ..@ elementType    : chr \"ANY\"\n",
      "  .. .. .. .. ..@ elementMetadata: NULL\n",
      "  .. .. .. .. ..@ metadata       : list()\n",
      "  ..@ colData           :Formal class 'DFrame' [package \"S4Vectors\"] with 6 slots\n",
      "  .. .. ..@ rownames       : chr [1:11] \"cont_estres_R1\" \"cont_estres_R2\" \"cont_estres_R3\" \"control_R1\" ...\n",
      "  .. .. ..@ nrows          : int 11\n",
      "  .. .. ..@ elementType    : chr \"ANY\"\n",
      "  .. .. ..@ elementMetadata:Formal class 'DFrame' [package \"S4Vectors\"] with 6 slots\n",
      "  .. .. .. .. ..@ rownames       : NULL\n",
      "  .. .. .. .. ..@ nrows          : int 2\n",
      "  .. .. .. .. ..@ elementType    : chr \"ANY\"\n",
      "  .. .. .. .. ..@ elementMetadata: NULL\n",
      "  .. .. .. .. ..@ metadata       : list()\n",
      "  .. .. .. .. ..@ listData       :List of 2\n",
      "  .. .. .. .. .. ..$ type       : chr [1:2] \"input\" \"input\"\n",
      "  .. .. .. .. .. ..$ description: chr [1:2] \"\" \"\"\n",
      "  .. .. ..@ metadata       : list()\n",
      "  .. .. ..@ listData       :List of 2\n",
      "  .. .. .. ..$ shortName: chr [1:11] \"cont_estres_R1\" \"cont_estres_R2\" \"cont_estres_R3\" \"control_R1\" ...\n",
      "  .. .. .. ..$ condition: Factor w/ 2 levels \"Estres\",\"Control\": 1 1 1 2 2 2 2 2 1 1 ...\n",
      "  ..@ assays            :Formal class 'SimpleAssays' [package \"SummarizedExperiment\"] with 1 slot\n",
      "  .. .. ..@ data:Formal class 'SimpleList' [package \"S4Vectors\"] with 4 slots\n",
      "  .. .. .. .. ..@ listData       :List of 1\n",
      "  .. .. .. .. .. ..$ counts: int [1:22532, 1:11] 0 0 57 0 76 3 49 7 0 0 ...\n",
      "  .. .. .. .. .. .. ..- attr(*, \"dimnames\")=List of 2\n",
      "  .. .. .. .. .. .. .. ..$ : NULL\n",
      "  .. .. .. .. .. .. .. ..$ : chr [1:11] \"cont_estres_R1\" \"cont_estres_R2\" \"cont_estres_R3\" \"control_R1\" ...\n",
      "  .. .. .. .. ..@ elementType    : chr \"ANY\"\n",
      "  .. .. .. .. ..@ elementMetadata: NULL\n",
      "  .. .. .. .. ..@ metadata       : list()\n",
      "  ..@ NAMES             : NULL\n",
      "  ..@ elementMetadata   :Formal class 'DFrame' [package \"S4Vectors\"] with 6 slots\n",
      "  .. .. ..@ rownames       : NULL\n",
      "  .. .. ..@ nrows          : int 22532\n",
      "  .. .. ..@ elementType    : chr \"ANY\"\n",
      "  .. .. ..@ elementMetadata: NULL\n",
      "  .. .. ..@ metadata       : list()\n",
      "  .. .. ..@ listData       : Named list()\n",
      "  ..@ metadata          :List of 1\n",
      "  .. ..$ version:Classes 'package_version', 'numeric_version'  hidden list of 1\n",
      "  .. .. ..$ : int [1:3] 1 40 2\n"
     ]
    },
    {
     "data": {
      "text/plain": [
       "converting counts to integer mode\n",
       "  it appears that the last variable in the design formula, 'condition',\n",
       "  has a factor level, 'Control', which is not the reference level. we recommend\n",
       "  to use factor(...,levels=...) or relevel() to set this as the reference level\n",
       "  before proceeding. for more information, please see the 'Note on factor levels'\n",
       "  in vignette('DESeq2').\n"
      ]
     },
     "metadata": {},
     "output_type": "display_data"
    }
   ],
   "source": [
    "%%R\n",
    "suppressPackageStartupMessages(library(DESeq2))\n",
    "\n",
    "dds = DESeqDataSetFromMatrix(countData=countData, colData=colData, design = ~condition)\n",
    "str(dds)"
   ]
  },
  {
   "cell_type": "code",
   "execution_count": 30,
   "id": "4e744923",
   "metadata": {},
   "outputs": [
    {
     "data": {
      "text/plain": [
       "estimating size factors\n",
       "estimating dispersions\n",
       "gene-wise dispersion estimates\n",
       "mean-dispersion relationship\n",
       "final dispersion estimates\n",
       "fitting model and testing\n"
      ]
     },
     "metadata": {},
     "output_type": "display_data"
    }
   ],
   "source": [
    "%%R\n",
    "dse = DESeq(dds)\n",
    "res = results(dse)"
   ]
  },
  {
   "cell_type": "code",
   "execution_count": 31,
   "id": "45dfc783",
   "metadata": {},
   "outputs": [
    {
     "name": "stdout",
     "output_type": "stream",
     "text": [
      "log2 fold change (MLE): condition Control vs Estres \n",
      "Wald test p-value: condition Control vs Estres \n",
      "DataFrame with 22532 rows and 6 columns\n",
      "       baseMean log2FoldChange     lfcSE      stat    pvalue      padj\n",
      "      <numeric>      <numeric> <numeric> <numeric> <numeric> <numeric>\n",
      "1      0.000000             NA        NA        NA        NA        NA\n",
      "2      0.167104      1.5535033  3.149264  0.493291 0.6218070        NA\n",
      "3     35.282649      0.0614745  0.357213  0.172095 0.8633628  0.969667\n",
      "4      0.388516      1.5620317  3.148955  0.496048 0.6198607        NA\n",
      "5     76.949083     -0.5651678  0.273585 -2.065786 0.0388487  0.337856\n",
      "...         ...            ...       ...       ...       ...       ...\n",
      "22528   7.86050     -0.2947698  0.489136 -0.602633 0.5467529        NA\n",
      "22529  10.84603      0.2839364  0.469634  0.604590 0.5454513  0.852317\n",
      "22530   9.56978     -0.0546504  0.489714 -0.111597 0.9111433  0.977777\n",
      "22531   6.31608      0.3684979  0.495099  0.744291 0.4567006        NA\n",
      "22532  20.02216      0.9861974  0.464317  2.123974 0.0336723  0.316693\n"
     ]
    }
   ],
   "source": [
    "%%R\n",
    "res"
   ]
  },
  {
   "cell_type": "code",
   "execution_count": 32,
   "id": "630ff6dd",
   "metadata": {},
   "outputs": [
    {
     "name": "stdout",
     "output_type": "stream",
     "text": [
      "                            name baseMean log2FoldChange     lfcSE     stat\n",
      "11547 AVESA.00001b.r3.4Ag0001489 115.6302       1.373332 0.2120250 6.477218\n",
      "16995 AVESA.00001b.r3.6Ag0000216 292.6432       2.375452 0.3939438 6.029927\n",
      "22000 AVESA.00001b.r3.3Ag0001778 443.6070       1.321680 0.2341150 5.645432\n",
      "16994 AVESA.00001b.r3.6Ag0000215 373.5584       1.445694 0.2570140 5.624964\n",
      "17559 AVESA.00001b.r3.6Ag0000780 292.1236       1.570771 0.2917545 5.383879\n",
      "11315 AVESA.00001b.r3.4Ag0001257 134.8757       1.512835 0.2858030 5.293280\n",
      "            PValue          FDR foldChange         PAdj     falsePos baseMeanA\n",
      "11547 9.342912e-11 8.198405e-07   2.590683 1.779918e-06 8.198405e-07         1\n",
      "16995 1.640340e-09 7.196992e-06   5.188984 3.124848e-05 1.439398e-05         1\n",
      "22000 1.647668e-08 4.070436e-05   2.499570 3.138643e-04 1.221131e-04         1\n",
      "16994 1.855469e-08 4.070436e-05   2.723939 3.534298e-04 1.628174e-04         1\n",
      "17559 7.289767e-08 1.279354e-04   2.970634 1.388482e-03 6.396771e-04         1\n",
      "11315 1.201420e-07 1.486322e-04   2.853703 2.288225e-03 8.917935e-04         1\n",
      "      baseMeanB\n",
      "11547         1\n",
      "16995         1\n",
      "22000         1\n",
      "16994         1\n",
      "17559         1\n",
      "11315         1\n"
     ]
    }
   ],
   "source": [
    "%%R\n",
    "data = cbind(otherCols, data.frame(res))\n",
    "data$foldChange = 2 ^ data$log2FoldChange\n",
    "names(data)[names(data)==\"pvalue\"] <-\"PValue\"\n",
    "names(data)[names(data)==\"padj\"] <- \"FDR\"\n",
    "data$PAdj = p.adjust(data$PValue, method=\"hochberg\")\n",
    "data = data[with(data, order(PValue, -foldChange)), ]\n",
    "data$falsePos = 1:nrow(data) * data$FDR\n",
    "\n",
    "data$baseMeanA = 1\n",
    "data$baseMeanB = 1\n",
    "\n",
    "head(data)"
   ]
  },
  {
   "cell_type": "code",
   "execution_count": 33,
   "id": "013a0985",
   "metadata": {},
   "outputs": [],
   "source": [
    "%%R\n",
    "normed = counts(dse, normalized=TRUE)\n",
    "normed = round(normed, 1)"
   ]
  },
  {
   "cell_type": "code",
   "execution_count": 34,
   "id": "ba423999",
   "metadata": {},
   "outputs": [
    {
     "name": "stdout",
     "output_type": "stream",
     "text": [
      "     cont_estres_R1 cont_estres_R2 cont_estres_R3 control_R1 control_R2\n",
      "[1,]            0.0            0.0            0.0        0.0        0.0\n",
      "[2,]            0.0            0.0            0.0        0.0        0.0\n",
      "[3,]           56.9           36.5           31.8       16.7       37.4\n",
      "[4,]            0.0            0.0            0.0        0.0        0.0\n",
      "[5,]           75.9           89.5          109.7       46.0      108.1\n",
      "[6,]            3.0            4.6            8.7        4.2        3.9\n",
      "     ctrl_N7_XT17_R1 ctrl_N7_XT17_R2 ctrl_N7_XT17_R3 estres_N7_XT17_R1\n",
      "[1,]             0.0             0.0             0.0               0.0\n",
      "[2,]             0.0             1.8             0.0               0.0\n",
      "[3,]            68.4            26.7            33.8              24.2\n",
      "[4,]             4.3             0.0             0.0               0.0\n",
      "[5,]            47.0            61.6            41.1              77.7\n",
      "[6,]             0.0             0.9             4.6               0.0\n",
      "     estres_N7_XT17_R2 estres_N7_XT17_R3\n",
      "[1,]               0.0               0.0\n",
      "[2,]               0.0               0.0\n",
      "[3,]              32.3              23.5\n",
      "[4,]               0.0               0.0\n",
      "[5,]              82.8             107.0\n",
      "[6,]               5.0               8.8\n"
     ]
    }
   ],
   "source": [
    "%%R\n",
    "head(normed)"
   ]
  },
  {
   "cell_type": "code",
   "execution_count": 35,
   "id": "cb5ed9e9",
   "metadata": {},
   "outputs": [
    {
     "name": "stdout",
     "output_type": "stream",
     "text": [
      "[1] 22532    11\n"
     ]
    }
   ],
   "source": [
    "%%R\n",
    "dim(normed)"
   ]
  },
  {
   "cell_type": "code",
   "execution_count": 36,
   "id": "fd508ae5",
   "metadata": {},
   "outputs": [
    {
     "data": {
      "image/png": "[encoded data removed]",
      "text/plain": [
       "<IPython.core.display.Image object>"
      ]
     },
     "metadata": {},
     "output_type": "display_data"
    }
   ],
   "source": [
    "%%R\n",
    "d <- plotCounts(dse, gene=which.min(res$padj), intgroup=\"condition\", \n",
    "                returnData=TRUE)\n",
    "library(\"ggplot2\")\n",
    "ggplot(d, aes(x=condition, y=count)) + \n",
    "  geom_point(position=position_jitter(w=0.1,h=0)) + \n",
    "  scale_y_log10(breaks=c(25,100,400))"
   ]
  },
  {
   "cell_type": "code",
   "execution_count": 37,
   "id": "dee0cc6f",
   "metadata": {},
   "outputs": [
    {
     "name": "stdout",
     "output_type": "stream",
     "text": [
      "     cont_estres_R1 cont_estres_R2 cont_estres_R3 control_R1 control_R2\n",
      "[1,]       2.498394       2.498394       2.498394   2.498394   2.498394\n",
      "[2,]       2.498394       2.498394       2.498394   2.498394   2.498394\n",
      "[3,]       6.082714       5.558825       5.404187   4.746171   5.584705\n",
      "     ctrl_N7_XT17_R1 ctrl_N7_XT17_R2 ctrl_N7_XT17_R3 estres_N7_XT17_R1\n",
      "[1,]        2.498394        2.498394        2.498394          2.498394\n",
      "[2,]        2.498394        3.310475        2.498394          2.498394\n",
      "[3,]        6.308834        5.213089        5.470763          5.111575\n",
      "     estres_N7_XT17_R2 estres_N7_XT17_R3\n",
      "[1,]          2.498394          2.498394\n",
      "[2,]          2.498394          2.498394\n",
      "[3,]          5.421951          5.079609\n"
     ]
    }
   ],
   "source": [
    "%%R\n",
    "vsd <- vst(dse, blind=FALSE)\n",
    "rld <- rlog(dse, blind=FALSE)\n",
    "ntd <- normTransform(dds)\n",
    "head(assay(vsd), 3)"
   ]
  },
  {
   "cell_type": "code",
   "execution_count": 39,
   "id": "a67dc2be",
   "metadata": {},
   "outputs": [
    {
     "data": {
      "image/png": "[encoded data removed]",
      "text/plain": [
       "<IPython.core.display.Image object>"
      ]
     },
     "metadata": {},
     "output_type": "display_data"
    }
   ],
   "source": [
    "%%R\n",
    "library(\"pheatmap\")\n",
    "select <- order(rowMeans(counts(dse,normalized=TRUE)),\n",
    "                decreasing=TRUE)[1:20]\n",
    "df <- as.data.frame(colData(dse)[,c(\"condition\",\"shortName\")])\n",
    "pheatmap(assay(ntd)[select,], cluster_rows=FALSE, show_rownames=FALSE,\n",
    "         cluster_cols=FALSE, annotation_col=df)"
   ]
  },
  {
   "cell_type": "code",
   "execution_count": 40,
   "id": "6ff4f57d",
   "metadata": {},
   "outputs": [
    {
     "data": {
      "image/png": "[encoded data removed]",
      "text/plain": [
       "<IPython.core.display.Image object>"
      ]
     },
     "metadata": {},
     "output_type": "display_data"
    }
   ],
   "source": [
    "%%R\n",
    "\n",
    "pheatmap(assay(vsd)[select,], cluster_rows=FALSE, show_rownames=FALSE,\n",
    "         cluster_cols=FALSE, annotation_col=df)"
   ]
  },
  {
   "cell_type": "code",
   "execution_count": 41,
   "id": "361bde3a",
   "metadata": {},
   "outputs": [
    {
     "data": {
      "image/png": "[encoded data removed]",
      "text/plain": [
       "<IPython.core.display.Image object>"
      ]
     },
     "metadata": {},
     "output_type": "display_data"
    }
   ],
   "source": [
    "%%R\n",
    "sampleDists <- dist(t(assay(vsd))) \n",
    "library(\"RColorBrewer\")\n",
    "sampleDistMatrix <- as.matrix(sampleDists)\n",
    "rownames(sampleDistMatrix) <- paste(vsd$condition, vsd$shortName, sep=\"-\")\n",
    "colnames(sampleDistMatrix) <- NULL\n",
    "colors <- colorRampPalette( rev(brewer.pal(9, \"Blues\")) )(255)\n",
    "pheatmap(sampleDistMatrix,\n",
    "         clustering_distance_rows=sampleDists,\n",
    "         clustering_distance_cols=sampleDists,\n",
    "         col=colors)"
   ]
  },
  {
   "cell_type": "code",
   "execution_count": 42,
   "id": "7ef4a053",
   "metadata": {},
   "outputs": [
    {
     "name": "stdout",
     "output_type": "stream",
     "text": [
      "class: DESeqTransform \n",
      "dim: 22532 11 \n",
      "metadata(1): version\n",
      "assays(1): ''\n",
      "rownames: NULL\n",
      "rowData names(22): baseMean baseVar ... maxCooks dispFit\n",
      "colnames(11): cont_estres_R1 cont_estres_R2 ... estres_N7_XT17_R2\n",
      "  estres_N7_XT17_R3\n",
      "colData names(3): shortName condition sizeFactor\n"
     ]
    }
   ],
   "source": [
    "%%R\n",
    "vsd"
   ]
  },
  {
   "cell_type": "code",
   "execution_count": null,
   "id": "521b96c7",
   "metadata": {},
   "outputs": [],
   "source": []
  },
  {
   "cell_type": "code",
   "execution_count": null,
   "id": "656f3af9",
   "metadata": {},
   "outputs": [],
   "source": []
  },
  {
   "cell_type": "code",
   "execution_count": null,
   "id": "a47ab9e2",
   "metadata": {},
   "outputs": [],
   "source": []
  },
  {
   "cell_type": "code",
   "execution_count": null,
   "id": "bdf067e0",
   "metadata": {},
   "outputs": [],
   "source": [
    "#ctrl_N7_XT17_R1"
   ]
  },
  {
   "cell_type": "code",
   "execution_count": null,
   "id": "9c39d1cb",
   "metadata": {},
   "outputs": [],
   "source": []
  },
  {
   "cell_type": "code",
   "execution_count": null,
   "id": "e6484d53",
   "metadata": {},
   "outputs": [],
   "source": []
  },
  {
   "cell_type": "code",
   "execution_count": 43,
   "id": "57887320",
   "metadata": {
    "scrolled": true
   },
   "outputs": [
    {
     "data": {
      "text/html": [
       "<div>\n",
       "<style scoped>\n",
       "    .dataframe tbody tr th:only-of-type {\n",
       "        vertical-align: middle;\n",
       "    }\n",
       "\n",
       "    .dataframe tbody tr th {\n",
       "        vertical-align: top;\n",
       "    }\n",
       "\n",
       "    .dataframe thead th {\n",
       "        text-align: right;\n",
       "    }\n",
       "</style>\n",
       "<table border=\"1\" class=\"dataframe\">\n",
       "  <thead>\n",
       "    <tr style=\"text-align: right;\">\n",
       "      <th></th>\n",
       "      <th>file1</th>\n",
       "      <th>file2</th>\n",
       "      <th>type</th>\n",
       "      <th>shortName</th>\n",
       "      <th>meta1</th>\n",
       "      <th>meta2</th>\n",
       "      <th>meta3</th>\n",
       "      <th>replicate</th>\n",
       "      <th>trimmed1</th>\n",
       "      <th>trimmed2</th>\n",
       "    </tr>\n",
       "  </thead>\n",
       "  <tbody>\n",
       "    <tr>\n",
       "      <th>0</th>\n",
       "      <td>sub1.5M-Ctrl_Estres_R1_1.fastq.gz</td>\n",
       "      <td>sub1.5M-Ctrl_Estres_R1_2.fastq.gz</td>\n",
       "      <td>paired</td>\n",
       "      <td>cont_estres_R1</td>\n",
       "      <td>Estres</td>\n",
       "      <td>Inoculado</td>\n",
       "      <td>A</td>\n",
       "      <td>1</td>\n",
       "      <td>sub1.5M-Ctrl_Estres_R1_1_paired.fastq.gz</td>\n",
       "      <td>sub1.5M-Ctrl_Estres_R1_2_paired.fastq.gz</td>\n",
       "    </tr>\n",
       "    <tr>\n",
       "      <th>1</th>\n",
       "      <td>sub1.5M-Ctrl_Estres_R2_1.fastq.gz</td>\n",
       "      <td>sub1.5M-Ctrl_Estres_R2_2.fastq.gz</td>\n",
       "      <td>paired</td>\n",
       "      <td>cont_estres_R2</td>\n",
       "      <td>Estres</td>\n",
       "      <td>Inoculado</td>\n",
       "      <td>A</td>\n",
       "      <td>2</td>\n",
       "      <td>sub1.5M-Ctrl_Estres_R2_1_paired.fastq.gz</td>\n",
       "      <td>sub1.5M-Ctrl_Estres_R2_2_paired.fastq.gz</td>\n",
       "    </tr>\n",
       "    <tr>\n",
       "      <th>2</th>\n",
       "      <td>sub1.5M-Ctrll_Estres_R3_1.fastq.gz</td>\n",
       "      <td>sub1.5M-Ctrll_Estres_R3_2.fastq.gz</td>\n",
       "      <td>paired</td>\n",
       "      <td>cont_estres_R3</td>\n",
       "      <td>Estres</td>\n",
       "      <td>Inoculado</td>\n",
       "      <td>A</td>\n",
       "      <td>3</td>\n",
       "      <td>sub1.5M-Ctrll_Estres_R3_1_paired.fastq.gz</td>\n",
       "      <td>sub1.5M-Ctrll_Estres_R3_2_paired.fastq.gz</td>\n",
       "    </tr>\n",
       "    <tr>\n",
       "      <th>3</th>\n",
       "      <td>sub1.5M-Control_R1_1.fastq.gz</td>\n",
       "      <td>sub1.5M-Control_R1_2.fastq.gz</td>\n",
       "      <td>paired</td>\n",
       "      <td>control_R1</td>\n",
       "      <td>Control</td>\n",
       "      <td>No_inoculado</td>\n",
       "      <td>B</td>\n",
       "      <td>1</td>\n",
       "      <td>sub1.5M-Control_R1_1_paired.fastq.gz</td>\n",
       "      <td>sub1.5M-Control_R1_2_paired.fastq.gz</td>\n",
       "    </tr>\n",
       "    <tr>\n",
       "      <th>4</th>\n",
       "      <td>sub1.5M-Control_R2_1.fastq.gz</td>\n",
       "      <td>sub1.5M-Control_R2_2.fastq.gz</td>\n",
       "      <td>paired</td>\n",
       "      <td>control_R2</td>\n",
       "      <td>Control</td>\n",
       "      <td>No_inoculado</td>\n",
       "      <td>B</td>\n",
       "      <td>2</td>\n",
       "      <td>sub1.5M-Control_R2_1_paired.fastq.gz</td>\n",
       "      <td>sub1.5M-Control_R2_2_paired.fastq.gz</td>\n",
       "    </tr>\n",
       "    <tr>\n",
       "      <th>5</th>\n",
       "      <td>sub1.5M-Ctrl_N7_XT17_R1_1.fastq.gz</td>\n",
       "      <td>sub1.5M-Ctrl_N7_XT17_R1_2.fastq.gz</td>\n",
       "      <td>paired</td>\n",
       "      <td>ctrl_N7_XT17_R1</td>\n",
       "      <td>Control</td>\n",
       "      <td>Inoculado</td>\n",
       "      <td>C</td>\n",
       "      <td>1</td>\n",
       "      <td>sub1.5M-Ctrl_N7_XT17_R1_1_paired.fastq.gz</td>\n",
       "      <td>sub1.5M-Ctrl_N7_XT17_R1_2_paired.fastq.gz</td>\n",
       "    </tr>\n",
       "    <tr>\n",
       "      <th>6</th>\n",
       "      <td>sub1.5M-Ctrl_N7_XT17_R2_1.fastq.gz</td>\n",
       "      <td>sub1.5M-Ctrl_N7_XT17_R2_2.fastq.gz</td>\n",
       "      <td>paired</td>\n",
       "      <td>ctrl_N7_XT17_R2</td>\n",
       "      <td>Control</td>\n",
       "      <td>Inoculado</td>\n",
       "      <td>C</td>\n",
       "      <td>2</td>\n",
       "      <td>sub1.5M-Ctrl_N7_XT17_R2_1_paired.fastq.gz</td>\n",
       "      <td>sub1.5M-Ctrl_N7_XT17_R2_2_paired.fastq.gz</td>\n",
       "    </tr>\n",
       "    <tr>\n",
       "      <th>7</th>\n",
       "      <td>sub1.5M-Ctrl_N7_XT17_R3_1.fastq.gz</td>\n",
       "      <td>sub1.5M-Ctrl_N7_XT17_R3_2.fastq.gz</td>\n",
       "      <td>paired</td>\n",
       "      <td>ctrl_N7_XT17_R3</td>\n",
       "      <td>Control</td>\n",
       "      <td>Inoculado</td>\n",
       "      <td>C</td>\n",
       "      <td>3</td>\n",
       "      <td>sub1.5M-Ctrl_N7_XT17_R3_1_paired.fastq.gz</td>\n",
       "      <td>sub1.5M-Ctrl_N7_XT17_R3_2_paired.fastq.gz</td>\n",
       "    </tr>\n",
       "    <tr>\n",
       "      <th>8</th>\n",
       "      <td>sub1.5M-Estre_N7XT17_R1_1.fastq.gz</td>\n",
       "      <td>sub1.5M-Estre_N7XT17_R1_2.fastq.gz</td>\n",
       "      <td>paired</td>\n",
       "      <td>estres_N7_XT17_R1</td>\n",
       "      <td>Estres</td>\n",
       "      <td>No_inoculado</td>\n",
       "      <td>D</td>\n",
       "      <td>1</td>\n",
       "      <td>sub1.5M-Estre_N7XT17_R1_1_paired.fastq.gz</td>\n",
       "      <td>sub1.5M-Estre_N7XT17_R1_2_paired.fastq.gz</td>\n",
       "    </tr>\n",
       "    <tr>\n",
       "      <th>9</th>\n",
       "      <td>sub1.5M-Estre_N7XT17_R2_1.fastq.gz</td>\n",
       "      <td>sub1.5M-Estre_N7XT17_R2_2.fastq.gz</td>\n",
       "      <td>paired</td>\n",
       "      <td>estres_N7_XT17_R2</td>\n",
       "      <td>Estres</td>\n",
       "      <td>No_inoculado</td>\n",
       "      <td>D</td>\n",
       "      <td>2</td>\n",
       "      <td>sub1.5M-Estre_N7XT17_R2_1_paired.fastq.gz</td>\n",
       "      <td>sub1.5M-Estre_N7XT17_R2_2_paired.fastq.gz</td>\n",
       "    </tr>\n",
       "    <tr>\n",
       "      <th>10</th>\n",
       "      <td>sub1.5M-Estre_N7XT17_R3_1.fastq.gz</td>\n",
       "      <td>sub1.5M-Estre_N7XT17_R3_2.fastq.gz</td>\n",
       "      <td>paired</td>\n",
       "      <td>estres_N7_XT17_R3</td>\n",
       "      <td>Estres</td>\n",
       "      <td>No_inoculado</td>\n",
       "      <td>D</td>\n",
       "      <td>3</td>\n",
       "      <td>sub1.5M-Estre_N7XT17_R3_1_paired.fastq.gz</td>\n",
       "      <td>sub1.5M-Estre_N7XT17_R3_2_paired.fastq.gz</td>\n",
       "    </tr>\n",
       "  </tbody>\n",
       "</table>\n",
       "</div>"
      ],
      "text/plain": [
       "                                 file1                               file2  \\\n",
       "0    sub1.5M-Ctrl_Estres_R1_1.fastq.gz   sub1.5M-Ctrl_Estres_R1_2.fastq.gz   \n",
       "1    sub1.5M-Ctrl_Estres_R2_1.fastq.gz   sub1.5M-Ctrl_Estres_R2_2.fastq.gz   \n",
       "2   sub1.5M-Ctrll_Estres_R3_1.fastq.gz  sub1.5M-Ctrll_Estres_R3_2.fastq.gz   \n",
       "3        sub1.5M-Control_R1_1.fastq.gz       sub1.5M-Control_R1_2.fastq.gz   \n",
       "4        sub1.5M-Control_R2_1.fastq.gz       sub1.5M-Control_R2_2.fastq.gz   \n",
       "5   sub1.5M-Ctrl_N7_XT17_R1_1.fastq.gz  sub1.5M-Ctrl_N7_XT17_R1_2.fastq.gz   \n",
       "6   sub1.5M-Ctrl_N7_XT17_R2_1.fastq.gz  sub1.5M-Ctrl_N7_XT17_R2_2.fastq.gz   \n",
       "7   sub1.5M-Ctrl_N7_XT17_R3_1.fastq.gz  sub1.5M-Ctrl_N7_XT17_R3_2.fastq.gz   \n",
       "8   sub1.5M-Estre_N7XT17_R1_1.fastq.gz  sub1.5M-Estre_N7XT17_R1_2.fastq.gz   \n",
       "9   sub1.5M-Estre_N7XT17_R2_1.fastq.gz  sub1.5M-Estre_N7XT17_R2_2.fastq.gz   \n",
       "10  sub1.5M-Estre_N7XT17_R3_1.fastq.gz  sub1.5M-Estre_N7XT17_R3_2.fastq.gz   \n",
       "\n",
       "      type          shortName    meta1         meta2 meta3  replicate  \\\n",
       "0   paired     cont_estres_R1   Estres     Inoculado     A          1   \n",
       "1   paired     cont_estres_R2   Estres     Inoculado     A          2   \n",
       "2   paired     cont_estres_R3   Estres     Inoculado     A          3   \n",
       "3   paired         control_R1  Control  No_inoculado     B          1   \n",
       "4   paired         control_R2  Control  No_inoculado     B          2   \n",
       "5   paired    ctrl_N7_XT17_R1  Control     Inoculado     C          1   \n",
       "6   paired    ctrl_N7_XT17_R2  Control     Inoculado     C          2   \n",
       "7   paired    ctrl_N7_XT17_R3  Control     Inoculado     C          3   \n",
       "8   paired  estres_N7_XT17_R1   Estres  No_inoculado     D          1   \n",
       "9   paired  estres_N7_XT17_R2   Estres  No_inoculado     D          2   \n",
       "10  paired  estres_N7_XT17_R3   Estres  No_inoculado     D          3   \n",
       "\n",
       "                                     trimmed1  \\\n",
       "0    sub1.5M-Ctrl_Estres_R1_1_paired.fastq.gz   \n",
       "1    sub1.5M-Ctrl_Estres_R2_1_paired.fastq.gz   \n",
       "2   sub1.5M-Ctrll_Estres_R3_1_paired.fastq.gz   \n",
       "3        sub1.5M-Control_R1_1_paired.fastq.gz   \n",
       "4        sub1.5M-Control_R2_1_paired.fastq.gz   \n",
       "5   sub1.5M-Ctrl_N7_XT17_R1_1_paired.fastq.gz   \n",
       "6   sub1.5M-Ctrl_N7_XT17_R2_1_paired.fastq.gz   \n",
       "7   sub1.5M-Ctrl_N7_XT17_R3_1_paired.fastq.gz   \n",
       "8   sub1.5M-Estre_N7XT17_R1_1_paired.fastq.gz   \n",
       "9   sub1.5M-Estre_N7XT17_R2_1_paired.fastq.gz   \n",
       "10  sub1.5M-Estre_N7XT17_R3_1_paired.fastq.gz   \n",
       "\n",
       "                                     trimmed2  \n",
       "0    sub1.5M-Ctrl_Estres_R1_2_paired.fastq.gz  \n",
       "1    sub1.5M-Ctrl_Estres_R2_2_paired.fastq.gz  \n",
       "2   sub1.5M-Ctrll_Estres_R3_2_paired.fastq.gz  \n",
       "3        sub1.5M-Control_R1_2_paired.fastq.gz  \n",
       "4        sub1.5M-Control_R2_2_paired.fastq.gz  \n",
       "5   sub1.5M-Ctrl_N7_XT17_R1_2_paired.fastq.gz  \n",
       "6   sub1.5M-Ctrl_N7_XT17_R2_2_paired.fastq.gz  \n",
       "7   sub1.5M-Ctrl_N7_XT17_R3_2_paired.fastq.gz  \n",
       "8   sub1.5M-Estre_N7XT17_R1_2_paired.fastq.gz  \n",
       "9   sub1.5M-Estre_N7XT17_R2_2_paired.fastq.gz  \n",
       "10  sub1.5M-Estre_N7XT17_R3_2_paired.fastq.gz  "
      ]
     },
     "metadata": {},
     "output_type": "display_data"
    }
   ],
   "source": [
    "display(metaPE)"
   ]
  },
  {
   "cell_type": "code",
   "execution_count": 47,
   "id": "c7e127f5",
   "metadata": {},
   "outputs": [
    {
     "data": {
      "text/html": [
       "<div>\n",
       "<style scoped>\n",
       "    .dataframe tbody tr th:only-of-type {\n",
       "        vertical-align: middle;\n",
       "    }\n",
       "\n",
       "    .dataframe tbody tr th {\n",
       "        vertical-align: top;\n",
       "    }\n",
       "\n",
       "    .dataframe thead th {\n",
       "        text-align: right;\n",
       "    }\n",
       "</style>\n",
       "<table border=\"1\" class=\"dataframe\">\n",
       "  <thead>\n",
       "    <tr style=\"text-align: right;\">\n",
       "      <th></th>\n",
       "      <th>index</th>\n",
       "      <th>file1</th>\n",
       "      <th>file2</th>\n",
       "      <th>type</th>\n",
       "      <th>shortName</th>\n",
       "      <th>meta1</th>\n",
       "      <th>meta2</th>\n",
       "      <th>meta3</th>\n",
       "      <th>replicate</th>\n",
       "      <th>trimmed1</th>\n",
       "      <th>trimmed2</th>\n",
       "    </tr>\n",
       "  </thead>\n",
       "  <tbody>\n",
       "    <tr>\n",
       "      <th>0</th>\n",
       "      <td>0</td>\n",
       "      <td>sub1.5M-Ctrl_Estres_R1_1.fastq.gz</td>\n",
       "      <td>sub1.5M-Ctrl_Estres_R1_2.fastq.gz</td>\n",
       "      <td>paired</td>\n",
       "      <td>cont_estres_R1</td>\n",
       "      <td>Estres</td>\n",
       "      <td>Inoculado</td>\n",
       "      <td>A</td>\n",
       "      <td>1</td>\n",
       "      <td>sub1.5M-Ctrl_Estres_R1_1_paired.fastq.gz</td>\n",
       "      <td>sub1.5M-Ctrl_Estres_R1_2_paired.fastq.gz</td>\n",
       "    </tr>\n",
       "    <tr>\n",
       "      <th>1</th>\n",
       "      <td>1</td>\n",
       "      <td>sub1.5M-Ctrl_Estres_R2_1.fastq.gz</td>\n",
       "      <td>sub1.5M-Ctrl_Estres_R2_2.fastq.gz</td>\n",
       "      <td>paired</td>\n",
       "      <td>cont_estres_R2</td>\n",
       "      <td>Estres</td>\n",
       "      <td>Inoculado</td>\n",
       "      <td>A</td>\n",
       "      <td>2</td>\n",
       "      <td>sub1.5M-Ctrl_Estres_R2_1_paired.fastq.gz</td>\n",
       "      <td>sub1.5M-Ctrl_Estres_R2_2_paired.fastq.gz</td>\n",
       "    </tr>\n",
       "    <tr>\n",
       "      <th>2</th>\n",
       "      <td>2</td>\n",
       "      <td>sub1.5M-Ctrll_Estres_R3_1.fastq.gz</td>\n",
       "      <td>sub1.5M-Ctrll_Estres_R3_2.fastq.gz</td>\n",
       "      <td>paired</td>\n",
       "      <td>cont_estres_R3</td>\n",
       "      <td>Estres</td>\n",
       "      <td>Inoculado</td>\n",
       "      <td>A</td>\n",
       "      <td>3</td>\n",
       "      <td>sub1.5M-Ctrll_Estres_R3_1_paired.fastq.gz</td>\n",
       "      <td>sub1.5M-Ctrll_Estres_R3_2_paired.fastq.gz</td>\n",
       "    </tr>\n",
       "    <tr>\n",
       "      <th>3</th>\n",
       "      <td>3</td>\n",
       "      <td>sub1.5M-Control_R1_1.fastq.gz</td>\n",
       "      <td>sub1.5M-Control_R1_2.fastq.gz</td>\n",
       "      <td>paired</td>\n",
       "      <td>control_R1</td>\n",
       "      <td>Control</td>\n",
       "      <td>No_inoculado</td>\n",
       "      <td>B</td>\n",
       "      <td>1</td>\n",
       "      <td>sub1.5M-Control_R1_1_paired.fastq.gz</td>\n",
       "      <td>sub1.5M-Control_R1_2_paired.fastq.gz</td>\n",
       "    </tr>\n",
       "    <tr>\n",
       "      <th>4</th>\n",
       "      <td>4</td>\n",
       "      <td>sub1.5M-Control_R2_1.fastq.gz</td>\n",
       "      <td>sub1.5M-Control_R2_2.fastq.gz</td>\n",
       "      <td>paired</td>\n",
       "      <td>control_R2</td>\n",
       "      <td>Control</td>\n",
       "      <td>No_inoculado</td>\n",
       "      <td>B</td>\n",
       "      <td>2</td>\n",
       "      <td>sub1.5M-Control_R2_1_paired.fastq.gz</td>\n",
       "      <td>sub1.5M-Control_R2_2_paired.fastq.gz</td>\n",
       "    </tr>\n",
       "    <tr>\n",
       "      <th>5</th>\n",
       "      <td>6</td>\n",
       "      <td>sub1.5M-Ctrl_N7_XT17_R2_1.fastq.gz</td>\n",
       "      <td>sub1.5M-Ctrl_N7_XT17_R2_2.fastq.gz</td>\n",
       "      <td>paired</td>\n",
       "      <td>ctrl_N7_XT17_R2</td>\n",
       "      <td>Control</td>\n",
       "      <td>Inoculado</td>\n",
       "      <td>C</td>\n",
       "      <td>2</td>\n",
       "      <td>sub1.5M-Ctrl_N7_XT17_R2_1_paired.fastq.gz</td>\n",
       "      <td>sub1.5M-Ctrl_N7_XT17_R2_2_paired.fastq.gz</td>\n",
       "    </tr>\n",
       "    <tr>\n",
       "      <th>6</th>\n",
       "      <td>7</td>\n",
       "      <td>sub1.5M-Ctrl_N7_XT17_R3_1.fastq.gz</td>\n",
       "      <td>sub1.5M-Ctrl_N7_XT17_R3_2.fastq.gz</td>\n",
       "      <td>paired</td>\n",
       "      <td>ctrl_N7_XT17_R3</td>\n",
       "      <td>Control</td>\n",
       "      <td>Inoculado</td>\n",
       "      <td>C</td>\n",
       "      <td>3</td>\n",
       "      <td>sub1.5M-Ctrl_N7_XT17_R3_1_paired.fastq.gz</td>\n",
       "      <td>sub1.5M-Ctrl_N7_XT17_R3_2_paired.fastq.gz</td>\n",
       "    </tr>\n",
       "    <tr>\n",
       "      <th>7</th>\n",
       "      <td>8</td>\n",
       "      <td>sub1.5M-Estre_N7XT17_R1_1.fastq.gz</td>\n",
       "      <td>sub1.5M-Estre_N7XT17_R1_2.fastq.gz</td>\n",
       "      <td>paired</td>\n",
       "      <td>estres_N7_XT17_R1</td>\n",
       "      <td>Estres</td>\n",
       "      <td>No_inoculado</td>\n",
       "      <td>D</td>\n",
       "      <td>1</td>\n",
       "      <td>sub1.5M-Estre_N7XT17_R1_1_paired.fastq.gz</td>\n",
       "      <td>sub1.5M-Estre_N7XT17_R1_2_paired.fastq.gz</td>\n",
       "    </tr>\n",
       "    <tr>\n",
       "      <th>8</th>\n",
       "      <td>9</td>\n",
       "      <td>sub1.5M-Estre_N7XT17_R2_1.fastq.gz</td>\n",
       "      <td>sub1.5M-Estre_N7XT17_R2_2.fastq.gz</td>\n",
       "      <td>paired</td>\n",
       "      <td>estres_N7_XT17_R2</td>\n",
       "      <td>Estres</td>\n",
       "      <td>No_inoculado</td>\n",
       "      <td>D</td>\n",
       "      <td>2</td>\n",
       "      <td>sub1.5M-Estre_N7XT17_R2_1_paired.fastq.gz</td>\n",
       "      <td>sub1.5M-Estre_N7XT17_R2_2_paired.fastq.gz</td>\n",
       "    </tr>\n",
       "    <tr>\n",
       "      <th>9</th>\n",
       "      <td>10</td>\n",
       "      <td>sub1.5M-Estre_N7XT17_R3_1.fastq.gz</td>\n",
       "      <td>sub1.5M-Estre_N7XT17_R3_2.fastq.gz</td>\n",
       "      <td>paired</td>\n",
       "      <td>estres_N7_XT17_R3</td>\n",
       "      <td>Estres</td>\n",
       "      <td>No_inoculado</td>\n",
       "      <td>D</td>\n",
       "      <td>3</td>\n",
       "      <td>sub1.5M-Estre_N7XT17_R3_1_paired.fastq.gz</td>\n",
       "      <td>sub1.5M-Estre_N7XT17_R3_2_paired.fastq.gz</td>\n",
       "    </tr>\n",
       "  </tbody>\n",
       "</table>\n",
       "</div>"
      ],
      "text/plain": [
       "   index                               file1  \\\n",
       "0      0   sub1.5M-Ctrl_Estres_R1_1.fastq.gz   \n",
       "1      1   sub1.5M-Ctrl_Estres_R2_1.fastq.gz   \n",
       "2      2  sub1.5M-Ctrll_Estres_R3_1.fastq.gz   \n",
       "3      3       sub1.5M-Control_R1_1.fastq.gz   \n",
       "4      4       sub1.5M-Control_R2_1.fastq.gz   \n",
       "5      6  sub1.5M-Ctrl_N7_XT17_R2_1.fastq.gz   \n",
       "6      7  sub1.5M-Ctrl_N7_XT17_R3_1.fastq.gz   \n",
       "7      8  sub1.5M-Estre_N7XT17_R1_1.fastq.gz   \n",
       "8      9  sub1.5M-Estre_N7XT17_R2_1.fastq.gz   \n",
       "9     10  sub1.5M-Estre_N7XT17_R3_1.fastq.gz   \n",
       "\n",
       "                                file2    type          shortName    meta1  \\\n",
       "0   sub1.5M-Ctrl_Estres_R1_2.fastq.gz  paired     cont_estres_R1   Estres   \n",
       "1   sub1.5M-Ctrl_Estres_R2_2.fastq.gz  paired     cont_estres_R2   Estres   \n",
       "2  sub1.5M-Ctrll_Estres_R3_2.fastq.gz  paired     cont_estres_R3   Estres   \n",
       "3       sub1.5M-Control_R1_2.fastq.gz  paired         control_R1  Control   \n",
       "4       sub1.5M-Control_R2_2.fastq.gz  paired         control_R2  Control   \n",
       "5  sub1.5M-Ctrl_N7_XT17_R2_2.fastq.gz  paired    ctrl_N7_XT17_R2  Control   \n",
       "6  sub1.5M-Ctrl_N7_XT17_R3_2.fastq.gz  paired    ctrl_N7_XT17_R3  Control   \n",
       "7  sub1.5M-Estre_N7XT17_R1_2.fastq.gz  paired  estres_N7_XT17_R1   Estres   \n",
       "8  sub1.5M-Estre_N7XT17_R2_2.fastq.gz  paired  estres_N7_XT17_R2   Estres   \n",
       "9  sub1.5M-Estre_N7XT17_R3_2.fastq.gz  paired  estres_N7_XT17_R3   Estres   \n",
       "\n",
       "          meta2 meta3  replicate                                   trimmed1  \\\n",
       "0     Inoculado     A          1   sub1.5M-Ctrl_Estres_R1_1_paired.fastq.gz   \n",
       "1     Inoculado     A          2   sub1.5M-Ctrl_Estres_R2_1_paired.fastq.gz   \n",
       "2     Inoculado     A          3  sub1.5M-Ctrll_Estres_R3_1_paired.fastq.gz   \n",
       "3  No_inoculado     B          1       sub1.5M-Control_R1_1_paired.fastq.gz   \n",
       "4  No_inoculado     B          2       sub1.5M-Control_R2_1_paired.fastq.gz   \n",
       "5     Inoculado     C          2  sub1.5M-Ctrl_N7_XT17_R2_1_paired.fastq.gz   \n",
       "6     Inoculado     C          3  sub1.5M-Ctrl_N7_XT17_R3_1_paired.fastq.gz   \n",
       "7  No_inoculado     D          1  sub1.5M-Estre_N7XT17_R1_1_paired.fastq.gz   \n",
       "8  No_inoculado     D          2  sub1.5M-Estre_N7XT17_R2_1_paired.fastq.gz   \n",
       "9  No_inoculado     D          3  sub1.5M-Estre_N7XT17_R3_1_paired.fastq.gz   \n",
       "\n",
       "                                    trimmed2  \n",
       "0   sub1.5M-Ctrl_Estres_R1_2_paired.fastq.gz  \n",
       "1   sub1.5M-Ctrl_Estres_R2_2_paired.fastq.gz  \n",
       "2  sub1.5M-Ctrll_Estres_R3_2_paired.fastq.gz  \n",
       "3       sub1.5M-Control_R1_2_paired.fastq.gz  \n",
       "4       sub1.5M-Control_R2_2_paired.fastq.gz  \n",
       "5  sub1.5M-Ctrl_N7_XT17_R2_2_paired.fastq.gz  \n",
       "6  sub1.5M-Ctrl_N7_XT17_R3_2_paired.fastq.gz  \n",
       "7  sub1.5M-Estre_N7XT17_R1_2_paired.fastq.gz  \n",
       "8  sub1.5M-Estre_N7XT17_R2_2_paired.fastq.gz  \n",
       "9  sub1.5M-Estre_N7XT17_R3_2_paired.fastq.gz  "
      ]
     },
     "metadata": {},
     "output_type": "display_data"
    }
   ],
   "source": [
    "metaPE.drop(metaPE[metaPE['shortName'] == \"ctrl_N7_XT17_R1\"].index, inplace = True)\n",
    "metaPE = metaPE.reset_index()\n",
    "display(metaPE)"
   ]
  },
  {
   "cell_type": "code",
   "execution_count": 48,
   "id": "85fdbd8c",
   "metadata": {},
   "outputs": [
    {
     "name": "stderr",
     "output_type": "stream",
     "text": [
      "\n",
      "        ==========     _____ _    _ ____  _____  ______          _____  \n",
      "        =====         / ____| |  | |  _ \\|  __ \\|  ____|   /\\   |  __ \\ \n",
      "          =====      | (___ | |  | | |_) | |__) | |__     /  \\  | |  | |\n",
      "            ====      \\___ \\| |  | |  _ <|  _  /|  __|   / /\\ \\ | |  | |\n",
      "              ====    ____) | |__| | |_) | | \\ \\| |____ / ____ \\| |__| |\n",
      "        ==========   |_____/ \\____/|____/|_|  \\_\\______/_/    \\_\\_____/\n",
      "\t  v2.0.6\n",
      "\n",
      "//========================== featureCounts setting ===========================\\\\\n",
      "||                                                                            ||\n",
      "||             Input files : 10 BAM files                                     ||\n",
      "||                                                                            ||\n",
      "||                           cont_estres_R1.bam                               ||\n",
      "||                           cont_estres_R2.bam                               ||\n",
      "||                           cont_estres_R3.bam                               ||\n",
      "||                           control_R1.bam                                   ||\n",
      "||                           control_R2.bam                                   ||\n",
      "||                           ctrl_N7_XT17_R2.bam                              ||\n",
      "||                           ctrl_N7_XT17_R3.bam                              ||\n",
      "||                           estres_N7_XT17_R1.bam                            ||\n",
      "||                           estres_N7_XT17_R2.bam                            ||\n",
      "||                           estres_N7_XT17_R3.bam                            ||\n",
      "||                                                                            ||\n",
      "||             Output file : rawCounts                                        ||\n",
      "||                 Summary : rawCounts.summary                                ||\n",
      "||              Paired-end : yes                                              ||\n",
      "||        Count read pairs : no                                               ||\n",
      "||              Annotation : RefGenomeAnn.gtf (GTF)                           ||\n",
      "||      Dir for temp files : /mnt/d/PE/Avena/AvenaSub1.5M-RNASeq-PE/05-fe ... ||\n",
      "||                                                                            ||\n",
      "||                 Threads : 8                                                ||\n",
      "||                   Level : meta-feature level                               ||\n",
      "||      Multimapping reads : not counted                                      ||\n",
      "|| Multi-overlapping reads : not counted                                      ||\n",
      "||   Min overlapping bases : 1                                                ||\n",
      "||                                                                            ||\n",
      "\\\\============================================================================//\n",
      "\n",
      "//================================= Running ==================================\\\\\n",
      "||                                                                            ||\n",
      "|| Load annotation file RefGenomeAnn.gtf ...                                  ||\n",
      "||    Features : 732310                                                       ||\n",
      "||    Meta-features : 22532                                                   ||\n",
      "||    Chromosomes/contigs : 7                                                 ||\n",
      "||                                                                            ||\n",
      "|| Process BAM file cont_estres_R1.bam...                                     ||\n",
      "||    Paired-end reads are included.                                          ||\n",
      "||    The reads are assigned on the single-end mode.                          ||\n",
      "||    Total alignments : 2520453                                              ||\n",
      "||    Successfully assigned alignments : 775226 (30.8%)                       ||\n",
      "||    Running time : 0.09 minutes                                             ||\n",
      "||                                                                            ||\n",
      "|| Process BAM file cont_estres_R2.bam...                                     ||\n",
      "||    Paired-end reads are included.                                          ||\n",
      "||    The reads are assigned on the single-end mode.                          ||\n",
      "||    Total alignments : 1856222                                              ||\n",
      "||    Successfully assigned alignments : 905656 (48.8%)                       ||\n",
      "||    Running time : 0.06 minutes                                             ||\n",
      "||                                                                            ||\n",
      "|| Process BAM file cont_estres_R3.bam...                                     ||\n",
      "||    Paired-end reads are included.                                          ||\n",
      "||    The reads are assigned on the single-end mode.                          ||\n",
      "||    Total alignments : 2289127                                              ||\n",
      "||    Successfully assigned alignments : 949352 (41.5%)                       ||\n",
      "||    Running time : 0.08 minutes                                             ||\n",
      "||                                                                            ||\n",
      "|| Process BAM file control_R1.bam...                                         ||\n",
      "||    Paired-end reads are included.                                          ||\n",
      "||    The reads are assigned on the single-end mode.                          ||\n",
      "||    Total alignments : 2687039                                              ||\n",
      "||    Successfully assigned alignments : 824353 (30.7%)                       ||\n",
      "||    Running time : 0.09 minutes                                             ||\n",
      "||                                                                            ||\n",
      "|| Process BAM file control_R2.bam...                                         ||\n",
      "||    Paired-end reads are included.                                          ||\n",
      "||    The reads are assigned on the single-end mode.                          ||\n",
      "||    Total alignments : 1930513                                              ||\n",
      "||    Successfully assigned alignments : 894431 (46.3%)                       ||\n",
      "||    Running time : 0.06 minutes                                             ||\n",
      "||                                                                            ||\n",
      "|| Process BAM file ctrl_N7_XT17_R2.bam...                                    ||\n",
      "||    Paired-end reads are included.                                          ||\n",
      "||    The reads are assigned on the single-end mode.                          ||\n",
      "||    Total alignments : 1990201                                              ||\n",
      "||    Successfully assigned alignments : 977481 (49.1%)                       ||\n",
      "||    Running time : 0.07 minutes                                             ||\n",
      "||                                                                            ||\n",
      "|| Process BAM file ctrl_N7_XT17_R3.bam...                                    ||\n",
      "||    Paired-end reads are included.                                          ||\n",
      "||    The reads are assigned on the single-end mode.                          ||\n",
      "||    Total alignments : 2390402                                              ||\n",
      "||    Successfully assigned alignments : 1037289 (43.4%)                      ||\n",
      "||    Running time : 0.11 minutes                                             ||\n",
      "||                                                                            ||\n",
      "|| Process BAM file estres_N7_XT17_R1.bam...                                  ||\n",
      "||    Paired-end reads are included.                                          ||\n",
      "||    The reads are assigned on the single-end mode.                          ||\n",
      "||    Total alignments : 1953504                                              ||\n",
      "||    Successfully assigned alignments : 955163 (48.9%)                       ||\n",
      "||    Running time : 0.07 minutes                                             ||\n",
      "||                                                                            ||\n",
      "|| Process BAM file estres_N7_XT17_R2.bam...                                  ||\n",
      "||    Paired-end reads are included.                                          ||\n",
      "||    The reads are assigned on the single-end mode.                          ||\n",
      "||    Total alignments : 2739791                                              ||\n",
      "||    Successfully assigned alignments : 902280 (32.9%)                       ||\n",
      "||    Running time : 0.10 minutes                                             ||\n",
      "||                                                                            ||\n",
      "|| Process BAM file estres_N7_XT17_R3.bam...                                  ||\n"
     ]
    },
    {
     "name": "stderr",
     "output_type": "stream",
     "text": [
      "||    Paired-end reads are included.                                          ||\n",
      "||    The reads are assigned on the single-end mode.                          ||\n",
      "||    Total alignments : 2138074                                              ||\n",
      "||    Successfully assigned alignments : 990132 (46.3%)                       ||\n",
      "||    Running time : 0.08 minutes                                             ||\n",
      "||                                                                            ||\n",
      "|| Write the final count table.                                               ||\n",
      "|| Write the read assignment summary.                                         ||\n",
      "||                                                                            ||\n",
      "|| Summary of counting results can be found in file \"/mnt/d/PE/Avena/AvenaSu  ||\n",
      "|| b1.5M-RNASeq-PE/05-featureCounts/rawCounts.summary\"                        ||\n",
      "||                                                                            ||\n",
      "\\\\============================================================================//\n",
      "\n"
     ]
    },
    {
     "data": {
      "text/plain": [
       "0"
      ]
     },
     "execution_count": 48,
     "metadata": {},
     "output_type": "execute_result"
    }
   ],
   "source": [
    "#!cat ids.txt | parallel -j 1 echo \"bam/{}.bam\" | xargs featureCounts -p -a refs/features.gff -o counts.txt\n",
    "\n",
    "cmdFC = \"featureCounts -p -T \" + nThreads + \" -o \" + PEPath + jobIdxPE + \"/05-featureCounts/rawCounts -a \" +  PEPath + jobIdxPE + \"/RefGenomeAnn.gtf\"  \n",
    "for i in metaPE.index:\n",
    "    #print(metaPE.shortName[i])\n",
    "    cmdFC += \" \" + PEPath + jobIdxPE + \"/04-RefGenome-Alignments-Hisat2/\" + metaPE.shortName[i] + \".bam\"\n",
    "\n",
    "os.system(cmdFC)"
   ]
  },
  {
   "cell_type": "code",
   "execution_count": 49,
   "id": "6912389d",
   "metadata": {},
   "outputs": [
    {
     "name": "stdout",
     "output_type": "stream",
     "text": [
      "The rpy2.ipython extension is already loaded. To reload it, use:\n",
      "  %reload_ext rpy2.ipython\n"
     ]
    }
   ],
   "source": [
    "%load_ext rpy2.ipython"
   ]
  },
  {
   "cell_type": "code",
   "execution_count": 51,
   "id": "ae237b03",
   "metadata": {},
   "outputs": [
    {
     "name": "stdout",
     "output_type": "stream",
     "text": [
      " [1] \"01-QC-Pre-Reports\"                                \n",
      " [2] \"02-Trimming-Trimmomatic\"                          \n",
      " [3] \"03-QC-Pos-Reports\"                                \n",
      " [4] \"04-RefGenome-Alignments-Hisat2\"                   \n",
      " [5] \"04-RefGenome-Alignments-Kallisto\"                 \n",
      " [6] \"04.1-Gene-Transcripts-Assembly-Quantify-Stringtie\"\n",
      " [7] \"05-featureCounts\"                                 \n",
      " [8] \"heatmap24.pdf\"                                    \n",
      " [9] \"metadata.csv\"                                     \n",
      "[10] \"raw\"                                              \n",
      "[11] \"RefGenome.fa\"                                     \n",
      "[12] \"RefGenome.fa.fai\"                                 \n",
      "[13] \"RefGenomeAnn.gff\"                                 \n",
      "[14] \"RefGenomeAnn.gtf\"                                 \n"
     ]
    }
   ],
   "source": [
    "%%R -i PEPath,jobIdxPE\n",
    "setwd(paste0(PEPath,jobIdxPE))\n",
    "list.files()"
   ]
  },
  {
   "cell_type": "code",
   "execution_count": 52,
   "id": "66d5aaa5",
   "metadata": {},
   "outputs": [
    {
     "name": "stdout",
     "output_type": "stream",
     "text": [
      "                      Geneid\n",
      "1 AVESA.00001b.r3.1Ag0000001\n",
      "2 AVESA.00001b.r3.1Ag0000002\n",
      "3 AVESA.00001b.r3.1Ag0000003\n",
      "4 AVESA.00001b.r3.1Ag0000004\n",
      "5 AVESA.00001b.r3.1Ag0000005\n",
      "6 AVESA.00001b.r3.1Ag0000006\n",
      "                                                                                                                                                                                                                                                                                                                                                                                                                                                                                                                                                                                                                                                                                                                                                                                                                                                                                                                                                                                                                                                                                                                                                                                                                                                                                                                            Chr\n",
      "1                                                                                                                                                                                                                                                                                                                                                                                                                                                                                                                                                                                                                                                                                                                                                                                                                                                                                                                                                                                                                                                                                                                                                                                                                                                                                                             chr1A;chr1A;chr1A\n",
      "2                                                                                                                                                                                                                                                                                                                                                                                                                                                                                                                                                                                                                                                                                                                                                                                                                                                                                                                                                                                                                                                                                                                                                                                                                   chr1A;chr1A;chr1A;chr1A;chr1A;chr1A;chr1A;chr1A;chr1A;chr1A;chr1A;chr1A;chr1A;chr1A;chr1A;chr1A;chr1A;chr1A\n",
      "3                                                                                                                                                                                                                                                                                                                                                                                                                                                                                                                                                                                                                                                                                                                                                                                                                                                                                                                                                                                                                                                                                                                                                                                                                                                       chr1A;chr1A;chr1A;chr1A;chr1A;chr1A;chr1A;chr1A;chr1A;chr1A;chr1A;chr1A\n",
      "4                                                                                                                                                                                                                                                                                                                                                                                                                                                                                                                                                                                                                                                                                                                                                                                                                                                                                                                                                                                                                                                                                                                                                                                                                                                                                                             chr1A;chr1A;chr1A\n",
      "5 chr1A;chr1A;chr1A;chr1A;chr1A;chr1A;chr1A;chr1A;chr1A;chr1A;chr1A;chr1A;chr1A;chr1A;chr1A;chr1A;chr1A;chr1A;chr1A;chr1A;chr1A;chr1A;chr1A;chr1A;chr1A;chr1A;chr1A;chr1A;chr1A;chr1A;chr1A;chr1A;chr1A;chr1A;chr1A;chr1A;chr1A;chr1A;chr1A;chr1A;chr1A;chr1A;chr1A;chr1A;chr1A;chr1A;chr1A;chr1A;chr1A;chr1A;chr1A;chr1A;chr1A;chr1A;chr1A;chr1A;chr1A;chr1A;chr1A;chr1A;chr1A;chr1A;chr1A;chr1A;chr1A;chr1A;chr1A;chr1A;chr1A;chr1A;chr1A;chr1A;chr1A;chr1A;chr1A;chr1A;chr1A;chr1A;chr1A;chr1A;chr1A;chr1A;chr1A;chr1A;chr1A;chr1A;chr1A;chr1A;chr1A;chr1A;chr1A;chr1A;chr1A;chr1A;chr1A;chr1A;chr1A;chr1A;chr1A;chr1A;chr1A;chr1A;chr1A;chr1A;chr1A;chr1A;chr1A;chr1A;chr1A;chr1A;chr1A;chr1A;chr1A;chr1A;chr1A;chr1A;chr1A;chr1A;chr1A;chr1A;chr1A;chr1A;chr1A;chr1A;chr1A;chr1A;chr1A;chr1A;chr1A;chr1A;chr1A;chr1A;chr1A;chr1A;chr1A;chr1A;chr1A;chr1A;chr1A;chr1A;chr1A;chr1A;chr1A;chr1A;chr1A;chr1A;chr1A;chr1A;chr1A;chr1A;chr1A;chr1A;chr1A;chr1A;chr1A;chr1A;chr1A;chr1A;chr1A;chr1A;chr1A;chr1A;chr1A;chr1A;chr1A;chr1A;chr1A;chr1A;chr1A;chr1A;chr1A;chr1A;chr1A;chr1A;chr1A;chr1A;chr1A;chr1A;chr1A;chr1A;chr1A;chr1A;chr1A;chr1A;chr1A;chr1A;chr1A;chr1A;chr1A;chr1A;chr1A;chr1A;chr1A;chr1A;chr1A;chr1A;chr1A;chr1A;chr1A;chr1A;chr1A;chr1A;chr1A;chr1A;chr1A;chr1A;chr1A;chr1A;chr1A;chr1A;chr1A;chr1A;chr1A\n",
      "6                                                                                                                                                                                                                                                             chr1A;chr1A;chr1A;chr1A;chr1A;chr1A;chr1A;chr1A;chr1A;chr1A;chr1A;chr1A;chr1A;chr1A;chr1A;chr1A;chr1A;chr1A;chr1A;chr1A;chr1A;chr1A;chr1A;chr1A;chr1A;chr1A;chr1A;chr1A;chr1A;chr1A;chr1A;chr1A;chr1A;chr1A;chr1A;chr1A;chr1A;chr1A;chr1A;chr1A;chr1A;chr1A;chr1A;chr1A;chr1A;chr1A;chr1A;chr1A;chr1A;chr1A;chr1A;chr1A;chr1A;chr1A;chr1A;chr1A;chr1A;chr1A;chr1A;chr1A;chr1A;chr1A;chr1A;chr1A;chr1A;chr1A;chr1A;chr1A;chr1A;chr1A;chr1A;chr1A;chr1A;chr1A;chr1A;chr1A;chr1A;chr1A;chr1A;chr1A;chr1A;chr1A;chr1A;chr1A;chr1A;chr1A;chr1A;chr1A;chr1A;chr1A;chr1A;chr1A;chr1A;chr1A;chr1A;chr1A;chr1A;chr1A;chr1A;chr1A;chr1A;chr1A;chr1A;chr1A;chr1A;chr1A;chr1A;chr1A;chr1A;chr1A;chr1A;chr1A;chr1A;chr1A;chr1A;chr1A;chr1A;chr1A;chr1A;chr1A;chr1A;chr1A;chr1A;chr1A;chr1A;chr1A;chr1A;chr1A;chr1A;chr1A;chr1A;chr1A;chr1A;chr1A;chr1A;chr1A;chr1A;chr1A;chr1A;chr1A;chr1A;chr1A;chr1A;chr1A;chr1A;chr1A;chr1A;chr1A;chr1A;chr1A;chr1A;chr1A;chr1A;chr1A;chr1A;chr1A;chr1A;chr1A;chr1A;chr1A;chr1A;chr1A;chr1A;chr1A;chr1A;chr1A;chr1A;chr1A;chr1A;chr1A;chr1A\n",
      "                                                                                                                                                                                                                                                                                                                                                                                                                                                                                                                                                                                                                                                                                                                                                                                                                                                                                                                                                                                                                                                                                                                                                                                                                                                                                                                                                                                                                                                                                                                                               Start\n",
      "1                                                                                                                                                                                                                                                                                                                                                                                                                                                                                                                                                                                                                                                                                                                                                                                                                                                                                                                                                                                                                                                                                                                                                                                                                                                                                                                                                                                                                                                                                                                                  50163;50163;50188\n",
      "2                                                                                                                                                                                                                                                                                                                                                                                                                                                                                                                                                                                                                                                                                                                                                                                                                                                                                                                                                                                                                                                                                                                                                                                                                                                                                                                                                                                                                                        56248;56260;56486;56486;56696;56696;56945;56945;57119;57119;57811;57811;57938;57938;58182;58182;58477;58477\n",
      "3                                                                                                                                                                                                                                                                                                                                                                                                                                                                                                                                                                                                                                                                                                                                                                                                                                                                                                                                                                                                                                                                                                                                                                                                                                                                                                                                                                                                                                                                            81249;81287;81325;82754;82754;82972;82972;82972;83586;83586;84408;84408\n"
     ]
    },
    {
     "name": "stdout",
     "output_type": "stream",
     "text": [
      "4                                                                                                                                                                                                                                                                                                                                                                                                                                                                                                                                                                                                                                                                                                                                                                                                                                                                                                                                                                                                                                                                                                                                                                                                                                                                                                                                                                                                                                                                                                                               159554;160054;161087\n",
      "5 165424;165927;165943;165950;165950;165950;166585;166585;166585;166585;166585;166585;166859;166859;166859;166859;166859;166859;167284;167284;167284;167284;167284;167284;167511;167511;167511;167511;167511;167511;167868;167868;167868;167868;167868;167868;168781;168781;168781;168781;168781;168781;168941;168941;168941;168941;168941;168941;169130;169130;169130;169130;169130;169130;169395;169395;169395;169395;169395;169395;169934;169934;169934;169934;169934;169934;170581;170581;170581;170581;170581;171041;171041;171041;171041;171041;171041;171321;171321;171321;171321;171321;171489;171489;171489;171489;171489;171489;172241;172241;172241;172241;172241;172241;172889;172889;172889;172889;172889;172889;173230;173230;173230;173230;173230;173484;173486;173486;173486;173486;173724;173724;173724;173724;173724;174430;174430;174430;174430;174617;174617;174617;174617;174617;175047;175047;175047;175047;175047;175233;175233;175233;175233;175233;175471;175471;175471;175471;175471;175707;175707;175707;175707;175980;175980;175980;175980;176138;176138;176138;176138;176765;176765;176765;176765;176911;176911;176911;176911;177064;177064;177064;177064;177239;177239;177239;177239;177455;177455;177455;177627;177627;177627;177943;177943;177943;177943;178086;178086;178086;178086;178366;178366;178366;178366;178656;178656;178656;178858;178858;178858;179542;179542;179542;179710;179710;180180;180180;180908;180908;181110;181110;182037;182037;183842;183842;184062;184062;184350;184350;184786;185041;186000\n",
      "6                                                                                                                                                                                                                                                                                                       272922;272922;272925;272925;272978;272978;273022;273022;273022;273022;273026;273026;273026;273030;273605;273605;273605;273605;273815;273815;273815;273815;273815;273815;273909;274107;274107;274107;274107;274107;274107;274107;274107;274107;274107;274913;274913;274913;274913;274913;274913;274913;274913;274913;274913;274913;274913;274913;274913;275176;275176;275176;275176;275176;275176;275176;275176;275176;275176;275176;275176;275176;275176;275682;275682;275682;275682;275682;275682;275682;275682;275682;275682;275682;275682;275682;275682;275873;275873;275873;275873;275873;275873;275873;275873;275873;275873;275873;275873;275873;275873;276284;276284;276284;276284;276284;276284;276284;276284;276284;276284;276284;276284;276284;276284;276851;276851;276851;276851;276851;276851;276851;276851;276851;276851;276851;276851;276851;277055;277055;277055;277055;277055;277055;277055;277055;277055;277055;277055;277055;277055;277309;277309;277309;277309;277309;277309;277309;277309;277309;277309;277309;277309;277309;277659;277659;277659;277659;277659;277659;277659;277659;277659;277659;277659;277659;277659;277909;277909;277909;277909;277909;277909;277909;277909;277909;277909;277909;277909;277909;277909\n",
      "                                                                                                                                                                                                                                                                                                                                                                                                                                                                                                                                                                                                                                                                                                                                                                                                                                                                                                                                                                                                                                                                                                                                                                                                                                                                                                                                                                                                                                                                                                                                                 End\n",
      "1                                                                                                                                                                                                                                                                                                                                                                                                                                                                                                                                                                                                                                                                                                                                                                                                                                                                                                                                                                                                                                                                                                                                                                                                                                                                                                                                                                                                                                                                                                                                  51666;51777;52276\n",
      "2                                                                                                                                                                                                                                                                                                                                                                                                                                                                                                                                                                                                                                                                                                                                                                                                                                                                                                                                                                                                                                                                                                                                                                                                                                                                                                                                                                                                                                        56409;56409;56608;56608;56843;56843;57032;57032;57708;57708;57833;57833;58031;58031;58284;58284;59027;59348\n",
      "3                                                                                                                                                                                                                                                                                                                                                                                                                                                                                                                                                                                                                                                                                                                                                                                                                                                                                                                                                                                                                                                                                                                                                                                                                                                                                                                                                                                                                                                                            81440;82857;81440;82857;82857;83047;85294;83047;83666;83666;85157;85317\n",
      "4                                                                                                                                                                                                                                                                                                                                                                                                                                                                                                                                                                                                                                                                                                                                                                                                                                                                                                                                                                                                                                                                                                                                                                                                                                                                                                                                                                                                                                                                                                                               159964;160860;161484\n",
      "5 166480;166480;166480;166480;166480;166480;166767;166767;166767;166767;166767;166767;166909;166909;166909;166909;166909;166909;167403;167403;167403;167403;167403;167403;167613;167613;167613;167613;167613;167613;168026;168026;168026;168026;168026;168026;168869;168869;168869;168869;168869;168869;169054;169054;169054;169054;169054;169054;169288;169288;169288;169288;169288;169288;169442;169442;169442;169442;169442;169442;170633;170110;170110;170110;170110;170110;170633;170633;170633;170633;170633;171153;171153;171153;171153;171153;171153;171401;171401;171401;171401;171401;171604;171604;171604;171604;171604;171604;172360;172360;172360;172360;172360;172360;173006;173006;173006;172972;173006;173006;173407;173407;173407;173407;173407;173554;173554;173554;173554;173554;173855;174539;173855;173855;173855;174539;174539;174539;174539;174777;174777;174777;174777;174777;175137;175137;175137;175137;175137;175330;175330;175330;175330;175330;175591;175591;175591;175591;175549;175867;175867;175867;175867;176061;176061;176061;176061;176232;176232;176232;176232;176789;176789;176789;176789;176987;176987;176987;176987;177150;177150;177150;177150;177288;177288;177309;177288;177536;177536;177536;177687;177687;177687;177995;177995;177995;177995;178275;178275;178275;178275;178489;178489;178416;178489;178758;178758;178758;178950;178950;178950;179620;179580;179620;179786;179786;180308;180308;181025;181025;181207;181207;182126;182126;183961;183961;184172;184172;184461;184473;184940;185138;186169\n",
      "6                                                                                                                                                                                                                                                                                                       273683;273261;273261;273683;273675;273675;273683;273675;273675;274218;273683;273261;273261;274218;273907;273675;273683;273683;273907;273907;273907;274218;274218;273907;273985;274218;274218;274218;274218;274218;274218;274218;274218;274218;274218;275012;275012;275012;275012;275012;275012;275012;275012;275012;275012;275012;275012;275012;275012;275238;275238;275238;275238;275238;275238;275238;275238;275238;275238;275238;275238;275238;275238;275792;275792;275792;275792;275792;275792;275792;275792;275792;275792;275792;275792;275792;275792;276057;276057;276057;276057;276057;276057;276057;276057;276057;276057;276057;276057;276057;276057;276422;276422;276422;276422;276422;276422;276422;276422;276422;276968;276422;276422;276422;276422;276968;276968;276968;276968;276921;277156;276968;276921;276968;276968;276968;276968;276968;277156;277156;277156;277156;277156;277156;277156;277156;277770;277156;277156;277156;277156;277560;277560;277560;277560;277560;277560;277560;277560;277560;277560;277560;277560;277560;277770;277770;277770;277770;277770;277770;277770;277770;277770;277770;277770;277770;277770;278391;278393;278360;278200;278378;278378;278360;278338;278393;278360;278359;278200;278468;278389\n",
      "                                                                                                                                                                                                                                                                                                                                                                                                                                     Strand\n"
     ]
    },
    {
     "name": "stdout",
     "output_type": "stream",
     "text": [
      "1                                                                                                                                                                                                                                                                                                                                                                                                                                     +;+;+\n",
      "2                                                                                                                                                                                                                                                                                                                                                                                                       +;+;+;+;+;+;+;+;+;+;+;+;+;+;+;+;+;+\n",
      "3                                                                                                                                                                                                                                                                                                                                                                                                                   +;+;+;+;+;+;+;+;+;+;+;+\n",
      "4                                                                                                                                                                                                                                                                                                                                                                                                                                     +;+;+\n",
      "5 -;-;-;-;-;-;-;-;-;-;-;-;-;-;-;-;-;-;-;-;-;-;-;-;-;-;-;-;-;-;-;-;-;-;-;-;-;-;-;-;-;-;-;-;-;-;-;-;-;-;-;-;-;-;-;-;-;-;-;-;-;-;-;-;-;-;-;-;-;-;-;-;-;-;-;-;-;-;-;-;-;-;-;-;-;-;-;-;-;-;-;-;-;-;-;-;-;-;-;-;-;-;-;-;-;-;-;-;-;-;-;-;-;-;-;-;-;-;-;-;-;-;-;-;-;-;-;-;-;-;-;-;-;-;-;-;-;-;-;-;-;-;-;-;-;-;-;-;-;-;-;-;-;-;-;-;-;-;-;-;-;-;-;-;-;-;-;-;-;-;-;-;-;-;-;-;-;-;-;-;-;-;-;-;-;-;-;-;-;-;-;-;-;-;-;-;-;-;-;-;-;-;-;-;-;-;-;-;-;-;-;-;-\n",
      "6                                                                                     +;+;+;+;+;+;+;+;+;+;+;+;+;+;+;+;+;+;+;+;+;+;+;+;+;+;+;+;+;+;+;+;+;+;+;+;+;+;+;+;+;+;+;+;+;+;+;+;+;+;+;+;+;+;+;+;+;+;+;+;+;+;+;+;+;+;+;+;+;+;+;+;+;+;+;+;+;+;+;+;+;+;+;+;+;+;+;+;+;+;+;+;+;+;+;+;+;+;+;+;+;+;+;+;+;+;+;+;+;+;+;+;+;+;+;+;+;+;+;+;+;+;+;+;+;+;+;+;+;+;+;+;+;+;+;+;+;+;+;+;+;+;+;+;+;+;+;+;+;+;+;+;+;+;+;+;+;+;+;+;+;+;+;+;+;+;+;+;+;+;+\n",
      "  Length\n",
      "1   2114\n",
      "2   2203\n",
      "3   3955\n",
      "4   1616\n",
      "5   7540\n",
      "6   3803\n",
      "  X.mnt.d.PE.Avena.AvenaSub1.5M.RNASeq.PE.04.RefGenome.Alignments.Hisat2.cont_estres_R1.bam\n",
      "1                                                                                         0\n",
      "2                                                                                         0\n",
      "3                                                                                        57\n",
      "4                                                                                         0\n",
      "5                                                                                        76\n",
      "6                                                                                         3\n",
      "  X.mnt.d.PE.Avena.AvenaSub1.5M.RNASeq.PE.04.RefGenome.Alignments.Hisat2.cont_estres_R2.bam\n",
      "1                                                                                         0\n",
      "2                                                                                         0\n",
      "3                                                                                        40\n",
      "4                                                                                         0\n",
      "5                                                                                        98\n",
      "6                                                                                         5\n",
      "  X.mnt.d.PE.Avena.AvenaSub1.5M.RNASeq.PE.04.RefGenome.Alignments.Hisat2.cont_estres_R3.bam\n",
      "1                                                                                         0\n",
      "2                                                                                         0\n",
      "3                                                                                        40\n",
      "4                                                                                         0\n",
      "5                                                                                       138\n",
      "6                                                                                        11\n",
      "  X.mnt.d.PE.Avena.AvenaSub1.5M.RNASeq.PE.04.RefGenome.Alignments.Hisat2.control_R1.bam\n",
      "1                                                                                     0\n",
      "2                                                                                     0\n",
      "3                                                                                    16\n",
      "4                                                                                     0\n",
      "5                                                                                    44\n",
      "6                                                                                     4\n",
      "  X.mnt.d.PE.Avena.AvenaSub1.5M.RNASeq.PE.04.RefGenome.Alignments.Hisat2.control_R2.bam\n",
      "1                                                                                     0\n",
      "2                                                                                     0\n",
      "3                                                                                    38\n",
      "4                                                                                     0\n",
      "5                                                                                   110\n",
      "6                                                                                     4\n",
      "  X.mnt.d.PE.Avena.AvenaSub1.5M.RNASeq.PE.04.RefGenome.Alignments.Hisat2.ctrl_N7_XT17_R2.bam\n",
      "1                                                                                          0\n",
      "2                                                                                          2\n",
      "3                                                                                         29\n",
      "4                                                                                          0\n",
      "5                                                                                         67\n",
      "6                                                                                          1\n",
      "  X.mnt.d.PE.Avena.AvenaSub1.5M.RNASeq.PE.04.RefGenome.Alignments.Hisat2.ctrl_N7_XT17_R3.bam\n",
      "1                                                                                          0\n",
      "2                                                                                          0\n",
      "3                                                                                         37\n",
      "4                                                                                          0\n",
      "5                                                                                         45\n",
      "6                                                                                          5\n",
      "  X.mnt.d.PE.Avena.AvenaSub1.5M.RNASeq.PE.04.RefGenome.Alignments.Hisat2.estres_N7_XT17_R1.bam\n",
      "1                                                                                            0\n",
      "2                                                                                            0\n",
      "3                                                                                           33\n",
      "4                                                                                            0\n",
      "5                                                                                          106\n",
      "6                                                                                            0\n",
      "  X.mnt.d.PE.Avena.AvenaSub1.5M.RNASeq.PE.04.RefGenome.Alignments.Hisat2.estres_N7_XT17_R2.bam\n",
      "1                                                                                            0\n",
      "2                                                                                            0\n",
      "3                                                                                           32\n",
      "4                                                                                            0\n",
      "5                                                                                           82\n",
      "6                                                                                            5\n",
      "  X.mnt.d.PE.Avena.AvenaSub1.5M.RNASeq.PE.04.RefGenome.Alignments.Hisat2.estres_N7_XT17_R3.bam\n",
      "1                                                                                            0\n",
      "2                                                                                            0\n",
      "3                                                                                           32\n",
      "4                                                                                            0\n",
      "5                                                                                          146\n",
      "6                                                                                           12\n"
     ]
    }
   ],
   "source": [
    "%%R\n",
    "counts_file <- \"05-featureCounts/rawCounts\"\n",
    "df <- read.table(counts_file, header=TRUE)\n",
    "head(df)"
   ]
  },
  {
   "cell_type": "code",
   "execution_count": 68,
   "id": "d0e73bc3",
   "metadata": {
    "scrolled": true
   },
   "outputs": [
    {
     "name": "stdout",
     "output_type": "stream",
     "text": [
      "                               file1                              file2   type\n",
      "1  sub1.5M-Ctrl_Estres_R1_1.fastq.gz  sub1.5M-Ctrl_Estres_R1_2.fastq.gz paired\n",
      "2  sub1.5M-Ctrl_Estres_R2_1.fastq.gz  sub1.5M-Ctrl_Estres_R2_2.fastq.gz paired\n",
      "3 sub1.5M-Ctrll_Estres_R3_1.fastq.gz sub1.5M-Ctrll_Estres_R3_2.fastq.gz paired\n",
      "4      sub1.5M-Control_R1_1.fastq.gz      sub1.5M-Control_R1_2.fastq.gz paired\n",
      "5      sub1.5M-Control_R2_1.fastq.gz      sub1.5M-Control_R2_2.fastq.gz paired\n",
      "6 sub1.5M-Ctrl_N7_XT17_R1_1.fastq.gz sub1.5M-Ctrl_N7_XT17_R1_2.fastq.gz paired\n",
      "        shortName   meta1        meta2 meta3 replicate\n",
      "1  cont_estres_R1  Estres    Inoculado     A         1\n",
      "2  cont_estres_R2  Estres    Inoculado     A         2\n",
      "3  cont_estres_R3  Estres    Inoculado     A         3\n",
      "4      control_R1 Control No_inoculado     B         1\n",
      "5      control_R2 Control No_inoculado     B         2\n",
      "6 ctrl_N7_XT17_R1 Control    Inoculado     C         1\n",
      "                                   trimmed1\n",
      "1  sub1.5M-Ctrl_Estres_R1_1_paired.fastq.gz\n",
      "2  sub1.5M-Ctrl_Estres_R2_1_paired.fastq.gz\n",
      "3 sub1.5M-Ctrll_Estres_R3_1_paired.fastq.gz\n",
      "4      sub1.5M-Control_R1_1_paired.fastq.gz\n",
      "5      sub1.5M-Control_R2_1_paired.fastq.gz\n",
      "6 sub1.5M-Ctrl_N7_XT17_R1_1_paired.fastq.gz\n",
      "                                   trimmed2\n",
      "1  sub1.5M-Ctrl_Estres_R1_2_paired.fastq.gz\n",
      "2  sub1.5M-Ctrl_Estres_R2_2_paired.fastq.gz\n",
      "3 sub1.5M-Ctrll_Estres_R3_2_paired.fastq.gz\n",
      "4      sub1.5M-Control_R1_2_paired.fastq.gz\n",
      "5      sub1.5M-Control_R2_2_paired.fastq.gz\n",
      "6 sub1.5M-Ctrl_N7_XT17_R1_2_paired.fastq.gz\n"
     ]
    }
   ],
   "source": [
    "%%R\n",
    "design_file = \"metadata.csv\"\n",
    "sample_data <- read.csv(design_file, stringsAsFactors=F)\n",
    "head(sample_data)"
   ]
  },
  {
   "cell_type": "code",
   "execution_count": 69,
   "id": "034497dc",
   "metadata": {},
   "outputs": [
    {
     "name": "stdout",
     "output_type": "stream",
     "text": [
      "                                file1                              file2   type\n",
      "1   sub1.5M-Ctrl_Estres_R1_1.fastq.gz  sub1.5M-Ctrl_Estres_R1_2.fastq.gz paired\n",
      "2   sub1.5M-Ctrl_Estres_R2_1.fastq.gz  sub1.5M-Ctrl_Estres_R2_2.fastq.gz paired\n",
      "3  sub1.5M-Ctrll_Estres_R3_1.fastq.gz sub1.5M-Ctrll_Estres_R3_2.fastq.gz paired\n",
      "4       sub1.5M-Control_R1_1.fastq.gz      sub1.5M-Control_R1_2.fastq.gz paired\n",
      "5       sub1.5M-Control_R2_1.fastq.gz      sub1.5M-Control_R2_2.fastq.gz paired\n",
      "6  sub1.5M-Ctrl_N7_XT17_R2_1.fastq.gz sub1.5M-Ctrl_N7_XT17_R2_2.fastq.gz paired\n",
      "7  sub1.5M-Ctrl_N7_XT17_R3_1.fastq.gz sub1.5M-Ctrl_N7_XT17_R3_2.fastq.gz paired\n",
      "8  sub1.5M-Estre_N7XT17_R1_1.fastq.gz sub1.5M-Estre_N7XT17_R1_2.fastq.gz paired\n",
      "9  sub1.5M-Estre_N7XT17_R2_1.fastq.gz sub1.5M-Estre_N7XT17_R2_2.fastq.gz paired\n",
      "10 sub1.5M-Estre_N7XT17_R3_1.fastq.gz sub1.5M-Estre_N7XT17_R3_2.fastq.gz paired\n",
      "           shortName   meta1        meta2 meta3 replicate\n",
      "1     cont_estres_R1  Estres    Inoculado     A         1\n",
      "2     cont_estres_R2  Estres    Inoculado     A         2\n",
      "3     cont_estres_R3  Estres    Inoculado     A         3\n",
      "4         control_R1 Control No_inoculado     B         1\n",
      "5         control_R2 Control No_inoculado     B         2\n",
      "6    ctrl_N7_XT17_R2 Control    Inoculado     C         2\n",
      "7    ctrl_N7_XT17_R3 Control    Inoculado     C         3\n",
      "8  estres_N7_XT17_R1  Estres No_inoculado     D         1\n",
      "9  estres_N7_XT17_R2  Estres No_inoculado     D         2\n",
      "10 estres_N7_XT17_R3  Estres No_inoculado     D         3\n",
      "                                    trimmed1\n",
      "1   sub1.5M-Ctrl_Estres_R1_1_paired.fastq.gz\n",
      "2   sub1.5M-Ctrl_Estres_R2_1_paired.fastq.gz\n",
      "3  sub1.5M-Ctrll_Estres_R3_1_paired.fastq.gz\n",
      "4       sub1.5M-Control_R1_1_paired.fastq.gz\n",
      "5       sub1.5M-Control_R2_1_paired.fastq.gz\n",
      "6  sub1.5M-Ctrl_N7_XT17_R2_1_paired.fastq.gz\n",
      "7  sub1.5M-Ctrl_N7_XT17_R3_1_paired.fastq.gz\n",
      "8  sub1.5M-Estre_N7XT17_R1_1_paired.fastq.gz\n",
      "9  sub1.5M-Estre_N7XT17_R2_1_paired.fastq.gz\n",
      "10 sub1.5M-Estre_N7XT17_R3_1_paired.fastq.gz\n",
      "                                    trimmed2\n",
      "1   sub1.5M-Ctrl_Estres_R1_2_paired.fastq.gz\n",
      "2   sub1.5M-Ctrl_Estres_R2_2_paired.fastq.gz\n",
      "3  sub1.5M-Ctrll_Estres_R3_2_paired.fastq.gz\n",
      "4       sub1.5M-Control_R1_2_paired.fastq.gz\n",
      "5       sub1.5M-Control_R2_2_paired.fastq.gz\n",
      "6  sub1.5M-Ctrl_N7_XT17_R2_2_paired.fastq.gz\n",
      "7  sub1.5M-Ctrl_N7_XT17_R3_2_paired.fastq.gz\n",
      "8  sub1.5M-Estre_N7XT17_R1_2_paired.fastq.gz\n",
      "9  sub1.5M-Estre_N7XT17_R2_2_paired.fastq.gz\n",
      "10 sub1.5M-Estre_N7XT17_R3_2_paired.fastq.gz\n"
     ]
    }
   ],
   "source": [
    "%%R\n",
    "library(dplyr)\n",
    "sample_data <- sample_data[sample_data$shortName != \"ctrl_N7_XT17_R1\",]\n",
    "row.names(sample_data) <- NULL\n",
    "sample_data"
   ]
  },
  {
   "cell_type": "code",
   "execution_count": 70,
   "id": "043a0412",
   "metadata": {},
   "outputs": [],
   "source": [
    "%%R\n",
    "condition <- \"meta1\""
   ]
  },
  {
   "cell_type": "code",
   "execution_count": 71,
   "id": "1ba430da",
   "metadata": {},
   "outputs": [
    {
     "name": "stdout",
     "output_type": "stream",
     "text": [
      " [1] \"Estres\"  \"Estres\"  \"Estres\"  \"Control\" \"Control\" \"Control\" \"Control\"\n",
      " [8] \"Estres\"  \"Estres\"  \"Estres\" \n"
     ]
    }
   ],
   "source": [
    "%%R\n",
    "sample_data[,condition]"
   ]
  },
  {
   "cell_type": "code",
   "execution_count": 72,
   "id": "12237c85",
   "metadata": {},
   "outputs": [
    {
     "name": "stdout",
     "output_type": "stream",
     "text": [
      "                      Geneid\n",
      "1 AVESA.00001b.r3.1Ag0000001\n",
      "2 AVESA.00001b.r3.1Ag0000002\n",
      "3 AVESA.00001b.r3.1Ag0000003\n",
      "4 AVESA.00001b.r3.1Ag0000004\n",
      "5 AVESA.00001b.r3.1Ag0000005\n",
      "6 AVESA.00001b.r3.1Ag0000006\n",
      "  X.mnt.d.PE.Avena.AvenaSub1.5M.RNASeq.PE.04.RefGenome.Alignments.Hisat2.cont_estres_R1.bam\n",
      "1                                                                                         0\n",
      "2                                                                                         0\n",
      "3                                                                                        57\n",
      "4                                                                                         0\n",
      "5                                                                                        76\n",
      "6                                                                                         3\n",
      "  X.mnt.d.PE.Avena.AvenaSub1.5M.RNASeq.PE.04.RefGenome.Alignments.Hisat2.cont_estres_R2.bam\n",
      "1                                                                                         0\n",
      "2                                                                                         0\n",
      "3                                                                                        40\n",
      "4                                                                                         0\n",
      "5                                                                                        98\n",
      "6                                                                                         5\n",
      "  X.mnt.d.PE.Avena.AvenaSub1.5M.RNASeq.PE.04.RefGenome.Alignments.Hisat2.cont_estres_R3.bam\n",
      "1                                                                                         0\n",
      "2                                                                                         0\n",
      "3                                                                                        40\n",
      "4                                                                                         0\n",
      "5                                                                                       138\n",
      "6                                                                                        11\n",
      "  X.mnt.d.PE.Avena.AvenaSub1.5M.RNASeq.PE.04.RefGenome.Alignments.Hisat2.control_R1.bam\n",
      "1                                                                                     0\n",
      "2                                                                                     0\n",
      "3                                                                                    16\n",
      "4                                                                                     0\n",
      "5                                                                                    44\n",
      "6                                                                                     4\n",
      "  X.mnt.d.PE.Avena.AvenaSub1.5M.RNASeq.PE.04.RefGenome.Alignments.Hisat2.control_R2.bam\n",
      "1                                                                                     0\n",
      "2                                                                                     0\n",
      "3                                                                                    38\n",
      "4                                                                                     0\n",
      "5                                                                                   110\n",
      "6                                                                                     4\n",
      "  X.mnt.d.PE.Avena.AvenaSub1.5M.RNASeq.PE.04.RefGenome.Alignments.Hisat2.ctrl_N7_XT17_R2.bam\n",
      "1                                                                                          0\n",
      "2                                                                                          2\n",
      "3                                                                                         29\n",
      "4                                                                                          0\n",
      "5                                                                                         67\n",
      "6                                                                                          1\n",
      "  X.mnt.d.PE.Avena.AvenaSub1.5M.RNASeq.PE.04.RefGenome.Alignments.Hisat2.ctrl_N7_XT17_R3.bam\n",
      "1                                                                                          0\n",
      "2                                                                                          0\n",
      "3                                                                                         37\n",
      "4                                                                                          0\n",
      "5                                                                                         45\n",
      "6                                                                                          5\n",
      "  X.mnt.d.PE.Avena.AvenaSub1.5M.RNASeq.PE.04.RefGenome.Alignments.Hisat2.estres_N7_XT17_R1.bam\n",
      "1                                                                                            0\n",
      "2                                                                                            0\n",
      "3                                                                                           33\n",
      "4                                                                                            0\n",
      "5                                                                                          106\n",
      "6                                                                                            0\n",
      "  X.mnt.d.PE.Avena.AvenaSub1.5M.RNASeq.PE.04.RefGenome.Alignments.Hisat2.estres_N7_XT17_R2.bam\n",
      "1                                                                                            0\n",
      "2                                                                                            0\n",
      "3                                                                                           32\n",
      "4                                                                                            0\n",
      "5                                                                                           82\n",
      "6                                                                                            5\n",
      "  X.mnt.d.PE.Avena.AvenaSub1.5M.RNASeq.PE.04.RefGenome.Alignments.Hisat2.estres_N7_XT17_R3.bam\n",
      "1                                                                                            0\n",
      "2                                                                                            0\n",
      "3                                                                                           32\n",
      "4                                                                                            0\n",
      "5                                                                                          146\n",
      "6                                                                                           12\n"
     ]
    }
   ],
   "source": [
    "%%R\n",
    "sample_data$condition <- factor(sample_data[,condition])\n",
    "sample_data$condition <- relevel(sample_data$condition, toString(sample_data$condition[1]))\n",
    "\n",
    "counts <- df[ ,c(1, 7:length(names(df)))]\n",
    "head(counts)"
   ]
  },
  {
   "cell_type": "code",
   "execution_count": 73,
   "id": "2a3b6708",
   "metadata": {},
   "outputs": [
    {
     "name": "stdout",
     "output_type": "stream",
     "text": [
      "                        name cont_estres_R1 cont_estres_R2 cont_estres_R3\n",
      "1 AVESA.00001b.r3.1Ag0000001              0              0              0\n",
      "2 AVESA.00001b.r3.1Ag0000002              0              0              0\n",
      "3 AVESA.00001b.r3.1Ag0000003             57             40             40\n",
      "4 AVESA.00001b.r3.1Ag0000004              0              0              0\n",
      "5 AVESA.00001b.r3.1Ag0000005             76             98            138\n",
      "6 AVESA.00001b.r3.1Ag0000006              3              5             11\n",
      "  control_R1 control_R2 ctrl_N7_XT17_R2 ctrl_N7_XT17_R3 estres_N7_XT17_R1\n",
      "1          0          0               0               0                 0\n",
      "2          0          0               2               0                 0\n",
      "3         16         38              29              37                33\n",
      "4          0          0               0               0                 0\n",
      "5         44        110              67              45               106\n",
      "6          4          4               1               5                 0\n",
      "  estres_N7_XT17_R2 estres_N7_XT17_R3\n",
      "1                 0                 0\n",
      "2                 0                 0\n",
      "3                32                32\n",
      "4                 0                 0\n",
      "5                82               146\n",
      "6                 5                12\n"
     ]
    }
   ],
   "source": [
    "%%R\n",
    "names(counts) <- c(\"name\", sample_data$shortName)\n",
    "head(counts)"
   ]
  },
  {
   "cell_type": "code",
   "execution_count": 74,
   "id": "50d57b9b",
   "metadata": {},
   "outputs": [],
   "source": [
    "%%R\n",
    "output_file = \"05-featureCounts/counts-filtered.csv\"\n",
    "write.csv(counts, file=output_file, row.names=FALSE, quote=FALSE)"
   ]
  },
  {
   "cell_type": "code",
   "execution_count": 91,
   "id": "efa5b772",
   "metadata": {},
   "outputs": [
    {
     "name": "stdout",
     "output_type": "stream",
     "text": [
      "           shortName condition\n",
      "1     cont_estres_R1    Estres\n",
      "2     cont_estres_R2    Estres\n",
      "3     cont_estres_R3    Estres\n",
      "4         control_R1   Control\n",
      "5         control_R2   Control\n",
      "6    ctrl_N7_XT17_R2   Control\n",
      "7    ctrl_N7_XT17_R3   Control\n",
      "8  estres_N7_XT17_R1    Estres\n",
      "9  estres_N7_XT17_R2    Estres\n",
      "10 estres_N7_XT17_R3    Estres\n"
     ]
    }
   ],
   "source": [
    "%%R\n",
    "colData <- dplyr::select(sample_data,shortName)\n",
    "#colData$sample <- sample_data$shortName\n",
    "colData$condition <- factor(sample_data$condition)\n",
    "colData$condition = relevel(colData$condition, toString(colData$condition[1]))\n",
    "colData"
   ]
  },
  {
   "cell_type": "code",
   "execution_count": 94,
   "id": "8d42d70f",
   "metadata": {},
   "outputs": [
    {
     "name": "stdout",
     "output_type": "stream",
     "text": [
      "  cont_estres_R1 cont_estres_R2 cont_estres_R3 control_R1 control_R2\n",
      "1              0              0              0          0          0\n",
      "2              0              0              0          0          0\n",
      "3             57             40             40         16         38\n",
      "4              0              0              0          0          0\n",
      "5             76             98            138         44        110\n",
      "6              3              5             11          4          4\n",
      "  ctrl_N7_XT17_R2 ctrl_N7_XT17_R3 estres_N7_XT17_R1 estres_N7_XT17_R2\n",
      "1               0               0                 0                 0\n",
      "2               2               0                 0                 0\n",
      "3              29              37                33                32\n",
      "4               0               0                 0                 0\n",
      "5              67              45               106                82\n",
      "6               1               5                 0                 5\n",
      "  estres_N7_XT17_R3\n",
      "1                 0\n",
      "2                 0\n",
      "3                32\n",
      "4                 0\n",
      "5               146\n",
      "6                12\n"
     ]
    }
   ],
   "source": [
    "%%R\n",
    "\n",
    "sample_names <- sample_data$shortName\n",
    "countData <- round(counts[, sample_names])\n",
    "head(countData)"
   ]
  },
  {
   "cell_type": "code",
   "execution_count": 95,
   "id": "0b84d221",
   "metadata": {},
   "outputs": [
    {
     "name": "stdout",
     "output_type": "stream",
     "text": [
      " [1] \"cont_estres_R1\"    \"cont_estres_R2\"    \"cont_estres_R3\"   \n",
      " [4] \"control_R1\"        \"control_R2\"        \"ctrl_N7_XT17_R2\"  \n",
      " [7] \"ctrl_N7_XT17_R3\"   \"estres_N7_XT17_R1\" \"estres_N7_XT17_R2\"\n",
      "[10] \"estres_N7_XT17_R3\"\n"
     ]
    }
   ],
   "source": [
    "%%R\n",
    "colnames(countData)"
   ]
  },
  {
   "cell_type": "code",
   "execution_count": 77,
   "id": "889e9a10",
   "metadata": {},
   "outputs": [
    {
     "name": "stdout",
     "output_type": "stream",
     "text": [
      "                        name\n",
      "1 AVESA.00001b.r3.1Ag0000001\n",
      "2 AVESA.00001b.r3.1Ag0000002\n",
      "3 AVESA.00001b.r3.1Ag0000003\n",
      "4 AVESA.00001b.r3.1Ag0000004\n",
      "5 AVESA.00001b.r3.1Ag0000005\n",
      "6 AVESA.00001b.r3.1Ag0000006\n"
     ]
    }
   ],
   "source": [
    "%%R\n",
    "otherCols = counts[!(names(counts) %in% sample_names)]\n",
    "head(otherCols)"
   ]
  },
  {
   "cell_type": "code",
   "execution_count": 96,
   "id": "aa93d86e",
   "metadata": {},
   "outputs": [
    {
     "name": "stdout",
     "output_type": "stream",
     "text": [
      "Formal class 'DESeqDataSet' [package \"DESeq2\"] with 8 slots\n",
      "  ..@ design            :Class 'formula'  language ~condition\n",
      "  .. .. ..- attr(*, \".Environment\")=<environment: R_GlobalEnv> \n",
      "  ..@ dispersionFunction:function ()  \n",
      "  ..@ rowRanges         :Formal class 'CompressedGRangesList' [package \"GenomicRanges\"] with 5 slots\n",
      "  .. .. ..@ unlistData     :Formal class 'GRanges' [package \"GenomicRanges\"] with 7 slots\n",
      "  .. .. .. .. ..@ seqnames       :Formal class 'Rle' [package \"S4Vectors\"] with 4 slots\n",
      "  .. .. .. .. .. .. ..@ values         : Factor w/ 0 levels: \n",
      "  .. .. .. .. .. .. ..@ lengths        : int(0) \n",
      "  .. .. .. .. .. .. ..@ elementMetadata: NULL\n",
      "  .. .. .. .. .. .. ..@ metadata       : list()\n",
      "  .. .. .. .. ..@ ranges         :Formal class 'IRanges' [package \"IRanges\"] with 6 slots\n",
      "  .. .. .. .. .. .. ..@ start          : int(0) \n",
      "  .. .. .. .. .. .. ..@ width          : int(0) \n",
      "  .. .. .. .. .. .. ..@ NAMES          : NULL\n",
      "  .. .. .. .. .. .. ..@ elementType    : chr \"ANY\"\n",
      "  .. .. .. .. .. .. ..@ elementMetadata: NULL\n",
      "  .. .. .. .. .. .. ..@ metadata       : list()\n",
      "  .. .. .. .. ..@ strand         :Formal class 'Rle' [package \"S4Vectors\"] with 4 slots\n",
      "  .. .. .. .. .. .. ..@ values         : Factor w/ 3 levels \"+\",\"-\",\"*\": \n",
      "  .. .. .. .. .. .. ..@ lengths        : int(0) \n",
      "  .. .. .. .. .. .. ..@ elementMetadata: NULL\n",
      "  .. .. .. .. .. .. ..@ metadata       : list()\n",
      "  .. .. .. .. ..@ seqinfo        :Formal class 'Seqinfo' [package \"GenomeInfoDb\"] with 4 slots\n",
      "  .. .. .. .. .. .. ..@ seqnames   : chr(0) \n",
      "  .. .. .. .. .. .. ..@ seqlengths : int(0) \n",
      "  .. .. .. .. .. .. ..@ is_circular: logi(0) \n",
      "  .. .. .. .. .. .. ..@ genome     : chr(0) \n",
      "  .. .. .. .. ..@ elementMetadata:Formal class 'DFrame' [package \"S4Vectors\"] with 6 slots\n",
      "  .. .. .. .. .. .. ..@ rownames       : NULL\n",
      "  .. .. .. .. .. .. ..@ nrows          : int 0\n",
      "  .. .. .. .. .. .. ..@ elementType    : chr \"ANY\"\n",
      "  .. .. .. .. .. .. ..@ elementMetadata: NULL\n",
      "  .. .. .. .. .. .. ..@ metadata       : list()\n",
      "  .. .. .. .. .. .. ..@ listData       : Named list()\n",
      "  .. .. .. .. ..@ elementType    : chr \"ANY\"\n",
      "  .. .. .. .. ..@ metadata       : list()\n",
      "  .. .. ..@ elementMetadata:Formal class 'DFrame' [package \"S4Vectors\"] with 6 slots\n",
      "  .. .. .. .. ..@ rownames       : NULL\n",
      "  .. .. .. .. ..@ nrows          : int 22532\n",
      "  .. .. .. .. ..@ elementType    : chr \"ANY\"\n",
      "  .. .. .. .. ..@ elementMetadata:Formal class 'DFrame' [package \"S4Vectors\"] with 6 slots\n",
      "  .. .. .. .. .. .. ..@ rownames       : NULL\n",
      "  .. .. .. .. .. .. ..@ nrows          : int 0\n",
      "  .. .. .. .. .. .. ..@ elementType    : chr \"ANY\"\n",
      "  .. .. .. .. .. .. ..@ elementMetadata: NULL\n",
      "  .. .. .. .. .. .. ..@ metadata       : list()\n",
      "  .. .. .. .. .. .. ..@ listData       :List of 2\n",
      "  .. .. .. .. .. .. .. ..$ type       : chr(0) \n",
      "  .. .. .. .. .. .. .. ..$ description: chr(0) \n",
      "  .. .. .. .. ..@ metadata       : list()\n",
      "  .. .. .. .. ..@ listData       : Named list()\n",
      "  .. .. ..@ elementType    : chr \"GRanges\"\n",
      "  .. .. ..@ metadata       : list()\n",
      "  .. .. ..@ partitioning   :Formal class 'PartitioningByEnd' [package \"IRanges\"] with 5 slots\n",
      "  .. .. .. .. ..@ end            : int [1:22532] 0 0 0 0 0 0 0 0 0 0 ...\n",
      "  .. .. .. .. ..@ NAMES          : NULL\n",
      "  .. .. .. .. ..@ elementType    : chr \"ANY\"\n",
      "  .. .. .. .. ..@ elementMetadata: NULL\n",
      "  .. .. .. .. ..@ metadata       : list()\n",
      "  ..@ colData           :Formal class 'DFrame' [package \"S4Vectors\"] with 6 slots\n",
      "  .. .. ..@ rownames       : chr [1:10] \"cont_estres_R1\" \"cont_estres_R2\" \"cont_estres_R3\" \"control_R1\" ...\n",
      "  .. .. ..@ nrows          : int 10\n",
      "  .. .. ..@ elementType    : chr \"ANY\"\n",
      "  .. .. ..@ elementMetadata:Formal class 'DFrame' [package \"S4Vectors\"] with 6 slots\n",
      "  .. .. .. .. ..@ rownames       : NULL\n",
      "  .. .. .. .. ..@ nrows          : int 2\n",
      "  .. .. .. .. ..@ elementType    : chr \"ANY\"\n",
      "  .. .. .. .. ..@ elementMetadata: NULL\n",
      "  .. .. .. .. ..@ metadata       : list()\n",
      "  .. .. .. .. ..@ listData       :List of 2\n",
      "  .. .. .. .. .. ..$ type       : chr [1:2] \"input\" \"input\"\n",
      "  .. .. .. .. .. ..$ description: chr [1:2] \"\" \"\"\n",
      "  .. .. ..@ metadata       : list()\n",
      "  .. .. ..@ listData       :List of 2\n",
      "  .. .. .. ..$ shortName: chr [1:10] \"cont_estres_R1\" \"cont_estres_R2\" \"cont_estres_R3\" \"control_R1\" ...\n",
      "  .. .. .. ..$ condition: Factor w/ 2 levels \"Estres\",\"Control\": 1 1 1 2 2 2 2 1 1 1\n",
      "  ..@ assays            :Formal class 'SimpleAssays' [package \"SummarizedExperiment\"] with 1 slot\n",
      "  .. .. ..@ data:Formal class 'SimpleList' [package \"S4Vectors\"] with 4 slots\n",
      "  .. .. .. .. ..@ listData       :List of 1\n",
      "  .. .. .. .. .. ..$ counts: int [1:22532, 1:10] 0 0 57 0 76 3 49 7 0 0 ...\n",
      "  .. .. .. .. .. .. ..- attr(*, \"dimnames\")=List of 2\n",
      "  .. .. .. .. .. .. .. ..$ : NULL\n",
      "  .. .. .. .. .. .. .. ..$ : chr [1:10] \"cont_estres_R1\" \"cont_estres_R2\" \"cont_estres_R3\" \"control_R1\" ...\n",
      "  .. .. .. .. ..@ elementType    : chr \"ANY\"\n",
      "  .. .. .. .. ..@ elementMetadata: NULL\n",
      "  .. .. .. .. ..@ metadata       : list()\n",
      "  ..@ NAMES             : NULL\n",
      "  ..@ elementMetadata   :Formal class 'DFrame' [package \"S4Vectors\"] with 6 slots\n",
      "  .. .. ..@ rownames       : NULL\n",
      "  .. .. ..@ nrows          : int 22532\n",
      "  .. .. ..@ elementType    : chr \"ANY\"\n",
      "  .. .. ..@ elementMetadata: NULL\n",
      "  .. .. ..@ metadata       : list()\n",
      "  .. .. ..@ listData       : Named list()\n",
      "  ..@ metadata          :List of 1\n",
      "  .. ..$ version:Classes 'package_version', 'numeric_version'  hidden list of 1\n",
      "  .. .. ..$ : int [1:3] 1 40 2\n"
     ]
    },
    {
     "data": {
      "text/plain": [
       "converting counts to integer mode\n",
       "  it appears that the last variable in the design formula, 'condition',\n",
       "  has a factor level, 'Control', which is not the reference level. we recommend\n",
       "  to use factor(...,levels=...) or relevel() to set this as the reference level\n",
       "  before proceeding. for more information, please see the 'Note on factor levels'\n",
       "  in vignette('DESeq2').\n"
      ]
     },
     "metadata": {},
     "output_type": "display_data"
    }
   ],
   "source": [
    "%%R\n",
    "suppressPackageStartupMessages(library(DESeq2))\n",
    "\n",
    "dds = DESeqDataSetFromMatrix(countData=countData, colData=colData, design = ~condition)\n",
    "str(dds)"
   ]
  },
  {
   "cell_type": "code",
   "execution_count": 97,
   "id": "888df76e",
   "metadata": {
    "scrolled": true
   },
   "outputs": [
    {
     "data": {
      "text/plain": [
       "estimating size factors\n",
       "estimating dispersions\n",
       "gene-wise dispersion estimates\n",
       "mean-dispersion relationship\n",
       "final dispersion estimates\n",
       "fitting model and testing\n"
      ]
     },
     "metadata": {},
     "output_type": "display_data"
    }
   ],
   "source": [
    "%%R\n",
    "dse = DESeq(dds)\n",
    "res = results(dse)"
   ]
  },
  {
   "cell_type": "code",
   "execution_count": 98,
   "id": "2045d44b",
   "metadata": {},
   "outputs": [
    {
     "name": "stdout",
     "output_type": "stream",
     "text": [
      "class: DESeqDataSet \n",
      "dim: 22532 10 \n",
      "metadata(1): version\n",
      "assays(4): counts mu H cooks\n",
      "rownames: NULL\n",
      "rowData names(22): baseMean baseVar ... deviance maxCooks\n",
      "colnames(10): cont_estres_R1 cont_estres_R2 ... estres_N7_XT17_R2\n",
      "  estres_N7_XT17_R3\n",
      "colData names(3): shortName condition sizeFactor\n"
     ]
    }
   ],
   "source": [
    "%%R\n",
    "dse"
   ]
  },
  {
   "cell_type": "code",
   "execution_count": 99,
   "id": "35df37c5",
   "metadata": {},
   "outputs": [
    {
     "name": "stdout",
     "output_type": "stream",
     "text": [
      "log2 fold change (MLE): condition Control vs Estres \n",
      "Wald test p-value: condition Control vs Estres \n",
      "DataFrame with 22532 rows and 6 columns\n",
      "       baseMean log2FoldChange     lfcSE      stat    pvalue      padj\n",
      "      <numeric>      <numeric> <numeric> <numeric> <numeric> <numeric>\n",
      "1      0.000000             NA        NA        NA        NA        NA\n",
      "2      0.198459       1.594391  3.223218  0.494658 0.6208414        NA\n",
      "3     34.686100      -0.240750  0.331393 -0.726479 0.4675454  0.826418\n",
      "4      0.000000             NA        NA        NA        NA        NA\n",
      "5     86.572550      -0.492705  0.272276 -1.809578 0.0703612  0.416301\n",
      "...         ...            ...       ...       ...       ...       ...\n",
      "22528   8.67159      -0.273150  0.520774 -0.524508  0.599925        NA\n",
      "22529  12.01408       0.365719  0.489058  0.747804  0.454579        NA\n",
      "22530  11.40207       0.187512  0.444714  0.421648  0.673282        NA\n",
      "22531   7.06532       0.469114  0.521267  0.899950  0.368147        NA\n",
      "22532  16.23221       0.357624  0.383831  0.931724  0.351479        NA\n"
     ]
    }
   ],
   "source": [
    "%%R\n",
    "res"
   ]
  },
  {
   "cell_type": "code",
   "execution_count": null,
   "id": "d23e3ee7",
   "metadata": {},
   "outputs": [],
   "source": []
  },
  {
   "cell_type": "code",
   "execution_count": 100,
   "id": "5dfbbcc6",
   "metadata": {},
   "outputs": [
    {
     "name": "stdout",
     "output_type": "stream",
     "text": [
      "                            name  baseMean log2FoldChange     lfcSE      stat\n",
      "13079 AVESA.00001b.r3.4Ag0003021  63.52202      -2.072057 0.3025930 -6.847670\n",
      "22220 AVESA.00001b.r3.3Ag0001998  86.42582      -1.513330 0.2246977 -6.734963\n",
      "18485 AVESA.00001b.r3.6Ag0001706 198.08755      -1.472238 0.2267753 -6.492057\n",
      "11547 AVESA.00001b.r3.4Ag0001489 118.63819       1.370497 0.2199462  6.231054\n",
      "16995 AVESA.00001b.r3.6Ag0000216 261.15084       2.166673 0.3761608  5.759965\n",
      "11315 AVESA.00001b.r3.4Ag0001257 143.56178       1.595630 0.2841412  5.615624\n",
      "            PValue          FDR foldChange         PAdj     falsePos baseMeanA\n",
      "13079 7.506252e-12 4.688405e-08  0.2378202 1.430767e-07 4.688405e-08         1\n",
      "22220 1.639719e-11 5.120843e-08  0.3503016 3.125305e-07 1.024169e-07         1\n",
      "18485 8.467220e-11 1.762875e-07  0.3604227 1.613767e-06 5.288625e-07         1\n",
      "11547 4.633081e-10 7.234556e-07  2.5855957 8.829726e-06 2.893823e-06         1\n",
      "16995 8.413155e-09 1.050971e-05  4.4898675 1.603295e-04 5.254857e-05         1\n",
      "11315 1.958541e-08 2.038841e-05  3.0222651 3.732196e-04 1.223305e-04         1\n",
      "      baseMeanB\n",
      "13079         1\n",
      "22220         1\n",
      "18485         1\n",
      "11547         1\n",
      "16995         1\n",
      "11315         1\n"
     ]
    }
   ],
   "source": [
    "%%R\n",
    "data = cbind(otherCols, data.frame(res))\n",
    "data$foldChange = 2 ^ data$log2FoldChange\n",
    "names(data)[names(data)==\"pvalue\"] <-\"PValue\"\n",
    "names(data)[names(data)==\"padj\"] <- \"FDR\"\n",
    "data$PAdj = p.adjust(data$PValue, method=\"hochberg\")\n",
    "data = data[with(data, order(PValue, -foldChange)), ]\n",
    "data$falsePos = 1:nrow(data) * data$FDR\n",
    "\n",
    "data$baseMeanA = 1\n",
    "data$baseMeanB = 1\n",
    "\n",
    "head(data)"
   ]
  },
  {
   "cell_type": "code",
   "execution_count": 101,
   "id": "a382116d",
   "metadata": {},
   "outputs": [],
   "source": [
    "%%R\n",
    "normed = counts(dse, normalized=TRUE)\n",
    "normed = round(normed, 1)"
   ]
  },
  {
   "cell_type": "code",
   "execution_count": 102,
   "id": "fb5d6be6",
   "metadata": {},
   "outputs": [
    {
     "name": "stdout",
     "output_type": "stream",
     "text": [
      "     cont_estres_R1 cont_estres_R2 cont_estres_R3 control_R1 control_R2\n",
      "[1,]            0.0            0.0            0.0        0.0        0.0\n",
      "[2,]            0.0            0.0            0.0        0.0        0.0\n",
      "[3,]           62.4           39.4           34.4       18.1       40.6\n",
      "[4,]            0.0            0.0            0.0        0.0        0.0\n",
      "[5,]           83.2           96.6          118.5       49.7      117.5\n",
      "[6,]            3.3            4.9            9.4        4.5        4.3\n",
      "     ctrl_N7_XT17_R2 ctrl_N7_XT17_R3 estres_N7_XT17_R1 estres_N7_XT17_R2\n",
      "[1,]             0.0             0.0               0.0               0.0\n",
      "[2,]             2.0             0.0               0.0               0.0\n",
      "[3,]            28.8            36.9              26.0              35.0\n",
      "[4,]             0.0             0.0               0.0               0.0\n",
      "[5,]            66.5            44.9              83.6              89.6\n",
      "[6,]             1.0             5.0               0.0               5.5\n",
      "     estres_N7_XT17_R3\n",
      "[1,]               0.0\n",
      "[2,]               0.0\n",
      "[3,]              25.3\n",
      "[4,]               0.0\n",
      "[5,]             115.5\n",
      "[6,]               9.5\n"
     ]
    }
   ],
   "source": [
    "%%R\n",
    "head(normed)"
   ]
  },
  {
   "cell_type": "code",
   "execution_count": 103,
   "id": "ec92374a",
   "metadata": {
    "scrolled": true
   },
   "outputs": [
    {
     "name": "stdout",
     "output_type": "stream",
     "text": [
      "[1] 22532    10\n"
     ]
    }
   ],
   "source": [
    "%%R\n",
    "dim(normed)"
   ]
  },
  {
   "cell_type": "code",
   "execution_count": 104,
   "id": "2c2b30ba",
   "metadata": {},
   "outputs": [
    {
     "name": "stdout",
     "output_type": "stream",
     "text": [
      "function (x, ..., wt = NULL, sort = FALSE, name = NULL) \n",
      "{\n",
      "    UseMethod(\"count\")\n",
      "}\n",
      "<bytecode: 0x5565e6997a98>\n",
      "<environment: namespace:dplyr>\n"
     ]
    }
   ],
   "source": [
    "%%R\n",
    "count"
   ]
  },
  {
   "cell_type": "code",
   "execution_count": 105,
   "id": "c6e8cb58",
   "metadata": {},
   "outputs": [
    {
     "data": {
      "image/png": "[encoded data removed]",
      "text/plain": [
       "<IPython.core.display.Image object>"
      ]
     },
     "metadata": {},
     "output_type": "display_data"
    }
   ],
   "source": [
    "%%R\n",
    "d <- plotCounts(dse, gene=which.min(res$padj), intgroup=\"condition\", \n",
    "                returnData=TRUE)\n",
    "library(\"ggplot2\")\n",
    "ggplot(d, aes(x=condition, y=count)) + \n",
    "  geom_point(position=position_jitter(w=0.1,h=0)) + \n",
    "  scale_y_log10(breaks=c(25,100,400))"
   ]
  },
  {
   "cell_type": "code",
   "execution_count": 106,
   "id": "1df6d5b3",
   "metadata": {},
   "outputs": [
    {
     "name": "stdout",
     "output_type": "stream",
     "text": [
      "     cont_estres_R1 cont_estres_R2 cont_estres_R3 control_R1 control_R2\n",
      "[1,]       3.844263       3.844263       3.844263   3.844263   3.844263\n",
      "[2,]       3.844263       3.844263       3.844263   3.844263   3.844263\n",
      "[3,]       6.472297       6.021508       5.897841   5.388561   6.048967\n",
      "     ctrl_N7_XT17_R2 ctrl_N7_XT17_R3 estres_N7_XT17_R1 estres_N7_XT17_R2\n",
      "[1,]        3.844263        3.844263          3.844263          3.844263\n",
      "[2,]        4.377502        3.844263          3.844263          3.844263\n",
      "[3,]        5.745710        5.961402          5.663704          5.913724\n",
      "     estres_N7_XT17_R3\n",
      "[1,]          3.844263\n",
      "[2,]          3.844263\n",
      "[3,]          5.641502\n"
     ]
    }
   ],
   "source": [
    "%%R\n",
    "vsd <- vst(dse, blind=FALSE)\n",
    "rld <- rlog(dse, blind=FALSE)\n",
    "ntd <- normTransform(dds)\n",
    "head(assay(vsd), 3)"
   ]
  },
  {
   "cell_type": "code",
   "execution_count": 107,
   "id": "c724c770",
   "metadata": {},
   "outputs": [
    {
     "data": {
      "image/png": "[encoded data removed]",
      "text/plain": [
       "<IPython.core.display.Image object>"
      ]
     },
     "metadata": {},
     "output_type": "display_data"
    }
   ],
   "source": [
    "%%R\n",
    "library(\"pheatmap\")\n",
    "select <- order(rowMeans(counts(dse,normalized=TRUE)),\n",
    "                decreasing=TRUE)[1:20]\n",
    "df <- as.data.frame(colData(dse)[,c(\"condition\",\"shortName\")])\n",
    "pheatmap(assay(ntd)[select,], cluster_rows=FALSE, show_rownames=FALSE,\n",
    "         cluster_cols=FALSE, annotation_col=df)"
   ]
  },
  {
   "cell_type": "code",
   "execution_count": 108,
   "id": "54187d36",
   "metadata": {},
   "outputs": [
    {
     "data": {
      "image/png": "[encoded data removed]",
      "text/plain": [
       "<IPython.core.display.Image object>"
      ]
     },
     "metadata": {},
     "output_type": "display_data"
    }
   ],
   "source": [
    "%%R\n",
    "\n",
    "pheatmap(assay(vsd)[select,], cluster_rows=FALSE, show_rownames=FALSE,\n",
    "         cluster_cols=FALSE, annotation_col=df)"
   ]
  },
  {
   "cell_type": "code",
   "execution_count": 109,
   "id": "cb6cad53",
   "metadata": {},
   "outputs": [
    {
     "data": {
      "image/png": "[encoded data removed]",
      "text/plain": [
       "<IPython.core.display.Image object>"
      ]
     },
     "metadata": {},
     "output_type": "display_data"
    }
   ],
   "source": [
    "%%R\n",
    "sampleDists <- dist(t(assay(vsd))) \n",
    "library(\"RColorBrewer\")\n",
    "sampleDistMatrix <- as.matrix(sampleDists)\n",
    "rownames(sampleDistMatrix) <- paste(vsd$condition, vsd$shortName, sep=\"-\")\n",
    "colnames(sampleDistMatrix) <- NULL\n",
    "colors <- colorRampPalette( rev(brewer.pal(9, \"Blues\")) )(255)\n",
    "pheatmap(sampleDistMatrix,\n",
    "         clustering_distance_rows=sampleDists,\n",
    "         clustering_distance_cols=sampleDists,\n",
    "         col=colors)"
   ]
  },
  {
   "cell_type": "code",
   "execution_count": 110,
   "id": "f1c99a09",
   "metadata": {},
   "outputs": [
    {
     "name": "stdout",
     "output_type": "stream",
     "text": [
      "[1] 22532    12\n"
     ]
    }
   ],
   "source": [
    "%%R\n",
    "dim(data)"
   ]
  },
  {
   "cell_type": "code",
   "execution_count": 111,
   "id": "694a4e43",
   "metadata": {},
   "outputs": [
    {
     "name": "stdout",
     "output_type": "stream",
     "text": [
      "      Row.names                       name  baseMean log2FoldChange     lfcSE\n",
      "3424      13079 AVESA.00001b.r3.4Ag0003021  63.52202      -2.072057 0.3025930\n",
      "13582     22220 AVESA.00001b.r3.3Ag0001998  86.42582      -1.513330 0.2246977\n",
      "9430      18485 AVESA.00001b.r3.6Ag0001706 198.08755      -1.472238 0.2267753\n",
      "1722      11547 AVESA.00001b.r3.4Ag0001489 118.63819       1.370497 0.2199462\n",
      "7774      16995 AVESA.00001b.r3.6Ag0000216 261.15084       2.166673 0.3761608\n",
      "1465      11315 AVESA.00001b.r3.4Ag0001257 143.56178       1.595630 0.2841412\n",
      "           stat       PValue          FDR foldChange         PAdj     falsePos\n",
      "3424  -6.847670 7.506252e-12 4.688405e-08  0.2378202 1.430767e-07 4.688405e-08\n",
      "13582 -6.734963 1.639719e-11 5.120843e-08  0.3503016 3.125305e-07 1.024169e-07\n",
      "9430  -6.492057 8.467220e-11 1.762875e-07  0.3604227 1.613767e-06 5.288625e-07\n",
      "1722   6.231054 4.633081e-10 7.234556e-07  2.5855957 8.829726e-06 2.893823e-06\n",
      "7774   5.759965 8.413155e-09 1.050971e-05  4.4898675 1.603295e-04 5.254857e-05\n",
      "1465   5.615624 1.958541e-08 2.038841e-05  3.0222651 3.732196e-04 1.223305e-04\n",
      "      baseMeanA baseMeanB cont_estres_R1 cont_estres_R2 cont_estres_R3\n",
      "3424          1         1          152.1           67.0           81.6\n",
      "13582         1         1          125.9          107.4          100.5\n",
      "9430          1         1          287.9          252.2          231.9\n",
      "1722          1         1           74.4           63.1           53.3\n",
      "7774          1         1          116.0           51.2          170.9\n",
      "1465          1         1           85.4           59.1           85.0\n",
      "      control_R1 control_R2 ctrl_N7_XT17_R2 ctrl_N7_XT17_R3 estres_N7_XT17_R1\n",
      "3424        19.2       27.8            23.8            16.0              91.5\n",
      "13582       55.4       35.3            35.7            37.9             146.8\n",
      "9430       104.0      129.3            98.2            52.9             316.4\n",
      "1722       160.5      229.7           212.4           148.6              71.8\n",
      "7774       394.6      213.7           430.7           918.4              59.2\n",
      "1465       157.2      137.8           300.7           363.0              73.4\n",
      "      estres_N7_XT17_R2 estres_N7_XT17_R3\n",
      "3424               84.2              72.0\n",
      "13582              98.4             121.1\n",
      "9430              220.8             287.3\n",
      "1722               72.1             100.5\n",
      "7774              133.4             123.5\n",
      "1465              106.0              68.1\n"
     ]
    }
   ],
   "source": [
    "%%R\n",
    "total <- merge(data, normed, by=0)\n",
    "total = total[with(total, order(PValue, -foldChange)), ]\n",
    "head(total)"
   ]
  },
  {
   "cell_type": "code",
   "execution_count": 112,
   "id": "abe234ee",
   "metadata": {},
   "outputs": [],
   "source": [
    "%%R\n",
    "col_names_A = data.frame(split(colData, colData$condition)[1])[,1]\n",
    "col_names_B = data.frame(split(colData, colData$condition)[2])[,1]\n",
    "\n",
    "total$baseMeanA = rowMeans(total[, col_names_A])\n",
    "total$baseMeanB = rowMeans(total[, col_names_B])\n",
    "\n",
    "total$foldChange = round(total$foldChange, 3)\n",
    "total$log2FoldChange = round(total$log2FoldChange, 1)\n",
    "total$baseMean  = round(total$baseMean, 1)\n",
    "total$baseMeanA = round(total$baseMeanA, 1)\n",
    "total$baseMeanB =  round(total$baseMeanB, 1)\n",
    "total$lfcSE = round(total$lfcSE, 2)\n",
    "total$stat = round(total$stat, 2)\n",
    "total$FDR = round(total$FDR, 4)\n",
    "total$falsePos = round(total$falsePos, 0)\n",
    "\n",
    "total$PAdj = formatC(total$PAdj, format = \"e\", digits = 1)\n",
    "total$PValue = formatC(total$PValue, format = \"e\", digits = 1)"
   ]
  },
  {
   "cell_type": "code",
   "execution_count": 113,
   "id": "d3b5d91c",
   "metadata": {},
   "outputs": [
    {
     "name": "stdout",
     "output_type": "stream",
     "text": [
      "      Row.names                       name baseMean log2FoldChange lfcSE  stat\n",
      "3424      13079 AVESA.00001b.r3.4Ag0003021     63.5           -2.1  0.30 -6.85\n",
      "13582     22220 AVESA.00001b.r3.3Ag0001998     86.4           -1.5  0.22 -6.73\n",
      "9430      18485 AVESA.00001b.r3.6Ag0001706    198.1           -1.5  0.23 -6.49\n",
      "1722      11547 AVESA.00001b.r3.4Ag0001489    118.6            1.4  0.22  6.23\n",
      "7774      16995 AVESA.00001b.r3.6Ag0000216    261.2            2.2  0.38  5.76\n",
      "1465      11315 AVESA.00001b.r3.4Ag0001257    143.6            1.6  0.28  5.62\n",
      "       PValue FDR foldChange    PAdj falsePos baseMeanA baseMeanB\n",
      "3424  7.5e-12   0      0.238 1.4e-07        0      91.4      21.7\n",
      "13582 1.6e-11   0      0.350 3.1e-07        0     116.7      41.1\n",
      "9430  8.5e-11   0      0.360 1.6e-06        0     266.1      96.1\n",
      "1722  4.6e-10   0      2.586 8.8e-06        0      72.5     187.8\n",
      "7774  8.4e-09   0      4.490 1.6e-04        0     109.0     489.4\n",
      "1465  2.0e-08   0      3.022 3.7e-04        0      79.5     239.7\n",
      "      cont_estres_R1 cont_estres_R2 cont_estres_R3 control_R1 control_R2\n",
      "3424           152.1           67.0           81.6       19.2       27.8\n",
      "13582          125.9          107.4          100.5       55.4       35.3\n",
      "9430           287.9          252.2          231.9      104.0      129.3\n",
      "1722            74.4           63.1           53.3      160.5      229.7\n",
      "7774           116.0           51.2          170.9      394.6      213.7\n",
      "1465            85.4           59.1           85.0      157.2      137.8\n",
      "      ctrl_N7_XT17_R2 ctrl_N7_XT17_R3 estres_N7_XT17_R1 estres_N7_XT17_R2\n",
      "3424             23.8            16.0              91.5              84.2\n",
      "13582            35.7            37.9             146.8              98.4\n",
      "9430             98.2            52.9             316.4             220.8\n",
      "1722            212.4           148.6              71.8              72.1\n",
      "7774            430.7           918.4              59.2             133.4\n",
      "1465            300.7           363.0              73.4             106.0\n",
      "      estres_N7_XT17_R3\n",
      "3424               72.0\n",
      "13582             121.1\n",
      "9430              287.3\n",
      "1722              100.5\n",
      "7774              123.5\n",
      "1465               68.1\n"
     ]
    }
   ],
   "source": [
    "%%R\n",
    "head(total)"
   ]
  },
  {
   "cell_type": "code",
   "execution_count": 114,
   "id": "03835f5b",
   "metadata": {},
   "outputs": [
    {
     "name": "stdout",
     "output_type": "stream",
     "text": [
      "[1] \"name\"\n"
     ]
    }
   ],
   "source": [
    "%%R\n",
    "names(otherCols)"
   ]
  },
  {
   "cell_type": "code",
   "execution_count": 115,
   "id": "9e238700",
   "metadata": {},
   "outputs": [
    {
     "name": "stdout",
     "output_type": "stream",
     "text": [
      "                            name baseMean baseMeanA baseMeanB foldChange\n",
      "3424  AVESA.00001b.r3.4Ag0003021     63.5      91.4      21.7      0.238\n",
      "13582 AVESA.00001b.r3.3Ag0001998     86.4     116.7      41.1      0.350\n",
      "9430  AVESA.00001b.r3.6Ag0001706    198.1     266.1      96.1      0.360\n",
      "1722  AVESA.00001b.r3.4Ag0001489    118.6      72.5     187.8      2.586\n",
      "7774  AVESA.00001b.r3.6Ag0000216    261.2     109.0     489.4      4.490\n",
      "1465  AVESA.00001b.r3.4Ag0001257    143.6      79.5     239.7      3.022\n",
      "      log2FoldChange lfcSE  stat  PValue    PAdj FDR falsePos cont_estres_R1\n",
      "3424            -2.1  0.30 -6.85 7.5e-12 1.4e-07   0        0          152.1\n",
      "13582           -1.5  0.22 -6.73 1.6e-11 3.1e-07   0        0          125.9\n",
      "9430            -1.5  0.23 -6.49 8.5e-11 1.6e-06   0        0          287.9\n",
      "1722             1.4  0.22  6.23 4.6e-10 8.8e-06   0        0           74.4\n",
      "7774             2.2  0.38  5.76 8.4e-09 1.6e-04   0        0          116.0\n",
      "1465             1.6  0.28  5.62 2.0e-08 3.7e-04   0        0           85.4\n",
      "      cont_estres_R2 cont_estres_R3 estres_N7_XT17_R1 estres_N7_XT17_R2\n",
      "3424            67.0           81.6              91.5              84.2\n",
      "13582          107.4          100.5             146.8              98.4\n",
      "9430           252.2          231.9             316.4             220.8\n",
      "1722            63.1           53.3              71.8              72.1\n",
      "7774            51.2          170.9              59.2             133.4\n",
      "1465            59.1           85.0              73.4             106.0\n",
      "      estres_N7_XT17_R3 control_R1 control_R2 ctrl_N7_XT17_R2 ctrl_N7_XT17_R3\n",
      "3424               72.0       19.2       27.8            23.8            16.0\n",
      "13582             121.1       55.4       35.3            35.7            37.9\n",
      "9430              287.3      104.0      129.3            98.2            52.9\n",
      "1722              100.5      160.5      229.7           212.4           148.6\n",
      "7774              123.5      394.6      213.7           430.7           918.4\n",
      "1465               68.1      157.2      137.8           300.7           363.0\n"
     ]
    }
   ],
   "source": [
    "%%R\n",
    "#colnames(total)[1] <- \"name\"\n",
    "\n",
    "new_cols = c(\"name\", \"baseMean\",\"baseMeanA\",\"baseMeanB\",\"foldChange\",\n",
    "             \"log2FoldChange\",\"lfcSE\",\"stat\",\"PValue\",\"PAdj\", \"FDR\",\"falsePos\",col_names_A, col_names_B)\n",
    "\n",
    "total = total[, new_cols]\n",
    "\n",
    "head(total)"
   ]
  },
  {
   "cell_type": "code",
   "execution_count": 116,
   "id": "5e451c1b",
   "metadata": {},
   "outputs": [
    {
     "data": {
      "image/png": "[encoded data removed]",
      "text/plain": [
       "<IPython.core.display.Image object>"
      ]
     },
     "metadata": {},
     "output_type": "display_data"
    }
   ],
   "source": [
    "%%R\n",
    "hist(total$log2FoldChange)"
   ]
  },
  {
   "cell_type": "code",
   "execution_count": 117,
   "id": "a2cfe144",
   "metadata": {},
   "outputs": [
    {
     "data": {
      "image/png": "[encoded data removed]",
      "text/plain": [
       "<IPython.core.display.Image object>"
      ]
     },
     "metadata": {},
     "output_type": "display_data"
    }
   ],
   "source": [
    "%%R\n",
    "hist(total$foldChange)"
   ]
  },
  {
   "cell_type": "code",
   "execution_count": 118,
   "id": "8747a5ec",
   "metadata": {},
   "outputs": [
    {
     "name": "stdout",
     "output_type": "stream",
     "text": [
      "[1] 22532    22\n"
     ]
    }
   ],
   "source": [
    "%%R\n",
    "dim(total)"
   ]
  },
  {
   "cell_type": "code",
   "execution_count": 119,
   "id": "20b0c8c7",
   "metadata": {},
   "outputs": [],
   "source": [
    "%%R\n",
    "write.csv(total, file= \"05-featureCounts/results-filtered.csv\", row.names=FALSE, quote=FALSE)"
   ]
  },
  {
   "cell_type": "code",
   "execution_count": 120,
   "id": "c23ccb08",
   "metadata": {},
   "outputs": [
    {
     "name": "stdout",
     "output_type": "stream",
     "text": [
      "                            name baseMean baseMeanA baseMeanB foldChange\n",
      "3424  AVESA.00001b.r3.4Ag0003021     63.5      91.4      21.7      0.238\n",
      "13582 AVESA.00001b.r3.3Ag0001998     86.4     116.7      41.1      0.350\n",
      "9430  AVESA.00001b.r3.6Ag0001706    198.1     266.1      96.1      0.360\n",
      "1722  AVESA.00001b.r3.4Ag0001489    118.6      72.5     187.8      2.586\n",
      "7774  AVESA.00001b.r3.6Ag0000216    261.2     109.0     489.4      4.490\n",
      "1465  AVESA.00001b.r3.4Ag0001257    143.6      79.5     239.7      3.022\n",
      "      log2FoldChange lfcSE  stat  PValue    PAdj FDR falsePos cont_estres_R1\n",
      "3424            -2.1  0.30 -6.85 7.5e-12 1.4e-07   0        0          152.1\n",
      "13582           -1.5  0.22 -6.73 1.6e-11 3.1e-07   0        0          125.9\n",
      "9430            -1.5  0.23 -6.49 8.5e-11 1.6e-06   0        0          287.9\n",
      "1722             1.4  0.22  6.23 4.6e-10 8.8e-06   0        0           74.4\n",
      "7774             2.2  0.38  5.76 8.4e-09 1.6e-04   0        0          116.0\n",
      "1465             1.6  0.28  5.62 2.0e-08 3.7e-04   0        0           85.4\n",
      "      cont_estres_R2 cont_estres_R3 estres_N7_XT17_R1 estres_N7_XT17_R2\n",
      "3424            67.0           81.6              91.5              84.2\n",
      "13582          107.4          100.5             146.8              98.4\n",
      "9430           252.2          231.9             316.4             220.8\n",
      "1722            63.1           53.3              71.8              72.1\n",
      "7774            51.2          170.9              59.2             133.4\n",
      "1465            59.1           85.0              73.4             106.0\n",
      "      estres_N7_XT17_R3 control_R1 control_R2 ctrl_N7_XT17_R2 ctrl_N7_XT17_R3\n",
      "3424               72.0       19.2       27.8            23.8            16.0\n",
      "13582             121.1       55.4       35.3            35.7            37.9\n",
      "9430              287.3      104.0      129.3            98.2            52.9\n",
      "1722              100.5      160.5      229.7           212.4           148.6\n",
      "7774              123.5      394.6      213.7           430.7           918.4\n",
      "1465               68.1      157.2      137.8           300.7           363.0\n"
     ]
    }
   ],
   "source": [
    "%%R\n",
    "\n",
    "MIN_FDR = 0.05\n",
    "\n",
    "WIDTH = 15\n",
    "HEIGHT = 16\n",
    "MARGINS = c(9, 12)\n",
    "LHEI = c(1, 5)\n",
    "\n",
    "data = subset(total, data$FDR <= MIN_FDR)\n",
    "\n",
    "head(data)"
   ]
  },
  {
   "cell_type": "code",
   "execution_count": 121,
   "id": "a916d436",
   "metadata": {},
   "outputs": [
    {
     "name": "stdout",
     "output_type": "stream",
     "text": [
      "      cont_estres_R1 cont_estres_R2 cont_estres_R3 estres_N7_XT17_R1\n",
      "3424       152.10000       66.99999       81.60001          91.50001\n",
      "13582      125.89999      107.40001      100.50000         146.80001\n",
      "9430       287.89999      252.20000      231.90000         316.39999\n",
      "1722        74.40000       63.09999       53.29999          71.79999\n",
      "7774       116.00000       51.19999      170.90001          59.20000\n",
      "1465        85.39999       59.10000       85.00000          73.40001\n",
      "      estres_N7_XT17_R2 estres_N7_XT17_R3 control_R1 control_R2 ctrl_N7_XT17_R2\n",
      "3424           84.20001              72.0       19.2       27.8        23.79999\n",
      "13582          98.39999             121.1       55.4       35.3        35.70000\n",
      "9430          220.79999             287.3      104.0      129.3        98.20000\n",
      "1722           72.10001             100.5      160.5      229.7       212.40001\n",
      "7774          133.40001             123.5      394.6      213.7       430.70001\n",
      "1465          106.00000              68.1      157.2      137.8       300.69999\n",
      "      ctrl_N7_XT17_R3\n",
      "3424         15.99999\n",
      "13582        37.89999\n",
      "9430         52.90000\n",
      "1722        148.60001\n",
      "7774        918.39999\n",
      "1465        363.00000\n"
     ]
    }
   ],
   "source": [
    "%%R\n",
    "row_names = data[, 1]\n",
    "idx = which(colnames(data) == \"falsePos\") + 1\n",
    "\n",
    "counts = data[, idx : ncol(data)]\n",
    "values = as.matrix(counts)\n",
    "values = jitter(values, factor = 1, amount = 0.00001)\n",
    "head(values)"
   ]
  },
  {
   "cell_type": "code",
   "execution_count": 122,
   "id": "e5184360",
   "metadata": {},
   "outputs": [
    {
     "name": "stdout",
     "output_type": "stream",
     "text": [
      "                           cont_estres_R1 cont_estres_R2 cont_estres_R3\n",
      "AVESA.00001b.r3.4Ag0003021      2.0660378     0.08116722      0.4216977\n",
      "AVESA.00001b.r3.3Ag0001998      0.9450386     0.50197717      0.3367269\n",
      "AVESA.00001b.r3.6Ag0001706      0.9570672     0.57662746      0.3602989\n",
      "AVESA.00001b.r3.4Ag0001489     -0.6828608    -0.85728074     -1.0085474\n",
      "AVESA.00001b.r3.6Ag0000216     -0.5485970    -0.79349292     -0.3411158\n",
      "AVESA.00001b.r3.4Ag0001257     -0.5545205    -0.80523185     -0.5583335\n",
      "                           estres_N7_XT17_R1 estres_N7_XT17_R2\n",
      "AVESA.00001b.r3.4Ag0003021         0.6526050         0.4823400\n",
      "AVESA.00001b.r3.3Ag0001998         1.4455790         0.2864333\n",
      "AVESA.00001b.r3.6Ag0001706         1.2607797         0.2420108\n",
      "AVESA.00001b.r3.4Ag0001489        -0.7229930        -0.7183621\n",
      "AVESA.00001b.r3.6Ag0000216        -0.7632588        -0.4828379\n",
      "AVESA.00001b.r3.4Ag0001257        -0.6689134        -0.3581456\n",
      "                           estres_N7_XT17_R3 control_R1  control_R2\n",
      "AVESA.00001b.r3.4Ag0003021         0.1977874 -1.0337187 -0.83313235\n",
      "AVESA.00001b.r3.3Ag0001998         0.8300824 -0.7433858 -1.22476641\n",
      "AVESA.00001b.r3.6Ag0001706         0.9506733 -1.0026774 -0.73306591\n",
      "AVESA.00001b.r3.4Ag0001489        -0.2799978  0.6461247  1.71425249\n",
      "AVESA.00001b.r3.6Ag0000216        -0.5202526  0.5043041 -0.17936357\n",
      "AVESA.00001b.r3.4Ag0001257        -0.7194370  0.1299315 -0.05500395\n",
      "                           ctrl_N7_XT17_R2 ctrl_N7_XT17_R3\n",
      "AVESA.00001b.r3.4Ag0003021      -0.9264285      -1.1083556\n",
      "AVESA.00001b.r3.3Ag0001998      -1.2151868      -1.1624984\n",
      "AVESA.00001b.r3.6Ag0001706      -1.0644855      -1.5472286\n",
      "AVESA.00001b.r3.4Ag0001489       1.4472208       0.4624439\n",
      "AVESA.00001b.r3.6Ag0000216       0.6407353       2.4838791\n",
      "AVESA.00001b.r3.4Ag0001257       1.4978818       2.0917725\n"
     ]
    }
   ],
   "source": [
    "%%R\n",
    "zscores = NULL\n",
    "for (i in 1 : nrow(values)) {\n",
    "  row = values[i,]\n",
    "  zrow = (row - mean(row)) / sd(row)\n",
    "  zscores = rbind(zscores, zrow)\n",
    "}\n",
    "\n",
    "row.names(zscores) = row_names\n",
    "\n",
    "zscores = as.matrix(zscores)\n",
    "\n",
    "head(zscores)"
   ]
  },
  {
   "cell_type": "code",
   "execution_count": 123,
   "id": "8a115d0a",
   "metadata": {},
   "outputs": [
    {
     "data": {
      "image/png": "[encoded data removed]",
      "text/plain": [
       "<IPython.core.display.Image object>"
      ]
     },
     "metadata": {},
     "output_type": "display_data"
    }
   ],
   "source": [
    "%%R\n",
    "\n",
    "suppressPackageStartupMessages(library(gplots))\n",
    "col = greenred\n",
    "\n",
    "\n",
    "heatmap.2(zscores, col=col, density.info=\"none\", Colv=NULL,\n",
    "    dendrogram=\"row\", trace=\"none\", margins=MARGINS, lhei=LHEI)"
   ]
  },
  {
   "cell_type": "code",
   "execution_count": 124,
   "id": "c348f5b6",
   "metadata": {},
   "outputs": [
    {
     "name": "stdout",
     "output_type": "stream",
     "text": [
      "[1] 177  10\n"
     ]
    }
   ],
   "source": [
    "%%R\n",
    "dim(zscores)"
   ]
  },
  {
   "cell_type": "code",
   "execution_count": 125,
   "id": "61a000b1",
   "metadata": {},
   "outputs": [],
   "source": [
    "%%R\n",
    "\n",
    "library(\"pheatmap\")\n",
    "library(\"RColorBrewer\")\n",
    "\n",
    "g <- pheatmap(zscores,color = colorRampPalette(rev(brewer.pal(n = 7, name = \"RdYlBu\")))(100),\n",
    "              border_color = \"grey60\",\n",
    "              #scale = \"none\", \n",
    "              cluster_rows = TRUE, \n",
    "              cluster_cols = TRUE,\n",
    "              fontsize_row = 5, \n",
    "              fontsize_col = 6, \n",
    "              clustering_distance_rows = \"correlation\",\n",
    "              clustering_method = \"complete\", \n",
    "              angle_col = c(\"90\"),\n",
    "              #cellwidth = 5, \n",
    "              #cellheight = 5\n",
    "              width = 10,\n",
    "              height = 15,\n",
    "              filename = \"heatmap-filtered.pdf\"\n",
    "             )\n",
    "\n",
    "g"
   ]
  },
  {
   "cell_type": "code",
   "execution_count": 126,
   "id": "010a42d9",
   "metadata": {},
   "outputs": [
    {
     "data": {
      "image/png": "[encoded data removed]",
      "text/plain": [
       "<IPython.core.display.Image object>"
      ]
     },
     "metadata": {},
     "output_type": "display_data"
    }
   ],
   "source": [
    "%%R\n",
    "g"
   ]
  },
  {
   "cell_type": "code",
   "execution_count": 127,
   "id": "48415e67",
   "metadata": {},
   "outputs": [
    {
     "name": "stdout",
     "output_type": "stream",
     "text": [
      "[1] \"Intercept\"                   \"condition_Control_vs_Estres\"\n"
     ]
    }
   ],
   "source": [
    "%%R\n",
    "resultsNames(dse)"
   ]
  },
  {
   "cell_type": "code",
   "execution_count": 128,
   "id": "516ed364",
   "metadata": {},
   "outputs": [
    {
     "name": "stdout",
     "output_type": "stream",
     "text": [
      "log2 fold change (MAP): condition Control vs Estres \n",
      "Wald test p-value: condition Control vs Estres \n",
      "DataFrame with 22532 rows and 5 columns\n",
      "       baseMean log2FoldChange     lfcSE    pvalue      padj\n",
      "      <numeric>      <numeric> <numeric> <numeric> <numeric>\n",
      "1      0.000000             NA        NA        NA        NA\n",
      "2      0.198459     0.00758482  0.165140 0.6208414        NA\n",
      "3     34.686100    -0.04908058  0.155878 0.4675454  0.826418\n",
      "4      0.000000             NA        NA        NA        NA\n",
      "5     86.572550    -0.18011189  0.230399 0.0703612  0.416301\n",
      "...         ...            ...       ...       ...       ...\n",
      "22528   8.67159     -0.0249579  0.159829  0.599925        NA\n",
      "22529  12.01408      0.0386744  0.162037  0.454579        NA\n",
      "22530  11.40207      0.0230964  0.156603  0.673282        NA\n",
      "22531   7.06532      0.0445566  0.165127  0.368147        NA\n",
      "22532  16.23221      0.0590530  0.163924  0.351479        NA\n"
     ]
    },
    {
     "data": {
      "text/plain": [
       "using 'apeglm' for LFC shrinkage. If used in published research, please cite:\n",
       "    Zhu, A., Ibrahim, J.G., Love, M.I. (2018) Heavy-tailed prior distributions for\n",
       "    sequence count data: removing the noise and preserving large differences.\n",
       "    Bioinformatics. https://doi.org/10.1093/bioinformatics/bty895\n"
      ]
     },
     "metadata": {},
     "output_type": "display_data"
    }
   ],
   "source": [
    "%%R\n",
    "resLFC <- lfcShrink(dse, coef=\"condition_Control_vs_Estres\", type=\"apeglm\")\n",
    "resLFC"
   ]
  },
  {
   "cell_type": "code",
   "execution_count": 129,
   "id": "40ea06f5",
   "metadata": {},
   "outputs": [],
   "source": [
    "%%R\n",
    "library(\"BiocParallel\")\n",
    "register(MulticoreParam(4))"
   ]
  },
  {
   "cell_type": "code",
   "execution_count": 130,
   "id": "9e22637b",
   "metadata": {},
   "outputs": [],
   "source": [
    "%%R\n",
    "resOrdered <- res[order(res$pvalue),]"
   ]
  },
  {
   "cell_type": "code",
   "execution_count": 131,
   "id": "c0e6a9b1",
   "metadata": {},
   "outputs": [
    {
     "name": "stdout",
     "output_type": "stream",
     "text": [
      "\n",
      "out of 19082 with nonzero total read count\n",
      "adjusted p-value < 0.1\n",
      "LFC > 0 (up)       : 188, 0.99%\n",
      "LFC < 0 (down)     : 83, 0.43%\n",
      "outliers [1]       : 21, 0.11%\n",
      "low counts [2]     : 12815, 67%\n",
      "(mean count < 17)\n",
      "[1] see 'cooksCutoff' argument of ?results\n",
      "[2] see 'independentFiltering' argument of ?results\n",
      "\n"
     ]
    }
   ],
   "source": [
    "%%R\n",
    "summary(res)"
   ]
  },
  {
   "cell_type": "code",
   "execution_count": 132,
   "id": "a96b7f7e",
   "metadata": {},
   "outputs": [
    {
     "name": "stdout",
     "output_type": "stream",
     "text": [
      "\n",
      "out of 19082 with nonzero total read count\n",
      "adjusted p-value < 0.05\n",
      "LFC > 0 (up)       : 117, 0.61%\n",
      "LFC < 0 (down)     : 56, 0.29%\n",
      "outliers [1]       : 21, 0.11%\n",
      "low counts [2]     : 9158, 48%\n",
      "(mean count < 7)\n",
      "[1] see 'cooksCutoff' argument of ?results\n",
      "[2] see 'independentFiltering' argument of ?results\n",
      "\n"
     ]
    }
   ],
   "source": [
    "%%R\n",
    "summary(results(dse, alpha=0.05))"
   ]
  },
  {
   "cell_type": "code",
   "execution_count": 133,
   "id": "61f535d8",
   "metadata": {},
   "outputs": [
    {
     "data": {
      "image/png": "[encoded data removed]",
      "text/plain": [
       "<IPython.core.display.Image object>"
      ]
     },
     "metadata": {},
     "output_type": "display_data"
    }
   ],
   "source": [
    "%%R\n",
    "plotMA(res, ylim=c(-2,2))"
   ]
  },
  {
   "cell_type": "code",
   "execution_count": 134,
   "id": "fde9df93",
   "metadata": {},
   "outputs": [
    {
     "data": {
      "image/png": "[encoded data removed]",
      "text/plain": [
       "<IPython.core.display.Image object>"
      ]
     },
     "metadata": {},
     "output_type": "display_data"
    }
   ],
   "source": [
    "%%R\n",
    "plotMA(resLFC, ylim=c(-2,2))"
   ]
  },
  {
   "cell_type": "code",
   "execution_count": 136,
   "id": "9da14af0",
   "metadata": {},
   "outputs": [
    {
     "name": "stdout",
     "output_type": "stream",
     "text": [
      "NULL\n"
     ]
    },
    {
     "data": {
      "image/png": "[encoded data removed]",
      "text/plain": [
       "<IPython.core.display.Image object>"
      ]
     },
     "metadata": {},
     "output_type": "display_data"
    }
   ],
   "source": [
    "%%R\n",
    "plotMA(resLFC, ylim=c(-2,2))\n",
    "idx <- identify(res$baseMean, res$log2FoldChange)\n",
    "rownames(res)[idx]"
   ]
  },
  {
   "cell_type": "code",
   "execution_count": 137,
   "id": "cbdcc1b0",
   "metadata": {},
   "outputs": [
    {
     "data": {
      "image/png": "[encoded data removed]",
      "text/plain": [
       "<IPython.core.display.Image object>"
      ]
     },
     "metadata": {},
     "output_type": "display_data"
    }
   ],
   "source": [
    "%%R\n",
    "plotCounts(dse, gene=which.min(res$padj), intgroup=\"condition\")"
   ]
  },
  {
   "cell_type": "code",
   "execution_count": null,
   "id": "6f294f73",
   "metadata": {},
   "outputs": [],
   "source": []
  },
  {
   "cell_type": "code",
   "execution_count": null,
   "id": "8a002a95",
   "metadata": {},
   "outputs": [],
   "source": []
  },
  {
   "cell_type": "code",
   "execution_count": null,
   "id": "de8da662",
   "metadata": {},
   "outputs": [],
   "source": []
  },
  {
   "cell_type": "code",
   "execution_count": null,
   "id": "f2a29879",
   "metadata": {},
   "outputs": [],
   "source": []
  },
  {
   "cell_type": "code",
   "execution_count": null,
   "id": "1ebf7b6a",
   "metadata": {},
   "outputs": [],
   "source": []
  },
  {
   "cell_type": "code",
   "execution_count": null,
   "id": "6cc7fc17",
   "metadata": {},
   "outputs": [],
   "source": []
  },
  {
   "cell_type": "code",
   "execution_count": null,
   "id": "7a5e3e8c",
   "metadata": {},
   "outputs": [],
   "source": []
  }
 ],
 "metadata": {
  "kernelspec": {
   "display_name": "Python [conda env:RNASeq-dbg]",
   "language": "python",
   "name": "conda-env-RNASeq-dbg-py"
  },
  "language_info": {
   "codemirror_mode": {
    "name": "ipython",
    "version": 3
   },
   "file_extension": ".py",
   "mimetype": "text/x-python",
   "name": "python",
   "nbconvert_exporter": "python",
   "pygments_lexer": "ipython3",
   "version": "3.12.3"
  }
 },
 "nbformat": 4,
 "nbformat_minor": 5
}
