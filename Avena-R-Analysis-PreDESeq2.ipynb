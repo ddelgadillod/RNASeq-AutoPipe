{
 "cells": [
  {
   "cell_type": "markdown",
   "id": "b27ec504",
   "metadata": {},
   "source": [
    "# R-DESeq2 Analysis Paired End data\n",
    "\n",
    "## Pre processing"
   ]
  },
  {
   "cell_type": "code",
   "execution_count": 1,
   "id": "46bdd20e",
   "metadata": {},
   "outputs": [],
   "source": [
    "import pandas as pd\n",
    "import os"
   ]
  },
  {
   "cell_type": "code",
   "execution_count": 2,
   "id": "fdc8b6f2",
   "metadata": {},
   "outputs": [],
   "source": [
    "def env_var(envar, var):\n",
    "    import os\n",
    "    os.environ[envar] = var\n",
    "    return\n",
    "\n",
    "\n",
    "def is_gzipped_content(file_path):\n",
    "    try:\n",
    "        with open(file_path, 'rb') as f:\n",
    "            # Read the first two bytes to check for the gzip magic number\n",
    "            magic_number = f.read(2)\n",
    "            return magic_number == b'\\x1f\\x8b'\n",
    "    except OSError:\n",
    "        return False\n",
    "    \n",
    "    \n",
    "#print(refGenomePath)\n",
    "#jobIdxPE + '/RefGenome.fa'\n",
    "def decompress_gzipped(org, dest):\n",
    "    os.system('gzip -d ' + org + ' -c > ' + dest)\n",
    "    return"
   ]
  },
  {
   "cell_type": "code",
   "execution_count": 3,
   "id": "ae0eb72a",
   "metadata": {},
   "outputs": [],
   "source": [
    "PEPath = \"/mnt/d/PE/Avena/\"\n",
    "jobIdxPE = \"AvenaSub1.5M-RNASeq-PE\"\n",
    "env_var(\"PEPath\", PEPath)\n",
    "env_var(\"jobIdxPE\", jobIdxPE)"
   ]
  },
  {
   "cell_type": "code",
   "execution_count": 4,
   "id": "701b7d57",
   "metadata": {},
   "outputs": [],
   "source": [
    "os.chdir(PEPath)"
   ]
  },
  {
   "cell_type": "code",
   "execution_count": 5,
   "id": "40b1d01f",
   "metadata": {},
   "outputs": [
    {
     "name": "stdout",
     "output_type": "stream",
     "text": [
      "/mnt/d/PE/Avena/\n",
      "AvenaSub1.5M-RNASeq-PE\n"
     ]
    }
   ],
   "source": [
    "!echo $PEPath\n",
    "!echo $jobIdxPE"
   ]
  },
  {
   "cell_type": "code",
   "execution_count": 6,
   "id": "5df19691",
   "metadata": {
    "scrolled": true
   },
   "outputs": [
    {
     "data": {
      "text/html": [
       "<div>\n",
       "<style scoped>\n",
       "    .dataframe tbody tr th:only-of-type {\n",
       "        vertical-align: middle;\n",
       "    }\n",
       "\n",
       "    .dataframe tbody tr th {\n",
       "        vertical-align: top;\n",
       "    }\n",
       "\n",
       "    .dataframe thead th {\n",
       "        text-align: right;\n",
       "    }\n",
       "</style>\n",
       "<table border=\"1\" class=\"dataframe\">\n",
       "  <thead>\n",
       "    <tr style=\"text-align: right;\">\n",
       "      <th></th>\n",
       "      <th>file1</th>\n",
       "      <th>file2</th>\n",
       "      <th>type</th>\n",
       "      <th>shortName</th>\n",
       "      <th>meta1</th>\n",
       "      <th>meta2</th>\n",
       "      <th>meta3</th>\n",
       "      <th>replicate</th>\n",
       "      <th>trimmed1</th>\n",
       "      <th>trimmed2</th>\n",
       "    </tr>\n",
       "  </thead>\n",
       "  <tbody>\n",
       "    <tr>\n",
       "      <th>0</th>\n",
       "      <td>sub1.5M-Ctrl_Estres_R1_1.fastq.gz</td>\n",
       "      <td>sub1.5M-Ctrl_Estres_R1_2.fastq.gz</td>\n",
       "      <td>paired</td>\n",
       "      <td>cont_estres_R1</td>\n",
       "      <td>Estres</td>\n",
       "      <td>Inoculado</td>\n",
       "      <td>A</td>\n",
       "      <td>1</td>\n",
       "      <td>sub1.5M-Ctrl_Estres_R1_1_paired.fastq.gz</td>\n",
       "      <td>sub1.5M-Ctrl_Estres_R1_2_paired.fastq.gz</td>\n",
       "    </tr>\n",
       "    <tr>\n",
       "      <th>1</th>\n",
       "      <td>sub1.5M-Ctrl_Estres_R2_1.fastq.gz</td>\n",
       "      <td>sub1.5M-Ctrl_Estres_R2_2.fastq.gz</td>\n",
       "      <td>paired</td>\n",
       "      <td>cont_estres_R2</td>\n",
       "      <td>Estres</td>\n",
       "      <td>Inoculado</td>\n",
       "      <td>A</td>\n",
       "      <td>2</td>\n",
       "      <td>sub1.5M-Ctrl_Estres_R2_1_paired.fastq.gz</td>\n",
       "      <td>sub1.5M-Ctrl_Estres_R2_2_paired.fastq.gz</td>\n",
       "    </tr>\n",
       "    <tr>\n",
       "      <th>2</th>\n",
       "      <td>sub1.5M-Ctrll_Estres_R3_1.fastq.gz</td>\n",
       "      <td>sub1.5M-Ctrll_Estres_R3_2.fastq.gz</td>\n",
       "      <td>paired</td>\n",
       "      <td>cont_estres_R3</td>\n",
       "      <td>Estres</td>\n",
       "      <td>Inoculado</td>\n",
       "      <td>A</td>\n",
       "      <td>3</td>\n",
       "      <td>sub1.5M-Ctrll_Estres_R3_1_paired.fastq.gz</td>\n",
       "      <td>sub1.5M-Ctrll_Estres_R3_2_paired.fastq.gz</td>\n",
       "    </tr>\n",
       "    <tr>\n",
       "      <th>3</th>\n",
       "      <td>sub1.5M-Control_R1_1.fastq.gz</td>\n",
       "      <td>sub1.5M-Control_R1_2.fastq.gz</td>\n",
       "      <td>paired</td>\n",
       "      <td>control_R1</td>\n",
       "      <td>Control</td>\n",
       "      <td>No_inoculado</td>\n",
       "      <td>B</td>\n",
       "      <td>1</td>\n",
       "      <td>sub1.5M-Control_R1_1_paired.fastq.gz</td>\n",
       "      <td>sub1.5M-Control_R1_2_paired.fastq.gz</td>\n",
       "    </tr>\n",
       "    <tr>\n",
       "      <th>4</th>\n",
       "      <td>sub1.5M-Control_R2_1.fastq.gz</td>\n",
       "      <td>sub1.5M-Control_R2_2.fastq.gz</td>\n",
       "      <td>paired</td>\n",
       "      <td>control_R2</td>\n",
       "      <td>Control</td>\n",
       "      <td>No_inoculado</td>\n",
       "      <td>B</td>\n",
       "      <td>2</td>\n",
       "      <td>sub1.5M-Control_R2_1_paired.fastq.gz</td>\n",
       "      <td>sub1.5M-Control_R2_2_paired.fastq.gz</td>\n",
       "    </tr>\n",
       "    <tr>\n",
       "      <th>5</th>\n",
       "      <td>sub1.5M-Ctrl_N7_XT17_R1_1.fastq.gz</td>\n",
       "      <td>sub1.5M-Ctrl_N7_XT17_R1_2.fastq.gz</td>\n",
       "      <td>paired</td>\n",
       "      <td>ctrl_N7_XT17_R1</td>\n",
       "      <td>Control</td>\n",
       "      <td>Inoculado</td>\n",
       "      <td>C</td>\n",
       "      <td>1</td>\n",
       "      <td>sub1.5M-Ctrl_N7_XT17_R1_1_paired.fastq.gz</td>\n",
       "      <td>sub1.5M-Ctrl_N7_XT17_R1_2_paired.fastq.gz</td>\n",
       "    </tr>\n",
       "    <tr>\n",
       "      <th>6</th>\n",
       "      <td>sub1.5M-Ctrl_N7_XT17_R2_1.fastq.gz</td>\n",
       "      <td>sub1.5M-Ctrl_N7_XT17_R2_2.fastq.gz</td>\n",
       "      <td>paired</td>\n",
       "      <td>ctrl_N7_XT17_R2</td>\n",
       "      <td>Control</td>\n",
       "      <td>Inoculado</td>\n",
       "      <td>C</td>\n",
       "      <td>2</td>\n",
       "      <td>sub1.5M-Ctrl_N7_XT17_R2_1_paired.fastq.gz</td>\n",
       "      <td>sub1.5M-Ctrl_N7_XT17_R2_2_paired.fastq.gz</td>\n",
       "    </tr>\n",
       "    <tr>\n",
       "      <th>7</th>\n",
       "      <td>sub1.5M-Ctrl_N7_XT17_R3_1.fastq.gz</td>\n",
       "      <td>sub1.5M-Ctrl_N7_XT17_R3_2.fastq.gz</td>\n",
       "      <td>paired</td>\n",
       "      <td>ctrl_N7_XT17_R3</td>\n",
       "      <td>Control</td>\n",
       "      <td>Inoculado</td>\n",
       "      <td>C</td>\n",
       "      <td>3</td>\n",
       "      <td>sub1.5M-Ctrl_N7_XT17_R3_1_paired.fastq.gz</td>\n",
       "      <td>sub1.5M-Ctrl_N7_XT17_R3_2_paired.fastq.gz</td>\n",
       "    </tr>\n",
       "    <tr>\n",
       "      <th>8</th>\n",
       "      <td>sub1.5M-Estre_N7XT17_R1_1.fastq.gz</td>\n",
       "      <td>sub1.5M-Estre_N7XT17_R1_2.fastq.gz</td>\n",
       "      <td>paired</td>\n",
       "      <td>estres_N7_XT17_R1</td>\n",
       "      <td>Estres</td>\n",
       "      <td>No_inoculado</td>\n",
       "      <td>D</td>\n",
       "      <td>1</td>\n",
       "      <td>sub1.5M-Estre_N7XT17_R1_1_paired.fastq.gz</td>\n",
       "      <td>sub1.5M-Estre_N7XT17_R1_2_paired.fastq.gz</td>\n",
       "    </tr>\n",
       "    <tr>\n",
       "      <th>9</th>\n",
       "      <td>sub1.5M-Estre_N7XT17_R2_1.fastq.gz</td>\n",
       "      <td>sub1.5M-Estre_N7XT17_R2_2.fastq.gz</td>\n",
       "      <td>paired</td>\n",
       "      <td>estres_N7_XT17_R2</td>\n",
       "      <td>Estres</td>\n",
       "      <td>No_inoculado</td>\n",
       "      <td>D</td>\n",
       "      <td>2</td>\n",
       "      <td>sub1.5M-Estre_N7XT17_R2_1_paired.fastq.gz</td>\n",
       "      <td>sub1.5M-Estre_N7XT17_R2_2_paired.fastq.gz</td>\n",
       "    </tr>\n",
       "    <tr>\n",
       "      <th>10</th>\n",
       "      <td>sub1.5M-Estre_N7XT17_R3_1.fastq.gz</td>\n",
       "      <td>sub1.5M-Estre_N7XT17_R3_2.fastq.gz</td>\n",
       "      <td>paired</td>\n",
       "      <td>estres_N7_XT17_R3</td>\n",
       "      <td>Estres</td>\n",
       "      <td>No_inoculado</td>\n",
       "      <td>D</td>\n",
       "      <td>3</td>\n",
       "      <td>sub1.5M-Estre_N7XT17_R3_1_paired.fastq.gz</td>\n",
       "      <td>sub1.5M-Estre_N7XT17_R3_2_paired.fastq.gz</td>\n",
       "    </tr>\n",
       "  </tbody>\n",
       "</table>\n",
       "</div>"
      ],
      "text/plain": [
       "                                 file1                               file2  \\\n",
       "0    sub1.5M-Ctrl_Estres_R1_1.fastq.gz   sub1.5M-Ctrl_Estres_R1_2.fastq.gz   \n",
       "1    sub1.5M-Ctrl_Estres_R2_1.fastq.gz   sub1.5M-Ctrl_Estres_R2_2.fastq.gz   \n",
       "2   sub1.5M-Ctrll_Estres_R3_1.fastq.gz  sub1.5M-Ctrll_Estres_R3_2.fastq.gz   \n",
       "3        sub1.5M-Control_R1_1.fastq.gz       sub1.5M-Control_R1_2.fastq.gz   \n",
       "4        sub1.5M-Control_R2_1.fastq.gz       sub1.5M-Control_R2_2.fastq.gz   \n",
       "5   sub1.5M-Ctrl_N7_XT17_R1_1.fastq.gz  sub1.5M-Ctrl_N7_XT17_R1_2.fastq.gz   \n",
       "6   sub1.5M-Ctrl_N7_XT17_R2_1.fastq.gz  sub1.5M-Ctrl_N7_XT17_R2_2.fastq.gz   \n",
       "7   sub1.5M-Ctrl_N7_XT17_R3_1.fastq.gz  sub1.5M-Ctrl_N7_XT17_R3_2.fastq.gz   \n",
       "8   sub1.5M-Estre_N7XT17_R1_1.fastq.gz  sub1.5M-Estre_N7XT17_R1_2.fastq.gz   \n",
       "9   sub1.5M-Estre_N7XT17_R2_1.fastq.gz  sub1.5M-Estre_N7XT17_R2_2.fastq.gz   \n",
       "10  sub1.5M-Estre_N7XT17_R3_1.fastq.gz  sub1.5M-Estre_N7XT17_R3_2.fastq.gz   \n",
       "\n",
       "      type          shortName    meta1         meta2 meta3  replicate  \\\n",
       "0   paired     cont_estres_R1   Estres     Inoculado     A          1   \n",
       "1   paired     cont_estres_R2   Estres     Inoculado     A          2   \n",
       "2   paired     cont_estres_R3   Estres     Inoculado     A          3   \n",
       "3   paired         control_R1  Control  No_inoculado     B          1   \n",
       "4   paired         control_R2  Control  No_inoculado     B          2   \n",
       "5   paired    ctrl_N7_XT17_R1  Control     Inoculado     C          1   \n",
       "6   paired    ctrl_N7_XT17_R2  Control     Inoculado     C          2   \n",
       "7   paired    ctrl_N7_XT17_R3  Control     Inoculado     C          3   \n",
       "8   paired  estres_N7_XT17_R1   Estres  No_inoculado     D          1   \n",
       "9   paired  estres_N7_XT17_R2   Estres  No_inoculado     D          2   \n",
       "10  paired  estres_N7_XT17_R3   Estres  No_inoculado     D          3   \n",
       "\n",
       "                                     trimmed1  \\\n",
       "0    sub1.5M-Ctrl_Estres_R1_1_paired.fastq.gz   \n",
       "1    sub1.5M-Ctrl_Estres_R2_1_paired.fastq.gz   \n",
       "2   sub1.5M-Ctrll_Estres_R3_1_paired.fastq.gz   \n",
       "3        sub1.5M-Control_R1_1_paired.fastq.gz   \n",
       "4        sub1.5M-Control_R2_1_paired.fastq.gz   \n",
       "5   sub1.5M-Ctrl_N7_XT17_R1_1_paired.fastq.gz   \n",
       "6   sub1.5M-Ctrl_N7_XT17_R2_1_paired.fastq.gz   \n",
       "7   sub1.5M-Ctrl_N7_XT17_R3_1_paired.fastq.gz   \n",
       "8   sub1.5M-Estre_N7XT17_R1_1_paired.fastq.gz   \n",
       "9   sub1.5M-Estre_N7XT17_R2_1_paired.fastq.gz   \n",
       "10  sub1.5M-Estre_N7XT17_R3_1_paired.fastq.gz   \n",
       "\n",
       "                                     trimmed2  \n",
       "0    sub1.5M-Ctrl_Estres_R1_2_paired.fastq.gz  \n",
       "1    sub1.5M-Ctrl_Estres_R2_2_paired.fastq.gz  \n",
       "2   sub1.5M-Ctrll_Estres_R3_2_paired.fastq.gz  \n",
       "3        sub1.5M-Control_R1_2_paired.fastq.gz  \n",
       "4        sub1.5M-Control_R2_2_paired.fastq.gz  \n",
       "5   sub1.5M-Ctrl_N7_XT17_R1_2_paired.fastq.gz  \n",
       "6   sub1.5M-Ctrl_N7_XT17_R2_2_paired.fastq.gz  \n",
       "7   sub1.5M-Ctrl_N7_XT17_R3_2_paired.fastq.gz  \n",
       "8   sub1.5M-Estre_N7XT17_R1_2_paired.fastq.gz  \n",
       "9   sub1.5M-Estre_N7XT17_R2_2_paired.fastq.gz  \n",
       "10  sub1.5M-Estre_N7XT17_R3_2_paired.fastq.gz  "
      ]
     },
     "metadata": {},
     "output_type": "display_data"
    }
   ],
   "source": [
    "metaPE = pd.read_csv(PEPath + jobIdxPE + \"/metadata.csv\", sep = ',')\n",
    "display(metaPE)"
   ]
  },
  {
   "cell_type": "code",
   "execution_count": 7,
   "id": "75f52711",
   "metadata": {},
   "outputs": [
    {
     "data": {
      "text/plain": [
       "0"
      ]
     },
     "execution_count": 7,
     "metadata": {},
     "output_type": "execute_result"
    }
   ],
   "source": [
    "os.system(\"mkdir -p \" + PEPath + jobIdxPE + \"/05-featureCounts\")"
   ]
  },
  {
   "cell_type": "code",
   "execution_count": 8,
   "id": "c6ac9748",
   "metadata": {
    "scrolled": true
   },
   "outputs": [
    {
     "name": "stdout",
     "output_type": "stream",
     "text": [
      "total 4.8G\r\n",
      "-rwxrwxrwx 1 ddelgadillo ddelgadillo   94 May 29 22:00 TruSeq3-PE.fa\r\n",
      "-rwxrwxrwx 1 ddelgadillo ddelgadillo  478 Jul  4 09:45 Avena_codata.csv\r\n",
      "-rwxrwxrwx 1 ddelgadillo ddelgadillo 117M Jul  4 09:50 sub1.5M-Estre_N7XT17_R3_2.fastq.gz\r\n",
      "-rwxrwxrwx 1 ddelgadillo ddelgadillo 111M Jul  4 09:51 sub1.5M-Estre_N7XT17_R3_1.fastq.gz\r\n",
      "-rwxrwxrwx 1 ddelgadillo ddelgadillo 115M Jul  4 09:51 sub1.5M-Estre_N7XT17_R2_2.fastq.gz\r\n",
      "-rwxrwxrwx 1 ddelgadillo ddelgadillo 108M Jul  4 09:52 sub1.5M-Estre_N7XT17_R2_1.fastq.gz\r\n",
      "-rwxrwxrwx 1 ddelgadillo ddelgadillo 118M Jul  4 09:52 sub1.5M-Estre_N7XT17_R1_2.fastq.gz\r\n",
      "-rwxrwxrwx 1 ddelgadillo ddelgadillo 110M Jul  4 09:53 sub1.5M-Estre_N7XT17_R1_1.fastq.gz\r\n",
      "-rwxrwxrwx 1 ddelgadillo ddelgadillo 115M Jul  4 09:54 sub1.5M-Ctrl_N7_XT17_R3_2.fastq.gz\r\n",
      "-rwxrwxrwx 1 ddelgadillo ddelgadillo 109M Jul  4 09:54 sub1.5M-Ctrl_N7_XT17_R3_1.fastq.gz\r\n",
      "-rwxrwxrwx 1 ddelgadillo ddelgadillo 114M Jul  4 09:55 sub1.5M-Ctrl_N7_XT17_R2_2.fastq.gz\r\n",
      "-rwxrwxrwx 1 ddelgadillo ddelgadillo 108M Jul  4 09:55 sub1.5M-Ctrl_N7_XT17_R2_1.fastq.gz\r\n",
      "-rwxrwxrwx 1 ddelgadillo ddelgadillo 106M Jul  4 09:56 sub1.5M-Ctrl_N7_XT17_R1_2.fastq.gz\r\n",
      "-rwxrwxrwx 1 ddelgadillo ddelgadillo 102M Jul  4 09:56 sub1.5M-Ctrl_N7_XT17_R1_1.fastq.gz\r\n",
      "-rwxrwxrwx 1 ddelgadillo ddelgadillo 118M Jul  4 09:57 sub1.5M-Ctrll_Estres_R3_2.fastq.gz\r\n",
      "-rwxrwxrwx 1 ddelgadillo ddelgadillo 111M Jul  4 09:57 sub1.5M-Ctrll_Estres_R3_1.fastq.gz\r\n",
      "-rwxrwxrwx 1 ddelgadillo ddelgadillo 115M Jul  4 09:58 sub1.5M-Ctrl_Estres_R2_2.fastq.gz\r\n",
      "-rwxrwxrwx 1 ddelgadillo ddelgadillo 109M Jul  4 09:58 sub1.5M-Ctrl_Estres_R2_1.fastq.gz\r\n",
      "-rwxrwxrwx 1 ddelgadillo ddelgadillo 114M Jul  4 09:59 sub1.5M-Ctrl_Estres_R1_2.fastq.gz\r\n",
      "-rwxrwxrwx 1 ddelgadillo ddelgadillo 108M Jul  4 10:00 sub1.5M-Ctrl_Estres_R1_1.fastq.gz\r\n",
      "-rwxrwxrwx 1 ddelgadillo ddelgadillo 113M Jul  4 10:00 sub1.5M-Control_R2_2.fastq.gz\r\n",
      "-rwxrwxrwx 1 ddelgadillo ddelgadillo 108M Jul  4 10:01 sub1.5M-Control_R2_1.fastq.gz\r\n",
      "-rwxrwxrwx 1 ddelgadillo ddelgadillo 114M Jul  4 10:02 sub1.5M-Control_R1_2.fastq.gz\r\n",
      "-rwxrwxrwx 1 ddelgadillo ddelgadillo 108M Jul  4 10:03 sub1.5M-Control_R1_1.fastq.gz\r\n",
      "-rwxrwxrwx 1 ddelgadillo ddelgadillo 407M Jul  4 10:10 gene_annotation_1.zip\r\n",
      "-rwxrwxrwx 1 ddelgadillo ddelgadillo 1.3K Jul  4 10:21 AvenaSub1.5M_PE_metadata.csv\r\n",
      "-rwxrwxrwx 1 ddelgadillo ddelgadillo  18M Jul  4 15:57 Pepsico-OT3098-A.gff3.gz\r\n",
      "-rwxrwxrwx 1 ddelgadillo ddelgadillo 268M Jul  4 16:00 Asativa_sang.v1-A.gff3\r\n",
      "-rwxrwxrwx 1 ddelgadillo ddelgadillo 948M Jul  4 16:10 Pepsico-OT3098-A.fasta.gz\r\n",
      "-rwxrwxrwx 1 ddelgadillo ddelgadillo 201K Jul  4 16:19 Asativa_sang.v1-A.agat.log\r\n",
      "-rwxrwxrwx 1 ddelgadillo ddelgadillo 435M Jul  4 16:21 Asativa_sang.v1-A.gtf\r\n",
      "-rwxrwxrwx 1 ddelgadillo ddelgadillo 3.4M Jul  4 16:28 Pepsico-OT3098-A.gff3.agat.log\r\n",
      "-rwxrwxrwx 1 ddelgadillo ddelgadillo 385M Jul  4 16:30 Pepsico-OT3098-A.gtf\r\n",
      "drwxrwxrwx 1 ddelgadillo ddelgadillo 4.0K Jul  8 09:38 AvenaSub1.5M-RNASeq-PE\r\n"
     ]
    }
   ],
   "source": [
    "!ls -ltrh $PEPath"
   ]
  },
  {
   "cell_type": "code",
   "execution_count": 9,
   "id": "5e008719",
   "metadata": {
    "scrolled": false
   },
   "outputs": [
    {
     "name": "stdout",
     "output_type": "stream",
     "text": [
      "\u001b[34;42m.\u001b[0m\n",
      "└── \u001b[34;42mAvenaSub1.5M-RNASeq-PE\u001b[0m\n",
      "    ├── \u001b[34;42m01-QC-Pre-Reports\u001b[0m\n",
      "    │   └── \u001b[34;42mmultiqc_data\u001b[0m\n",
      "    ├── \u001b[34;42m02-Trimming-Trimmomatic\u001b[0m\n",
      "    │   ├── \u001b[34;42msummary\u001b[0m\n",
      "    │   └── \u001b[34;42munpaired\u001b[0m\n",
      "    ├── \u001b[34;42m03-QC-Pos-Reports\u001b[0m\n",
      "    │   └── \u001b[34;42mmultiqc_data\u001b[0m\n",
      "    ├── \u001b[34;42m04-RefGenome-Alignments-Hisat2\u001b[0m\n",
      "    │   └── \u001b[34;42mindex\u001b[0m\n",
      "    ├── \u001b[34;42m04-RefGenome-Alignments-Kallisto\u001b[0m\n",
      "    │   └── \u001b[34;42mlog\u001b[0m\n",
      "    ├── \u001b[34;42m04.1-Gene-Transcripts-Assembly-Quantify-Stringtie\u001b[0m\n",
      "    │   └── \u001b[34;42mballgown\u001b[0m\n",
      "    │       ├── \u001b[34;42mcont_estres_R1\u001b[0m\n",
      "    │       ├── \u001b[34;42mcont_estres_R2\u001b[0m\n",
      "    │       ├── \u001b[34;42mcont_estres_R3\u001b[0m\n",
      "    │       ├── \u001b[34;42mcontrol_R1\u001b[0m\n",
      "    │       ├── \u001b[34;42mcontrol_R2\u001b[0m\n",
      "    │       ├── \u001b[34;42mctrl_N7_XT17_R1\u001b[0m\n",
      "    │       ├── \u001b[34;42mctrl_N7_XT17_R2\u001b[0m\n",
      "    │       ├── \u001b[34;42mctrl_N7_XT17_R3\u001b[0m\n",
      "    │       ├── \u001b[34;42mestres_N7_XT17_R1\u001b[0m\n",
      "    │       ├── \u001b[34;42mestres_N7_XT17_R2\u001b[0m\n",
      "    │       └── \u001b[34;42mestres_N7_XT17_R3\u001b[0m\n",
      "    ├── \u001b[34;42m05-featureCounts\u001b[0m\n",
      "    └── \u001b[34;42mraw\u001b[0m\n",
      "\n",
      "27 directories\n"
     ]
    }
   ],
   "source": [
    "!tree -d"
   ]
  },
  {
   "cell_type": "markdown",
   "id": "279b8594",
   "metadata": {},
   "source": [
    "## Standard Workflow\n",
    "### Feature Count"
   ]
  },
  {
   "cell_type": "code",
   "execution_count": 10,
   "id": "264f2d5e",
   "metadata": {},
   "outputs": [],
   "source": [
    "refGenomeGFFAnnotationPath = jobIdxPE + '/RefGenomeAnn.gff'\n",
    "refGenomeGTFAnnotationPath = jobIdxPE + '/RefGenomeAnn.gtf'"
   ]
  },
  {
   "cell_type": "code",
   "execution_count": 11,
   "id": "f745c203",
   "metadata": {},
   "outputs": [
    {
     "name": "stdout",
     "output_type": "stream",
     "text": [
      "featureCounts: invalid option -- 'h'\r\n",
      "\r\n",
      "Version 2.0.6\r\n",
      "\r\n",
      "Usage: featureCounts [options] -a <annotation_file> -o <output_file> input_file1 [input_file2] ... \r\n",
      "\r\n",
      "## Mandatory arguments:\r\n",
      "\r\n",
      "  -a <string>         Name of an annotation file. GTF/GFF format by default. See\r\n",
      "                      -F option for more format information. Inbuilt annotations\r\n",
      "                      (SAF format) is available in 'annotation' directory of the\r\n",
      "                      package. Gzipped file is also accepted.\r\n",
      "\r\n",
      "  -o <string>         Name of output file including read counts. A separate file\r\n",
      "                      including summary statistics of counting results is also\r\n",
      "                      included in the output ('<string>.summary'). Both files\r\n",
      "                      are in tab delimited format.\r\n",
      "\r\n",
      "  input_file1 [input_file2] ...   A list of SAM or BAM format files. They can be\r\n",
      "                      either name or location sorted. If no files provided,\r\n",
      "                      <stdin> input is expected. Location-sorted paired-end reads\r\n",
      "                      are automatically sorted by read names.\r\n",
      "\r\n",
      "## Optional arguments:\r\n",
      "# Annotation\r\n",
      "\r\n",
      "  -F <string>         Specify format of the provided annotation file. Acceptable\r\n",
      "                      formats include 'GTF' (or compatible GFF format) and\r\n",
      "                      'SAF'. 'GTF' by default.  For SAF format, please refer to\r\n",
      "                      Users Guide.\r\n",
      "\r\n",
      "  -t <string>         Specify feature type(s) in a GTF annotation. If multiple\r\n",
      "                      types are provided, they should be separated by ',' with\r\n",
      "                      no space in between. 'exon' by default. Rows in the\r\n",
      "                      annotation with a matched feature will be extracted and\r\n",
      "                      used for read mapping. \r\n",
      "\r\n",
      "  -g <string>         Specify attribute type in GTF annotation. 'gene_id' by \r\n",
      "                      default. Meta-features used for read counting will be \r\n",
      "                      extracted from annotation using the provided value.\r\n",
      "\r\n",
      "  --extraAttributes   Extract extra attribute types from the provided GTF\r\n",
      "                      annotation and include them in the counting output. These\r\n",
      "                      attribute types will not be used to group features. If\r\n",
      "                      more than one attribute type is provided they should be\r\n",
      "                      separated by comma.\r\n",
      "\r\n",
      "  -A <string>         Provide a chromosome name alias file to match chr names in\r\n",
      "                      annotation with those in the reads. This should be a two-\r\n",
      "                      column comma-delimited text file. Its first column should\r\n",
      "                      include chr names in the annotation and its second column\r\n",
      "                      should include chr names in the reads. Chr names are case\r\n",
      "                      sensitive. No column header should be included in the\r\n",
      "                      file.\r\n",
      "\r\n",
      "# Level of summarization\r\n",
      "\r\n",
      "  -f                  Perform read counting at feature level (eg. counting \r\n",
      "                      reads for exons rather than genes).\r\n",
      "\r\n",
      "# Overlap between reads and features\r\n",
      "\r\n",
      "  -O                  Assign reads to all their overlapping meta-features (or \r\n",
      "                      features if -f is specified).\r\n",
      "\r\n",
      "  --minOverlap <int>  Minimum number of overlapping bases in a read that is\r\n",
      "                      required for read assignment. 1 by default. Number of\r\n",
      "                      overlapping bases is counted from both reads if paired\r\n",
      "                      end. If a negative value is provided, then a gap of up\r\n",
      "                      to specified size will be allowed between read and the\r\n",
      "                      feature that the read is assigned to.\r\n",
      "\r\n",
      "  --fracOverlap <float> Minimum fraction of overlapping bases in a read that is\r\n",
      "                      required for read assignment. Value should be within range\r\n",
      "                      [0,1]. 0 by default. Number of overlapping bases is\r\n",
      "                      counted from both reads if paired end. Both this option\r\n",
      "                      and '--minOverlap' option need to be satisfied for read\r\n",
      "                      assignment.\r\n",
      "\r\n",
      "  --fracOverlapFeature <float> Minimum fraction of overlapping bases in a\r\n",
      "                      feature that is required for read assignment. Value\r\n",
      "                      should be within range [0,1]. 0 by default.\r\n",
      "\r\n",
      "  --largestOverlap    Assign reads to a meta-feature/feature that has the \r\n",
      "                      largest number of overlapping bases.\r\n",
      "\r\n",
      "  --nonOverlap <int>  Maximum number of non-overlapping bases in a read (or a\r\n",
      "                      read pair) that is allowed when being assigned to a\r\n",
      "                      feature. No limit is set by default.\r\n",
      "\r\n",
      "  --nonOverlapFeature <int> Maximum number of non-overlapping bases in a feature\r\n",
      "                      that is allowed in read assignment. No limit is set by\r\n",
      "                      default.\r\n",
      "\r\n",
      "  --readExtension5 <int> Reads are extended upstream by <int> bases from their\r\n",
      "                      5' end.\r\n",
      "\r\n",
      "  --readExtension3 <int> Reads are extended upstream by <int> bases from their\r\n",
      "                      3' end.\r\n",
      "\r\n",
      "  --read2pos <5:3>    Reduce reads to their 5' most base or 3' most base. Read\r\n",
      "                      counting is then performed based on the single base the \r\n",
      "                      read is reduced to.\r\n",
      "\r\n",
      "# Multi-mapping reads\r\n",
      "\r\n",
      "  -M                  Multi-mapping reads will also be counted. For a multi-\r\n",
      "                      mapping read, all its reported alignments will be \r\n",
      "                      counted. The 'NH' tag in BAM/SAM input is used to detect \r\n",
      "                      multi-mapping reads.\r\n",
      "\r\n",
      "# Fractional counting\r\n",
      "\r\n",
      "  --fraction          Assign fractional counts to features. This option must\r\n",
      "                      be used together with '-M' or '-O' or both. When '-M' is\r\n",
      "                      specified, each reported alignment from a multi-mapping\r\n",
      "                      read (identified via 'NH' tag) will carry a fractional\r\n",
      "                      count of 1/x, instead of 1 (one), where x is the total\r\n",
      "                      number of alignments reported for the same read. When '-O'\r\n",
      "                      is specified, each overlapping feature will receive a\r\n",
      "                      fractional count of 1/y, where y is the total number of\r\n",
      "                      features overlapping with the read. When both '-M' and\r\n",
      "                      '-O' are specified, each alignment will carry a fractional\r\n",
      "                      count of 1/(x*y).\r\n",
      "\r\n",
      "# Read filtering\r\n",
      "\r\n",
      "  -Q <int>            The minimum mapping quality score a read must satisfy in\r\n",
      "                      order to be counted. For paired-end reads, at least one\r\n",
      "                      end should satisfy this criteria. 0 by default.\r\n",
      "\r\n",
      "  --splitOnly         Count split alignments only (ie. alignments with CIGAR\r\n",
      "                      string containing 'N'). An example of split alignments is\r\n",
      "                      exon-spanning reads in RNA-seq data.\r\n",
      "\r\n",
      "  --nonSplitOnly      If specified, only non-split alignments (CIGAR strings do\r\n",
      "                      not contain letter 'N') will be counted. All the other\r\n",
      "                      alignments will be ignored.\r\n",
      "\r\n",
      "  --primary           Count primary alignments only. Primary alignments are \r\n",
      "                      identified using bit 0x100 in SAM/BAM FLAG field.\r\n",
      "\r\n",
      "  --ignoreDup         Ignore duplicate reads in read counting. Duplicate reads \r\n",
      "                      are identified using bit Ox400 in BAM/SAM FLAG field. The \r\n",
      "                      whole read pair is ignored if one of the reads is a \r\n",
      "                      duplicate read for paired end data.\r\n",
      "\r\n",
      "# Strandness\r\n",
      "\r\n",
      "  -s <int or string>  Perform strand-specific read counting. A single integer\r\n",
      "                      value (applied to all input files) or a string of comma-\r\n",
      "                      separated values (applied to each corresponding input\r\n",
      "                      file) should be provided. Possible values include:\r\n",
      "                      0 (unstranded), 1 (stranded) and 2 (reversely stranded).\r\n",
      "                      Default value is 0 (ie. unstranded read counting carried\r\n",
      "                      out for all input files).\r\n",
      "\r\n",
      "# Exon-exon junctions\r\n",
      "\r\n",
      "  -J                  Count number of reads supporting each exon-exon junction.\r\n",
      "                      Junctions were identified from all the exon-spanning reads\r\n",
      "                      in the input (containing 'N' in CIGAR string). Counting\r\n",
      "                      results are saved to a file named '<output_file>.jcounts'\r\n",
      "\r\n",
      "  -G <string>         Provide the name of a FASTA-format file that contains the\r\n",
      "                      reference sequences used in read mapping that produced the\r\n",
      "                      provided SAM/BAM files. This optional argument can be used\r\n",
      "                      with '-J' option to improve read counting for junctions.\r\n",
      "\r\n",
      "# Parameters specific to paired end reads\r\n",
      "\r\n",
      "  -p                  If specified, libraries are assumed to contain paired-end\r\n",
      "                      reads. For any library that contains paired-end reads, the\r\n",
      "                      'countReadPairs' parameter controls if read pairs or reads\r\n",
      "                      should be counted.\r\n",
      "\r\n",
      "  --countReadPairs    If specified, fragments (or templates) will be counted\r\n",
      "                      instead of reads. This option is only applicable for\r\n",
      "                      paired-end reads. For single-end data, it is ignored.\r\n",
      "\r\n",
      "  -B                  Only count read pairs that have both ends aligned.\r\n",
      "\r\n",
      "  -P                  Check validity of paired-end distance when counting read \r\n",
      "                      pairs. Use -d and -D to set thresholds.\r\n",
      "\r\n",
      "  -d <int>            Minimum fragment/template length, 50 by default.\r\n",
      "\r\n",
      "  -D <int>            Maximum fragment/template length, 600 by default.\r\n",
      "\r\n",
      "  -C                  Do not count read pairs that have their two ends mapping \r\n",
      "                      to different chromosomes or mapping to same chromosome \r\n",
      "                      but on different strands.\r\n",
      "\r\n",
      "  --donotsort         Do not sort reads in BAM/SAM input. Note that reads from \r\n",
      "                      the same pair are required to be located next to each \r\n",
      "                      other in the input.\r\n",
      "\r\n",
      "# Number of CPU threads\r\n",
      "\r\n",
      "  -T <int>            Number of the threads. 1 by default.\r\n",
      "\r\n",
      "# Read groups\r\n",
      "\r\n",
      "  --byReadGroup       Assign reads by read group. \"RG\" tag is required to be\r\n",
      "                      present in the input BAM/SAM files.\r\n",
      "                      \r\n",
      "\r\n",
      "# Long reads\r\n",
      "\r\n",
      "  -L                  Count long reads such as Nanopore and PacBio reads. Long\r\n",
      "                      read counting can only run in one thread and only reads\r\n",
      "                      (not read-pairs) can be counted. There is no limitation on\r\n",
      "                      the number of 'M' operations allowed in a CIGAR string in\r\n",
      "                      long read counting.\r\n",
      "\r\n",
      "# Assignment results for each read\r\n",
      "\r\n",
      "  -R <format>         Output detailed assignment results for each read or read-\r\n",
      "                      pair. Results are saved to a file that is in one of the\r\n",
      "                      following formats: CORE, SAM and BAM. See Users Guide for\r\n",
      "                      more info about these formats.\r\n",
      "\r\n",
      "  --Rpath <string>    Specify a directory to save the detailed assignment\r\n",
      "                      results. If unspecified, the directory where counting\r\n",
      "                      results are saved is used.\r\n",
      "\r\n",
      "# Miscellaneous\r\n",
      "\r\n",
      "  --tmpDir <string>   Directory under which intermediate files are saved (later\r\n",
      "                      removed). By default, intermediate files will be saved to\r\n",
      "                      the directory specified in '-o' argument.\r\n",
      "\r\n",
      "  --maxMOp <int>      Maximum number of 'M' operations allowed in a CIGAR\r\n",
      "                      string. 10 by default. Both 'X' and '=' are treated as 'M'\r\n",
      "                      and adjacent 'M' operations are merged in the CIGAR\r\n",
      "                      string.\r\n",
      "\r\n",
      "  --verbose           Output verbose information for debugging, such as un-\r\n",
      "                      matched chromosome/contig names.\r\n",
      "\r\n",
      "  -v                  Output version of the program.\r\n",
      "\r\n"
     ]
    }
   ],
   "source": [
    "!featureCounts -h"
   ]
  },
  {
   "cell_type": "code",
   "execution_count": 12,
   "id": "15a0e200",
   "metadata": {},
   "outputs": [],
   "source": [
    "nThreads = '8'"
   ]
  },
  {
   "cell_type": "code",
   "execution_count": 13,
   "id": "17095b7e",
   "metadata": {},
   "outputs": [
    {
     "name": "stderr",
     "output_type": "stream",
     "text": [
      "\n",
      "        ==========     _____ _    _ ____  _____  ______          _____  \n",
      "        =====         / ____| |  | |  _ \\|  __ \\|  ____|   /\\   |  __ \\ \n",
      "          =====      | (___ | |  | | |_) | |__) | |__     /  \\  | |  | |\n",
      "            ====      \\___ \\| |  | |  _ <|  _  /|  __|   / /\\ \\ | |  | |\n",
      "              ====    ____) | |__| | |_) | | \\ \\| |____ / ____ \\| |__| |\n",
      "        ==========   |_____/ \\____/|____/|_|  \\_\\______/_/    \\_\\_____/\n",
      "\t  v2.0.6\n",
      "\n",
      "//========================== featureCounts setting ===========================\\\\\n",
      "||                                                                            ||\n",
      "||             Input files : 11 BAM files                                     ||\n",
      "||                                                                            ||\n",
      "||                           cont_estres_R1.bam                               ||\n",
      "||                           cont_estres_R2.bam                               ||\n",
      "||                           cont_estres_R3.bam                               ||\n",
      "||                           control_R1.bam                                   ||\n",
      "||                           control_R2.bam                                   ||\n",
      "||                           ctrl_N7_XT17_R1.bam                              ||\n",
      "||                           ctrl_N7_XT17_R2.bam                              ||\n",
      "||                           ctrl_N7_XT17_R3.bam                              ||\n",
      "||                           estres_N7_XT17_R1.bam                            ||\n",
      "||                           estres_N7_XT17_R2.bam                            ||\n",
      "||                           estres_N7_XT17_R3.bam                            ||\n",
      "||                                                                            ||\n",
      "||             Output file : rawCounts                                        ||\n",
      "||                 Summary : rawCounts.summary                                ||\n",
      "||              Paired-end : yes                                              ||\n",
      "||        Count read pairs : no                                               ||\n",
      "||              Annotation : RefGenomeAnn.gtf (GTF)                           ||\n",
      "||      Dir for temp files : /mnt/d/PE/Avena/AvenaSub1.5M-RNASeq-PE/05-fe ... ||\n",
      "||                                                                            ||\n",
      "||                 Threads : 8                                                ||\n",
      "||                   Level : meta-feature level                               ||\n",
      "||      Multimapping reads : not counted                                      ||\n",
      "|| Multi-overlapping reads : not counted                                      ||\n",
      "||   Min overlapping bases : 1                                                ||\n",
      "||                                                                            ||\n",
      "\\\\============================================================================//\n",
      "\n",
      "//================================= Running ==================================\\\\\n",
      "||                                                                            ||\n",
      "|| Load annotation file RefGenomeAnn.gtf ...                                  ||\n",
      "||    Features : 732310                                                       ||\n",
      "||    Meta-features : 22532                                                   ||\n",
      "||    Chromosomes/contigs : 7                                                 ||\n",
      "||                                                                            ||\n",
      "|| Process BAM file cont_estres_R1.bam...                                     ||\n",
      "||    Paired-end reads are included.                                          ||\n",
      "||    The reads are assigned on the single-end mode.                          ||\n",
      "||    Total alignments : 2520453                                              ||\n",
      "||    Successfully assigned alignments : 775226 (30.8%)                       ||\n",
      "||    Running time : 0.09 minutes                                             ||\n",
      "||                                                                            ||\n",
      "|| Process BAM file cont_estres_R2.bam...                                     ||\n",
      "||    Paired-end reads are included.                                          ||\n",
      "||    The reads are assigned on the single-end mode.                          ||\n",
      "||    Total alignments : 1856222                                              ||\n",
      "||    Successfully assigned alignments : 905656 (48.8%)                       ||\n",
      "||    Running time : 0.06 minutes                                             ||\n",
      "||                                                                            ||\n",
      "|| Process BAM file cont_estres_R3.bam...                                     ||\n",
      "||    Paired-end reads are included.                                          ||\n",
      "||    The reads are assigned on the single-end mode.                          ||\n",
      "||    Total alignments : 2289127                                              ||\n",
      "||    Successfully assigned alignments : 949352 (41.5%)                       ||\n",
      "||    Running time : 0.07 minutes                                             ||\n",
      "||                                                                            ||\n",
      "|| Process BAM file control_R1.bam...                                         ||\n",
      "||    Paired-end reads are included.                                          ||\n",
      "||    The reads are assigned on the single-end mode.                          ||\n",
      "||    Total alignments : 2687039                                              ||\n",
      "||    Successfully assigned alignments : 824353 (30.7%)                       ||\n",
      "||    Running time : 0.09 minutes                                             ||\n",
      "||                                                                            ||\n",
      "|| Process BAM file control_R2.bam...                                         ||\n",
      "||    Paired-end reads are included.                                          ||\n",
      "||    The reads are assigned on the single-end mode.                          ||\n",
      "||    Total alignments : 1930513                                              ||\n",
      "||    Successfully assigned alignments : 894431 (46.3%)                       ||\n",
      "||    Running time : 0.06 minutes                                             ||\n",
      "||                                                                            ||\n",
      "|| Process BAM file ctrl_N7_XT17_R1.bam...                                    ||\n",
      "||    Paired-end reads are included.                                          ||\n",
      "||    The reads are assigned on the single-end mode.                          ||\n",
      "||    Total alignments : 2718300                                              ||\n",
      "||    Successfully assigned alignments : 606208 (22.3%)                       ||\n",
      "||    Running time : 0.10 minutes                                             ||\n",
      "||                                                                            ||\n",
      "|| Process BAM file ctrl_N7_XT17_R2.bam...                                    ||\n",
      "||    Paired-end reads are included.                                          ||\n",
      "||    The reads are assigned on the single-end mode.                          ||\n",
      "||    Total alignments : 1990201                                              ||\n",
      "||    Successfully assigned alignments : 977481 (49.1%)                       ||\n",
      "||    Running time : 0.08 minutes                                             ||\n",
      "||                                                                            ||\n",
      "|| Process BAM file ctrl_N7_XT17_R3.bam...                                    ||\n",
      "||    Paired-end reads are included.                                          ||\n",
      "||    The reads are assigned on the single-end mode.                          ||\n",
      "||    Total alignments : 2390402                                              ||\n",
      "||    Successfully assigned alignments : 1037289 (43.4%)                      ||\n",
      "||    Running time : 0.09 minutes                                             ||\n",
      "||                                                                            ||\n",
      "|| Process BAM file estres_N7_XT17_R1.bam...                                  ||\n",
      "||    Paired-end reads are included.                                          ||\n",
      "||    The reads are assigned on the single-end mode.                          ||\n",
      "||    Total alignments : 1953504                                              ||\n",
      "||    Successfully assigned alignments : 955163 (48.9%)                       ||\n",
      "||    Running time : 0.08 minutes                                             ||\n",
      "||                                                                            ||\n",
      "|| Process BAM file estres_N7_XT17_R2.bam...                                  ||\n"
     ]
    },
    {
     "name": "stderr",
     "output_type": "stream",
     "text": [
      "||    Paired-end reads are included.                                          ||\n",
      "||    The reads are assigned on the single-end mode.                          ||\n",
      "||    Total alignments : 2739791                                              ||\n",
      "||    Successfully assigned alignments : 902280 (32.9%)                       ||\n",
      "||    Running time : 0.11 minutes                                             ||\n",
      "||                                                                            ||\n",
      "|| Process BAM file estres_N7_XT17_R3.bam...                                  ||\n",
      "||    Paired-end reads are included.                                          ||\n",
      "||    The reads are assigned on the single-end mode.                          ||\n",
      "||    Total alignments : 2138074                                              ||\n",
      "||    Successfully assigned alignments : 990132 (46.3%)                       ||\n",
      "||    Running time : 0.08 minutes                                             ||\n",
      "||                                                                            ||\n",
      "|| Write the final count table.                                               ||\n",
      "|| Write the read assignment summary.                                         ||\n",
      "||                                                                            ||\n",
      "|| Summary of counting results can be found in file \"/mnt/d/PE/Avena/AvenaSu  ||\n",
      "|| b1.5M-RNASeq-PE/05-featureCounts/rawCounts.summary\"                        ||\n",
      "||                                                                            ||\n",
      "\\\\============================================================================//\n",
      "\n"
     ]
    },
    {
     "data": {
      "text/plain": [
       "0"
      ]
     },
     "execution_count": 13,
     "metadata": {},
     "output_type": "execute_result"
    }
   ],
   "source": [
    "#!cat ids.txt | parallel -j 1 echo \"bam/{}.bam\" | xargs featureCounts -p -a refs/features.gff -o counts.txt\n",
    "\n",
    "cmdFC = \"featureCounts -p -T \" + nThreads + \" -o \" + PEPath + jobIdxPE + \"/05-featureCounts/rawCounts -a \" +  PEPath + jobIdxPE + \"/RefGenomeAnn.gtf\"  \n",
    "for i in metaPE.index:\n",
    "    #print(metaPE.shortName[i])\n",
    "    cmdFC += \" \" + PEPath + jobIdxPE + \"/04-RefGenome-Alignments-Hisat2/\" + metaPE.shortName[i] + \".bam\"\n",
    "\n",
    "os.system(cmdFC)"
   ]
  },
  {
   "cell_type": "markdown",
   "id": "742e39b2",
   "metadata": {},
   "source": [
    "### DESeq2"
   ]
  },
  {
   "cell_type": "code",
   "execution_count": 114,
   "id": "16571d12",
   "metadata": {
    "scrolled": true
   },
   "outputs": [
    {
     "name": "stdout",
     "output_type": "stream",
     "text": [
      "The rpy2.ipython extension is already loaded. To reload it, use:\n",
      "  %reload_ext rpy2.ipython\n"
     ]
    }
   ],
   "source": [
    "%load_ext rpy2.ipython"
   ]
  },
  {
   "cell_type": "code",
   "execution_count": 115,
   "id": "81c413ba",
   "metadata": {},
   "outputs": [
    {
     "name": "stdout",
     "output_type": "stream",
     "text": [
      " [1] \"01-QC-Pre-Reports\"                                \n",
      " [2] \"02-Trimming-Trimmomatic\"                          \n",
      " [3] \"03-QC-Pos-Reports\"                                \n",
      " [4] \"04-RefGenome-Alignments-Hisat2\"                   \n",
      " [5] \"04-RefGenome-Alignments-Kallisto\"                 \n",
      " [6] \"04.1-Gene-Transcripts-Assembly-Quantify-Stringtie\"\n",
      " [7] \"05-featureCounts\"                                 \n",
      " [8] \"heatmap24.pdf\"                                    \n",
      " [9] \"metadata.csv\"                                     \n",
      "[10] \"raw\"                                              \n",
      "[11] \"RefGenome.fa\"                                     \n",
      "[12] \"RefGenome.fa.fai\"                                 \n",
      "[13] \"RefGenomeAnn.gff\"                                 \n",
      "[14] \"RefGenomeAnn.gtf\"                                 \n"
     ]
    }
   ],
   "source": [
    "%%R -i PEPath,jobIdxPE\n",
    "setwd(paste0(PEPath,jobIdxPE))\n",
    "list.files()"
   ]
  },
  {
   "cell_type": "code",
   "execution_count": 116,
   "id": "1fd1d092",
   "metadata": {},
   "outputs": [
    {
     "name": "stdout",
     "output_type": "stream",
     "text": [
      "                      Geneid\n",
      "1 AVESA.00001b.r3.1Ag0000001\n",
      "2 AVESA.00001b.r3.1Ag0000002\n",
      "3 AVESA.00001b.r3.1Ag0000003\n",
      "4 AVESA.00001b.r3.1Ag0000004\n",
      "5 AVESA.00001b.r3.1Ag0000005\n",
      "6 AVESA.00001b.r3.1Ag0000006\n",
      "                                                                                                                                                                                                                                                                                                                                                                                                                                                                                                                                                                                                                                                                                                                                                                                                                                                                                                                                                                                                                                                                                                                                                                                                                                                                                                                            Chr\n",
      "1                                                                                                                                                                                                                                                                                                                                                                                                                                                                                                                                                                                                                                                                                                                                                                                                                                                                                                                                                                                                                                                                                                                                                                                                                                                                                                             chr1A;chr1A;chr1A\n",
      "2                                                                                                                                                                                                                                                                                                                                                                                                                                                                                                                                                                                                                                                                                                                                                                                                                                                                                                                                                                                                                                                                                                                                                                                                                   chr1A;chr1A;chr1A;chr1A;chr1A;chr1A;chr1A;chr1A;chr1A;chr1A;chr1A;chr1A;chr1A;chr1A;chr1A;chr1A;chr1A;chr1A\n",
      "3                                                                                                                                                                                                                                                                                                                                                                                                                                                                                                                                                                                                                                                                                                                                                                                                                                                                                                                                                                                                                                                                                                                                                                                                                                                       chr1A;chr1A;chr1A;chr1A;chr1A;chr1A;chr1A;chr1A;chr1A;chr1A;chr1A;chr1A\n",
      "4                                                                                                                                                                                                                                                                                                                                                                                                                                                                                                                                                                                                                                                                                                                                                                                                                                                                                                                                                                                                                                                                                                                                                                                                                                                                                                             chr1A;chr1A;chr1A\n",
      "5 chr1A;chr1A;chr1A;chr1A;chr1A;chr1A;chr1A;chr1A;chr1A;chr1A;chr1A;chr1A;chr1A;chr1A;chr1A;chr1A;chr1A;chr1A;chr1A;chr1A;chr1A;chr1A;chr1A;chr1A;chr1A;chr1A;chr1A;chr1A;chr1A;chr1A;chr1A;chr1A;chr1A;chr1A;chr1A;chr1A;chr1A;chr1A;chr1A;chr1A;chr1A;chr1A;chr1A;chr1A;chr1A;chr1A;chr1A;chr1A;chr1A;chr1A;chr1A;chr1A;chr1A;chr1A;chr1A;chr1A;chr1A;chr1A;chr1A;chr1A;chr1A;chr1A;chr1A;chr1A;chr1A;chr1A;chr1A;chr1A;chr1A;chr1A;chr1A;chr1A;chr1A;chr1A;chr1A;chr1A;chr1A;chr1A;chr1A;chr1A;chr1A;chr1A;chr1A;chr1A;chr1A;chr1A;chr1A;chr1A;chr1A;chr1A;chr1A;chr1A;chr1A;chr1A;chr1A;chr1A;chr1A;chr1A;chr1A;chr1A;chr1A;chr1A;chr1A;chr1A;chr1A;chr1A;chr1A;chr1A;chr1A;chr1A;chr1A;chr1A;chr1A;chr1A;chr1A;chr1A;chr1A;chr1A;chr1A;chr1A;chr1A;chr1A;chr1A;chr1A;chr1A;chr1A;chr1A;chr1A;chr1A;chr1A;chr1A;chr1A;chr1A;chr1A;chr1A;chr1A;chr1A;chr1A;chr1A;chr1A;chr1A;chr1A;chr1A;chr1A;chr1A;chr1A;chr1A;chr1A;chr1A;chr1A;chr1A;chr1A;chr1A;chr1A;chr1A;chr1A;chr1A;chr1A;chr1A;chr1A;chr1A;chr1A;chr1A;chr1A;chr1A;chr1A;chr1A;chr1A;chr1A;chr1A;chr1A;chr1A;chr1A;chr1A;chr1A;chr1A;chr1A;chr1A;chr1A;chr1A;chr1A;chr1A;chr1A;chr1A;chr1A;chr1A;chr1A;chr1A;chr1A;chr1A;chr1A;chr1A;chr1A;chr1A;chr1A;chr1A;chr1A;chr1A;chr1A;chr1A;chr1A;chr1A;chr1A;chr1A;chr1A;chr1A;chr1A;chr1A;chr1A;chr1A;chr1A;chr1A;chr1A\n",
      "6                                                                                                                                                                                                                                                             chr1A;chr1A;chr1A;chr1A;chr1A;chr1A;chr1A;chr1A;chr1A;chr1A;chr1A;chr1A;chr1A;chr1A;chr1A;chr1A;chr1A;chr1A;chr1A;chr1A;chr1A;chr1A;chr1A;chr1A;chr1A;chr1A;chr1A;chr1A;chr1A;chr1A;chr1A;chr1A;chr1A;chr1A;chr1A;chr1A;chr1A;chr1A;chr1A;chr1A;chr1A;chr1A;chr1A;chr1A;chr1A;chr1A;chr1A;chr1A;chr1A;chr1A;chr1A;chr1A;chr1A;chr1A;chr1A;chr1A;chr1A;chr1A;chr1A;chr1A;chr1A;chr1A;chr1A;chr1A;chr1A;chr1A;chr1A;chr1A;chr1A;chr1A;chr1A;chr1A;chr1A;chr1A;chr1A;chr1A;chr1A;chr1A;chr1A;chr1A;chr1A;chr1A;chr1A;chr1A;chr1A;chr1A;chr1A;chr1A;chr1A;chr1A;chr1A;chr1A;chr1A;chr1A;chr1A;chr1A;chr1A;chr1A;chr1A;chr1A;chr1A;chr1A;chr1A;chr1A;chr1A;chr1A;chr1A;chr1A;chr1A;chr1A;chr1A;chr1A;chr1A;chr1A;chr1A;chr1A;chr1A;chr1A;chr1A;chr1A;chr1A;chr1A;chr1A;chr1A;chr1A;chr1A;chr1A;chr1A;chr1A;chr1A;chr1A;chr1A;chr1A;chr1A;chr1A;chr1A;chr1A;chr1A;chr1A;chr1A;chr1A;chr1A;chr1A;chr1A;chr1A;chr1A;chr1A;chr1A;chr1A;chr1A;chr1A;chr1A;chr1A;chr1A;chr1A;chr1A;chr1A;chr1A;chr1A;chr1A;chr1A;chr1A;chr1A;chr1A;chr1A;chr1A;chr1A;chr1A;chr1A;chr1A;chr1A\n",
      "                                                                                                                                                                                                                                                                                                                                                                                                                                                                                                                                                                                                                                                                                                                                                                                                                                                                                                                                                                                                                                                                                                                                                                                                                                                                                                                                                                                                                                                                                                                                               Start\n",
      "1                                                                                                                                                                                                                                                                                                                                                                                                                                                                                                                                                                                                                                                                                                                                                                                                                                                                                                                                                                                                                                                                                                                                                                                                                                                                                                                                                                                                                                                                                                                                  50163;50163;50188\n",
      "2                                                                                                                                                                                                                                                                                                                                                                                                                                                                                                                                                                                                                                                                                                                                                                                                                                                                                                                                                                                                                                                                                                                                                                                                                                                                                                                                                                                                                                        56248;56260;56486;56486;56696;56696;56945;56945;57119;57119;57811;57811;57938;57938;58182;58182;58477;58477\n",
      "3                                                                                                                                                                                                                                                                                                                                                                                                                                                                                                                                                                                                                                                                                                                                                                                                                                                                                                                                                                                                                                                                                                                                                                                                                                                                                                                                                                                                                                                                            81249;81287;81325;82754;82754;82972;82972;82972;83586;83586;84408;84408\n"
     ]
    },
    {
     "name": "stdout",
     "output_type": "stream",
     "text": [
      "4                                                                                                                                                                                                                                                                                                                                                                                                                                                                                                                                                                                                                                                                                                                                                                                                                                                                                                                                                                                                                                                                                                                                                                                                                                                                                                                                                                                                                                                                                                                               159554;160054;161087\n",
      "5 165424;165927;165943;165950;165950;165950;166585;166585;166585;166585;166585;166585;166859;166859;166859;166859;166859;166859;167284;167284;167284;167284;167284;167284;167511;167511;167511;167511;167511;167511;167868;167868;167868;167868;167868;167868;168781;168781;168781;168781;168781;168781;168941;168941;168941;168941;168941;168941;169130;169130;169130;169130;169130;169130;169395;169395;169395;169395;169395;169395;169934;169934;169934;169934;169934;169934;170581;170581;170581;170581;170581;171041;171041;171041;171041;171041;171041;171321;171321;171321;171321;171321;171489;171489;171489;171489;171489;171489;172241;172241;172241;172241;172241;172241;172889;172889;172889;172889;172889;172889;173230;173230;173230;173230;173230;173484;173486;173486;173486;173486;173724;173724;173724;173724;173724;174430;174430;174430;174430;174617;174617;174617;174617;174617;175047;175047;175047;175047;175047;175233;175233;175233;175233;175233;175471;175471;175471;175471;175471;175707;175707;175707;175707;175980;175980;175980;175980;176138;176138;176138;176138;176765;176765;176765;176765;176911;176911;176911;176911;177064;177064;177064;177064;177239;177239;177239;177239;177455;177455;177455;177627;177627;177627;177943;177943;177943;177943;178086;178086;178086;178086;178366;178366;178366;178366;178656;178656;178656;178858;178858;178858;179542;179542;179542;179710;179710;180180;180180;180908;180908;181110;181110;182037;182037;183842;183842;184062;184062;184350;184350;184786;185041;186000\n",
      "6                                                                                                                                                                                                                                                                                                       272922;272922;272925;272925;272978;272978;273022;273022;273022;273022;273026;273026;273026;273030;273605;273605;273605;273605;273815;273815;273815;273815;273815;273815;273909;274107;274107;274107;274107;274107;274107;274107;274107;274107;274107;274913;274913;274913;274913;274913;274913;274913;274913;274913;274913;274913;274913;274913;274913;275176;275176;275176;275176;275176;275176;275176;275176;275176;275176;275176;275176;275176;275176;275682;275682;275682;275682;275682;275682;275682;275682;275682;275682;275682;275682;275682;275682;275873;275873;275873;275873;275873;275873;275873;275873;275873;275873;275873;275873;275873;275873;276284;276284;276284;276284;276284;276284;276284;276284;276284;276284;276284;276284;276284;276284;276851;276851;276851;276851;276851;276851;276851;276851;276851;276851;276851;276851;276851;277055;277055;277055;277055;277055;277055;277055;277055;277055;277055;277055;277055;277055;277309;277309;277309;277309;277309;277309;277309;277309;277309;277309;277309;277309;277309;277659;277659;277659;277659;277659;277659;277659;277659;277659;277659;277659;277659;277659;277909;277909;277909;277909;277909;277909;277909;277909;277909;277909;277909;277909;277909;277909\n",
      "                                                                                                                                                                                                                                                                                                                                                                                                                                                                                                                                                                                                                                                                                                                                                                                                                                                                                                                                                                                                                                                                                                                                                                                                                                                                                                                                                                                                                                                                                                                                                 End\n",
      "1                                                                                                                                                                                                                                                                                                                                                                                                                                                                                                                                                                                                                                                                                                                                                                                                                                                                                                                                                                                                                                                                                                                                                                                                                                                                                                                                                                                                                                                                                                                                  51666;51777;52276\n",
      "2                                                                                                                                                                                                                                                                                                                                                                                                                                                                                                                                                                                                                                                                                                                                                                                                                                                                                                                                                                                                                                                                                                                                                                                                                                                                                                                                                                                                                                        56409;56409;56608;56608;56843;56843;57032;57032;57708;57708;57833;57833;58031;58031;58284;58284;59027;59348\n",
      "3                                                                                                                                                                                                                                                                                                                                                                                                                                                                                                                                                                                                                                                                                                                                                                                                                                                                                                                                                                                                                                                                                                                                                                                                                                                                                                                                                                                                                                                                            81440;82857;81440;82857;82857;83047;85294;83047;83666;83666;85157;85317\n",
      "4                                                                                                                                                                                                                                                                                                                                                                                                                                                                                                                                                                                                                                                                                                                                                                                                                                                                                                                                                                                                                                                                                                                                                                                                                                                                                                                                                                                                                                                                                                                               159964;160860;161484\n",
      "5 166480;166480;166480;166480;166480;166480;166767;166767;166767;166767;166767;166767;166909;166909;166909;166909;166909;166909;167403;167403;167403;167403;167403;167403;167613;167613;167613;167613;167613;167613;168026;168026;168026;168026;168026;168026;168869;168869;168869;168869;168869;168869;169054;169054;169054;169054;169054;169054;169288;169288;169288;169288;169288;169288;169442;169442;169442;169442;169442;169442;170633;170110;170110;170110;170110;170110;170633;170633;170633;170633;170633;171153;171153;171153;171153;171153;171153;171401;171401;171401;171401;171401;171604;171604;171604;171604;171604;171604;172360;172360;172360;172360;172360;172360;173006;173006;173006;172972;173006;173006;173407;173407;173407;173407;173407;173554;173554;173554;173554;173554;173855;174539;173855;173855;173855;174539;174539;174539;174539;174777;174777;174777;174777;174777;175137;175137;175137;175137;175137;175330;175330;175330;175330;175330;175591;175591;175591;175591;175549;175867;175867;175867;175867;176061;176061;176061;176061;176232;176232;176232;176232;176789;176789;176789;176789;176987;176987;176987;176987;177150;177150;177150;177150;177288;177288;177309;177288;177536;177536;177536;177687;177687;177687;177995;177995;177995;177995;178275;178275;178275;178275;178489;178489;178416;178489;178758;178758;178758;178950;178950;178950;179620;179580;179620;179786;179786;180308;180308;181025;181025;181207;181207;182126;182126;183961;183961;184172;184172;184461;184473;184940;185138;186169\n",
      "6                                                                                                                                                                                                                                                                                                       273683;273261;273261;273683;273675;273675;273683;273675;273675;274218;273683;273261;273261;274218;273907;273675;273683;273683;273907;273907;273907;274218;274218;273907;273985;274218;274218;274218;274218;274218;274218;274218;274218;274218;274218;275012;275012;275012;275012;275012;275012;275012;275012;275012;275012;275012;275012;275012;275012;275238;275238;275238;275238;275238;275238;275238;275238;275238;275238;275238;275238;275238;275238;275792;275792;275792;275792;275792;275792;275792;275792;275792;275792;275792;275792;275792;275792;276057;276057;276057;276057;276057;276057;276057;276057;276057;276057;276057;276057;276057;276057;276422;276422;276422;276422;276422;276422;276422;276422;276422;276968;276422;276422;276422;276422;276968;276968;276968;276968;276921;277156;276968;276921;276968;276968;276968;276968;276968;277156;277156;277156;277156;277156;277156;277156;277156;277770;277156;277156;277156;277156;277560;277560;277560;277560;277560;277560;277560;277560;277560;277560;277560;277560;277560;277770;277770;277770;277770;277770;277770;277770;277770;277770;277770;277770;277770;277770;278391;278393;278360;278200;278378;278378;278360;278338;278393;278360;278359;278200;278468;278389\n",
      "                                                                                                                                                                                                                                                                                                                                                                                                                                     Strand\n"
     ]
    },
    {
     "name": "stdout",
     "output_type": "stream",
     "text": [
      "1                                                                                                                                                                                                                                                                                                                                                                                                                                     +;+;+\n",
      "2                                                                                                                                                                                                                                                                                                                                                                                                       +;+;+;+;+;+;+;+;+;+;+;+;+;+;+;+;+;+\n",
      "3                                                                                                                                                                                                                                                                                                                                                                                                                   +;+;+;+;+;+;+;+;+;+;+;+\n",
      "4                                                                                                                                                                                                                                                                                                                                                                                                                                     +;+;+\n",
      "5 -;-;-;-;-;-;-;-;-;-;-;-;-;-;-;-;-;-;-;-;-;-;-;-;-;-;-;-;-;-;-;-;-;-;-;-;-;-;-;-;-;-;-;-;-;-;-;-;-;-;-;-;-;-;-;-;-;-;-;-;-;-;-;-;-;-;-;-;-;-;-;-;-;-;-;-;-;-;-;-;-;-;-;-;-;-;-;-;-;-;-;-;-;-;-;-;-;-;-;-;-;-;-;-;-;-;-;-;-;-;-;-;-;-;-;-;-;-;-;-;-;-;-;-;-;-;-;-;-;-;-;-;-;-;-;-;-;-;-;-;-;-;-;-;-;-;-;-;-;-;-;-;-;-;-;-;-;-;-;-;-;-;-;-;-;-;-;-;-;-;-;-;-;-;-;-;-;-;-;-;-;-;-;-;-;-;-;-;-;-;-;-;-;-;-;-;-;-;-;-;-;-;-;-;-;-;-;-;-;-;-;-;-\n",
      "6                                                                                     +;+;+;+;+;+;+;+;+;+;+;+;+;+;+;+;+;+;+;+;+;+;+;+;+;+;+;+;+;+;+;+;+;+;+;+;+;+;+;+;+;+;+;+;+;+;+;+;+;+;+;+;+;+;+;+;+;+;+;+;+;+;+;+;+;+;+;+;+;+;+;+;+;+;+;+;+;+;+;+;+;+;+;+;+;+;+;+;+;+;+;+;+;+;+;+;+;+;+;+;+;+;+;+;+;+;+;+;+;+;+;+;+;+;+;+;+;+;+;+;+;+;+;+;+;+;+;+;+;+;+;+;+;+;+;+;+;+;+;+;+;+;+;+;+;+;+;+;+;+;+;+;+;+;+;+;+;+;+;+;+;+;+;+;+;+;+;+;+;+;+\n",
      "  Length\n",
      "1   2114\n",
      "2   2203\n",
      "3   3955\n",
      "4   1616\n",
      "5   7540\n",
      "6   3803\n",
      "  X.mnt.d.PE.Avena.AvenaSub1.5M.RNASeq.PE.04.RefGenome.Alignments.Hisat2.cont_estres_R1.bam\n",
      "1                                                                                         0\n",
      "2                                                                                         0\n",
      "3                                                                                        57\n",
      "4                                                                                         0\n",
      "5                                                                                        76\n",
      "6                                                                                         3\n",
      "  X.mnt.d.PE.Avena.AvenaSub1.5M.RNASeq.PE.04.RefGenome.Alignments.Hisat2.cont_estres_R2.bam\n",
      "1                                                                                         0\n",
      "2                                                                                         0\n",
      "3                                                                                        40\n",
      "4                                                                                         0\n",
      "5                                                                                        98\n",
      "6                                                                                         5\n",
      "  X.mnt.d.PE.Avena.AvenaSub1.5M.RNASeq.PE.04.RefGenome.Alignments.Hisat2.cont_estres_R3.bam\n",
      "1                                                                                         0\n",
      "2                                                                                         0\n",
      "3                                                                                        40\n",
      "4                                                                                         0\n",
      "5                                                                                       138\n",
      "6                                                                                        11\n",
      "  X.mnt.d.PE.Avena.AvenaSub1.5M.RNASeq.PE.04.RefGenome.Alignments.Hisat2.control_R1.bam\n",
      "1                                                                                     0\n",
      "2                                                                                     0\n",
      "3                                                                                    16\n",
      "4                                                                                     0\n",
      "5                                                                                    44\n",
      "6                                                                                     4\n",
      "  X.mnt.d.PE.Avena.AvenaSub1.5M.RNASeq.PE.04.RefGenome.Alignments.Hisat2.control_R2.bam\n",
      "1                                                                                     0\n",
      "2                                                                                     0\n",
      "3                                                                                    38\n",
      "4                                                                                     0\n",
      "5                                                                                   110\n",
      "6                                                                                     4\n",
      "  X.mnt.d.PE.Avena.AvenaSub1.5M.RNASeq.PE.04.RefGenome.Alignments.Hisat2.ctrl_N7_XT17_R1.bam\n",
      "1                                                                                          0\n",
      "2                                                                                          0\n",
      "3                                                                                         32\n",
      "4                                                                                          2\n",
      "5                                                                                         22\n",
      "6                                                                                          0\n",
      "  X.mnt.d.PE.Avena.AvenaSub1.5M.RNASeq.PE.04.RefGenome.Alignments.Hisat2.ctrl_N7_XT17_R2.bam\n",
      "1                                                                                          0\n",
      "2                                                                                          2\n",
      "3                                                                                         29\n",
      "4                                                                                          0\n",
      "5                                                                                         67\n",
      "6                                                                                          1\n",
      "  X.mnt.d.PE.Avena.AvenaSub1.5M.RNASeq.PE.04.RefGenome.Alignments.Hisat2.ctrl_N7_XT17_R3.bam\n",
      "1                                                                                          0\n",
      "2                                                                                          0\n",
      "3                                                                                         37\n",
      "4                                                                                          0\n",
      "5                                                                                         45\n",
      "6                                                                                          5\n",
      "  X.mnt.d.PE.Avena.AvenaSub1.5M.RNASeq.PE.04.RefGenome.Alignments.Hisat2.estres_N7_XT17_R1.bam\n",
      "1                                                                                            0\n",
      "2                                                                                            0\n",
      "3                                                                                           33\n",
      "4                                                                                            0\n",
      "5                                                                                          106\n",
      "6                                                                                            0\n",
      "  X.mnt.d.PE.Avena.AvenaSub1.5M.RNASeq.PE.04.RefGenome.Alignments.Hisat2.estres_N7_XT17_R2.bam\n",
      "1                                                                                            0\n",
      "2                                                                                            0\n",
      "3                                                                                           32\n",
      "4                                                                                            0\n",
      "5                                                                                           82\n",
      "6                                                                                            5\n",
      "  X.mnt.d.PE.Avena.AvenaSub1.5M.RNASeq.PE.04.RefGenome.Alignments.Hisat2.estres_N7_XT17_R3.bam\n",
      "1                                                                                            0\n",
      "2                                                                                            0\n",
      "3                                                                                           32\n",
      "4                                                                                            0\n",
      "5                                                                                          146\n",
      "6                                                                                           12\n"
     ]
    }
   ],
   "source": [
    "%%R\n",
    "counts_file <- \"05-featureCounts/rawCounts\"\n",
    "df <- read.table(counts_file, header=TRUE)\n",
    "head(df)\n"
   ]
  },
  {
   "cell_type": "code",
   "execution_count": 117,
   "id": "140c43ff",
   "metadata": {
    "scrolled": false
   },
   "outputs": [
    {
     "name": "stdout",
     "output_type": "stream",
     "text": [
      "                               file1                              file2   type\n",
      "1  sub1.5M-Ctrl_Estres_R1_1.fastq.gz  sub1.5M-Ctrl_Estres_R1_2.fastq.gz paired\n",
      "2  sub1.5M-Ctrl_Estres_R2_1.fastq.gz  sub1.5M-Ctrl_Estres_R2_2.fastq.gz paired\n",
      "3 sub1.5M-Ctrll_Estres_R3_1.fastq.gz sub1.5M-Ctrll_Estres_R3_2.fastq.gz paired\n",
      "4      sub1.5M-Control_R1_1.fastq.gz      sub1.5M-Control_R1_2.fastq.gz paired\n",
      "5      sub1.5M-Control_R2_1.fastq.gz      sub1.5M-Control_R2_2.fastq.gz paired\n",
      "6 sub1.5M-Ctrl_N7_XT17_R1_1.fastq.gz sub1.5M-Ctrl_N7_XT17_R1_2.fastq.gz paired\n",
      "        shortName   meta1        meta2 meta3 replicate\n",
      "1  cont_estres_R1  Estres    Inoculado     A         1\n",
      "2  cont_estres_R2  Estres    Inoculado     A         2\n",
      "3  cont_estres_R3  Estres    Inoculado     A         3\n",
      "4      control_R1 Control No_inoculado     B         1\n",
      "5      control_R2 Control No_inoculado     B         2\n",
      "6 ctrl_N7_XT17_R1 Control    Inoculado     C         1\n",
      "                                   trimmed1\n",
      "1  sub1.5M-Ctrl_Estres_R1_1_paired.fastq.gz\n",
      "2  sub1.5M-Ctrl_Estres_R2_1_paired.fastq.gz\n",
      "3 sub1.5M-Ctrll_Estres_R3_1_paired.fastq.gz\n",
      "4      sub1.5M-Control_R1_1_paired.fastq.gz\n",
      "5      sub1.5M-Control_R2_1_paired.fastq.gz\n",
      "6 sub1.5M-Ctrl_N7_XT17_R1_1_paired.fastq.gz\n",
      "                                   trimmed2\n",
      "1  sub1.5M-Ctrl_Estres_R1_2_paired.fastq.gz\n",
      "2  sub1.5M-Ctrl_Estres_R2_2_paired.fastq.gz\n",
      "3 sub1.5M-Ctrll_Estres_R3_2_paired.fastq.gz\n",
      "4      sub1.5M-Control_R1_2_paired.fastq.gz\n",
      "5      sub1.5M-Control_R2_2_paired.fastq.gz\n",
      "6 sub1.5M-Ctrl_N7_XT17_R1_2_paired.fastq.gz\n"
     ]
    }
   ],
   "source": [
    "%%R\n",
    "design_file = \"metadata.csv\"\n",
    "sample_data <- read.csv(design_file, stringsAsFactors=F)\n",
    "head(sample_data)\n"
   ]
  },
  {
   "cell_type": "code",
   "execution_count": 118,
   "id": "bd40b485",
   "metadata": {},
   "outputs": [],
   "source": [
    "%%R\n",
    "condition <- \"meta1\""
   ]
  },
  {
   "cell_type": "code",
   "execution_count": 119,
   "id": "018259e6",
   "metadata": {},
   "outputs": [
    {
     "name": "stdout",
     "output_type": "stream",
     "text": [
      " [1] \"Estres\"  \"Estres\"  \"Estres\"  \"Control\" \"Control\" \"Control\" \"Control\"\n",
      " [8] \"Control\" \"Estres\"  \"Estres\"  \"Estres\" \n"
     ]
    }
   ],
   "source": [
    "%%R\n",
    "sample_data[,condition]"
   ]
  },
  {
   "cell_type": "code",
   "execution_count": 120,
   "id": "bc85261a",
   "metadata": {},
   "outputs": [
    {
     "name": "stdout",
     "output_type": "stream",
     "text": [
      "                      Geneid\n",
      "1 AVESA.00001b.r3.1Ag0000001\n",
      "2 AVESA.00001b.r3.1Ag0000002\n",
      "3 AVESA.00001b.r3.1Ag0000003\n",
      "4 AVESA.00001b.r3.1Ag0000004\n",
      "5 AVESA.00001b.r3.1Ag0000005\n",
      "6 AVESA.00001b.r3.1Ag0000006\n",
      "  X.mnt.d.PE.Avena.AvenaSub1.5M.RNASeq.PE.04.RefGenome.Alignments.Hisat2.cont_estres_R1.bam\n",
      "1                                                                                         0\n",
      "2                                                                                         0\n",
      "3                                                                                        57\n",
      "4                                                                                         0\n",
      "5                                                                                        76\n",
      "6                                                                                         3\n",
      "  X.mnt.d.PE.Avena.AvenaSub1.5M.RNASeq.PE.04.RefGenome.Alignments.Hisat2.cont_estres_R2.bam\n",
      "1                                                                                         0\n",
      "2                                                                                         0\n",
      "3                                                                                        40\n",
      "4                                                                                         0\n",
      "5                                                                                        98\n",
      "6                                                                                         5\n",
      "  X.mnt.d.PE.Avena.AvenaSub1.5M.RNASeq.PE.04.RefGenome.Alignments.Hisat2.cont_estres_R3.bam\n",
      "1                                                                                         0\n",
      "2                                                                                         0\n",
      "3                                                                                        40\n",
      "4                                                                                         0\n",
      "5                                                                                       138\n",
      "6                                                                                        11\n",
      "  X.mnt.d.PE.Avena.AvenaSub1.5M.RNASeq.PE.04.RefGenome.Alignments.Hisat2.control_R1.bam\n",
      "1                                                                                     0\n",
      "2                                                                                     0\n",
      "3                                                                                    16\n",
      "4                                                                                     0\n",
      "5                                                                                    44\n",
      "6                                                                                     4\n",
      "  X.mnt.d.PE.Avena.AvenaSub1.5M.RNASeq.PE.04.RefGenome.Alignments.Hisat2.control_R2.bam\n",
      "1                                                                                     0\n",
      "2                                                                                     0\n",
      "3                                                                                    38\n",
      "4                                                                                     0\n",
      "5                                                                                   110\n",
      "6                                                                                     4\n",
      "  X.mnt.d.PE.Avena.AvenaSub1.5M.RNASeq.PE.04.RefGenome.Alignments.Hisat2.ctrl_N7_XT17_R1.bam\n",
      "1                                                                                          0\n",
      "2                                                                                          0\n",
      "3                                                                                         32\n",
      "4                                                                                          2\n",
      "5                                                                                         22\n",
      "6                                                                                          0\n",
      "  X.mnt.d.PE.Avena.AvenaSub1.5M.RNASeq.PE.04.RefGenome.Alignments.Hisat2.ctrl_N7_XT17_R2.bam\n",
      "1                                                                                          0\n",
      "2                                                                                          2\n",
      "3                                                                                         29\n",
      "4                                                                                          0\n",
      "5                                                                                         67\n",
      "6                                                                                          1\n",
      "  X.mnt.d.PE.Avena.AvenaSub1.5M.RNASeq.PE.04.RefGenome.Alignments.Hisat2.ctrl_N7_XT17_R3.bam\n",
      "1                                                                                          0\n",
      "2                                                                                          0\n",
      "3                                                                                         37\n",
      "4                                                                                          0\n",
      "5                                                                                         45\n",
      "6                                                                                          5\n",
      "  X.mnt.d.PE.Avena.AvenaSub1.5M.RNASeq.PE.04.RefGenome.Alignments.Hisat2.estres_N7_XT17_R1.bam\n",
      "1                                                                                            0\n",
      "2                                                                                            0\n",
      "3                                                                                           33\n",
      "4                                                                                            0\n",
      "5                                                                                          106\n",
      "6                                                                                            0\n",
      "  X.mnt.d.PE.Avena.AvenaSub1.5M.RNASeq.PE.04.RefGenome.Alignments.Hisat2.estres_N7_XT17_R2.bam\n",
      "1                                                                                            0\n",
      "2                                                                                            0\n",
      "3                                                                                           32\n",
      "4                                                                                            0\n",
      "5                                                                                           82\n",
      "6                                                                                            5\n",
      "  X.mnt.d.PE.Avena.AvenaSub1.5M.RNASeq.PE.04.RefGenome.Alignments.Hisat2.estres_N7_XT17_R3.bam\n",
      "1                                                                                            0\n",
      "2                                                                                            0\n",
      "3                                                                                           32\n",
      "4                                                                                            0\n",
      "5                                                                                          146\n",
      "6                                                                                           12\n"
     ]
    }
   ],
   "source": [
    "%%R\n",
    "sample_data$condition <- factor(sample_data[,condition])\n",
    "sample_data$condition <- relevel(sample_data$condition, toString(sample_data$condition[1]))\n",
    "\n",
    "counts <- df[ ,c(1, 7:length(names(df)))]\n",
    "head(counts)"
   ]
  },
  {
   "cell_type": "code",
   "execution_count": 121,
   "id": "25224bc9",
   "metadata": {},
   "outputs": [
    {
     "name": "stdout",
     "output_type": "stream",
     "text": [
      "                        name cont_estres_R1 cont_estres_R2 cont_estres_R3\n",
      "1 AVESA.00001b.r3.1Ag0000001              0              0              0\n",
      "2 AVESA.00001b.r3.1Ag0000002              0              0              0\n",
      "3 AVESA.00001b.r3.1Ag0000003             57             40             40\n",
      "4 AVESA.00001b.r3.1Ag0000004              0              0              0\n",
      "5 AVESA.00001b.r3.1Ag0000005             76             98            138\n",
      "6 AVESA.00001b.r3.1Ag0000006              3              5             11\n",
      "  control_R1 control_R2 ctrl_N7_XT17_R1 ctrl_N7_XT17_R2 ctrl_N7_XT17_R3\n",
      "1          0          0               0               0               0\n",
      "2          0          0               0               2               0\n",
      "3         16         38              32              29              37\n",
      "4          0          0               2               0               0\n",
      "5         44        110              22              67              45\n",
      "6          4          4               0               1               5\n",
      "  estres_N7_XT17_R1 estres_N7_XT17_R2 estres_N7_XT17_R3\n",
      "1                 0                 0                 0\n",
      "2                 0                 0                 0\n",
      "3                33                32                32\n",
      "4                 0                 0                 0\n",
      "5               106                82               146\n",
      "6                 0                 5                12\n"
     ]
    }
   ],
   "source": [
    "%%R\n",
    "names(counts) <- c(\"name\", sample_data$shortName)\n",
    "head(counts)"
   ]
  },
  {
   "cell_type": "code",
   "execution_count": 122,
   "id": "2a313538",
   "metadata": {},
   "outputs": [],
   "source": [
    "%%R\n",
    "output_file = \"05-featureCounts/counts.csv\"\n",
    "write.csv(counts, file=output_file, row.names=FALSE, quote=FALSE)"
   ]
  },
  {
   "cell_type": "code",
   "execution_count": 123,
   "id": "4ec93a4c",
   "metadata": {},
   "outputs": [
    {
     "name": "stdout",
     "output_type": "stream",
     "text": [
      "        shortName condition\n",
      "1  cont_estres_R1    Estres\n",
      "2  cont_estres_R2    Estres\n",
      "3  cont_estres_R3    Estres\n",
      "4      control_R1   Control\n",
      "5      control_R2   Control\n",
      "6 ctrl_N7_XT17_R1   Control\n"
     ]
    }
   ],
   "source": [
    "%%R\n",
    "colData <- dplyr::select(sample_data,shortName)\n",
    "#colData$sample <- sample_data$shortName\n",
    "colData$condition <- factor(sample_data$condition)\n",
    "colData$condition = relevel(colData$condition, toString(colData$condition[1]))\n",
    "head(colData)"
   ]
  },
  {
   "cell_type": "code",
   "execution_count": 124,
   "id": "c454bd05",
   "metadata": {},
   "outputs": [
    {
     "name": "stdout",
     "output_type": "stream",
     "text": [
      "  cont_estres_R1 cont_estres_R2 cont_estres_R3 control_R1 control_R2\n",
      "1              0              0              0          0          0\n",
      "2              0              0              0          0          0\n",
      "3             57             40             40         16         38\n",
      "4              0              0              0          0          0\n",
      "5             76             98            138         44        110\n",
      "6              3              5             11          4          4\n",
      "  ctrl_N7_XT17_R1 ctrl_N7_XT17_R2 ctrl_N7_XT17_R3 estres_N7_XT17_R1\n",
      "1               0               0               0                 0\n",
      "2               0               2               0                 0\n",
      "3              32              29              37                33\n",
      "4               2               0               0                 0\n",
      "5              22              67              45               106\n",
      "6               0               1               5                 0\n",
      "  estres_N7_XT17_R2 estres_N7_XT17_R3\n",
      "1                 0                 0\n",
      "2                 0                 0\n",
      "3                32                32\n",
      "4                 0                 0\n",
      "5                82               146\n",
      "6                 5                12\n"
     ]
    }
   ],
   "source": [
    "%%R\n",
    "\n",
    "sample_names <- sample_data$shortName\n",
    "countData <- round(counts[, sample_names])\n",
    "head(countData)"
   ]
  },
  {
   "cell_type": "code",
   "execution_count": 125,
   "id": "4edb3799",
   "metadata": {},
   "outputs": [
    {
     "name": "stdout",
     "output_type": "stream",
     "text": [
      "                        name\n",
      "1 AVESA.00001b.r3.1Ag0000001\n",
      "2 AVESA.00001b.r3.1Ag0000002\n",
      "3 AVESA.00001b.r3.1Ag0000003\n",
      "4 AVESA.00001b.r3.1Ag0000004\n",
      "5 AVESA.00001b.r3.1Ag0000005\n",
      "6 AVESA.00001b.r3.1Ag0000006\n"
     ]
    }
   ],
   "source": [
    "%%R\n",
    "otherCols = counts[!(names(counts) %in% sample_names)]\n",
    "head(otherCols)"
   ]
  },
  {
   "cell_type": "code",
   "execution_count": 126,
   "id": "4505019d",
   "metadata": {},
   "outputs": [
    {
     "name": "stdout",
     "output_type": "stream",
     "text": [
      "Formal class 'DESeqDataSet' [package \"DESeq2\"] with 8 slots\n",
      "  ..@ design            :Class 'formula'  language ~condition\n",
      "  .. .. ..- attr(*, \".Environment\")=<environment: R_GlobalEnv> \n",
      "  ..@ dispersionFunction:function ()  \n",
      "  ..@ rowRanges         :Formal class 'CompressedGRangesList' [package \"GenomicRanges\"] with 5 slots\n",
      "  .. .. ..@ unlistData     :Formal class 'GRanges' [package \"GenomicRanges\"] with 7 slots\n",
      "  .. .. .. .. ..@ seqnames       :Formal class 'Rle' [package \"S4Vectors\"] with 4 slots\n",
      "  .. .. .. .. .. .. ..@ values         : Factor w/ 0 levels: \n",
      "  .. .. .. .. .. .. ..@ lengths        : int(0) \n",
      "  .. .. .. .. .. .. ..@ elementMetadata: NULL\n",
      "  .. .. .. .. .. .. ..@ metadata       : list()\n",
      "  .. .. .. .. ..@ ranges         :Formal class 'IRanges' [package \"IRanges\"] with 6 slots\n",
      "  .. .. .. .. .. .. ..@ start          : int(0) \n",
      "  .. .. .. .. .. .. ..@ width          : int(0) \n",
      "  .. .. .. .. .. .. ..@ NAMES          : NULL\n",
      "  .. .. .. .. .. .. ..@ elementType    : chr \"ANY\"\n",
      "  .. .. .. .. .. .. ..@ elementMetadata: NULL\n",
      "  .. .. .. .. .. .. ..@ metadata       : list()\n",
      "  .. .. .. .. ..@ strand         :Formal class 'Rle' [package \"S4Vectors\"] with 4 slots\n",
      "  .. .. .. .. .. .. ..@ values         : Factor w/ 3 levels \"+\",\"-\",\"*\": \n",
      "  .. .. .. .. .. .. ..@ lengths        : int(0) \n",
      "  .. .. .. .. .. .. ..@ elementMetadata: NULL\n",
      "  .. .. .. .. .. .. ..@ metadata       : list()\n",
      "  .. .. .. .. ..@ seqinfo        :Formal class 'Seqinfo' [package \"GenomeInfoDb\"] with 4 slots\n",
      "  .. .. .. .. .. .. ..@ seqnames   : chr(0) \n",
      "  .. .. .. .. .. .. ..@ seqlengths : int(0) \n",
      "  .. .. .. .. .. .. ..@ is_circular: logi(0) \n",
      "  .. .. .. .. .. .. ..@ genome     : chr(0) \n",
      "  .. .. .. .. ..@ elementMetadata:Formal class 'DFrame' [package \"S4Vectors\"] with 6 slots\n",
      "  .. .. .. .. .. .. ..@ rownames       : NULL\n",
      "  .. .. .. .. .. .. ..@ nrows          : int 0\n",
      "  .. .. .. .. .. .. ..@ elementType    : chr \"ANY\"\n",
      "  .. .. .. .. .. .. ..@ elementMetadata: NULL\n",
      "  .. .. .. .. .. .. ..@ metadata       : list()\n",
      "  .. .. .. .. .. .. ..@ listData       : Named list()\n",
      "  .. .. .. .. ..@ elementType    : chr \"ANY\"\n",
      "  .. .. .. .. ..@ metadata       : list()\n",
      "  .. .. ..@ elementMetadata:Formal class 'DFrame' [package \"S4Vectors\"] with 6 slots\n",
      "  .. .. .. .. ..@ rownames       : NULL\n",
      "  .. .. .. .. ..@ nrows          : int 22532\n",
      "  .. .. .. .. ..@ elementType    : chr \"ANY\"\n",
      "  .. .. .. .. ..@ elementMetadata:Formal class 'DFrame' [package \"S4Vectors\"] with 6 slots\n",
      "  .. .. .. .. .. .. ..@ rownames       : NULL\n",
      "  .. .. .. .. .. .. ..@ nrows          : int 0\n",
      "  .. .. .. .. .. .. ..@ elementType    : chr \"ANY\"\n",
      "  .. .. .. .. .. .. ..@ elementMetadata: NULL\n",
      "  .. .. .. .. .. .. ..@ metadata       : list()\n",
      "  .. .. .. .. .. .. ..@ listData       :List of 2\n",
      "  .. .. .. .. .. .. .. ..$ type       : chr(0) \n",
      "  .. .. .. .. .. .. .. ..$ description: chr(0) \n",
      "  .. .. .. .. ..@ metadata       : list()\n",
      "  .. .. .. .. ..@ listData       : Named list()\n",
      "  .. .. ..@ elementType    : chr \"GRanges\"\n",
      "  .. .. ..@ metadata       : list()\n",
      "  .. .. ..@ partitioning   :Formal class 'PartitioningByEnd' [package \"IRanges\"] with 5 slots\n",
      "  .. .. .. .. ..@ end            : int [1:22532] 0 0 0 0 0 0 0 0 0 0 ...\n",
      "  .. .. .. .. ..@ NAMES          : NULL\n",
      "  .. .. .. .. ..@ elementType    : chr \"ANY\"\n",
      "  .. .. .. .. ..@ elementMetadata: NULL\n",
      "  .. .. .. .. ..@ metadata       : list()\n",
      "  ..@ colData           :Formal class 'DFrame' [package \"S4Vectors\"] with 6 slots\n",
      "  .. .. ..@ rownames       : chr [1:11] \"cont_estres_R1\" \"cont_estres_R2\" \"cont_estres_R3\" \"control_R1\" ...\n",
      "  .. .. ..@ nrows          : int 11\n",
      "  .. .. ..@ elementType    : chr \"ANY\"\n",
      "  .. .. ..@ elementMetadata:Formal class 'DFrame' [package \"S4Vectors\"] with 6 slots\n",
      "  .. .. .. .. ..@ rownames       : NULL\n",
      "  .. .. .. .. ..@ nrows          : int 2\n",
      "  .. .. .. .. ..@ elementType    : chr \"ANY\"\n",
      "  .. .. .. .. ..@ elementMetadata: NULL\n",
      "  .. .. .. .. ..@ metadata       : list()\n",
      "  .. .. .. .. ..@ listData       :List of 2\n",
      "  .. .. .. .. .. ..$ type       : chr [1:2] \"input\" \"input\"\n",
      "  .. .. .. .. .. ..$ description: chr [1:2] \"\" \"\"\n",
      "  .. .. ..@ metadata       : list()\n",
      "  .. .. ..@ listData       :List of 2\n",
      "  .. .. .. ..$ shortName: chr [1:11] \"cont_estres_R1\" \"cont_estres_R2\" \"cont_estres_R3\" \"control_R1\" ...\n",
      "  .. .. .. ..$ condition: Factor w/ 2 levels \"Estres\",\"Control\": 1 1 1 2 2 2 2 2 1 1 ...\n",
      "  ..@ assays            :Formal class 'SimpleAssays' [package \"SummarizedExperiment\"] with 1 slot\n",
      "  .. .. ..@ data:Formal class 'SimpleList' [package \"S4Vectors\"] with 4 slots\n",
      "  .. .. .. .. ..@ listData       :List of 1\n",
      "  .. .. .. .. .. ..$ counts: int [1:22532, 1:11] 0 0 57 0 76 3 49 7 0 0 ...\n",
      "  .. .. .. .. .. .. ..- attr(*, \"dimnames\")=List of 2\n",
      "  .. .. .. .. .. .. .. ..$ : NULL\n",
      "  .. .. .. .. .. .. .. ..$ : chr [1:11] \"cont_estres_R1\" \"cont_estres_R2\" \"cont_estres_R3\" \"control_R1\" ...\n",
      "  .. .. .. .. ..@ elementType    : chr \"ANY\"\n",
      "  .. .. .. .. ..@ elementMetadata: NULL\n",
      "  .. .. .. .. ..@ metadata       : list()\n",
      "  ..@ NAMES             : NULL\n",
      "  ..@ elementMetadata   :Formal class 'DFrame' [package \"S4Vectors\"] with 6 slots\n",
      "  .. .. ..@ rownames       : NULL\n",
      "  .. .. ..@ nrows          : int 22532\n",
      "  .. .. ..@ elementType    : chr \"ANY\"\n",
      "  .. .. ..@ elementMetadata: NULL\n",
      "  .. .. ..@ metadata       : list()\n",
      "  .. .. ..@ listData       : Named list()\n",
      "  ..@ metadata          :List of 1\n",
      "  .. ..$ version:Classes 'package_version', 'numeric_version'  hidden list of 1\n",
      "  .. .. ..$ : int [1:3] 1 40 2\n"
     ]
    },
    {
     "data": {
      "text/plain": [
       "converting counts to integer mode\n",
       "  it appears that the last variable in the design formula, 'condition',\n",
       "  has a factor level, 'Control', which is not the reference level. we recommend\n",
       "  to use factor(...,levels=...) or relevel() to set this as the reference level\n",
       "  before proceeding. for more information, please see the 'Note on factor levels'\n",
       "  in vignette('DESeq2').\n"
      ]
     },
     "metadata": {},
     "output_type": "display_data"
    }
   ],
   "source": [
    "%%R\n",
    "suppressPackageStartupMessages(library(DESeq2))\n",
    "\n",
    "dds = DESeqDataSetFromMatrix(countData=countData, colData=colData, design = ~condition)\n",
    "str(dds)"
   ]
  },
  {
   "cell_type": "code",
   "execution_count": 127,
   "id": "b5697474",
   "metadata": {
    "scrolled": true
   },
   "outputs": [
    {
     "data": {
      "text/plain": [
       "estimating size factors\n",
       "estimating dispersions\n",
       "gene-wise dispersion estimates\n",
       "mean-dispersion relationship\n",
       "final dispersion estimates\n",
       "fitting model and testing\n"
      ]
     },
     "metadata": {},
     "output_type": "display_data"
    }
   ],
   "source": [
    "%%R\n",
    "dse = DESeq(dds)\n",
    "res = results(dse)"
   ]
  },
  {
   "cell_type": "code",
   "execution_count": 128,
   "id": "442f25ee",
   "metadata": {},
   "outputs": [
    {
     "name": "stdout",
     "output_type": "stream",
     "text": [
      "log2 fold change (MLE): condition Control vs Estres \n",
      "Wald test p-value: condition Control vs Estres \n",
      "DataFrame with 22532 rows and 6 columns\n",
      "       baseMean log2FoldChange     lfcSE      stat    pvalue      padj\n",
      "      <numeric>      <numeric> <numeric> <numeric> <numeric> <numeric>\n",
      "1      0.000000             NA        NA        NA        NA        NA\n",
      "2      0.167104      1.5535033  3.149264  0.493291 0.6218070        NA\n",
      "3     35.282649      0.0614745  0.357213  0.172095 0.8633628  0.969667\n",
      "4      0.388516      1.5620317  3.148955  0.496048 0.6198607        NA\n",
      "5     76.949083     -0.5651678  0.273585 -2.065786 0.0388487  0.337856\n",
      "...         ...            ...       ...       ...       ...       ...\n",
      "22528   7.86050     -0.2947698  0.489136 -0.602633 0.5467529        NA\n",
      "22529  10.84603      0.2839364  0.469634  0.604590 0.5454513  0.852317\n",
      "22530   9.56978     -0.0546504  0.489714 -0.111597 0.9111433  0.977777\n",
      "22531   6.31608      0.3684979  0.495099  0.744291 0.4567006        NA\n",
      "22532  20.02216      0.9861974  0.464317  2.123974 0.0336723  0.316693\n"
     ]
    }
   ],
   "source": [
    "%%R\n",
    "res"
   ]
  },
  {
   "cell_type": "code",
   "execution_count": 129,
   "id": "37d08b27",
   "metadata": {},
   "outputs": [
    {
     "name": "stdout",
     "output_type": "stream",
     "text": [
      "                            name baseMean log2FoldChange     lfcSE     stat\n",
      "11547 AVESA.00001b.r3.4Ag0001489 115.6302       1.373332 0.2120250 6.477218\n",
      "16995 AVESA.00001b.r3.6Ag0000216 292.6432       2.375452 0.3939438 6.029927\n",
      "22000 AVESA.00001b.r3.3Ag0001778 443.6070       1.321680 0.2341150 5.645432\n",
      "16994 AVESA.00001b.r3.6Ag0000215 373.5584       1.445694 0.2570140 5.624964\n",
      "17559 AVESA.00001b.r3.6Ag0000780 292.1236       1.570771 0.2917545 5.383879\n",
      "11315 AVESA.00001b.r3.4Ag0001257 134.8757       1.512835 0.2858030 5.293280\n",
      "            PValue          FDR foldChange         PAdj     falsePos baseMeanA\n",
      "11547 9.342912e-11 8.198405e-07   2.590683 1.779918e-06 8.198405e-07         1\n",
      "16995 1.640340e-09 7.196992e-06   5.188984 3.124848e-05 1.439398e-05         1\n",
      "22000 1.647668e-08 4.070436e-05   2.499570 3.138643e-04 1.221131e-04         1\n",
      "16994 1.855469e-08 4.070436e-05   2.723939 3.534298e-04 1.628174e-04         1\n",
      "17559 7.289767e-08 1.279354e-04   2.970634 1.388482e-03 6.396771e-04         1\n",
      "11315 1.201420e-07 1.486322e-04   2.853703 2.288225e-03 8.917935e-04         1\n",
      "      baseMeanB\n",
      "11547         1\n",
      "16995         1\n",
      "22000         1\n",
      "16994         1\n",
      "17559         1\n",
      "11315         1\n"
     ]
    }
   ],
   "source": [
    "%%R\n",
    "data = cbind(otherCols, data.frame(res))\n",
    "data$foldChange = 2 ^ data$log2FoldChange\n",
    "names(data)[names(data)==\"pvalue\"] <-\"PValue\"\n",
    "names(data)[names(data)==\"padj\"] <- \"FDR\"\n",
    "data$PAdj = p.adjust(data$PValue, method=\"hochberg\")\n",
    "data = data[with(data, order(PValue, -foldChange)), ]\n",
    "data$falsePos = 1:nrow(data) * data$FDR\n",
    "\n",
    "data$baseMeanA = 1\n",
    "data$baseMeanB = 1\n",
    "\n",
    "head(data)\n",
    "\n"
   ]
  },
  {
   "cell_type": "code",
   "execution_count": 130,
   "id": "5e97393a",
   "metadata": {},
   "outputs": [],
   "source": [
    "%%R\n",
    "normed = counts(dse, normalized=TRUE)\n",
    "normed = round(normed, 1)"
   ]
  },
  {
   "cell_type": "code",
   "execution_count": 131,
   "id": "9b8bd887",
   "metadata": {
    "scrolled": true
   },
   "outputs": [
    {
     "name": "stdout",
     "output_type": "stream",
     "text": [
      "     cont_estres_R1 cont_estres_R2 cont_estres_R3 control_R1 control_R2\n",
      "[1,]            0.0            0.0            0.0        0.0        0.0\n",
      "[2,]            0.0            0.0            0.0        0.0        0.0\n",
      "[3,]           56.9           36.5           31.8       16.7       37.4\n",
      "[4,]            0.0            0.0            0.0        0.0        0.0\n",
      "[5,]           75.9           89.5          109.7       46.0      108.1\n",
      "[6,]            3.0            4.6            8.7        4.2        3.9\n",
      "     ctrl_N7_XT17_R1 ctrl_N7_XT17_R2 ctrl_N7_XT17_R3 estres_N7_XT17_R1\n",
      "[1,]             0.0             0.0             0.0               0.0\n",
      "[2,]             0.0             1.8             0.0               0.0\n",
      "[3,]            68.4            26.7            33.8              24.2\n",
      "[4,]             4.3             0.0             0.0               0.0\n",
      "[5,]            47.0            61.6            41.1              77.7\n",
      "[6,]             0.0             0.9             4.6               0.0\n",
      "     estres_N7_XT17_R2 estres_N7_XT17_R3\n",
      "[1,]               0.0               0.0\n",
      "[2,]               0.0               0.0\n",
      "[3,]              32.3              23.5\n",
      "[4,]               0.0               0.0\n",
      "[5,]              82.8             107.0\n",
      "[6,]               5.0               8.8\n"
     ]
    }
   ],
   "source": [
    "%%R\n",
    "head(normed)"
   ]
  },
  {
   "cell_type": "code",
   "execution_count": 132,
   "id": "4db68620",
   "metadata": {},
   "outputs": [
    {
     "name": "stdout",
     "output_type": "stream",
     "text": [
      "[1] 22532    11\n"
     ]
    }
   ],
   "source": [
    "%%R\n",
    "dim(normed)"
   ]
  },
  {
   "cell_type": "code",
   "execution_count": 133,
   "id": "3cc265d5",
   "metadata": {
    "scrolled": true
   },
   "outputs": [
    {
     "name": "stdout",
     "output_type": "stream",
     "text": [
      "                            name baseMean log2FoldChange     lfcSE     stat\n",
      "11547 AVESA.00001b.r3.4Ag0001489 115.6302       1.373332 0.2120250 6.477218\n",
      "16995 AVESA.00001b.r3.6Ag0000216 292.6432       2.375452 0.3939438 6.029927\n",
      "22000 AVESA.00001b.r3.3Ag0001778 443.6070       1.321680 0.2341150 5.645432\n",
      "16994 AVESA.00001b.r3.6Ag0000215 373.5584       1.445694 0.2570140 5.624964\n",
      "17559 AVESA.00001b.r3.6Ag0000780 292.1236       1.570771 0.2917545 5.383879\n",
      "11315 AVESA.00001b.r3.4Ag0001257 134.8757       1.512835 0.2858030 5.293280\n",
      "            PValue          FDR foldChange         PAdj     falsePos baseMeanA\n",
      "11547 9.342912e-11 8.198405e-07   2.590683 1.779918e-06 8.198405e-07         1\n",
      "16995 1.640340e-09 7.196992e-06   5.188984 3.124848e-05 1.439398e-05         1\n",
      "22000 1.647668e-08 4.070436e-05   2.499570 3.138643e-04 1.221131e-04         1\n",
      "16994 1.855469e-08 4.070436e-05   2.723939 3.534298e-04 1.628174e-04         1\n",
      "17559 7.289767e-08 1.279354e-04   2.970634 1.388482e-03 6.396771e-04         1\n",
      "11315 1.201420e-07 1.486322e-04   2.853703 2.288225e-03 8.917935e-04         1\n",
      "      baseMeanB\n",
      "11547         1\n",
      "16995         1\n",
      "22000         1\n",
      "16994         1\n",
      "17559         1\n",
      "11315         1\n"
     ]
    }
   ],
   "source": [
    "%%R\n",
    "head(data)"
   ]
  },
  {
   "cell_type": "code",
   "execution_count": 134,
   "id": "9048c7c7",
   "metadata": {},
   "outputs": [
    {
     "name": "stdout",
     "output_type": "stream",
     "text": [
      "[1] 22532    12\n"
     ]
    }
   ],
   "source": [
    "%%R\n",
    "dim(data)"
   ]
  },
  {
   "cell_type": "code",
   "execution_count": 135,
   "id": "dae84b60",
   "metadata": {},
   "outputs": [
    {
     "name": "stdout",
     "output_type": "stream",
     "text": [
      "      Row.names                       name baseMean log2FoldChange     lfcSE\n",
      "1722      11547 AVESA.00001b.r3.4Ag0001489 115.6302       1.373332 0.2120250\n",
      "7774      16995 AVESA.00001b.r3.6Ag0000216 292.6432       2.375452 0.3939438\n",
      "13338     22000 AVESA.00001b.r3.3Ag0001778 443.6070       1.321680 0.2341150\n",
      "7773      16994 AVESA.00001b.r3.6Ag0000215 373.5584       1.445694 0.2570140\n",
      "8401      17559 AVESA.00001b.r3.6Ag0000780 292.1236       1.570771 0.2917545\n",
      "1465      11315 AVESA.00001b.r3.4Ag0001257 134.8757       1.512835 0.2858030\n",
      "          stat       PValue          FDR foldChange         PAdj     falsePos\n",
      "1722  6.477218 9.342912e-11 8.198405e-07   2.590683 1.779918e-06 8.198405e-07\n",
      "7774  6.029927 1.640340e-09 7.196992e-06   5.188984 3.124848e-05 1.439398e-05\n",
      "13338 5.645432 1.647668e-08 4.070436e-05   2.499570 3.138643e-04 1.221131e-04\n",
      "7773  5.624964 1.855469e-08 4.070436e-05   2.723939 3.534298e-04 1.628174e-04\n",
      "8401  5.383879 7.289767e-08 1.279354e-04   2.970634 1.388482e-03 6.396771e-04\n",
      "1465  5.293280 1.201420e-07 1.486322e-04   2.853703 2.288225e-03 8.917935e-04\n",
      "      baseMeanA baseMeanB cont_estres_R1 cont_estres_R2 cont_estres_R3\n",
      "1722          1         1           67.9           58.4           49.3\n",
      "7774          1         1          105.9           47.5          158.2\n",
      "13338         1         1          294.7          181.7          280.6\n",
      "7773          1         1          177.8          221.8          244.9\n",
      "8401          1         1          179.8          114.1          167.7\n",
      "1465          1         1           77.9           54.8           78.7\n",
      "      control_R1 control_R2 ctrl_N7_XT17_R1 ctrl_N7_XT17_R2 ctrl_N7_XT17_R3\n",
      "1722       148.4      211.4           177.4           196.7           136.0\n",
      "7774       364.8      196.6           814.1           398.9           840.5\n",
      "13338      465.2      460.1           861.1           676.4           835.0\n",
      "7773       450.6      361.8           827.0           488.0           726.4\n",
      "8401       303.2      287.0           799.2           407.1           493.7\n",
      "1465       145.3      126.8           160.3           278.5           332.2\n",
      "      estres_N7_XT17_R1 estres_N7_XT17_R2 estres_N7_XT17_R3\n",
      "1722               66.7              66.7              93.1\n",
      "7774               55.0             123.2             114.4\n",
      "13338             214.1             329.2             281.5\n",
      "7773              134.9             273.7             202.3\n",
      "8401              137.8             215.1             108.5\n",
      "1465               68.2              98.0              63.0\n"
     ]
    }
   ],
   "source": [
    "%%R\n",
    "total <- merge(data, normed, by=0)\n",
    "total = total[with(total, order(PValue, -foldChange)), ]\n",
    "head(total)"
   ]
  },
  {
   "cell_type": "code",
   "execution_count": 136,
   "id": "cbd6548e",
   "metadata": {},
   "outputs": [],
   "source": [
    "%%R\n",
    "col_names_A = data.frame(split(colData, colData$condition)[1])[,1]\n",
    "col_names_B = data.frame(split(colData, colData$condition)[2])[,1]\n",
    "\n",
    "total$baseMeanA = rowMeans(total[, col_names_A])\n",
    "total$baseMeanB = rowMeans(total[, col_names_B])\n",
    "\n",
    "total$foldChange = round(total$foldChange, 3)\n",
    "total$log2FoldChange = round(total$log2FoldChange, 1)\n",
    "total$baseMean  = round(total$baseMean, 1)\n",
    "total$baseMeanA = round(total$baseMeanA, 1)\n",
    "total$baseMeanB =  round(total$baseMeanB, 1)\n",
    "total$lfcSE = round(total$lfcSE, 2)\n",
    "total$stat = round(total$stat, 2)\n",
    "total$FDR = round(total$FDR, 4)\n",
    "total$falsePos = round(total$falsePos, 0)\n",
    "\n",
    "total$PAdj = formatC(total$PAdj, format = \"e\", digits = 1)\n",
    "total$PValue = formatC(total$PValue, format = \"e\", digits = 1)\n",
    "\n",
    "\n"
   ]
  },
  {
   "cell_type": "code",
   "execution_count": 137,
   "id": "5e69891f",
   "metadata": {
    "scrolled": true
   },
   "outputs": [
    {
     "name": "stdout",
     "output_type": "stream",
     "text": [
      "      Row.names                       name baseMean log2FoldChange lfcSE stat\n",
      "1722      11547 AVESA.00001b.r3.4Ag0001489    115.6            1.4  0.21 6.48\n",
      "7774      16995 AVESA.00001b.r3.6Ag0000216    292.6            2.4  0.39 6.03\n",
      "13338     22000 AVESA.00001b.r3.3Ag0001778    443.6            1.3  0.23 5.65\n",
      "7773      16994 AVESA.00001b.r3.6Ag0000215    373.6            1.4  0.26 5.62\n",
      "8401      17559 AVESA.00001b.r3.6Ag0000780    292.1            1.6  0.29 5.38\n",
      "1465      11315 AVESA.00001b.r3.4Ag0001257    134.9            1.5  0.29 5.29\n",
      "       PValue   FDR foldChange    PAdj falsePos baseMeanA baseMeanB\n",
      "1722  9.3e-11 0e+00      2.591 1.8e-06        0      67.0     174.0\n",
      "7774  1.6e-09 0e+00      5.189 3.1e-05        0     100.7     523.0\n",
      "13338 1.6e-08 0e+00      2.500 3.1e-04        0     263.6     659.6\n",
      "7773  1.9e-08 0e+00      2.724 3.5e-04        0     209.2     570.8\n",
      "8401  7.3e-08 1e-04      2.971 1.4e-03        0     153.8     458.0\n",
      "1465  1.2e-07 1e-04      2.854 2.3e-03        0      73.4     208.6\n",
      "      cont_estres_R1 cont_estres_R2 cont_estres_R3 control_R1 control_R2\n",
      "1722            67.9           58.4           49.3      148.4      211.4\n",
      "7774           105.9           47.5          158.2      364.8      196.6\n",
      "13338          294.7          181.7          280.6      465.2      460.1\n",
      "7773           177.8          221.8          244.9      450.6      361.8\n",
      "8401           179.8          114.1          167.7      303.2      287.0\n",
      "1465            77.9           54.8           78.7      145.3      126.8\n",
      "      ctrl_N7_XT17_R1 ctrl_N7_XT17_R2 ctrl_N7_XT17_R3 estres_N7_XT17_R1\n",
      "1722            177.4           196.7           136.0              66.7\n",
      "7774            814.1           398.9           840.5              55.0\n",
      "13338           861.1           676.4           835.0             214.1\n",
      "7773            827.0           488.0           726.4             134.9\n",
      "8401            799.2           407.1           493.7             137.8\n",
      "1465            160.3           278.5           332.2              68.2\n",
      "      estres_N7_XT17_R2 estres_N7_XT17_R3\n",
      "1722               66.7              93.1\n",
      "7774              123.2             114.4\n",
      "13338             329.2             281.5\n",
      "7773              273.7             202.3\n",
      "8401              215.1             108.5\n",
      "1465               98.0              63.0\n"
     ]
    }
   ],
   "source": [
    "%%R\n",
    "head(total)"
   ]
  },
  {
   "cell_type": "code",
   "execution_count": 138,
   "id": "124ce1c2",
   "metadata": {},
   "outputs": [
    {
     "name": "stdout",
     "output_type": "stream",
     "text": [
      "[1] \"name\"\n"
     ]
    }
   ],
   "source": [
    "%%R\n",
    "names(otherCols)"
   ]
  },
  {
   "cell_type": "code",
   "execution_count": 139,
   "id": "4296b258",
   "metadata": {},
   "outputs": [
    {
     "name": "stdout",
     "output_type": "stream",
     "text": [
      "                            name baseMean baseMeanA baseMeanB foldChange\n",
      "1722  AVESA.00001b.r3.4Ag0001489    115.6      67.0     174.0      2.591\n",
      "7774  AVESA.00001b.r3.6Ag0000216    292.6     100.7     523.0      5.189\n",
      "13338 AVESA.00001b.r3.3Ag0001778    443.6     263.6     659.6      2.500\n",
      "7773  AVESA.00001b.r3.6Ag0000215    373.6     209.2     570.8      2.724\n",
      "8401  AVESA.00001b.r3.6Ag0000780    292.1     153.8     458.0      2.971\n",
      "1465  AVESA.00001b.r3.4Ag0001257    134.9      73.4     208.6      2.854\n",
      "      log2FoldChange lfcSE stat  PValue    PAdj   FDR falsePos cont_estres_R1\n",
      "1722             1.4  0.21 6.48 9.3e-11 1.8e-06 0e+00        0           67.9\n",
      "7774             2.4  0.39 6.03 1.6e-09 3.1e-05 0e+00        0          105.9\n",
      "13338            1.3  0.23 5.65 1.6e-08 3.1e-04 0e+00        0          294.7\n",
      "7773             1.4  0.26 5.62 1.9e-08 3.5e-04 0e+00        0          177.8\n",
      "8401             1.6  0.29 5.38 7.3e-08 1.4e-03 1e-04        0          179.8\n",
      "1465             1.5  0.29 5.29 1.2e-07 2.3e-03 1e-04        0           77.9\n",
      "      cont_estres_R2 cont_estres_R3 estres_N7_XT17_R1 estres_N7_XT17_R2\n",
      "1722            58.4           49.3              66.7              66.7\n",
      "7774            47.5          158.2              55.0             123.2\n",
      "13338          181.7          280.6             214.1             329.2\n",
      "7773           221.8          244.9             134.9             273.7\n",
      "8401           114.1          167.7             137.8             215.1\n",
      "1465            54.8           78.7              68.2              98.0\n",
      "      estres_N7_XT17_R3 control_R1 control_R2 ctrl_N7_XT17_R1 ctrl_N7_XT17_R2\n",
      "1722               93.1      148.4      211.4           177.4           196.7\n",
      "7774              114.4      364.8      196.6           814.1           398.9\n",
      "13338             281.5      465.2      460.1           861.1           676.4\n",
      "7773              202.3      450.6      361.8           827.0           488.0\n",
      "8401              108.5      303.2      287.0           799.2           407.1\n",
      "1465               63.0      145.3      126.8           160.3           278.5\n",
      "      ctrl_N7_XT17_R3\n",
      "1722            136.0\n",
      "7774            840.5\n",
      "13338           835.0\n",
      "7773            726.4\n",
      "8401            493.7\n",
      "1465            332.2\n"
     ]
    }
   ],
   "source": [
    "%%R\n",
    "#colnames(total)[1] <- \"name\"\n",
    "\n",
    "new_cols = c(\"name\", \"baseMean\",\"baseMeanA\",\"baseMeanB\",\"foldChange\",\n",
    "             \"log2FoldChange\",\"lfcSE\",\"stat\",\"PValue\",\"PAdj\", \"FDR\",\"falsePos\",col_names_A, col_names_B)\n",
    "\n",
    "total = total[, new_cols]\n",
    "\n",
    "head(total)\n"
   ]
  },
  {
   "cell_type": "code",
   "execution_count": 140,
   "id": "de2e4623",
   "metadata": {},
   "outputs": [
    {
     "data": {
      "image/png": "[encoded data removed]",
      "text/plain": [
       "<IPython.core.display.Image object>"
      ]
     },
     "metadata": {},
     "output_type": "display_data"
    }
   ],
   "source": [
    "%%R\n",
    "hist(total$log2FoldChange)"
   ]
  },
  {
   "cell_type": "code",
   "execution_count": 141,
   "id": "ac0d1624",
   "metadata": {},
   "outputs": [
    {
     "data": {
      "image/png": "[encoded data removed]",
      "text/plain": [
       "<IPython.core.display.Image object>"
      ]
     },
     "metadata": {},
     "output_type": "display_data"
    }
   ],
   "source": [
    "%%R\n",
    "hist(total$foldChange)"
   ]
  },
  {
   "cell_type": "code",
   "execution_count": 142,
   "id": "9beb2857",
   "metadata": {},
   "outputs": [
    {
     "name": "stdout",
     "output_type": "stream",
     "text": [
      "NULL\n"
     ]
    }
   ],
   "source": [
    "%%R\n",
    "#total <- total[abs(total$foldChange) >= 2,]\n"
   ]
  },
  {
   "cell_type": "code",
   "execution_count": 143,
   "id": "d300ffe6",
   "metadata": {},
   "outputs": [
    {
     "name": "stdout",
     "output_type": "stream",
     "text": [
      "[1] 22532    23\n"
     ]
    }
   ],
   "source": [
    "%%R\n",
    "dim(total)"
   ]
  },
  {
   "cell_type": "code",
   "execution_count": 144,
   "id": "62e8f838",
   "metadata": {},
   "outputs": [],
   "source": [
    "%%R\n",
    "write.csv(total, file= \"05-featureCounts/results.csv\", row.names=FALSE, quote=FALSE)"
   ]
  },
  {
   "cell_type": "code",
   "execution_count": null,
   "id": "b5abefec",
   "metadata": {},
   "outputs": [],
   "source": []
  },
  {
   "cell_type": "code",
   "execution_count": 145,
   "id": "15cce7b4",
   "metadata": {},
   "outputs": [
    {
     "name": "stdout",
     "output_type": "stream",
     "text": [
      "                            name baseMean baseMeanA baseMeanB foldChange\n",
      "1722  AVESA.00001b.r3.4Ag0001489    115.6      67.0     174.0      2.591\n",
      "7774  AVESA.00001b.r3.6Ag0000216    292.6     100.7     523.0      5.189\n",
      "13338 AVESA.00001b.r3.3Ag0001778    443.6     263.6     659.6      2.500\n",
      "7773  AVESA.00001b.r3.6Ag0000215    373.6     209.2     570.8      2.724\n",
      "8401  AVESA.00001b.r3.6Ag0000780    292.1     153.8     458.0      2.971\n",
      "1465  AVESA.00001b.r3.4Ag0001257    134.9      73.4     208.6      2.854\n",
      "      log2FoldChange lfcSE stat  PValue    PAdj   FDR falsePos cont_estres_R1\n",
      "1722             1.4  0.21 6.48 9.3e-11 1.8e-06 0e+00        0           67.9\n",
      "7774             2.4  0.39 6.03 1.6e-09 3.1e-05 0e+00        0          105.9\n",
      "13338            1.3  0.23 5.65 1.6e-08 3.1e-04 0e+00        0          294.7\n",
      "7773             1.4  0.26 5.62 1.9e-08 3.5e-04 0e+00        0          177.8\n",
      "8401             1.6  0.29 5.38 7.3e-08 1.4e-03 1e-04        0          179.8\n",
      "1465             1.5  0.29 5.29 1.2e-07 2.3e-03 1e-04        0           77.9\n",
      "      cont_estres_R2 cont_estres_R3 estres_N7_XT17_R1 estres_N7_XT17_R2\n",
      "1722            58.4           49.3              66.7              66.7\n",
      "7774            47.5          158.2              55.0             123.2\n",
      "13338          181.7          280.6             214.1             329.2\n",
      "7773           221.8          244.9             134.9             273.7\n",
      "8401           114.1          167.7             137.8             215.1\n",
      "1465            54.8           78.7              68.2              98.0\n",
      "      estres_N7_XT17_R3 control_R1 control_R2 ctrl_N7_XT17_R1 ctrl_N7_XT17_R2\n",
      "1722               93.1      148.4      211.4           177.4           196.7\n",
      "7774              114.4      364.8      196.6           814.1           398.9\n",
      "13338             281.5      465.2      460.1           861.1           676.4\n",
      "7773              202.3      450.6      361.8           827.0           488.0\n",
      "8401              108.5      303.2      287.0           799.2           407.1\n",
      "1465               63.0      145.3      126.8           160.3           278.5\n",
      "      ctrl_N7_XT17_R3\n",
      "1722            136.0\n",
      "7774            840.5\n",
      "13338           835.0\n",
      "7773            726.4\n",
      "8401            493.7\n",
      "1465            332.2\n"
     ]
    }
   ],
   "source": [
    "%%R\n",
    "head(total)"
   ]
  },
  {
   "cell_type": "code",
   "execution_count": 146,
   "id": "34df9608",
   "metadata": {},
   "outputs": [
    {
     "name": "stdout",
     "output_type": "stream",
     "text": [
      "                            name baseMean baseMeanA baseMeanB foldChange\n",
      "1722  AVESA.00001b.r3.4Ag0001489    115.6      67.0     174.0      2.591\n",
      "7774  AVESA.00001b.r3.6Ag0000216    292.6     100.7     523.0      5.189\n",
      "13338 AVESA.00001b.r3.3Ag0001778    443.6     263.6     659.6      2.500\n",
      "7773  AVESA.00001b.r3.6Ag0000215    373.6     209.2     570.8      2.724\n",
      "8401  AVESA.00001b.r3.6Ag0000780    292.1     153.8     458.0      2.971\n",
      "1465  AVESA.00001b.r3.4Ag0001257    134.9      73.4     208.6      2.854\n",
      "      log2FoldChange lfcSE stat  PValue    PAdj   FDR falsePos cont_estres_R1\n",
      "1722             1.4  0.21 6.48 9.3e-11 1.8e-06 0e+00        0           67.9\n",
      "7774             2.4  0.39 6.03 1.6e-09 3.1e-05 0e+00        0          105.9\n",
      "13338            1.3  0.23 5.65 1.6e-08 3.1e-04 0e+00        0          294.7\n",
      "7773             1.4  0.26 5.62 1.9e-08 3.5e-04 0e+00        0          177.8\n",
      "8401             1.6  0.29 5.38 7.3e-08 1.4e-03 1e-04        0          179.8\n",
      "1465             1.5  0.29 5.29 1.2e-07 2.3e-03 1e-04        0           77.9\n",
      "      cont_estres_R2 cont_estres_R3 estres_N7_XT17_R1 estres_N7_XT17_R2\n",
      "1722            58.4           49.3              66.7              66.7\n",
      "7774            47.5          158.2              55.0             123.2\n",
      "13338          181.7          280.6             214.1             329.2\n",
      "7773           221.8          244.9             134.9             273.7\n",
      "8401           114.1          167.7             137.8             215.1\n",
      "1465            54.8           78.7              68.2              98.0\n",
      "      estres_N7_XT17_R3 control_R1 control_R2 ctrl_N7_XT17_R1 ctrl_N7_XT17_R2\n",
      "1722               93.1      148.4      211.4           177.4           196.7\n",
      "7774              114.4      364.8      196.6           814.1           398.9\n",
      "13338             281.5      465.2      460.1           861.1           676.4\n",
      "7773              202.3      450.6      361.8           827.0           488.0\n",
      "8401              108.5      303.2      287.0           799.2           407.1\n",
      "1465               63.0      145.3      126.8           160.3           278.5\n",
      "      ctrl_N7_XT17_R3\n",
      "1722            136.0\n",
      "7774            840.5\n",
      "13338           835.0\n",
      "7773            726.4\n",
      "8401            493.7\n",
      "1465            332.2\n"
     ]
    }
   ],
   "source": [
    "%%R\n",
    "\n",
    "MIN_FDR = 0.05\n",
    "\n",
    "WIDTH = 15\n",
    "HEIGHT = 16\n",
    "MARGINS = c(9, 12)\n",
    "LHEI = c(1, 5)\n",
    "\n",
    "data = subset(total, data$FDR <= MIN_FDR)\n",
    "\n",
    "head(data)"
   ]
  },
  {
   "cell_type": "code",
   "execution_count": 147,
   "id": "c8b02264",
   "metadata": {},
   "outputs": [
    {
     "name": "stdout",
     "output_type": "stream",
     "text": [
      "      cont_estres_R1 cont_estres_R2 cont_estres_R3 estres_N7_XT17_R1\n",
      "1722        67.90000       58.40000       49.30001          66.70000\n",
      "7774       105.90000       47.50000      158.19999          54.99999\n",
      "13338      294.70000      181.70000      280.60000         214.10000\n",
      "7773       177.80000      221.80001      244.90000         134.90000\n",
      "8401       179.80000      114.09999      167.70000         137.80001\n",
      "1465        77.89999       54.79999       78.70000          68.20000\n",
      "      estres_N7_XT17_R2 estres_N7_XT17_R3 control_R1 control_R2 ctrl_N7_XT17_R1\n",
      "1722               66.7          93.10001      148.4      211.4           177.4\n",
      "7774              123.2         114.40000      364.8      196.6           814.1\n",
      "13338             329.2         281.50000      465.2      460.1           861.1\n",
      "7773              273.7         202.30000      450.6      361.8           827.0\n",
      "8401              215.1         108.49999      303.2      287.0           799.2\n",
      "1465               98.0          63.00000      145.3      126.8           160.3\n",
      "      ctrl_N7_XT17_R2 ctrl_N7_XT17_R3\n",
      "1722            196.7           136.0\n",
      "7774            398.9           840.5\n",
      "13338           676.4           835.0\n",
      "7773            488.0           726.4\n",
      "8401            407.1           493.7\n",
      "1465            278.5           332.2\n"
     ]
    }
   ],
   "source": [
    "%%R\n",
    "row_names = data[, 1]\n",
    "idx = which(colnames(data) == \"falsePos\") + 1\n",
    "\n",
    "counts = data[, idx : ncol(data)]\n",
    "values = as.matrix(counts)\n",
    "values = jitter(values, factor = 1, amount = 0.00001)\n",
    "head(values)"
   ]
  },
  {
   "cell_type": "code",
   "execution_count": 148,
   "id": "369f282d",
   "metadata": {},
   "outputs": [
    {
     "name": "stdout",
     "output_type": "stream",
     "text": [
      "                           cont_estres_R1 cont_estres_R2 cont_estres_R3\n",
      "AVESA.00001b.r3.4Ag0001489     -0.7923382     -0.9500212     -1.1010648\n",
      "AVESA.00001b.r3.6Ag0000216     -0.6490697     -0.8520501     -0.4672910\n",
      "AVESA.00001b.r3.3Ag0001778     -0.6120783     -1.0765836     -0.6700387\n",
      "AVESA.00001b.r3.6Ag0000215     -0.8556540     -0.6633364     -0.5623698\n",
      "AVESA.00001b.r3.6Ag0000780     -0.5388624     -0.8540930     -0.5969185\n",
      "AVESA.00001b.r3.4Ag0001257     -0.6210918     -0.8728777     -0.6123719\n",
      "                           estres_N7_XT17_R1 estres_N7_XT17_R2\n",
      "AVESA.00001b.r3.4Ag0001489        -0.8122560        -0.8122561\n",
      "AVESA.00001b.r3.6Ag0000216        -0.8259824        -0.5889402\n",
      "AVESA.00001b.r3.3Ag0001778        -0.9433980        -0.4702603\n",
      "AVESA.00001b.r3.6Ag0000215        -1.0431635        -0.4364892\n",
      "AVESA.00001b.r3.6Ag0000780        -0.7403796        -0.3694919\n",
      "AVESA.00001b.r3.4Ag0001257        -0.7268200        -0.4020053\n",
      "                           estres_N7_XT17_R3 control_R1  control_R2\n",
      "AVESA.00001b.r3.4Ag0001489        -0.3740632 0.54381758  1.58950505\n",
      "AVESA.00001b.r3.6Ag0000216        -0.6195263 0.25078701 -0.33382438\n",
      "AVESA.00001b.r3.3Ag0001778        -0.6663391 0.08879043  0.06782599\n",
      "AVESA.00001b.r3.6Ag0000215        -0.7485681 0.33671456 -0.05141710\n",
      "AVESA.00001b.r3.6Ag0000780        -0.8809619 0.05321455 -0.02451356\n",
      "AVESA.00001b.r3.4Ag0001257        -0.7834990 0.11355642 -0.08809035\n",
      "                           ctrl_N7_XT17_R1 ctrl_N7_XT17_R2 ctrl_N7_XT17_R3\n",
      "AVESA.00001b.r3.4Ag0001489       1.0251657       1.3455113       0.3379999\n",
      "AVESA.00001b.r3.6Ag0000216       1.8124154       0.3693080       1.9041736\n",
      "AVESA.00001b.r3.3Ag0001778       1.7162033       0.9569632       1.6089149\n",
      "AVESA.00001b.r3.6Ag0000215       1.9819035       0.5001845       1.5421957\n",
      "AVESA.00001b.r3.6Ag0000780       2.4330373       0.5517298       0.9672392\n",
      "AVESA.00001b.r3.4Ag0001257       0.2770538       1.5654128       2.1507331\n"
     ]
    }
   ],
   "source": [
    "%%R\n",
    "zscores = NULL\n",
    "for (i in 1 : nrow(values)) {\n",
    "  row = values[i,]\n",
    "  zrow = (row - mean(row)) / sd(row)\n",
    "  zscores = rbind(zscores, zrow)\n",
    "}\n",
    "\n",
    "row.names(zscores) = row_names\n",
    "\n",
    "zscores = as.matrix(zscores)\n",
    "\n",
    "head(zscores)"
   ]
  },
  {
   "cell_type": "code",
   "execution_count": 149,
   "id": "626f8677",
   "metadata": {},
   "outputs": [
    {
     "data": {
      "image/png": "[encoded data removed]",
      "text/plain": [
       "<IPython.core.display.Image object>"
      ]
     },
     "metadata": {},
     "output_type": "display_data"
    }
   ],
   "source": [
    "%%R\n",
    "\n",
    "suppressPackageStartupMessages(library(gplots))\n",
    "col = greenred\n",
    "\n",
    "\n",
    "heatmap.2(zscores, col=col, density.info=\"none\", Colv=NULL,\n",
    "    dendrogram=\"row\", trace=\"none\", margins=MARGINS, lhei=LHEI)"
   ]
  },
  {
   "cell_type": "code",
   "execution_count": 150,
   "id": "18caebc3",
   "metadata": {},
   "outputs": [
    {
     "name": "stdout",
     "output_type": "stream",
     "text": [
      "[1] 167  11\n"
     ]
    }
   ],
   "source": [
    "%%R\n",
    "dim(zscores)\n"
   ]
  },
  {
   "cell_type": "code",
   "execution_count": 151,
   "id": "aca0bc52",
   "metadata": {
    "scrolled": true
   },
   "outputs": [],
   "source": [
    "%%R\n",
    "\n",
    "library(\"pheatmap\")\n",
    "library(\"RColorBrewer\")\n",
    "\n",
    "g <- pheatmap(zscores,color = colorRampPalette(rev(brewer.pal(n = 7, name = \"RdYlBu\")))(100),\n",
    "              border_color = \"grey60\",\n",
    "              #scale = \"none\", \n",
    "              cluster_rows = TRUE, \n",
    "              cluster_cols = TRUE,\n",
    "              fontsize_row = 5, \n",
    "              fontsize_col = 6, \n",
    "              clustering_distance_rows = \"correlation\",\n",
    "              clustering_method = \"complete\", \n",
    "              angle_col = c(\"90\"),\n",
    "              #cellwidth = 5, \n",
    "              #cellheight = 5\n",
    "              width = 10,\n",
    "              height = 15,\n",
    "              filename = \"heatmap24.pdf\"\n",
    "             )"
   ]
  },
  {
   "cell_type": "code",
   "execution_count": 112,
   "id": "7412bae1",
   "metadata": {},
   "outputs": [
    {
     "data": {
      "image/png": "[encoded data removed]",
      "text/plain": [
       "<IPython.core.display.Image object>"
      ]
     },
     "metadata": {},
     "output_type": "display_data"
    }
   ],
   "source": [
    "%%R\n",
    "g"
   ]
  },
  {
   "cell_type": "code",
   "execution_count": null,
   "id": "0708f014",
   "metadata": {},
   "outputs": [],
   "source": [
    "%%R\n",
    "help(pheatmap)"
   ]
  },
  {
   "cell_type": "code",
   "execution_count": 165,
   "id": "e348e404",
   "metadata": {
    "scrolled": true
   },
   "outputs": [
    {
     "name": "stdout",
     "output_type": "stream",
     "text": [
      "[1] \"Intercept\"                   \"condition_Control_vs_Estres\"\n"
     ]
    }
   ],
   "source": [
    "%%R\n",
    "resultsNames(dse)"
   ]
  },
  {
   "cell_type": "code",
   "execution_count": 166,
   "id": "ac9c1875",
   "metadata": {},
   "outputs": [
    {
     "name": "stdout",
     "output_type": "stream",
     "text": [
      "log2 fold change (MLE): condition Control vs Estres \n",
      "Wald test p-value: condition Control vs Estres \n",
      "DataFrame with 22532 rows and 6 columns\n",
      "       baseMean log2FoldChange     lfcSE      stat    pvalue      padj\n",
      "      <numeric>      <numeric> <numeric> <numeric> <numeric> <numeric>\n",
      "1      0.000000             NA        NA        NA        NA        NA\n",
      "2      0.167104      1.5535033  3.149264  0.493291 0.6218070        NA\n",
      "3     35.282649      0.0614745  0.357213  0.172095 0.8633628  0.969667\n",
      "4      0.388516      1.5620317  3.148955  0.496048 0.6198607        NA\n",
      "5     76.949083     -0.5651678  0.273585 -2.065786 0.0388487  0.337856\n",
      "...         ...            ...       ...       ...       ...       ...\n",
      "22528   7.86050     -0.2947698  0.489136 -0.602633 0.5467529        NA\n",
      "22529  10.84603      0.2839364  0.469634  0.604590 0.5454513  0.852317\n",
      "22530   9.56978     -0.0546504  0.489714 -0.111597 0.9111433  0.977777\n",
      "22531   6.31608      0.3684979  0.495099  0.744291 0.4567006        NA\n",
      "22532  20.02216      0.9861974  0.464317  2.123974 0.0336723  0.316693\n"
     ]
    }
   ],
   "source": [
    "%%R\n",
    "res <- results(dse)\n",
    "res"
   ]
  },
  {
   "cell_type": "code",
   "execution_count": 167,
   "id": "b1df2ac5",
   "metadata": {},
   "outputs": [
    {
     "name": "stdout",
     "output_type": "stream",
     "text": [
      "log2 fold change (MAP): condition Control vs Estres \n",
      "Wald test p-value: condition Control vs Estres \n",
      "DataFrame with 22532 rows and 5 columns\n",
      "       baseMean log2FoldChange     lfcSE    pvalue      padj\n",
      "      <numeric>      <numeric> <numeric> <numeric> <numeric>\n",
      "1      0.000000             NA        NA        NA        NA\n",
      "2      0.167104     0.00946394  0.192866 0.6218070        NA\n",
      "3     35.282649     0.01388914  0.170334 0.8633628  0.969667\n",
      "4      0.388516     0.01108027  0.193029 0.6198607        NA\n",
      "5     76.949083    -0.28935502  0.283739 0.0388487  0.337856\n",
      "...         ...            ...       ...       ...       ...\n",
      "22528   7.86050    -0.04021237  0.184392 0.5467529        NA\n",
      "22529  10.84603     0.04216730  0.183656 0.5454513  0.852317\n",
      "22530   9.56978    -0.00736366  0.179240 0.9111433  0.977777\n",
      "22531   6.31608     0.05047732  0.187533 0.4567006        NA\n",
      "22532  20.02216     0.21010336  0.336627 0.0336723  0.316693\n"
     ]
    },
    {
     "data": {
      "text/plain": [
       "using 'apeglm' for LFC shrinkage. If used in published research, please cite:\n",
       "    Zhu, A., Ibrahim, J.G., Love, M.I. (2018) Heavy-tailed prior distributions for\n",
       "    sequence count data: removing the noise and preserving large differences.\n",
       "    Bioinformatics. https://doi.org/10.1093/bioinformatics/bty895\n"
      ]
     },
     "metadata": {},
     "output_type": "display_data"
    }
   ],
   "source": [
    "%%R\n",
    "resLFC <- lfcShrink(dse, coef=\"condition_Control_vs_Estres\", type=\"apeglm\")\n",
    "resLFC"
   ]
  },
  {
   "cell_type": "code",
   "execution_count": 168,
   "id": "aec99108",
   "metadata": {},
   "outputs": [],
   "source": [
    "%%R\n",
    "library(\"BiocParallel\")\n",
    "register(MulticoreParam(4))"
   ]
  },
  {
   "cell_type": "code",
   "execution_count": 169,
   "id": "37e15904",
   "metadata": {},
   "outputs": [],
   "source": [
    "%%R\n",
    "resOrdered <- res[order(res$pvalue),]"
   ]
  },
  {
   "cell_type": "code",
   "execution_count": 170,
   "id": "8a61b73d",
   "metadata": {},
   "outputs": [
    {
     "name": "stdout",
     "output_type": "stream",
     "text": [
      "\n",
      "out of 19124 with nonzero total read count\n",
      "adjusted p-value < 0.1\n",
      "LFC > 0 (up)       : 232, 1.2%\n",
      "LFC < 0 (down)     : 75, 0.39%\n",
      "outliers [1]       : 73, 0.38%\n",
      "low counts [2]     : 10276, 54%\n",
      "(mean count < 9)\n",
      "[1] see 'cooksCutoff' argument of ?results\n",
      "[2] see 'independentFiltering' argument of ?results\n",
      "\n"
     ]
    }
   ],
   "source": [
    "%%R\n",
    "summary(res)"
   ]
  },
  {
   "cell_type": "code",
   "execution_count": 171,
   "id": "6e219908",
   "metadata": {},
   "outputs": [
    {
     "name": "stdout",
     "output_type": "stream",
     "text": [
      "[1] 307\n"
     ]
    }
   ],
   "source": [
    "%%R\n",
    "sum(res$padj < 0.1, na.rm=TRUE)"
   ]
  },
  {
   "cell_type": "code",
   "execution_count": 173,
   "id": "71aa9edf",
   "metadata": {},
   "outputs": [
    {
     "name": "stdout",
     "output_type": "stream",
     "text": [
      "\n",
      "out of 19124 with nonzero total read count\n",
      "adjusted p-value < 0.05\n",
      "LFC > 0 (up)       : 174, 0.91%\n",
      "LFC < 0 (down)     : 30, 0.16%\n",
      "outliers [1]       : 73, 0.38%\n",
      "low counts [2]     : 16138, 84%\n",
      "(mean count < 41)\n",
      "[1] see 'cooksCutoff' argument of ?results\n",
      "[2] see 'independentFiltering' argument of ?results\n",
      "\n"
     ]
    }
   ],
   "source": [
    "%%R\n",
    "summary(results(dse, alpha=0.05))"
   ]
  },
  {
   "cell_type": "code",
   "execution_count": 174,
   "id": "116b1733",
   "metadata": {},
   "outputs": [
    {
     "name": "stdout",
     "output_type": "stream",
     "text": [
      "[1] 204\n"
     ]
    }
   ],
   "source": [
    "%%R\n",
    "sum(results(dse, alpha=0.05)$padj < 0.05, na.rm=TRUE)"
   ]
  },
  {
   "cell_type": "code",
   "execution_count": 179,
   "id": "e5d218a6",
   "metadata": {},
   "outputs": [
    {
     "data": {
      "image/png": "[encoded data removed]",
      "text/plain": [
       "<IPython.core.display.Image object>"
      ]
     },
     "metadata": {},
     "output_type": "display_data"
    }
   ],
   "source": [
    "%%R\n",
    "plotMA(res, ylim=c(-2,2))"
   ]
  },
  {
   "cell_type": "code",
   "execution_count": 178,
   "id": "130b44dd",
   "metadata": {},
   "outputs": [
    {
     "data": {
      "image/png": "[encoded data removed]",
      "text/plain": [
       "<IPython.core.display.Image object>"
      ]
     },
     "metadata": {},
     "output_type": "display_data"
    }
   ],
   "source": [
    "%%R\n",
    "plotMA(resLFC, ylim=c(-2,2))"
   ]
  },
  {
   "cell_type": "code",
   "execution_count": 190,
   "id": "6f3cc56b",
   "metadata": {
    "scrolled": true
   },
   "outputs": [
    {
     "name": "stdout",
     "output_type": "stream",
     "text": [
      "NULL\n"
     ]
    },
    {
     "data": {
      "image/png": "[encoded data removed]",
      "text/plain": [
       "<IPython.core.display.Image object>"
      ]
     },
     "metadata": {},
     "output_type": "display_data"
    }
   ],
   "source": [
    "%%R\n",
    "plotMA(resLFC, ylim=c(-2,2))\n",
    "idx <- identify(res$baseMean, res$log2FoldChange)\n",
    "rownames(res)[idx]"
   ]
  },
  {
   "cell_type": "code",
   "execution_count": 188,
   "id": "6f1e100d",
   "metadata": {},
   "outputs": [
    {
     "name": "stdout",
     "output_type": "stream",
     "text": [
      "NULL\n"
     ]
    }
   ],
   "source": [
    "%%R\n",
    "rownames(res)"
   ]
  },
  {
   "cell_type": "code",
   "execution_count": 191,
   "id": "e38e9a65",
   "metadata": {},
   "outputs": [
    {
     "name": "stdout",
     "output_type": "stream",
     "text": [
      "[1] \"Intercept\"                   \"condition_Control_vs_Estres\"\n"
     ]
    }
   ],
   "source": [
    "%%R\n",
    "resultsNames(dse)"
   ]
  },
  {
   "cell_type": "code",
   "execution_count": 193,
   "id": "bb3d23a0",
   "metadata": {},
   "outputs": [
    {
     "data": {
      "text/plain": [
       "using 'normal' for LFC shrinkage, the Normal prior from Love et al (2014).\n",
       "\n",
       "Note that type='apeglm' and type='ashr' have shown to have less bias than type='normal'.\n",
       "See ?lfcShrink for more details on shrinkage type, and the DESeq2 vignette.\n",
       "Reference: https://doi.org/10.1093/bioinformatics/bty895\n",
       "using 'ashr' for LFC shrinkage. If used in published research, please cite:\n",
       "    Stephens, M. (2016) False discovery rates: a new deal. Biostatistics, 18:2.\n",
       "    https://doi.org/10.1093/biostatistics/kxw041\n"
      ]
     },
     "metadata": {},
     "output_type": "display_data"
    }
   ],
   "source": [
    "%%R\n",
    "resNorm <- lfcShrink(dse, coef=2, type=\"normal\")\n",
    "resAsh <- lfcShrink(dse, coef=2, type=\"ashr\")"
   ]
  },
  {
   "cell_type": "code",
   "execution_count": 194,
   "id": "1ab1e864",
   "metadata": {},
   "outputs": [
    {
     "data": {
      "image/png": "[encoded data removed]",
      "text/plain": [
       "<IPython.core.display.Image object>"
      ]
     },
     "metadata": {},
     "output_type": "display_data"
    }
   ],
   "source": [
    "%%R\n",
    "par(mfrow=c(1,3), mar=c(4,4,2,1))\n",
    "xlim <- c(1,1e5); ylim <- c(-3,3)\n",
    "plotMA(resLFC, xlim=xlim, ylim=ylim, main=\"apeglm\")\n",
    "plotMA(resNorm, xlim=xlim, ylim=ylim, main=\"normal\")\n",
    "plotMA(resAsh, xlim=xlim, ylim=ylim, main=\"ashr\")"
   ]
  },
  {
   "cell_type": "code",
   "execution_count": 195,
   "id": "7fd53121",
   "metadata": {},
   "outputs": [
    {
     "data": {
      "image/png": "[encoded data removed]",
      "text/plain": [
       "<IPython.core.display.Image object>"
      ]
     },
     "metadata": {},
     "output_type": "display_data"
    }
   ],
   "source": [
    "                                                                    "
   ]
  },
  {
   "cell_type": "code",
   "execution_count": 196,
   "id": "e9251a51",
   "metadata": {},
   "outputs": [
    {
     "data": {
      "image/png": "[encoded data removed]",
      "text/plain": [
       "<IPython.core.display.Image object>"
      ]
     },
     "metadata": {},
     "output_type": "display_data"
    }
   ],
   "source": [
    "%%R\n",
    "d <- plotCounts(dse, gene=which.min(res$padj), intgroup=\"condition\", \n",
    "                returnData=TRUE)\n",
    "library(\"ggplot2\")\n",
    "ggplot(d, aes(x=condition, y=count)) + \n",
    "  geom_point(position=position_jitter(w=0.1,h=0)) + \n",
    "  scale_y_log10(breaks=c(25,100,400))"
   ]
  },
  {
   "cell_type": "code",
   "execution_count": 206,
   "id": "fe73c3b1",
   "metadata": {},
   "outputs": [
    {
     "name": "stdout",
     "output_type": "stream",
     "text": [
      "     cont_estres_R1 cont_estres_R2 cont_estres_R3 control_R1 control_R2\n",
      "[1,]       2.498394       2.498394       2.498394   2.498394   2.498394\n",
      "[2,]       2.498394       2.498394       2.498394   2.498394   2.498394\n",
      "[3,]       6.082714       5.558825       5.404187   4.746171   5.584705\n",
      "     ctrl_N7_XT17_R1 ctrl_N7_XT17_R2 ctrl_N7_XT17_R3 estres_N7_XT17_R1\n",
      "[1,]        2.498394        2.498394        2.498394          2.498394\n",
      "[2,]        2.498394        3.310475        2.498394          2.498394\n",
      "[3,]        6.308834        5.213089        5.470763          5.111575\n",
      "     estres_N7_XT17_R2 estres_N7_XT17_R3\n",
      "[1,]          2.498394          2.498394\n",
      "[2,]          2.498394          2.498394\n",
      "[3,]          5.421951          5.079609\n"
     ]
    }
   ],
   "source": [
    "%%R\n",
    "vsd <- vst(dse, blind=FALSE)\n",
    "rld <- rlog(dse, blind=FALSE)\n",
    "ntd <- normTransform(dds)\n",
    "head(assay(vsd), 3)"
   ]
  },
  {
   "cell_type": "code",
   "execution_count": 210,
   "id": "823e8736",
   "metadata": {},
   "outputs": [
    {
     "name": "stdout",
     "output_type": "stream",
     "text": [
      "      cont_estres_R1 cont_estres_R2 cont_estres_R3 control_R1 control_R2\n",
      " [1,]       13.64813       13.32432       13.43733   14.40595   14.29599\n",
      " [2,]       12.51656       13.65240       12.90851   13.50020   13.85002\n",
      " [3,]       13.00690       12.99099       12.70952   13.29613   13.36442\n",
      " [4,]       13.60146       13.15562       13.07805   13.01911   13.52656\n",
      " [5,]       12.51336       12.52290       12.26806   13.14749   13.10574\n",
      " [6,]       12.99141       12.92783       12.58364   13.13681   13.52355\n",
      " [7,]       12.92642       13.26802       12.86197   13.19023   13.25058\n",
      " [8,]       12.71418       12.72101       12.55914   13.19055   13.03889\n",
      " [9,]       12.47286       12.91134       12.64007   13.17057   13.12983\n",
      "[10,]       12.24628       12.76198       12.39848   12.92800   12.68420\n",
      "[11,]       12.20962       12.08918       12.06810   12.93841   12.59990\n",
      "[12,]       12.26455       12.62900       12.30932   12.75335   12.89158\n",
      "[13,]       12.55011       12.29029       12.07077   12.73466   13.23109\n",
      "[14,]       12.48045       12.50919       12.26177   12.69427   12.59967\n",
      "[15,]       12.66886       13.19168       12.93247   12.54328   12.72771\n",
      "[16,]       12.17139       12.69642       12.29821   12.75771   12.60514\n",
      "[17,]       12.38478       12.31816       12.15088   12.36493   12.62099\n",
      "[18,]       12.04951       12.52245       12.08694   12.65740   12.63354\n",
      "[19,]       12.72699       12.10451       12.20460   12.36407   12.62166\n",
      "[20,]       12.04985       12.92360       12.58327   12.42978   12.80644\n",
      "      ctrl_N7_XT17_R1 ctrl_N7_XT17_R2 ctrl_N7_XT17_R3 estres_N7_XT17_R1\n",
      " [1,]        14.26860        14.31568        14.63177          12.98512\n",
      " [2,]        14.55330        13.64271        13.78430          12.39998\n",
      " [3,]        15.32628        13.36396        13.47757          12.45584\n",
      " [4,]        13.70476        13.29848        13.70351          12.77798\n",
      " [5,]        15.21519        12.95558        13.09446          11.95618\n",
      " [6,]        14.52873        13.12455        12.93968          12.43880\n",
      " [7,]        13.32143        13.41025        13.73049          12.43154\n",
      " [8,]        14.46759        13.02975        13.30736          12.16268\n",
      " [9,]        14.14965        12.95908        13.26372          12.22367\n",
      "[10,]        12.69654        13.44431        13.79804          12.22079\n",
      "[11,]        14.53524        12.87102        13.08359          11.81916\n",
      "[12,]        13.57563        12.91718        13.03296          12.02733\n",
      "[13,]        13.38159        12.92095        13.01160          11.60224\n",
      "[14,]        13.52945        12.95324        13.25674          11.94495\n",
      "[15,]        11.77537        12.26978        12.30113          13.06345\n",
      "[16,]        11.94759        13.01701        13.16840          11.93472\n",
      "[17,]        13.72790        12.38433        12.75261          11.81447\n",
      "[18,]        13.04984        12.69804        12.83474          11.95591\n",
      "[19,]        13.53361        12.18888        12.66572          11.48277\n",
      "[20,]        11.56661        12.25548        12.12132          12.32631\n",
      "      estres_N7_XT17_R2 estres_N7_XT17_R3\n",
      " [1,]          14.50562          13.61681\n",
      " [2,]          14.00327          12.78646\n",
      " [3,]          13.22801          12.52365\n",
      " [4,]          13.49329          12.91568\n",
      " [5,]          12.80835          12.16130\n",
      " [6,]          13.13794          12.55843\n",
      " [7,]          13.30876          12.62507\n",
      " [8,]          13.07129          12.28386\n",
      " [9,]          13.07213          12.48948\n",
      "[10,]          13.30574          12.30073\n",
      "[11,]          12.63596          11.85249\n",
      "[12,]          12.95849          12.06561\n",
      "[13,]          13.03025          11.91955\n",
      "[14,]          12.68679          11.93341\n",
      "[15,]          12.67436          12.66633\n",
      "[16,]          12.96251          12.16453\n",
      "[17,]          12.42486          11.93152\n",
      "[18,]          12.83950          11.99066\n",
      "[19,]          12.48709          12.13873\n",
      "[20,]          12.91028          12.50666\n"
     ]
    }
   ],
   "source": [
    "%%R\n",
    "assay(ntd)[select,]"
   ]
  },
  {
   "cell_type": "code",
   "execution_count": 220,
   "id": "07c65591",
   "metadata": {},
   "outputs": [
    {
     "data": {
      "image/png": "[encoded data removed]",
      "text/plain": [
       "<IPython.core.display.Image object>"
      ]
     },
     "metadata": {},
     "output_type": "display_data"
    }
   ],
   "source": [
    "%%R\n",
    "library(\"pheatmap\")\n",
    "select <- order(rowMeans(counts(dse,normalized=TRUE)),\n",
    "                decreasing=TRUE)[1:20]\n",
    "df <- as.data.frame(colData(dse)[,c(\"condition\",\"shortName\")])\n",
    "pheatmap(assay(ntd)[select,], cluster_rows=FALSE, show_rownames=FALSE,\n",
    "         cluster_cols=FALSE, annotation_col=df)"
   ]
  },
  {
   "cell_type": "code",
   "execution_count": 221,
   "id": "f49ddc66",
   "metadata": {},
   "outputs": [
    {
     "data": {
      "image/png": "[encoded data removed]",
      "text/plain": [
       "<IPython.core.display.Image object>"
      ]
     },
     "metadata": {},
     "output_type": "display_data"
    }
   ],
   "source": [
    "%%R\n",
    "\n",
    "pheatmap(assay(vsd)[select,], cluster_rows=FALSE, show_rownames=FALSE,\n",
    "         cluster_cols=FALSE, annotation_col=df)"
   ]
  },
  {
   "cell_type": "code",
   "execution_count": 225,
   "id": "b8dfb4d4",
   "metadata": {},
   "outputs": [
    {
     "data": {
      "image/png": "[encoded data removed]",
      "text/plain": [
       "<IPython.core.display.Image object>"
      ]
     },
     "metadata": {},
     "output_type": "display_data"
    }
   ],
   "source": [
    "%%R\n",
    "sampleDists <- dist(t(assay(vsd))) \n",
    "library(\"RColorBrewer\")\n",
    "sampleDistMatrix <- as.matrix(sampleDists)\n",
    "rownames(sampleDistMatrix) <- paste(vsd$condition, vsd$shortName, sep=\"-\")\n",
    "colnames(sampleDistMatrix) <- NULL\n",
    "colors <- colorRampPalette( rev(brewer.pal(9, \"Blues\")) )(255)\n",
    "pheatmap(sampleDistMatrix,\n",
    "         clustering_distance_rows=sampleDists,\n",
    "         clustering_distance_cols=sampleDists,\n",
    "         col=colors)"
   ]
  },
  {
   "cell_type": "code",
   "execution_count": 226,
   "id": "ece755e9",
   "metadata": {},
   "outputs": [
    {
     "data": {
      "image/png": "[encoded data removed]",
      "text/plain": [
       "<IPython.core.display.Image object>"
      ]
     },
     "metadata": {},
     "output_type": "display_data"
    }
   ],
   "source": [
    "%%R\n",
    "plotPCA(vsd, intgroup=c(\"condition\", \"shortName\"))"
   ]
  },
  {
   "cell_type": "code",
   "execution_count": 229,
   "id": "4bfe55c1",
   "metadata": {},
   "outputs": [
    {
     "data": {
      "image/png": "[encoded data removed]",
      "text/plain": [
       "<IPython.core.display.Image object>"
      ]
     },
     "metadata": {},
     "output_type": "display_data"
    }
   ],
   "source": [
    "%%R\n",
    "pcaData <- plotPCA(vsd, intgroup=c(\"condition\", \"shortName\"), returnData=TRUE)\n",
    "percentVar <- round(100 * attr(pcaData, \"percentVar\"))\n",
    "ggplot(pcaData, aes(PC1, PC2, color=shortName, shape=condition)) +\n",
    "  geom_point(size=3) +\n",
    "  xlab(paste0(\"PC1: \",percentVar[1],\"% variance\")) +\n",
    "  ylab(paste0(\"PC2: \",percentVar[2],\"% variance\")) + \n",
    "  coord_fixed()"
   ]
  },
  {
   "cell_type": "code",
   "execution_count": 231,
   "id": "b68839dc",
   "metadata": {},
   "outputs": [
    {
     "data": {
      "image/png": "[encoded data removed]",
      "text/plain": [
       "<IPython.core.display.Image object>"
      ]
     },
     "metadata": {},
     "output_type": "display_data"
    }
   ],
   "source": [
    "%%R\n",
    "par(mar=c(8,5,2,2))\n",
    "boxplot(log10(assays(dse)[[\"cooks\"]]), range=0, las=2)"
   ]
  },
  {
   "cell_type": "markdown",
   "id": "46e8e465",
   "metadata": {},
   "source": [
    "### Deleting outliers"
   ]
  },
  {
   "cell_type": "code",
   "execution_count": null,
   "id": "a390e21d",
   "metadata": {},
   "outputs": [],
   "source": []
  }
 ],
 "metadata": {
  "kernelspec": {
   "display_name": "Python [conda env:RNASeq-dbg]",
   "language": "python",
   "name": "conda-env-RNASeq-dbg-py"
  },
  "language_info": {
   "codemirror_mode": {
    "name": "ipython",
    "version": 3
   },
   "file_extension": ".py",
   "mimetype": "text/x-python",
   "name": "python",
   "nbconvert_exporter": "python",
   "pygments_lexer": "ipython3",
   "version": "3.12.3"
  }
 },
 "nbformat": 4,
 "nbformat_minor": 5
}
